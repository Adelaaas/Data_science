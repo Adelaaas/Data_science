{
 "cells": [
  {
   "cell_type": "code",
   "execution_count": 68,
   "metadata": {},
   "outputs": [
    {
     "data": {
      "text/html": [
       "<div>\n",
       "<style scoped>\n",
       "    .dataframe tbody tr th:only-of-type {\n",
       "        vertical-align: middle;\n",
       "    }\n",
       "\n",
       "    .dataframe tbody tr th {\n",
       "        vertical-align: top;\n",
       "    }\n",
       "\n",
       "    .dataframe thead th {\n",
       "        text-align: right;\n",
       "    }\n",
       "</style>\n",
       "<table border=\"1\" class=\"dataframe\">\n",
       "  <thead>\n",
       "    <tr style=\"text-align: right;\">\n",
       "      <th></th>\n",
       "      <th>Pregnancies</th>\n",
       "      <th>Glucose</th>\n",
       "      <th>BloodPressure</th>\n",
       "      <th>SkinThickness</th>\n",
       "      <th>Insulin</th>\n",
       "      <th>BMI</th>\n",
       "      <th>DiabetesPedigreeFunction</th>\n",
       "      <th>Age</th>\n",
       "      <th>Outcome</th>\n",
       "    </tr>\n",
       "  </thead>\n",
       "  <tbody>\n",
       "    <tr>\n",
       "      <th>0</th>\n",
       "      <td>6</td>\n",
       "      <td>148</td>\n",
       "      <td>72</td>\n",
       "      <td>35</td>\n",
       "      <td>0</td>\n",
       "      <td>33.6</td>\n",
       "      <td>0.627</td>\n",
       "      <td>50</td>\n",
       "      <td>1</td>\n",
       "    </tr>\n",
       "    <tr>\n",
       "      <th>1</th>\n",
       "      <td>1</td>\n",
       "      <td>85</td>\n",
       "      <td>66</td>\n",
       "      <td>29</td>\n",
       "      <td>0</td>\n",
       "      <td>26.6</td>\n",
       "      <td>0.351</td>\n",
       "      <td>31</td>\n",
       "      <td>0</td>\n",
       "    </tr>\n",
       "    <tr>\n",
       "      <th>2</th>\n",
       "      <td>8</td>\n",
       "      <td>183</td>\n",
       "      <td>64</td>\n",
       "      <td>0</td>\n",
       "      <td>0</td>\n",
       "      <td>23.3</td>\n",
       "      <td>0.672</td>\n",
       "      <td>32</td>\n",
       "      <td>1</td>\n",
       "    </tr>\n",
       "    <tr>\n",
       "      <th>3</th>\n",
       "      <td>1</td>\n",
       "      <td>89</td>\n",
       "      <td>66</td>\n",
       "      <td>23</td>\n",
       "      <td>94</td>\n",
       "      <td>28.1</td>\n",
       "      <td>0.167</td>\n",
       "      <td>21</td>\n",
       "      <td>0</td>\n",
       "    </tr>\n",
       "    <tr>\n",
       "      <th>4</th>\n",
       "      <td>0</td>\n",
       "      <td>137</td>\n",
       "      <td>40</td>\n",
       "      <td>35</td>\n",
       "      <td>168</td>\n",
       "      <td>43.1</td>\n",
       "      <td>2.288</td>\n",
       "      <td>33</td>\n",
       "      <td>1</td>\n",
       "    </tr>\n",
       "    <tr>\n",
       "      <th>...</th>\n",
       "      <td>...</td>\n",
       "      <td>...</td>\n",
       "      <td>...</td>\n",
       "      <td>...</td>\n",
       "      <td>...</td>\n",
       "      <td>...</td>\n",
       "      <td>...</td>\n",
       "      <td>...</td>\n",
       "      <td>...</td>\n",
       "    </tr>\n",
       "    <tr>\n",
       "      <th>763</th>\n",
       "      <td>10</td>\n",
       "      <td>101</td>\n",
       "      <td>76</td>\n",
       "      <td>48</td>\n",
       "      <td>180</td>\n",
       "      <td>32.9</td>\n",
       "      <td>0.171</td>\n",
       "      <td>63</td>\n",
       "      <td>0</td>\n",
       "    </tr>\n",
       "    <tr>\n",
       "      <th>764</th>\n",
       "      <td>2</td>\n",
       "      <td>122</td>\n",
       "      <td>70</td>\n",
       "      <td>27</td>\n",
       "      <td>0</td>\n",
       "      <td>36.8</td>\n",
       "      <td>0.340</td>\n",
       "      <td>27</td>\n",
       "      <td>0</td>\n",
       "    </tr>\n",
       "    <tr>\n",
       "      <th>765</th>\n",
       "      <td>5</td>\n",
       "      <td>121</td>\n",
       "      <td>72</td>\n",
       "      <td>23</td>\n",
       "      <td>112</td>\n",
       "      <td>26.2</td>\n",
       "      <td>0.245</td>\n",
       "      <td>30</td>\n",
       "      <td>0</td>\n",
       "    </tr>\n",
       "    <tr>\n",
       "      <th>766</th>\n",
       "      <td>1</td>\n",
       "      <td>126</td>\n",
       "      <td>60</td>\n",
       "      <td>0</td>\n",
       "      <td>0</td>\n",
       "      <td>30.1</td>\n",
       "      <td>0.349</td>\n",
       "      <td>47</td>\n",
       "      <td>1</td>\n",
       "    </tr>\n",
       "    <tr>\n",
       "      <th>767</th>\n",
       "      <td>1</td>\n",
       "      <td>93</td>\n",
       "      <td>70</td>\n",
       "      <td>31</td>\n",
       "      <td>0</td>\n",
       "      <td>30.4</td>\n",
       "      <td>0.315</td>\n",
       "      <td>23</td>\n",
       "      <td>0</td>\n",
       "    </tr>\n",
       "  </tbody>\n",
       "</table>\n",
       "<p>768 rows × 9 columns</p>\n",
       "</div>"
      ],
      "text/plain": [
       "     Pregnancies  Glucose  BloodPressure  SkinThickness  Insulin   BMI  \\\n",
       "0              6      148             72             35        0  33.6   \n",
       "1              1       85             66             29        0  26.6   \n",
       "2              8      183             64              0        0  23.3   \n",
       "3              1       89             66             23       94  28.1   \n",
       "4              0      137             40             35      168  43.1   \n",
       "..           ...      ...            ...            ...      ...   ...   \n",
       "763           10      101             76             48      180  32.9   \n",
       "764            2      122             70             27        0  36.8   \n",
       "765            5      121             72             23      112  26.2   \n",
       "766            1      126             60              0        0  30.1   \n",
       "767            1       93             70             31        0  30.4   \n",
       "\n",
       "     DiabetesPedigreeFunction  Age  Outcome  \n",
       "0                       0.627   50        1  \n",
       "1                       0.351   31        0  \n",
       "2                       0.672   32        1  \n",
       "3                       0.167   21        0  \n",
       "4                       2.288   33        1  \n",
       "..                        ...  ...      ...  \n",
       "763                     0.171   63        0  \n",
       "764                     0.340   27        0  \n",
       "765                     0.245   30        0  \n",
       "766                     0.349   47        1  \n",
       "767                     0.315   23        0  \n",
       "\n",
       "[768 rows x 9 columns]"
      ]
     },
     "execution_count": 68,
     "metadata": {},
     "output_type": "execute_result"
    }
   ],
   "source": [
    "import pandas as pd\n",
    "from sklearn.metrics import accuracy_score, recall_score, precision_score, f1_score\n",
    "from sklearn.neighbors import KNeighborsClassifier\n",
    "from sklearn.linear_model import LogisticRegression\n",
    "\n",
    "df = pd.read_csv(\"C:\\\\Users\\In9.var\\Desktop\\Projects\\data\\diabetes.csv\")\n",
    "df"
   ]
  },
  {
   "cell_type": "code",
   "execution_count": 69,
   "metadata": {},
   "outputs": [
    {
     "name": "stdout",
     "output_type": "stream",
     "text": [
      "(5, 0.7487819370172311)\n"
     ]
    }
   ],
   "source": [
    "X = df.drop([\"Outcome\"], axis=1)\n",
    "y = df[\"Outcome\"]\n",
    "\n",
    "from sklearn.tree import DecisionTreeClassifier\n",
    "from sklearn.model_selection import train_test_split\n",
    "\n",
    "X_train, X_test, y_train, y_test = train_test_split(X, y, test_size=1/3, random_state=42)\n",
    "\n",
    "stat = []\n",
    "for i in range(1, 10):\n",
    "    tree = DecisionTreeClassifier(criterion='gini', max_depth=i, random_state=42)\n",
    "    cvs = cross_val_score(estimator=tree, X=X, y=y, cv=5, scoring='accuracy')\n",
    "    stat.append((i, cvs.mean()))\n",
    "    \n",
    "print(max(stat, key=lambda x: x[1]))"
   ]
  },
  {
   "cell_type": "code",
   "execution_count": 70,
   "metadata": {},
   "outputs": [
    {
     "name": "stdout",
     "output_type": "stream",
     "text": [
      "Accuracy: 0.7487819370172311\n",
      "Recall: 0.5825995807127883\n",
      "Precision: 0.6614478114478114\n",
      "F1_score: 0.6195249795807436\n"
     ]
    }
   ],
   "source": [
    "#Кросс валидация. Оценка моделей на обычных данных\n",
    "from sklearn.model_selection import cross_val_score\n",
    "from sklearn.model_selection import KFold\n",
    "\n",
    "# дерево\n",
    "\n",
    "tree = DecisionTreeClassifier(criterion='gini', max_depth=5, random_state=42)\n",
    "\n",
    "kf = KFold(n_splits=5)\n",
    "\n",
    "cvs = cross_val_score(estimator=tree, X=X, y=y, cv=5, scoring='accuracy')\n",
    "cvs1 = cross_val_score(estimator=tree, X=X, y=y, cv=5, scoring='recall')\n",
    "cvs2 = cross_val_score(estimator=tree, X=X, y=y, cv=5, scoring='precision')\n",
    "print('Accuracy:', cvs.mean())\n",
    "print('Recall:', cvs1.mean())\n",
    "print('Precision:', cvs2.mean())\n",
    "print('F1_score:', (2 * cvs1.mean() * cvs2.mean())/(cvs1.mean() + cvs2.mean()))\n",
    "\n",
    "\n"
   ]
  },
  {
   "cell_type": "code",
   "execution_count": 71,
   "metadata": {},
   "outputs": [
    {
     "name": "stdout",
     "output_type": "stream",
     "text": [
      "Accuracy: 0.7109375\n",
      "Recall: 0.5465116279069767\n",
      "Precision_score: 0.573170731707317\n",
      "f1: 0.5595238095238095\n"
     ]
    }
   ],
   "source": [
    "# KNN\n",
    "\n",
    "X_train, X_test, y_train, y_test = train_test_split(X_norm, y, test_size=1/3, random_state=42)\n",
    "\n",
    "knn = KNeighborsClassifier(7)\n",
    "\n",
    "knn.fit(X_train,y_train)\n",
    "\n",
    "y_pred = knn.predict(X_test)\n",
    "\n",
    "print('Accuracy:', accuracy_score(y_test, y_pred))\n",
    "print('Recall:', recall_score(y_test, y_pred))\n",
    "print('Precision_score:', precision_score(y_test, y_pred))\n",
    "print('f1:', f1_score(y_test, y_pred))\n",
    "\n",
    "\n",
    "\n",
    "\n"
   ]
  },
  {
   "cell_type": "code",
   "execution_count": 72,
   "metadata": {},
   "outputs": [
    {
     "name": "stdout",
     "output_type": "stream",
     "text": [
      "Accuracy: 0.7421875\n",
      "Recall: 0.5348837209302325\n",
      "Precision_score: 0.6388888888888888\n",
      "f1: 0.5822784810126581\n"
     ]
    }
   ],
   "source": [
    "# логист. регрессия для норм данных\n",
    "\n",
    "\n",
    "model = LogisticRegression()\n",
    "model = model.fit(X_train, y_train)\n",
    "\n",
    "y_pred = model.predict(X_test)\n",
    "\n",
    "print('Accuracy:', accuracy_score(y_test, y_pred))\n",
    "print('Recall:', recall_score(y_test, y_pred))\n",
    "print('Precision_score:', precision_score(y_test, y_pred))\n",
    "print('f1:', f1_score(y_test, y_pred))\n",
    "\n",
    "\n",
    "\n"
   ]
  },
  {
   "cell_type": "code",
   "execution_count": 73,
   "metadata": {},
   "outputs": [],
   "source": [
    "# создание станд. и норм. данных\n",
    "from sklearn.preprocessing import StandardScaler, MinMaxScaler\n",
    "\n",
    "scaler = StandardScaler()\n",
    "X_st = scaler.fit_transform(X)\n",
    "scaler = MinMaxScaler()\n",
    "X_norm = scaler.fit_transform(X)\n",
    "\n",
    "\n",
    "\n"
   ]
  },
  {
   "cell_type": "code",
   "execution_count": 74,
   "metadata": {},
   "outputs": [
    {
     "name": "stdout",
     "output_type": "stream",
     "text": [
      "[8]\n",
      "[6]\n",
      "[8]\n"
     ]
    }
   ],
   "source": [
    "# Определение лучшего значения для knn\n",
    "\n",
    "# норм. данные\n",
    "X_train, X_test, y_train, y_test = train_test_split(X_norm, y, test_size=1/3, random_state=42)\n",
    "scores = []\n",
    "for i in range (1, 15):\n",
    "    knn = KNeighborsClassifier(i)\n",
    "    \n",
    "    knn.fit(X_train, y_train)\n",
    "    \n",
    "    scores.append(knn.score(X_test, y_test))\n",
    "max_score = max(scores)\n",
    "scores_ind = [i for i, v in enumerate(scores) if v == max_score]\n",
    "print(scores_ind)\n",
    "\n",
    "\n",
    "# станд. данные\n",
    "X_train, X_test, y_train, y_test = train_test_split(X_st, y, test_size=1/3, random_state=42)\n",
    "scores = []\n",
    "for i in range (1, 15):\n",
    "    knn = KNeighborsClassifier(i)\n",
    "    \n",
    "    knn.fit(X_train, y_train)\n",
    "    \n",
    "    scores.append(knn.score(X_test, y_test))\n",
    "max_score = max(scores)\n",
    "scores_ind = [i for i, v in enumerate(scores) if v == max_score]\n",
    "print(scores_ind)\n",
    "\n",
    "# обычные данные\n",
    "X_train, X_test, y_train, y_test = train_test_split(X_norm, y, test_size=1/3, random_state=42)\n",
    "scores = []\n",
    "for i in range (1, 15):\n",
    "    knn = KNeighborsClassifier(i)\n",
    "    \n",
    "    knn.fit(X_train, y_train)\n",
    "    \n",
    "    scores.append(knn.score(X_test, y_test))\n",
    "max_score = max(scores)\n",
    "scores_ind = [i for i, v in enumerate(scores) if v == max_score]\n",
    "print(scores_ind)\n",
    "\n",
    "\n",
    "\n"
   ]
  },
  {
   "cell_type": "code",
   "execution_count": 75,
   "metadata": {},
   "outputs": [
    {
     "name": "stdout",
     "output_type": "stream",
     "text": [
      "Accuracy: 0.6875\n",
      "Recall: 0.5\n",
      "Precision_score: 0.5375\n",
      "f1: 0.5180722891566264\n"
     ]
    }
   ],
   "source": [
    "# станд. данные\n",
    "# Соседи\n",
    "X_train, X_test, y_train, y_test = train_test_split(X_st, y, test_size=1/3, random_state=42)\n",
    "\n",
    "knn = KNeighborsClassifier(5)\n",
    "\n",
    "knn.fit(X_train,y_train)\n",
    "\n",
    "y_pred = knn.predict(X_test)\n",
    "\n",
    "print('Accuracy:', accuracy_score(y_test, y_pred))\n",
    "print('Recall:', recall_score(y_test, y_pred))\n",
    "print('Precision_score:', precision_score(y_test, y_pred))\n",
    "print('f1:', f1_score(y_test, y_pred))\n",
    "\n",
    "\n"
   ]
  },
  {
   "cell_type": "code",
   "execution_count": 76,
   "metadata": {},
   "outputs": [
    {
     "name": "stdout",
     "output_type": "stream",
     "text": [
      "Accuracy: 0.734375\n",
      "Recall: 0.6162790697674418\n",
      "Precision_score: 0.6022727272727273\n",
      "f1: 0.6091954022988506\n"
     ]
    }
   ],
   "source": [
    "# логистическая регрессия\n",
    "\n",
    "model = LogisticRegression()\n",
    "model = model.fit(X_train, y_train)\n",
    "\n",
    "y_pred = model.predict(X_test)\n",
    "\n",
    "print('Accuracy:', accuracy_score(y_test, y_pred))\n",
    "print('Recall:', recall_score(y_test, y_pred))\n",
    "print('Precision_score:', precision_score(y_test, y_pred))\n",
    "print('f1:', f1_score(y_test, y_pred))\n",
    "\n",
    "\n"
   ]
  },
  {
   "cell_type": "code",
   "execution_count": 77,
   "metadata": {},
   "outputs": [
    {
     "name": "stdout",
     "output_type": "stream",
     "text": [
      "Accuracy: 0.7461845344198285\n",
      "Recall: 0.5825995807127883\n",
      "Precision: 0.6551038843721771\n",
      "F1_score: 0.616728092188623\n"
     ]
    }
   ],
   "source": [
    "# дерево\n",
    "tree = DecisionTreeClassifier(criterion='gini', max_depth=5, random_state=42)\n",
    "cvs = cross_val_score(estimator=tree, X=X_st, y=y, cv=5, scoring='accuracy')\n",
    "cvs1 = cross_val_score(estimator=tree, X=X_st, y=y, cv=5, scoring='recall')\n",
    "cvs2 = cross_val_score(estimator=tree, X=X_st, y=y, cv=5, scoring='precision')\n",
    "print('Accuracy:', cvs.mean())\n",
    "print('Recall:', cvs1.mean())\n",
    "print('Precision:', cvs2.mean())\n",
    "print('F1_score:', (2 * cvs1.mean() * cvs2.mean())/(cvs1.mean() + cvs2.mean()))\n",
    "\n",
    "\n",
    "\n"
   ]
  },
  {
   "cell_type": "code",
   "execution_count": 78,
   "metadata": {},
   "outputs": [
    {
     "name": "stdout",
     "output_type": "stream",
     "text": [
      "Accuracy: 0.7109375\n",
      "Recall: 0.5465116279069767\n",
      "Precision_score: 0.573170731707317\n",
      "f1: 0.5595238095238095\n"
     ]
    }
   ],
   "source": [
    "# Норм. данные!\n",
    "\n",
    "# Knn\n",
    "\n",
    "X_train, X_test, y_train, y_test = train_test_split(X_norm, y, test_size=1/3, random_state=42)\n",
    "\n",
    "knn = KNeighborsClassifier(7)\n",
    "\n",
    "knn.fit(X_train,y_train)\n",
    "\n",
    "y_pred = knn.predict(X_test)\n",
    "\n",
    "print('Accuracy:', accuracy_score(y_test, y_pred))\n",
    "print('Recall:', recall_score(y_test, y_pred))\n",
    "print('Precision_score:', precision_score(y_test, y_pred))\n",
    "print('f1:', f1_score(y_test, y_pred))\n",
    "\n"
   ]
  },
  {
   "cell_type": "code",
   "execution_count": 79,
   "metadata": {},
   "outputs": [
    {
     "name": "stdout",
     "output_type": "stream",
     "text": [
      "Accuracy: 0.7421875\n",
      "Recall: 0.5348837209302325\n",
      "Precision_score: 0.6388888888888888\n",
      "f1: 0.5822784810126581\n"
     ]
    }
   ],
   "source": [
    "# логист. регрессия\n",
    "\n",
    "model = LogisticRegression()\n",
    "model = model.fit(X_train, y_train)\n",
    "\n",
    "y_pred = model.predict(X_test)\n",
    "\n",
    "print('Accuracy:', accuracy_score(y_test, y_pred))\n",
    "print('Recall:', recall_score(y_test, y_pred))\n",
    "print('Precision_score:', precision_score(y_test, y_pred))\n",
    "print('f1:', f1_score(y_test, y_pred))\n",
    "\n",
    "\n",
    "\n"
   ]
  },
  {
   "cell_type": "code",
   "execution_count": 80,
   "metadata": {},
   "outputs": [
    {
     "name": "stdout",
     "output_type": "stream",
     "text": [
      "Accuracy: 0.7487819370172311\n",
      "Recall: 0.5825995807127883\n",
      "Precision: 0.6614478114478114\n",
      "F1_score: 0.6195249795807436\n"
     ]
    }
   ],
   "source": [
    "# дерево\n",
    "\n",
    "\n",
    "tree = DecisionTreeClassifier(criterion='gini', max_depth=5, random_state=42)\n",
    "cvs = cross_val_score(estimator=tree, X=X_norm, y=y, cv=5, scoring='accuracy')\n",
    "cvs1 = cross_val_score(estimator=tree, X=X_norm, y=y, cv=5, scoring='recall')\n",
    "cvs2 = cross_val_score(estimator=tree, X=X_norm, y=y, cv=5, scoring='precision')\n",
    "print('Accuracy:', cvs.mean())\n",
    "print('Recall:', cvs1.mean())\n",
    "print('Precision:', cvs2.mean())\n",
    "print('F1_score:', (2 * cvs1.mean() * cvs2.mean())/(cvs1.mean() + cvs2.mean()))\n",
    "\n",
    "\n"
   ]
  },
  {
   "cell_type": "code",
   "execution_count": 82,
   "metadata": {},
   "outputs": [
    {
     "name": "stdout",
     "output_type": "stream",
     "text": [
      "Accuracy: 0.7552414905356082\n",
      "Recall: 0.5487071977638016\n",
      "Precision: 0.690031746031746\n",
      "F1_score: 0.6113077943170474\n"
     ]
    }
   ],
   "source": [
    "# Кросс валидация\n",
    "\n",
    "# KNN на норм данных тк они показали наил. результат\n",
    "\n",
    "KNeighborsClassifier(7)\n",
    "cvs = cross_val_score(estimator=knn, X=X_norm, y=y, cv=5, scoring='accuracy')\n",
    "cvs1 = cross_val_score(estimator=knn, X=X_norm, y=y, cv=5, scoring='recall')\n",
    "cvs2 = cross_val_score(estimator=knn, X=X_norm, y=y, cv=5, scoring='precision')\n",
    "print('Accuracy:', cvs.mean())\n",
    "print('Recall:', cvs1.mean())\n",
    "print('Precision:', cvs2.mean())\n",
    "print('F1_score:', (2 * cvs1.mean() * cvs2.mean())/(cvs1.mean() + cvs2.mean()))\n",
    "\n",
    "\n"
   ]
  },
  {
   "cell_type": "code",
   "execution_count": 83,
   "metadata": {},
   "outputs": [
    {
     "name": "stdout",
     "output_type": "stream",
     "text": [
      "Accuracy: 0.7708853238265002\n",
      "Recall: 0.5747030048916841\n",
      "Precision: 0.715468528559464\n",
      "F1_score: 0.6374065813848232\n"
     ]
    }
   ],
   "source": [
    "# Логистич. регрессия для станд. данных тк они показали наил. результат\n",
    "\n",
    "model = LogisticRegression()\n",
    "cvs = cross_val_score(estimator=model, X=X_st, y=y, cv=5, scoring='accuracy')\n",
    "cvs1 = cross_val_score(estimator=model, X=X_st, y=y, cv=5, scoring='recall')\n",
    "cvs2 = cross_val_score(estimator=model, X=X_st, y=y, cv=5, scoring='precision')\n",
    "print('Accuracy:', cvs.mean())\n",
    "print('Recall:', cvs1.mean())\n",
    "print('Precision:', cvs2.mean())\n",
    "print('F1_score:', (2 * cvs1.mean() * cvs2.mean())/(cvs1.mean() + cvs2.mean()))"
   ]
  },
  {
   "cell_type": "markdown",
   "metadata": {},
   "source": [
    "# Итоги:\n",
    "В качестве оценки моделей используется F-мера"
   ]
  },
  {
   "cell_type": "markdown",
   "metadata": {},
   "source": [
    "KNN дает наилучшие результаты при нормализованных и обычных данных: 0.5595238095238095 (без кросс валидации), 0.6113077943170474 (с кросс валидацией)"
   ]
  },
  {
   "cell_type": "markdown",
   "metadata": {},
   "source": [
    "Логистическая регрессия дает наилучшый результат при стандартизированных данных: 0.6091954022988506 (без кросс валидации), 0.6374065813848232 (с кросс валидацией)"
   ]
  },
  {
   "cell_type": "markdown",
   "metadata": {},
   "source": [
    "Дерево дает наилучный результат при обычных или нормализированных данных: 0.6195249795807436 (с кросс валидацией)"
   ]
  },
  {
   "cell_type": "markdown",
   "metadata": {},
   "source": [
    "Наилучшей моделью я считаю Логистическую регрессию из-за наилучшего показатля F-меры"
   ]
  },
  {
   "cell_type": "code",
   "execution_count": null,
   "metadata": {},
   "outputs": [],
   "source": []
  }
 ],
 "metadata": {
  "kernelspec": {
   "display_name": "Python 3",
   "language": "python",
   "name": "python3"
  },
  "language_info": {
   "codemirror_mode": {
    "name": "ipython",
    "version": 3
   },
   "file_extension": ".py",
   "mimetype": "text/x-python",
   "name": "python",
   "nbconvert_exporter": "python",
   "pygments_lexer": "ipython3",
   "version": "3.8.3"
  }
 },
 "nbformat": 4,
 "nbformat_minor": 4
}
