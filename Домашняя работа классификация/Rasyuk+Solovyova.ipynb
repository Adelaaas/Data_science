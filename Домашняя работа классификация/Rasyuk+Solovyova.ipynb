{
  "nbformat": 4,
  "nbformat_minor": 0,
  "metadata": {
    "colab": {
      "name": "Rasyuk+Solovyova.ipynb",
      "provenance": [],
      "collapsed_sections": []
    },
    "kernelspec": {
      "name": "python3",
      "display_name": "Python 3"
    }
  },
  "cells": [
    {
      "cell_type": "code",
      "metadata": {
        "colab": {
          "resources": {
            "http://localhost:8080/nbextensions/google.colab/files.js": {
              "data": "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",
              "ok": true,
              "headers": [
                [
                  "content-type",
                  "application/javascript"
                ]
              ],
              "status": 200,
              "status_text": ""
            }
          },
          "base_uri": "https://localhost:8080/",
          "height": 72
        },
        "id": "Sawn3sbBONuz",
        "outputId": "a3e1af5a-e715-44f0-f295-c4eca897d17d"
      },
      "source": [
        "from google.colab import files\r\n",
        "uploaded = files.upload()"
      ],
      "execution_count": 1,
      "outputs": [
        {
          "output_type": "display_data",
          "data": {
            "text/html": [
              "\n",
              "     <input type=\"file\" id=\"files-9bb410d5-14ee-4024-b795-659765af60e4\" name=\"files[]\" multiple disabled\n",
              "        style=\"border:none\" />\n",
              "     <output id=\"result-9bb410d5-14ee-4024-b795-659765af60e4\">\n",
              "      Upload widget is only available when the cell has been executed in the\n",
              "      current browser session. Please rerun this cell to enable.\n",
              "      </output>\n",
              "      <script src=\"/nbextensions/google.colab/files.js\"></script> "
            ],
            "text/plain": [
              "<IPython.core.display.HTML object>"
            ]
          },
          "metadata": {
            "tags": []
          }
        },
        {
          "output_type": "stream",
          "text": [
            "Saving train.csv to train.csv\n"
          ],
          "name": "stdout"
        }
      ]
    },
    {
      "cell_type": "code",
      "metadata": {
        "id": "vhgYr8B1zW5b"
      },
      "source": [
        "from sklearn.preprocessing import StandardScaler\r\n",
        "from sklearn.linear_model import LogisticRegression\r\n",
        "from sklearn.model_selection import train_test_split\r\n",
        "from sklearn.metrics import accuracy_score, recall_score, precision_score, f1_score, confusion_matrix\r\n",
        "import pandas as pd\r\n",
        "import numpy as np\r\n",
        "from sklearn.preprocessing import LabelEncoder\r\n",
        "from sklearn.tree import DecisionTreeClassifier\r\n",
        "from sklearn.model_selection import cross_val_score\r\n",
        "from sklearn.svm import SVC\r\n",
        "from sklearn.model_selection import KFold\r\n",
        "from sklearn.preprocessing import StandardScaler\r\n",
        "from sklearn.neighbors import KNeighborsClassifier\r\n",
        "from sklearn.preprocessing import MinMaxScaler"
      ],
      "execution_count": 2,
      "outputs": []
    },
    {
      "cell_type": "code",
      "metadata": {
        "colab": {
          "base_uri": "https://localhost:8080/",
          "height": 419
        },
        "id": "ntN04al_O3li",
        "outputId": "6df8fbab-8463-4830-90cd-5622a347f737"
      },
      "source": [
        "train = pd.read_csv('train.csv')\r\n",
        "train"
      ],
      "execution_count": 3,
      "outputs": [
        {
          "output_type": "execute_result",
          "data": {
            "text/html": [
              "<div>\n",
              "<style scoped>\n",
              "    .dataframe tbody tr th:only-of-type {\n",
              "        vertical-align: middle;\n",
              "    }\n",
              "\n",
              "    .dataframe tbody tr th {\n",
              "        vertical-align: top;\n",
              "    }\n",
              "\n",
              "    .dataframe thead th {\n",
              "        text-align: right;\n",
              "    }\n",
              "</style>\n",
              "<table border=\"1\" class=\"dataframe\">\n",
              "  <thead>\n",
              "    <tr style=\"text-align: right;\">\n",
              "      <th></th>\n",
              "      <th>pet_id</th>\n",
              "      <th>issue_date</th>\n",
              "      <th>listing_date</th>\n",
              "      <th>condition</th>\n",
              "      <th>color_type</th>\n",
              "      <th>length(m)</th>\n",
              "      <th>height(cm)</th>\n",
              "      <th>X1</th>\n",
              "      <th>X2</th>\n",
              "      <th>breed_category</th>\n",
              "      <th>pet_category</th>\n",
              "    </tr>\n",
              "  </thead>\n",
              "  <tbody>\n",
              "    <tr>\n",
              "      <th>0</th>\n",
              "      <td>ANSL_69903</td>\n",
              "      <td>2016-07-10 00:00:00</td>\n",
              "      <td>2016-09-21 16:25:00</td>\n",
              "      <td>2.0</td>\n",
              "      <td>Brown Tabby</td>\n",
              "      <td>0.80</td>\n",
              "      <td>7.78</td>\n",
              "      <td>13</td>\n",
              "      <td>9</td>\n",
              "      <td>0.0</td>\n",
              "      <td>1</td>\n",
              "    </tr>\n",
              "    <tr>\n",
              "      <th>1</th>\n",
              "      <td>ANSL_66892</td>\n",
              "      <td>2013-11-21 00:00:00</td>\n",
              "      <td>2018-12-27 17:47:00</td>\n",
              "      <td>1.0</td>\n",
              "      <td>White</td>\n",
              "      <td>0.72</td>\n",
              "      <td>14.19</td>\n",
              "      <td>13</td>\n",
              "      <td>9</td>\n",
              "      <td>0.0</td>\n",
              "      <td>2</td>\n",
              "    </tr>\n",
              "    <tr>\n",
              "      <th>2</th>\n",
              "      <td>ANSL_69750</td>\n",
              "      <td>2014-09-28 00:00:00</td>\n",
              "      <td>2016-10-19 08:24:00</td>\n",
              "      <td>NaN</td>\n",
              "      <td>Brown</td>\n",
              "      <td>0.15</td>\n",
              "      <td>40.90</td>\n",
              "      <td>15</td>\n",
              "      <td>4</td>\n",
              "      <td>2.0</td>\n",
              "      <td>4</td>\n",
              "    </tr>\n",
              "    <tr>\n",
              "      <th>3</th>\n",
              "      <td>ANSL_71623</td>\n",
              "      <td>2016-12-31 00:00:00</td>\n",
              "      <td>2019-01-25 18:30:00</td>\n",
              "      <td>1.0</td>\n",
              "      <td>White</td>\n",
              "      <td>0.62</td>\n",
              "      <td>17.82</td>\n",
              "      <td>0</td>\n",
              "      <td>1</td>\n",
              "      <td>0.0</td>\n",
              "      <td>2</td>\n",
              "    </tr>\n",
              "    <tr>\n",
              "      <th>4</th>\n",
              "      <td>ANSL_57969</td>\n",
              "      <td>2017-09-28 00:00:00</td>\n",
              "      <td>2017-11-19 09:38:00</td>\n",
              "      <td>2.0</td>\n",
              "      <td>Black</td>\n",
              "      <td>0.50</td>\n",
              "      <td>11.06</td>\n",
              "      <td>18</td>\n",
              "      <td>4</td>\n",
              "      <td>0.0</td>\n",
              "      <td>1</td>\n",
              "    </tr>\n",
              "    <tr>\n",
              "      <th>...</th>\n",
              "      <td>...</td>\n",
              "      <td>...</td>\n",
              "      <td>...</td>\n",
              "      <td>...</td>\n",
              "      <td>...</td>\n",
              "      <td>...</td>\n",
              "      <td>...</td>\n",
              "      <td>...</td>\n",
              "      <td>...</td>\n",
              "      <td>...</td>\n",
              "      <td>...</td>\n",
              "    </tr>\n",
              "    <tr>\n",
              "      <th>18829</th>\n",
              "      <td>ANSL_51738</td>\n",
              "      <td>2017-01-26 00:00:00</td>\n",
              "      <td>2018-03-09 15:35:00</td>\n",
              "      <td>2.0</td>\n",
              "      <td>Tricolor</td>\n",
              "      <td>0.44</td>\n",
              "      <td>27.36</td>\n",
              "      <td>0</td>\n",
              "      <td>1</td>\n",
              "      <td>0.0</td>\n",
              "      <td>2</td>\n",
              "    </tr>\n",
              "    <tr>\n",
              "      <th>18830</th>\n",
              "      <td>ANSL_59900</td>\n",
              "      <td>2016-06-18 00:00:00</td>\n",
              "      <td>2017-07-09 08:37:00</td>\n",
              "      <td>NaN</td>\n",
              "      <td>Brown</td>\n",
              "      <td>0.73</td>\n",
              "      <td>14.25</td>\n",
              "      <td>15</td>\n",
              "      <td>4</td>\n",
              "      <td>2.0</td>\n",
              "      <td>4</td>\n",
              "    </tr>\n",
              "    <tr>\n",
              "      <th>18831</th>\n",
              "      <td>ANSL_53210</td>\n",
              "      <td>2010-07-21 00:00:00</td>\n",
              "      <td>2018-08-22 14:27:00</td>\n",
              "      <td>0.0</td>\n",
              "      <td>Calico Point</td>\n",
              "      <td>0.99</td>\n",
              "      <td>28.13</td>\n",
              "      <td>13</td>\n",
              "      <td>9</td>\n",
              "      <td>1.0</td>\n",
              "      <td>1</td>\n",
              "    </tr>\n",
              "    <tr>\n",
              "      <th>18832</th>\n",
              "      <td>ANSL_63468</td>\n",
              "      <td>2017-05-12 00:00:00</td>\n",
              "      <td>2018-02-08 14:05:00</td>\n",
              "      <td>0.0</td>\n",
              "      <td>Tan</td>\n",
              "      <td>0.55</td>\n",
              "      <td>44.82</td>\n",
              "      <td>13</td>\n",
              "      <td>9</td>\n",
              "      <td>1.0</td>\n",
              "      <td>2</td>\n",
              "    </tr>\n",
              "    <tr>\n",
              "      <th>18833</th>\n",
              "      <td>ANSL_73558</td>\n",
              "      <td>2011-12-13 00:00:00</td>\n",
              "      <td>2018-10-26 14:18:00</td>\n",
              "      <td>0.0</td>\n",
              "      <td>Brown</td>\n",
              "      <td>0.86</td>\n",
              "      <td>37.40</td>\n",
              "      <td>0</td>\n",
              "      <td>1</td>\n",
              "      <td>1.0</td>\n",
              "      <td>2</td>\n",
              "    </tr>\n",
              "  </tbody>\n",
              "</table>\n",
              "<p>18834 rows × 11 columns</p>\n",
              "</div>"
            ],
            "text/plain": [
              "           pet_id           issue_date  ... breed_category  pet_category\n",
              "0      ANSL_69903  2016-07-10 00:00:00  ...            0.0             1\n",
              "1      ANSL_66892  2013-11-21 00:00:00  ...            0.0             2\n",
              "2      ANSL_69750  2014-09-28 00:00:00  ...            2.0             4\n",
              "3      ANSL_71623  2016-12-31 00:00:00  ...            0.0             2\n",
              "4      ANSL_57969  2017-09-28 00:00:00  ...            0.0             1\n",
              "...           ...                  ...  ...            ...           ...\n",
              "18829  ANSL_51738  2017-01-26 00:00:00  ...            0.0             2\n",
              "18830  ANSL_59900  2016-06-18 00:00:00  ...            2.0             4\n",
              "18831  ANSL_53210  2010-07-21 00:00:00  ...            1.0             1\n",
              "18832  ANSL_63468  2017-05-12 00:00:00  ...            1.0             2\n",
              "18833  ANSL_73558  2011-12-13 00:00:00  ...            1.0             2\n",
              "\n",
              "[18834 rows x 11 columns]"
            ]
          },
          "metadata": {
            "tags": []
          },
          "execution_count": 3
        }
      ]
    },
    {
      "cell_type": "code",
      "metadata": {
        "colab": {
          "base_uri": "https://localhost:8080/"
        },
        "id": "YCm-O4O4PWT8",
        "outputId": "1a064c13-b7b0-4e53-ce00-ffbbd76e9a23"
      },
      "source": [
        "train.shape"
      ],
      "execution_count": 4,
      "outputs": [
        {
          "output_type": "execute_result",
          "data": {
            "text/plain": [
              "(18834, 11)"
            ]
          },
          "metadata": {
            "tags": []
          },
          "execution_count": 4
        }
      ]
    },
    {
      "cell_type": "code",
      "metadata": {
        "colab": {
          "base_uri": "https://localhost:8080/"
        },
        "id": "ujBNsBQMSNaZ",
        "outputId": "4d51fd1f-dec4-45ff-bfc0-e17b42c7a670"
      },
      "source": [
        "train.info()"
      ],
      "execution_count": 5,
      "outputs": [
        {
          "output_type": "stream",
          "text": [
            "<class 'pandas.core.frame.DataFrame'>\n",
            "RangeIndex: 18834 entries, 0 to 18833\n",
            "Data columns (total 11 columns):\n",
            " #   Column          Non-Null Count  Dtype  \n",
            "---  ------          --------------  -----  \n",
            " 0   pet_id          18834 non-null  object \n",
            " 1   issue_date      18834 non-null  object \n",
            " 2   listing_date    18834 non-null  object \n",
            " 3   condition       17357 non-null  float64\n",
            " 4   color_type      18834 non-null  object \n",
            " 5   length(m)       18834 non-null  float64\n",
            " 6   height(cm)      18834 non-null  float64\n",
            " 7   X1              18834 non-null  int64  \n",
            " 8   X2              18834 non-null  int64  \n",
            " 9   breed_category  18834 non-null  float64\n",
            " 10  pet_category    18834 non-null  int64  \n",
            "dtypes: float64(4), int64(3), object(4)\n",
            "memory usage: 1.6+ MB\n"
          ],
          "name": "stdout"
        }
      ]
    },
    {
      "cell_type": "code",
      "metadata": {
        "colab": {
          "base_uri": "https://localhost:8080/"
        },
        "id": "2DksWfoaSPVo",
        "outputId": "f2d064b6-c9c7-4649-e8e5-476699cc2163"
      },
      "source": [
        "train.isna().sum()"
      ],
      "execution_count": 6,
      "outputs": [
        {
          "output_type": "execute_result",
          "data": {
            "text/plain": [
              "pet_id               0\n",
              "issue_date           0\n",
              "listing_date         0\n",
              "condition         1477\n",
              "color_type           0\n",
              "length(m)            0\n",
              "height(cm)           0\n",
              "X1                   0\n",
              "X2                   0\n",
              "breed_category       0\n",
              "pet_category         0\n",
              "dtype: int64"
            ]
          },
          "metadata": {
            "tags": []
          },
          "execution_count": 6
        }
      ]
    },
    {
      "cell_type": "code",
      "metadata": {
        "colab": {
          "base_uri": "https://localhost:8080/"
        },
        "id": "GYOUXJtcSVmI",
        "outputId": "481e5440-06b2-428f-d319-28e64fdfdb66"
      },
      "source": [
        "# заполняем пустые значения в \"condition\" средним\r\n",
        "\r\n",
        "mean_class = train['condition'].mean()\r\n",
        "print(round(mean_class))\r\n",
        "\r\n",
        "train['condition'] = train['condition'].fillna(mean_class)\r\n",
        "print(train.isna().sum())"
      ],
      "execution_count": 7,
      "outputs": [
        {
          "output_type": "stream",
          "text": [
            "1\n",
            "pet_id            0\n",
            "issue_date        0\n",
            "listing_date      0\n",
            "condition         0\n",
            "color_type        0\n",
            "length(m)         0\n",
            "height(cm)        0\n",
            "X1                0\n",
            "X2                0\n",
            "breed_category    0\n",
            "pet_category      0\n",
            "dtype: int64\n"
          ],
          "name": "stdout"
        }
      ]
    },
    {
      "cell_type": "code",
      "metadata": {
        "colab": {
          "base_uri": "https://localhost:8080/"
        },
        "id": "6ALrCvtoYgdX",
        "outputId": "417d099a-c196-4e55-dab7-f2e0e430ffc1"
      },
      "source": [
        "for i in train.columns:\r\n",
        "  d = dict((x, list(train[i]).count(x)) for x in set(list(train[i])) if list(train[i]).count(x) > 1)\r\n",
        "  print(d)\r\n",
        "  \r\n",
        "# повторяющиеся элементы в столбцах\r\n",
        "# (просто нужно)"
      ],
      "execution_count": null,
      "outputs": [
        {
          "output_type": "stream",
          "text": [
            "{}\n",
            "{'2015-04-30 00:00:00': 5, '2017-02-25 00:00:00': 7, '2015-04-09 00:00:00': 6, '2017-11-26 00:00:00': 9, '2013-11-28 00:00:00': 2, '2010-08-01 00:00:00': 2, '2017-10-10 00:00:00': 11, '2008-09-27 00:00:00': 2, '2017-08-25 00:00:00': 9, '2016-04-20 00:00:00': 5, '2018-09-23 00:00:00': 3, '2015-10-05 00:00:00': 8, '2012-03-01 00:00:00': 2, '2017-10-23 00:00:00': 10, '2014-05-23 00:00:00': 2, '2019-01-22 00:00:00': 5, '2018-06-13 00:00:00': 8, '2007-04-09 00:00:00': 2, '2014-11-29 00:00:00': 5, '2011-05-21 00:00:00': 2, '2012-03-18 00:00:00': 4, '2014-11-28 00:00:00': 4, '2017-09-16 00:00:00': 16, '2014-09-29 00:00:00': 3, '2012-02-01 00:00:00': 2, '2012-07-11 00:00:00': 2, '2016-05-01 00:00:00': 13, '2017-09-07 00:00:00': 6, '2016-06-25 00:00:00': 18, '2015-02-23 00:00:00': 6, '2016-02-29 00:00:00': 6, '2017-12-05 00:00:00': 4, '2018-01-10 00:00:00': 10, '2003-07-31 00:00:00': 2, '2013-03-23 00:00:00': 2, '2007-11-19 00:00:00': 2, '2016-10-30 00:00:00': 21, '2017-12-23 00:00:00': 11, '2017-01-15 00:00:00': 5, '2018-06-16 00:00:00': 8, '2016-03-04 00:00:00': 8, '2015-04-13 00:00:00': 7, '2016-02-14 00:00:00': 3, '2014-06-23 00:00:00': 4, '2016-01-03 00:00:00': 4, '2018-07-01 00:00:00': 12, '2017-11-03 00:00:00': 14, '2006-10-09 00:00:00': 2, '2007-04-08 00:00:00': 2, '2015-10-15 00:00:00': 6, '2018-10-09 00:00:00': 3, '2014-09-11 00:00:00': 3, '2009-02-13 00:00:00': 2, '2018-04-16 00:00:00': 8, '2015-11-19 00:00:00': 2, '2017-05-12 00:00:00': 6, '2017-09-17 00:00:00': 15, '2015-01-24 00:00:00': 3, '2017-03-26 00:00:00': 7, '2003-06-29 00:00:00': 2, '2016-12-02 00:00:00': 13, '2017-12-04 00:00:00': 10, '2016-05-10 00:00:00': 11, '2009-05-02 00:00:00': 2, '2007-08-27 00:00:00': 2, '2016-08-07 00:00:00': 25, '2014-09-09 00:00:00': 11, '2017-10-16 00:00:00': 16, '2016-02-13 00:00:00': 3, '2017-06-12 00:00:00': 17, '2016-10-27 00:00:00': 24, '2016-08-11 00:00:00': 17, '2019-01-16 00:00:00': 3, '2015-03-12 00:00:00': 4, '2016-12-07 00:00:00': 13, '2014-07-26 00:00:00': 4, '2015-01-11 00:00:00': 7, '2015-10-21 00:00:00': 15, '2015-01-20 00:00:00': 5, '2018-12-18 00:00:00': 4, '2015-08-11 00:00:00': 6, '2016-04-25 00:00:00': 8, '2016-10-14 00:00:00': 12, '2016-11-21 00:00:00': 29, '2001-07-09 00:00:00': 2, '2014-11-11 00:00:00': 6, '2008-04-16 00:00:00': 3, '2017-06-25 00:00:00': 13, '2015-11-20 00:00:00': 10, '2018-02-03 00:00:00': 6, '2015-08-04 00:00:00': 12, '2018-01-17 00:00:00': 5, '2013-11-12 00:00:00': 3, '2017-08-08 00:00:00': 6, '2012-09-30 00:00:00': 2, '2017-01-29 00:00:00': 11, '2017-09-26 00:00:00': 11, '2018-04-20 00:00:00': 2, '2013-02-28 00:00:00': 3, '2016-05-06 00:00:00': 12, '2017-11-21 00:00:00': 14, '2018-04-11 00:00:00': 12, '2010-08-06 00:00:00': 2, '2005-08-25 00:00:00': 2, '2016-06-28 00:00:00': 18, '2016-11-18 00:00:00': 29, '2006-03-05 00:00:00': 2, '2016-11-28 00:00:00': 17, '2015-07-18 00:00:00': 8, '2014-05-18 00:00:00': 3, '2019-03-17 00:00:00': 3, '2018-09-16 00:00:00': 8, '2010-11-02 00:00:00': 2, '2017-08-04 00:00:00': 12, '2018-09-25 00:00:00': 9, '2013-04-15 00:00:00': 4, '2015-11-21 00:00:00': 9, '2012-11-28 00:00:00': 2, '2018-12-08 00:00:00': 4, '2019-02-14 00:00:00': 2, '2015-10-25 00:00:00': 6, '2016-05-02 00:00:00': 11, '2015-12-15 00:00:00': 6, '2017-03-09 00:00:00': 19, '2008-08-25 00:00:00': 2, '2014-11-30 00:00:00': 3, '2014-06-01 00:00:00': 4, '2009-08-18 00:00:00': 2, '2010-05-29 00:00:00': 2, '2015-08-05 00:00:00': 14, '2018-09-11 00:00:00': 4, '2011-12-13 00:00:00': 2, '2018-09-29 00:00:00': 6, '2015-01-08 00:00:00': 6, '2015-05-30 00:00:00': 5, '2013-12-27 00:00:00': 3, '2017-06-29 00:00:00': 23, '2014-06-16 00:00:00': 5, '2018-03-28 00:00:00': 5, '2017-10-20 00:00:00': 13, '2008-01-25 00:00:00': 2, '2017-12-24 00:00:00': 9, '2015-05-14 00:00:00': 3, '2014-09-10 00:00:00': 4, '2017-12-14 00:00:00': 9, '2012-08-26 00:00:00': 2, '2011-04-22 00:00:00': 2, '2015-08-30 00:00:00': 3, '2016-07-10 00:00:00': 40, '2015-03-09 00:00:00': 9, '2013-12-16 00:00:00': 4, '2018-11-25 00:00:00': 5, '2012-07-29 00:00:00': 2, '2018-12-14 00:00:00': 2, '2009-08-17 00:00:00': 2, '2018-11-02 00:00:00': 2, '2016-09-18 00:00:00': 13, '2018-08-10 00:00:00': 10, '2017-08-13 00:00:00': 4, '2016-05-13 00:00:00': 22, '2017-11-24 00:00:00': 11, '2014-11-12 00:00:00': 5, '2010-04-04 00:00:00': 2, '2017-06-06 00:00:00': 15, '2014-05-08 00:00:00': 3, '2013-03-03 00:00:00': 4, '2018-09-13 00:00:00': 5, '2017-08-29 00:00:00': 3, '2018-07-05 00:00:00': 13, '2013-07-19 00:00:00': 5, '2012-12-01 00:00:00': 4, '2018-05-29 00:00:00': 10, '2013-11-03 00:00:00': 2, '2011-07-05 00:00:00': 2, '2015-05-06 00:00:00': 4, '2016-09-03 00:00:00': 19, '2003-09-16 00:00:00': 2, '2015-04-15 00:00:00': 10, '2016-12-04 00:00:00': 18, '2014-10-20 00:00:00': 10, '2012-11-25 00:00:00': 4, '2016-12-09 00:00:00': 20, '2015-08-17 00:00:00': 5, '2016-06-18 00:00:00': 21, '2017-11-29 00:00:00': 13, '2009-12-11 00:00:00': 3, '2008-02-19 00:00:00': 2, '2013-05-09 00:00:00': 3, '2011-03-26 00:00:00': 2, '2018-12-02 00:00:00': 12, '2015-04-19 00:00:00': 6, '2013-07-03 00:00:00': 6, '2016-08-21 00:00:00': 30, '2009-11-26 00:00:00': 2, '2009-06-04 00:00:00': 2, '2015-01-30 00:00:00': 4, '2017-08-09 00:00:00': 3, '2016-02-02 00:00:00': 6, '2011-09-28 00:00:00': 2, '2016-05-28 00:00:00': 16, '2017-01-30 00:00:00': 11, '2015-06-06 00:00:00': 6, '2017-07-03 00:00:00': 23, '2018-06-08 00:00:00': 6, '2014-04-04 00:00:00': 2, '2012-05-09 00:00:00': 2, '2012-12-12 00:00:00': 2, '2015-02-18 00:00:00': 4, '2017-01-04 00:00:00': 14, '2010-10-25 00:00:00': 2, '2002-07-06 00:00:00': 2, '2012-03-12 00:00:00': 4, '2010-06-27 00:00:00': 3, '2011-02-19 00:00:00': 2, '2018-01-16 00:00:00': 5, '2011-02-25 00:00:00': 2, '2016-07-08 00:00:00': 25, '2017-01-21 00:00:00': 13, '2013-08-31 00:00:00': 4, '2014-08-18 00:00:00': 3, '2013-04-19 00:00:00': 2, '2012-05-16 00:00:00': 3, '2017-05-03 00:00:00': 8, '2016-05-03 00:00:00': 14, '2018-11-17 00:00:00': 6, '2017-01-16 00:00:00': 4, '2010-06-18 00:00:00': 2, '2018-06-24 00:00:00': 14, '2013-05-30 00:00:00': 3, '2015-08-26 00:00:00': 9, '2015-08-21 00:00:00': 10, '2012-08-09 00:00:00': 4, '2016-10-25 00:00:00': 12, '2011-08-16 00:00:00': 2, '2017-05-23 00:00:00': 19, '2015-10-14 00:00:00': 12, '2015-01-12 00:00:00': 4, '2013-02-09 00:00:00': 2, '2012-08-07 00:00:00': 2, '2014-04-02 00:00:00': 2, '2016-06-11 00:00:00': 14, '2013-10-29 00:00:00': 2, '2015-07-15 00:00:00': 8, '2018-04-09 00:00:00': 3, '2018-03-30 00:00:00': 4, '2016-01-05 00:00:00': 7, '2014-01-06 00:00:00': 3, '2012-01-16 00:00:00': 2, '2016-03-18 00:00:00': 10, '2015-05-22 00:00:00': 4, '2014-01-21 00:00:00': 2, '2008-09-23 00:00:00': 2, '2013-11-02 00:00:00': 3, '2016-02-25 00:00:00': 6, '2016-07-28 00:00:00': 29, '2013-12-26 00:00:00': 5, '2015-01-05 00:00:00': 9, '2018-03-25 00:00:00': 9, '2019-01-25 00:00:00': 2, '2017-08-23 00:00:00': 8, '2009-05-16 00:00:00': 3, '2014-04-06 00:00:00': 2, '2011-08-15 00:00:00': 3, '2016-04-03 00:00:00': 6, '2017-11-25 00:00:00': 12, '2018-11-30 00:00:00': 8, '2011-05-04 00:00:00': 2, '2013-03-05 00:00:00': 2, '2015-03-15 00:00:00': 8, '2016-02-21 00:00:00': 9, '2018-01-20 00:00:00': 5, '2013-10-13 00:00:00': 2, '2012-02-09 00:00:00': 2, '2018-01-04 00:00:00': 6, '2017-07-09 00:00:00': 14, '2016-08-30 00:00:00': 9, '2008-09-26 00:00:00': 2, '2013-10-15 00:00:00': 3, '2016-06-27 00:00:00': 23, '2012-08-22 00:00:00': 2, '2009-09-30 00:00:00': 2, '2013-07-04 00:00:00': 2, '2014-08-20 00:00:00': 5, '2013-07-23 00:00:00': 2, '2014-03-21 00:00:00': 3, '2013-01-17 00:00:00': 3, '2017-02-17 00:00:00': 9, '2013-11-21 00:00:00': 10, '2016-10-20 00:00:00': 35, '2016-01-10 00:00:00': 6, '2013-09-19 00:00:00': 4, '2019-01-06 00:00:00': 2, '2014-02-01 00:00:00': 2, '2015-12-02 00:00:00': 9, '2014-04-10 00:00:00': 2, '2010-06-11 00:00:00': 2, '2014-05-26 00:00:00': 2, '2011-11-23 00:00:00': 2, '2013-09-21 00:00:00': 5, '2010-09-14 00:00:00': 3, '2015-03-18 00:00:00': 7, '2018-07-27 00:00:00': 7, '2014-08-12 00:00:00': 8, '2016-09-17 00:00:00': 13, '2013-06-27 00:00:00': 2, '2017-02-16 00:00:00': 11, '2017-11-08 00:00:00': 3, '2016-11-06 00:00:00': 14, '2014-05-14 00:00:00': 4, '2014-02-12 00:00:00': 3, '2014-06-18 00:00:00': 6, '2017-09-01 00:00:00': 6, '2007-03-20 00:00:00': 2, '2015-08-18 00:00:00': 5, '2010-02-25 00:00:00': 2, '2010-06-08 00:00:00': 2, '2016-06-07 00:00:00': 16, '2018-10-25 00:00:00': 5, '2011-10-28 00:00:00': 2, '2015-07-04 00:00:00': 4, '2012-02-03 00:00:00': 3, '2016-08-24 00:00:00': 12, '2018-02-19 00:00:00': 7, '2017-07-06 00:00:00': 32, '2017-12-16 00:00:00': 13, '2018-04-04 00:00:00': 12, '2011-07-14 00:00:00': 2, '2012-10-15 00:00:00': 2, '2017-03-12 00:00:00': 4, '2016-10-15 00:00:00': 20, '2015-08-25 00:00:00': 7, '2016-08-12 00:00:00': 12, '2018-07-07 00:00:00': 17, '2017-09-12 00:00:00': 11, '2012-10-01 00:00:00': 3, '2009-10-15 00:00:00': 2, '2015-03-23 00:00:00': 5, '2019-02-19 00:00:00': 3, '2018-06-21 00:00:00': 14, '2013-08-29 00:00:00': 4, '2018-09-02 00:00:00': 6, '2014-07-30 00:00:00': 5, '2014-11-08 00:00:00': 3, '2015-02-11 00:00:00': 2, '2015-04-04 00:00:00': 11, '2014-01-09 00:00:00': 3, '2017-10-05 00:00:00': 9, '2018-11-05 00:00:00': 9, '2016-07-05 00:00:00': 15, '2013-05-07 00:00:00': 3, '2016-08-06 00:00:00': 24, '2016-09-13 00:00:00': 16, '2015-03-25 00:00:00': 3, '2010-07-03 00:00:00': 2, '2012-02-02 00:00:00': 2, '2017-01-31 00:00:00': 9, '2018-01-08 00:00:00': 7, '2012-12-29 00:00:00': 3, '2015-07-05 00:00:00': 9, '2015-08-22 00:00:00': 16, '2010-07-07 00:00:00': 2, '2018-01-25 00:00:00': 7, '2016-08-08 00:00:00': 17, '2016-06-23 00:00:00': 25, '2011-12-31 00:00:00': 2, '2018-12-17 00:00:00': 4, '2013-10-30 00:00:00': 2, '2014-06-24 00:00:00': 6, '2018-09-22 00:00:00': 4, '2017-09-25 00:00:00': 11, '2017-05-24 00:00:00': 3, '2017-02-01 00:00:00': 7, '2018-03-05 00:00:00': 2, '2007-02-21 00:00:00': 2, '2014-11-23 00:00:00': 6, '2014-01-29 00:00:00': 3, '2015-07-01 00:00:00': 7, '2012-05-18 00:00:00': 2, '2014-05-21 00:00:00': 6, '2012-01-17 00:00:00': 3, '2013-06-20 00:00:00': 2, '2019-01-08 00:00:00': 4, '2014-07-08 00:00:00': 3, '2016-12-05 00:00:00': 18, '2014-02-04 00:00:00': 2, '2018-05-25 00:00:00': 7, '2011-11-28 00:00:00': 2, '2008-11-04 00:00:00': 2, '2013-04-30 00:00:00': 2, '2018-01-30 00:00:00': 9, '2014-04-22 00:00:00': 2, '2018-07-25 00:00:00': 12, '2012-07-21 00:00:00': 3, '2015-09-29 00:00:00': 13, '2014-04-03 00:00:00': 2, '2015-10-10 00:00:00': 11, '2015-11-09 00:00:00': 8, '2014-12-04 00:00:00': 3, '2018-08-08 00:00:00': 6, '2010-09-03 00:00:00': 3, '2017-04-01 00:00:00': 8, '2017-03-14 00:00:00': 9, '2017-08-22 00:00:00': 11, '2011-06-20 00:00:00': 2, '2015-10-12 00:00:00': 4, '2016-04-28 00:00:00': 6, '2018-08-23 00:00:00': 8, '2010-09-15 00:00:00': 2, '2012-04-30 00:00:00': 2, '2012-10-26 00:00:00': 4, '2011-06-03 00:00:00': 3, '2015-08-24 00:00:00': 13, '2017-03-18 00:00:00': 10, '2015-09-04 00:00:00': 5, '2018-10-06 00:00:00': 2, '2016-03-12 00:00:00': 7, '2007-06-12 00:00:00': 3, '2014-10-10 00:00:00': 3, '2013-10-05 00:00:00': 3, '2014-07-11 00:00:00': 3, '2017-04-27 00:00:00': 5, '2015-11-15 00:00:00': 7, '2011-02-24 00:00:00': 4, '2015-09-21 00:00:00': 4, '2016-03-21 00:00:00': 4, '2018-09-07 00:00:00': 4, '2017-06-08 00:00:00': 9, '2009-02-15 00:00:00': 2, '2018-09-19 00:00:00': 7, '2018-01-28 00:00:00': 6, '2014-10-24 00:00:00': 2, '2015-09-01 00:00:00': 9, '2016-03-05 00:00:00': 9, '2015-06-29 00:00:00': 9, '2014-07-29 00:00:00': 9, '2018-08-04 00:00:00': 14, '2011-11-26 00:00:00': 3, '2017-03-06 00:00:00': 13, '2014-10-15 00:00:00': 3, '2016-01-20 00:00:00': 7, '2017-09-18 00:00:00': 8, '2007-12-26 00:00:00': 2, '2015-08-01 00:00:00': 15, '2017-05-17 00:00:00': 13, '2010-06-21 00:00:00': 4, '2017-06-22 00:00:00': 13, '2008-09-15 00:00:00': 3, '2012-05-07 00:00:00': 2, '2017-07-13 00:00:00': 19, '2004-11-24 00:00:00': 5, '2010-09-16 00:00:00': 2, '2013-08-23 00:00:00': 2, '2018-05-08 00:00:00': 7, '2015-01-23 00:00:00': 12, '2015-11-10 00:00:00': 5, '2016-03-02 00:00:00': 8, '2016-07-25 00:00:00': 23, '2017-06-07 00:00:00': 9, '2014-08-27 00:00:00': 3, '2016-08-05 00:00:00': 9, '2016-10-23 00:00:00': 20, '2011-09-17 00:00:00': 4, '2015-04-08 00:00:00': 3, '2009-11-27 00:00:00': 2, '2013-05-25 00:00:00': 3, '2017-05-09 00:00:00': 6, '2012-04-07 00:00:00': 4, '2016-02-18 00:00:00': 8, '2014-01-22 00:00:00': 5, '2014-06-03 00:00:00': 6, '2013-11-09 00:00:00': 2, '2014-03-18 00:00:00': 4, '2008-12-07 00:00:00': 2, '2016-06-15 00:00:00': 11, '2013-10-20 00:00:00': 6, '2012-04-14 00:00:00': 3, '2017-03-07 00:00:00': 10, '2015-12-27 00:00:00': 6, '2015-02-08 00:00:00': 2, '2016-04-07 00:00:00': 6, '2018-11-10 00:00:00': 6, '2015-05-24 00:00:00': 3, '2013-04-07 00:00:00': 4, '2014-02-18 00:00:00': 3, '2009-09-15 00:00:00': 4, '2017-08-27 00:00:00': 10, '2018-01-29 00:00:00': 11, '2012-08-02 00:00:00': 3, '2016-01-01 00:00:00': 8, '2011-09-14 00:00:00': 2, '2015-07-03 00:00:00': 8, '2016-03-24 00:00:00': 13, '2017-01-07 00:00:00': 7, '2009-08-26 00:00:00': 2, '2015-07-06 00:00:00': 5, '2017-05-16 00:00:00': 9, '2017-03-24 00:00:00': 5, '2012-04-08 00:00:00': 5, '2011-11-22 00:00:00': 2, '2017-09-14 00:00:00': 10, '2017-01-17 00:00:00': 10, '2007-08-26 00:00:00': 3, '2016-09-23 00:00:00': 7, '2014-02-26 00:00:00': 4, '2009-05-30 00:00:00': 4, '2012-03-21 00:00:00': 2, '2013-10-10 00:00:00': 7, '2016-01-04 00:00:00': 2, '2008-07-07 00:00:00': 2, '2016-01-22 00:00:00': 4, '2016-03-29 00:00:00': 3, '2017-12-07 00:00:00': 12, '2010-03-12 00:00:00': 2, '2014-09-02 00:00:00': 5, '2018-04-28 00:00:00': 6, '2003-01-29 00:00:00': 2, '2016-12-06 00:00:00': 9, '2013-09-30 00:00:00': 4, '2012-09-22 00:00:00': 2, '2014-09-28 00:00:00': 6, '2017-05-27 00:00:00': 12, '2015-12-16 00:00:00': 6, '2008-09-24 00:00:00': 3, '2015-03-13 00:00:00': 2, '2015-06-19 00:00:00': 5, '2013-08-13 00:00:00': 8, '2014-11-06 00:00:00': 6, '2018-08-17 00:00:00': 6, '2008-09-11 00:00:00': 2, '2012-05-29 00:00:00': 3, '2015-10-27 00:00:00': 6, '2009-06-27 00:00:00': 2, '2017-04-23 00:00:00': 10, '2017-10-19 00:00:00': 6, '2015-10-09 00:00:00': 3, '2018-10-24 00:00:00': 5, '2016-05-12 00:00:00': 11, '2008-01-03 00:00:00': 3, '2016-01-29 00:00:00': 7, '2016-12-25 00:00:00': 18, '2014-12-31 00:00:00': 5, '2015-07-10 00:00:00': 5, '2016-10-09 00:00:00': 20, '2006-01-20 00:00:00': 2, '2017-06-27 00:00:00': 16, '2015-08-31 00:00:00': 3, '2015-07-17 00:00:00': 6, '2013-03-16 00:00:00': 2, '2009-08-11 00:00:00': 2, '2011-08-06 00:00:00': 4, '2012-11-29 00:00:00': 2, '2018-11-27 00:00:00': 2, '2018-08-16 00:00:00': 11, '2015-06-26 00:00:00': 4, '2014-10-22 00:00:00': 5, '2014-08-29 00:00:00': 4, '2015-05-29 00:00:00': 7, '2018-08-24 00:00:00': 11, '2015-11-08 00:00:00': 10, '2017-06-13 00:00:00': 9, '2013-10-22 00:00:00': 2, '2015-10-24 00:00:00': 6, '2013-10-17 00:00:00': 3, '2008-11-24 00:00:00': 4, '2011-10-14 00:00:00': 2, '2014-05-13 00:00:00': 3, '2018-06-26 00:00:00': 15, '2017-04-10 00:00:00': 6, '2019-02-11 00:00:00': 2, '2017-10-02 00:00:00': 5, '2018-04-05 00:00:00': 5, '2015-04-07 00:00:00': 6, '2018-12-29 00:00:00': 5, '2016-03-23 00:00:00': 6, '2014-01-11 00:00:00': 3, '2016-11-29 00:00:00': 11, '2015-12-22 00:00:00': 9, '2012-11-20 00:00:00': 4, '2016-01-14 00:00:00': 14, '2016-04-02 00:00:00': 8, '2015-10-22 00:00:00': 3, '2019-01-09 00:00:00': 5, '2018-05-15 00:00:00': 6, '2017-11-16 00:00:00': 20, '2018-11-23 00:00:00': 5, '2015-08-19 00:00:00': 5, '2009-06-10 00:00:00': 2, '2016-08-09 00:00:00': 12, '2018-08-20 00:00:00': 10, '2018-07-24 00:00:00': 18, '2016-08-04 00:00:00': 23, '2018-10-03 00:00:00': 3, '2018-11-15 00:00:00': 5, '2005-06-30 00:00:00': 4, '2016-03-20 00:00:00': 22, '2016-10-04 00:00:00': 20, '2018-03-16 00:00:00': 7, '2008-10-16 00:00:00': 3, '2009-08-07 00:00:00': 2, '2016-06-22 00:00:00': 13, '2005-08-26 00:00:00': 2, '2015-11-29 00:00:00': 13, '2011-10-12 00:00:00': 2, '2014-03-04 00:00:00': 2, '2016-09-15 00:00:00': 9, '2015-12-25 00:00:00': 10, '2018-05-01 00:00:00': 9, '2016-02-27 00:00:00': 15, '2015-12-24 00:00:00': 10, '2014-03-09 00:00:00': 3, '2015-09-22 00:00:00': 6, '2014-08-14 00:00:00': 5, '2012-06-10 00:00:00': 2, '2016-01-18 00:00:00': 10, '2016-04-16 00:00:00': 8, '2012-08-11 00:00:00': 4, '2015-05-12 00:00:00': 8, '2015-09-17 00:00:00': 7, '2016-06-30 00:00:00': 12, '2015-06-14 00:00:00': 2, '2015-02-17 00:00:00': 4, '2017-03-13 00:00:00': 7, '2014-10-19 00:00:00': 10, '2014-09-25 00:00:00': 2, '2004-05-08 00:00:00': 2, '2015-10-30 00:00:00': 12, '2011-08-07 00:00:00': 2, '2011-10-08 00:00:00': 4, '2013-07-17 00:00:00': 2, '2014-01-26 00:00:00': 5, '2016-03-25 00:00:00': 9, '2011-12-12 00:00:00': 3, '2009-04-03 00:00:00': 3, '2013-08-03 00:00:00': 5, '2016-03-07 00:00:00': 10, '2015-04-12 00:00:00': 5, '2016-08-17 00:00:00': 9, '2008-04-11 00:00:00': 2, '2017-03-10 00:00:00': 12, '2013-07-27 00:00:00': 3, '2015-05-27 00:00:00': 3, '2013-07-28 00:00:00': 2, '2008-01-29 00:00:00': 2, '2018-10-04 00:00:00': 6, '2014-02-28 00:00:00': 2, '2014-07-22 00:00:00': 9, '2016-04-23 00:00:00': 10, '2016-02-09 00:00:00': 9, '2016-02-23 00:00:00': 8, '2018-05-13 00:00:00': 3, '2012-03-27 00:00:00': 3, '2016-01-11 00:00:00': 5, '2006-10-21 00:00:00': 4, '2009-11-09 00:00:00': 2, '2018-02-11 00:00:00': 3, '2016-06-12 00:00:00': 22, '2011-12-14 00:00:00': 5, '2018-03-12 00:00:00': 6, '2008-05-08 00:00:00': 3, '2016-08-31 00:00:00': 19, '2016-05-09 00:00:00': 9, '2017-02-14 00:00:00': 8, '2018-02-04 00:00:00': 6, '2013-04-01 00:00:00': 2, '2017-03-25 00:00:00': 7, '2009-08-25 00:00:00': 2, '2016-02-24 00:00:00': 5, '2017-11-19 00:00:00': 4, '2015-12-05 00:00:00': 6, '2010-01-28 00:00:00': 3, '2017-01-14 00:00:00': 11, '2012-07-10 00:00:00': 5, '2018-04-23 00:00:00': 3, '2014-06-13 00:00:00': 4, '2017-06-28 00:00:00': 13, '2012-09-28 00:00:00': 5, '2011-04-08 00:00:00': 3, '2010-10-18 00:00:00': 4, '2010-01-15 00:00:00': 2, '2016-08-03 00:00:00': 19, '2014-08-24 00:00:00': 9, '2012-02-29 00:00:00': 4, '2017-02-28 00:00:00': 9, '2017-12-15 00:00:00': 6, '2015-03-27 00:00:00': 3, '2018-06-14 00:00:00': 7, '2013-04-16 00:00:00': 2, '2012-08-06 00:00:00': 2, '2014-09-16 00:00:00': 8, '2013-08-21 00:00:00': 3, '2017-07-19 00:00:00': 20, '2016-07-13 00:00:00': 21, '2015-12-21 00:00:00': 7, '2016-06-21 00:00:00': 28, '2016-12-14 00:00:00': 11, '2019-01-14 00:00:00': 2, '2014-12-30 00:00:00': 6, '2018-06-06 00:00:00': 8, '2017-11-17 00:00:00': 16, '2006-03-04 00:00:00': 4, '2005-08-17 00:00:00': 2, '2011-10-23 00:00:00': 3, '2013-02-02 00:00:00': 2, '2015-04-28 00:00:00': 5, '2014-10-26 00:00:00': 4, '2014-09-01 00:00:00': 6, '2015-01-13 00:00:00': 3, '2016-02-06 00:00:00': 8, '2015-09-05 00:00:00': 9, '2008-08-21 00:00:00': 2, '2018-03-15 00:00:00': 5, '2015-12-08 00:00:00': 4, '2016-11-19 00:00:00': 7, '2015-09-26 00:00:00': 9, '2018-12-25 00:00:00': 3, '2010-02-12 00:00:00': 2, '2016-09-24 00:00:00': 7, '2008-06-24 00:00:00': 3, '2016-04-29 00:00:00': 6, '2017-11-13 00:00:00': 10, '2014-04-26 00:00:00': 6, '2017-07-14 00:00:00': 11, '2014-06-25 00:00:00': 4, '2016-03-13 00:00:00': 3, '2008-03-31 00:00:00': 2, '2013-12-05 00:00:00': 2, '2018-04-29 00:00:00': 4, '2015-09-03 00:00:00': 5, '2014-03-03 00:00:00': 3, '2012-11-06 00:00:00': 4, '2016-09-29 00:00:00': 11, '2013-04-18 00:00:00': 3, '2011-02-14 00:00:00': 2, '2017-05-25 00:00:00': 5, '2019-01-18 00:00:00': 2, '2016-06-08 00:00:00': 2, '2016-04-17 00:00:00': 9, '2007-07-25 00:00:00': 2, '2018-03-18 00:00:00': 8, '2006-05-29 00:00:00': 2, '2016-01-31 00:00:00': 7, '2016-09-19 00:00:00': 12, '2015-07-11 00:00:00': 7, '2013-08-25 00:00:00': 2, '2014-02-23 00:00:00': 2, '2017-09-02 00:00:00': 5, '2009-02-09 00:00:00': 2, '2010-08-02 00:00:00': 3, '2010-11-23 00:00:00': 2, '2014-07-02 00:00:00': 8, '2014-12-14 00:00:00': 2, '2014-06-04 00:00:00': 12, '2010-01-30 00:00:00': 4, '2018-07-30 00:00:00': 14, '2018-01-18 00:00:00': 4, '2015-12-13 00:00:00': 7, '2014-10-29 00:00:00': 2, '2014-11-27 00:00:00': 2, '2017-03-04 00:00:00': 8, '2010-12-14 00:00:00': 2, '2017-01-27 00:00:00': 10, '2018-02-12 00:00:00': 3, '2016-05-26 00:00:00': 13, '2012-10-07 00:00:00': 5, '2012-06-18 00:00:00': 2, '2015-06-11 00:00:00': 11, '2015-06-10 00:00:00': 5, '2013-12-09 00:00:00': 3, '2017-11-09 00:00:00': 4, '2008-12-24 00:00:00': 3, '2013-02-18 00:00:00': 3, '2015-07-31 00:00:00': 8, '2017-10-27 00:00:00': 18, '2018-12-23 00:00:00': 2, '2016-04-10 00:00:00': 9, '2014-07-03 00:00:00': 7, '2017-12-22 00:00:00': 8, '2015-02-22 00:00:00': 6, '2017-07-07 00:00:00': 17, '2017-04-12 00:00:00': 12, '2017-11-02 00:00:00': 12, '2017-07-18 00:00:00': 13, '2018-10-05 00:00:00': 2, '2013-08-30 00:00:00': 2, '2015-12-14 00:00:00': 6, '2006-07-04 00:00:00': 2, '2013-07-15 00:00:00': 6, '2017-02-07 00:00:00': 7, '2017-03-29 00:00:00': 14, '2014-12-22 00:00:00': 9, '2014-06-22 00:00:00': 2, '2011-04-06 00:00:00': 3, '2014-10-17 00:00:00': 3, '2013-08-24 00:00:00': 3, '2016-08-16 00:00:00': 18, '2017-04-11 00:00:00': 19, '2013-07-10 00:00:00': 3, '2016-04-04 00:00:00': 11, '2016-12-03 00:00:00': 10, '2015-05-28 00:00:00': 9, '2017-06-14 00:00:00': 10, '2006-08-06 00:00:00': 2, '2018-03-13 00:00:00': 3, '2010-02-17 00:00:00': 2, '2015-06-20 00:00:00': 4, '2010-04-25 00:00:00': 3, '2008-08-30 00:00:00': 2, '2010-12-09 00:00:00': 2, '2013-11-18 00:00:00': 3, '2016-05-14 00:00:00': 14, '2018-01-12 00:00:00': 5, '2016-07-01 00:00:00': 24, '2016-01-09 00:00:00': 6, '2012-01-06 00:00:00': 2, '2013-04-04 00:00:00': 5, '2015-04-17 00:00:00': 3, '2012-04-10 00:00:00': 3, '2009-01-05 00:00:00': 2, '2016-09-11 00:00:00': 19, '2015-03-01 00:00:00': 6, '2009-08-05 00:00:00': 3, '2014-07-20 00:00:00': 4, '2014-02-25 00:00:00': 3, '2014-05-30 00:00:00': 3, '2012-04-17 00:00:00': 3, '2010-03-16 00:00:00': 2, '2010-10-16 00:00:00': 2, '2015-08-12 00:00:00': 12, '2015-12-31 00:00:00': 17, '2008-08-04 00:00:00': 2, '2017-10-29 00:00:00': 12, '2009-07-21 00:00:00': 2, '2013-08-28 00:00:00': 3, '2015-04-21 00:00:00': 5, '2014-12-29 00:00:00': 4, '2014-03-12 00:00:00': 5, '2015-01-16 00:00:00': 11, '2015-09-12 00:00:00': 5, '2011-05-25 00:00:00': 3, '2016-04-06 00:00:00': 10, '2008-12-23 00:00:00': 2, '2018-07-19 00:00:00': 10, '2014-09-23 00:00:00': 11, '2014-01-08 00:00:00': 4, '2006-01-13 00:00:00': 2, '2015-05-01 00:00:00': 3, '2012-07-27 00:00:00': 2, '2006-07-26 00:00:00': 2, '2010-08-24 00:00:00': 3, '2017-07-02 00:00:00': 20, '2014-01-14 00:00:00': 2, '2016-01-26 00:00:00': 13, '2016-05-21 00:00:00': 19, '2017-03-08 00:00:00': 11, '2012-02-08 00:00:00': 2, '2014-07-09 00:00:00': 5, '2014-01-25 00:00:00': 3, '2018-09-21 00:00:00': 2, '2014-11-07 00:00:00': 3, '2013-10-14 00:00:00': 3, '2018-03-17 00:00:00': 5, '2018-12-16 00:00:00': 5, '2015-10-04 00:00:00': 10, '2017-09-11 00:00:00': 12, '2016-06-29 00:00:00': 18, '2018-03-27 00:00:00': 5, '2007-11-06 00:00:00': 2, '2018-07-26 00:00:00': 18, '2019-03-13 00:00:00': 2, '2010-12-19 00:00:00': 2, '2012-11-11 00:00:00': 3, '2016-03-17 00:00:00': 11, '2014-07-14 00:00:00': 7, '2014-02-24 00:00:00': 4, '2016-06-03 00:00:00': 16, '2009-08-01 00:00:00': 2, '2016-12-21 00:00:00': 22, '2016-05-17 00:00:00': 8, '2016-04-22 00:00:00': 7, '2012-07-06 00:00:00': 2, '2016-12-11 00:00:00': 16, '2014-10-23 00:00:00': 2, '2017-10-09 00:00:00': 13, '2009-04-09 00:00:00': 5, '2017-03-17 00:00:00': 4, '2012-10-14 00:00:00': 2, '2018-02-25 00:00:00': 14, '2013-11-29 00:00:00': 8, '2018-11-29 00:00:00': 13, '2018-09-05 00:00:00': 10, '2007-04-20 00:00:00': 2, '2014-05-01 00:00:00': 4, '2018-01-21 00:00:00': 4, '2018-07-21 00:00:00': 13, '2017-08-11 00:00:00': 11, '2013-11-22 00:00:00': 3, '2016-04-21 00:00:00': 6, '2017-04-30 00:00:00': 7, '2015-10-18 00:00:00': 7, '2011-07-01 00:00:00': 4, '2014-09-24 00:00:00': 2, '2018-02-07 00:00:00': 9, '2019-02-24 00:00:00': 3, '2014-02-17 00:00:00': 2, '2011-09-03 00:00:00': 3, '2012-07-22 00:00:00': 4, '2013-07-06 00:00:00': 4, '2014-05-17 00:00:00': 3, '2015-05-09 00:00:00': 5, '2011-11-11 00:00:00': 4, '2018-09-24 00:00:00': 6, '2013-08-16 00:00:00': 5, '2018-04-15 00:00:00': 3, '2016-05-27 00:00:00': 12, '2019-01-19 00:00:00': 6, '2017-04-22 00:00:00': 3, '2009-03-22 00:00:00': 3, '2016-11-01 00:00:00': 25, '2016-01-13 00:00:00': 13, '2018-09-12 00:00:00': 9, '2013-09-10 00:00:00': 5, '2015-10-28 00:00:00': 6, '2016-05-08 00:00:00': 16, '2011-03-22 00:00:00': 2, '2018-07-08 00:00:00': 18, '2018-12-21 00:00:00': 3, '2017-02-22 00:00:00': 13, '2009-07-14 00:00:00': 3, '2013-01-06 00:00:00': 3, '2013-03-18 00:00:00': 4, '2017-12-19 00:00:00': 11, '2012-09-29 00:00:00': 2, '2012-09-23 00:00:00': 2, '2014-04-30 00:00:00': 4, '2015-04-06 00:00:00': 6, '2012-06-28 00:00:00': 2, '2008-09-08 00:00:00': 3, '2015-12-23 00:00:00': 6, '2018-09-28 00:00:00': 3, '2016-07-02 00:00:00': 19, '2017-11-01 00:00:00': 7, '2014-08-25 00:00:00': 5, '2008-11-10 00:00:00': 2, '2015-11-14 00:00:00': 8, '2013-07-29 00:00:00': 3, '2013-11-23 00:00:00': 2, '2014-06-19 00:00:00': 4, '2018-08-30 00:00:00': 3, '2006-10-05 00:00:00': 2, '2017-04-21 00:00:00': 6, '2011-08-02 00:00:00': 3, '2014-04-09 00:00:00': 4, '2018-03-24 00:00:00': 4, '2013-01-02 00:00:00': 2, '2009-01-12 00:00:00': 2, '2018-11-21 00:00:00': 3, '2016-07-26 00:00:00': 19, '2007-11-27 00:00:00': 2, '2016-01-08 00:00:00': 9, '2011-03-19 00:00:00': 3, '2017-07-23 00:00:00': 13, '2015-04-03 00:00:00': 6, '2018-08-26 00:00:00': 2, '2014-05-10 00:00:00': 4, '2018-05-05 00:00:00': 8, '2014-12-06 00:00:00': 2, '2017-07-28 00:00:00': 21, '2017-06-21 00:00:00': 18, '2016-12-22 00:00:00': 14, '2011-06-23 00:00:00': 3, '2018-10-19 00:00:00': 8, '2017-08-30 00:00:00': 10, '2010-05-13 00:00:00': 3, '2014-04-16 00:00:00': 2, '2014-08-02 00:00:00': 3, '2018-04-06 00:00:00': 9, '2018-01-02 00:00:00': 3, '2002-12-05 00:00:00': 2, '2009-01-06 00:00:00': 2, '2015-01-31 00:00:00': 6, '2015-04-22 00:00:00': 3, '2016-12-12 00:00:00': 19, '2013-02-17 00:00:00': 4, '2012-01-24 00:00:00': 2, '2014-03-14 00:00:00': 3, '2012-10-22 00:00:00': 2, '2018-02-22 00:00:00': 2, '2018-03-08 00:00:00': 6, '2015-02-03 00:00:00': 8, '2008-09-09 00:00:00': 3, '2015-03-19 00:00:00': 3, '2018-11-03 00:00:00': 6, '2008-01-13 00:00:00': 2, '2014-05-24 00:00:00': 3, '2009-06-24 00:00:00': 2, '2016-11-16 00:00:00': 19, '2011-11-09 00:00:00': 3, '2014-02-11 00:00:00': 3, '2017-01-12 00:00:00': 6, '2017-02-19 00:00:00': 11, '2003-12-13 00:00:00': 3, '2014-05-06 00:00:00': 3, '2015-06-27 00:00:00': 7, '2010-09-10 00:00:00': 2, '2016-03-27 00:00:00': 5, '2016-03-19 00:00:00': 15, '2017-12-10 00:00:00': 13, '2014-09-26 00:00:00': 3, '2017-07-04 00:00:00': 17, '2018-10-28 00:00:00': 3, '2014-10-30 00:00:00': 3, '2015-07-12 00:00:00': 4, '2007-09-09 00:00:00': 2, '2014-06-30 00:00:00': 2, '2013-11-26 00:00:00': 3, '2016-01-25 00:00:00': 16, '2011-07-22 00:00:00': 5, '2016-07-29 00:00:00': 19, '2013-03-21 00:00:00': 2, '2009-06-08 00:00:00': 3, '2013-01-24 00:00:00': 2, '2017-01-03 00:00:00': 8, '2016-02-10 00:00:00': 5, '2015-09-14 00:00:00': 10, '2015-06-04 00:00:00': 5, '2006-07-18 00:00:00': 2, '2007-08-05 00:00:00': 3, '2005-03-20 00:00:00': 2, '2015-01-29 00:00:00': 2, '2014-11-04 00:00:00': 3, '2016-08-01 00:00:00': 19, '2015-07-07 00:00:00': 3, '2013-05-14 00:00:00': 2, '2018-07-15 00:00:00': 26, '2013-11-04 00:00:00': 3, '2017-11-12 00:00:00': 11, '2016-08-10 00:00:00': 17, '2016-07-17 00:00:00': 34, '2011-09-25 00:00:00': 3, '2014-03-06 00:00:00': 2, '2019-01-15 00:00:00': 5, '2016-11-23 00:00:00': 18, '2015-08-29 00:00:00': 6, '2010-01-08 00:00:00': 2, '2016-06-05 00:00:00': 18, '2017-12-17 00:00:00': 9, '2017-01-09 00:00:00': 10, '2016-06-14 00:00:00': 12, '2004-07-09 00:00:00': 3, '2016-06-02 00:00:00': 15, '2016-07-27 00:00:00': 17, '2010-10-02 00:00:00': 3, '2017-07-29 00:00:00': 17, '2015-11-02 00:00:00': 9, '2018-06-18 00:00:00': 19, '2016-11-02 00:00:00': 21, '2013-12-22 00:00:00': 5, '2013-02-21 00:00:00': 2, '2009-08-21 00:00:00': 3, '2017-08-12 00:00:00': 10, '2012-01-09 00:00:00': 2, '2015-09-13 00:00:00': 6, '2008-09-14 00:00:00': 3, '2017-04-13 00:00:00': 12, '2015-11-27 00:00:00': 6, '2015-12-04 00:00:00': 6, '2013-07-21 00:00:00': 2, '2017-08-21 00:00:00': 20, '2014-04-25 00:00:00': 3, '2019-02-02 00:00:00': 4, '2011-03-28 00:00:00': 4, '2009-03-12 00:00:00': 2, '2008-07-15 00:00:00': 2, '2007-12-05 00:00:00': 2, '2017-08-31 00:00:00': 10, '2017-10-04 00:00:00': 20, '2018-03-31 00:00:00': 7, '2017-05-29 00:00:00': 9, '2015-12-09 00:00:00': 4, '2012-05-27 00:00:00': 3, '2014-01-23 00:00:00': 2, '2017-11-11 00:00:00': 4, '2018-07-13 00:00:00': 13, '2017-07-11 00:00:00': 18, '2013-01-16 00:00:00': 2, '2013-04-06 00:00:00': 4, '2016-02-19 00:00:00': 8, '2014-08-17 00:00:00': 4, '2009-02-28 00:00:00': 2, '2017-05-15 00:00:00': 7, '2018-01-31 00:00:00': 4, '2017-02-08 00:00:00': 9, '2012-06-19 00:00:00': 3, '2009-08-09 00:00:00': 3, '2015-12-19 00:00:00': 6, '2011-09-22 00:00:00': 3, '2018-06-19 00:00:00': 8, '2018-08-02 00:00:00': 13, '2014-11-21 00:00:00': 2, '2011-12-28 00:00:00': 3, '2015-03-07 00:00:00': 5, '2011-07-11 00:00:00': 3, '2017-02-23 00:00:00': 6, '2017-11-15 00:00:00': 12, '2014-02-27 00:00:00': 2, '2018-07-23 00:00:00': 7, '2015-04-26 00:00:00': 2, '2011-12-02 00:00:00': 5, '2017-04-29 00:00:00': 9, '2014-11-02 00:00:00': 4, '2011-06-17 00:00:00': 2, '2015-12-18 00:00:00': 8, '2013-12-13 00:00:00': 2, '2009-11-06 00:00:00': 2, '2016-09-22 00:00:00': 6, '2015-10-11 00:00:00': 3, '2017-03-01 00:00:00': 16, '2017-12-03 00:00:00': 8, '2017-01-25 00:00:00': 13, '2012-04-12 00:00:00': 2, '2008-07-21 00:00:00': 2, '2013-09-17 00:00:00': 3, '2018-10-11 00:00:00': 6, '2016-07-22 00:00:00': 15, '2016-08-22 00:00:00': 16, '2016-02-15 00:00:00': 3, '2007-09-26 00:00:00': 3, '2012-11-17 00:00:00': 3, '2012-10-04 00:00:00': 2, '2014-01-10 00:00:00': 3, '2016-10-06 00:00:00': 2, '2012-04-22 00:00:00': 2, '2016-08-23 00:00:00': 12, '2012-06-05 00:00:00': 3, '2010-07-10 00:00:00': 4, '2017-02-04 00:00:00': 13, '2014-09-15 00:00:00': 8, '2016-09-10 00:00:00': 24, '2014-12-19 00:00:00': 3, '2010-09-23 00:00:00': 2, '2014-11-14 00:00:00': 6, '2014-06-27 00:00:00': 2, '2018-05-30 00:00:00': 11, '2006-10-20 00:00:00': 3, '2011-03-14 00:00:00': 5, '2016-02-05 00:00:00': 8, '2018-04-18 00:00:00': 7, '2017-04-28 00:00:00': 16, '2012-01-30 00:00:00': 2, '2014-12-15 00:00:00': 4, '2018-07-02 00:00:00': 15, '2004-01-02 00:00:00': 2, '2012-06-09 00:00:00': 3, '2009-08-03 00:00:00': 2, '2018-10-26 00:00:00': 4, '2010-08-31 00:00:00': 2, '2012-02-21 00:00:00': 2, '2014-01-01 00:00:00': 2, '2012-08-12 00:00:00': 3, '2017-09-05 00:00:00': 16, '2018-03-03 00:00:00': 9, '2017-11-05 00:00:00': 4, '2018-05-04 00:00:00': 4, '2015-02-14 00:00:00': 3, '2016-02-11 00:00:00': 9, '2010-06-28 00:00:00': 3, '2011-12-08 00:00:00': 2, '2018-12-30 00:00:00': 5, '2013-09-27 00:00:00': 6, '2014-08-07 00:00:00': 7, '2017-09-10 00:00:00': 11, '2010-12-21 00:00:00': 3, '2017-10-21 00:00:00': 11, '2015-06-25 00:00:00': 5, '2012-11-08 00:00:00': 5, '2016-10-22 00:00:00': 17, '2011-08-12 00:00:00': 2, '2018-04-24 00:00:00': 6, '2010-08-25 00:00:00': 3, '2018-05-06 00:00:00': 6, '2015-01-02 00:00:00': 3, '2010-07-12 00:00:00': 2, '2007-11-26 00:00:00': 2, '2014-04-01 00:00:00': 3, '2018-11-16 00:00:00': 5, '2016-04-12 00:00:00': 14, '2017-11-06 00:00:00': 12, '2016-07-04 00:00:00': 17, '2012-06-06 00:00:00': 3, '2015-07-24 00:00:00': 8, '2017-02-06 00:00:00': 15, '2015-11-04 00:00:00': 13, '2017-11-18 00:00:00': 5, '2017-12-08 00:00:00': 10, '2018-09-06 00:00:00': 5, '2015-09-11 00:00:00': 13, '2010-11-08 00:00:00': 2, '2016-08-29 00:00:00': 25, '2011-08-09 00:00:00': 2, '2017-02-15 00:00:00': 9, '2016-07-18 00:00:00': 35, '2008-03-24 00:00:00': 2, '2011-08-01 00:00:00': 2, '2015-03-26 00:00:00': 5, '2007-06-18 00:00:00': 5, '2018-02-17 00:00:00': 5, '2012-04-23 00:00:00': 3, '2018-08-06 00:00:00': 11, '2018-02-15 00:00:00': 4, '2013-09-25 00:00:00': 5, '2013-07-24 00:00:00': 5, '2015-06-28 00:00:00': 7, '2012-11-09 00:00:00': 2, '2011-05-16 00:00:00': 2, '2017-02-03 00:00:00': 10, '2007-08-16 00:00:00': 2, '2014-05-02 00:00:00': 3, '2014-09-06 00:00:00': 5, '2017-08-28 00:00:00': 19, '2011-09-30 00:00:00': 3, '2016-06-04 00:00:00': 16, '2014-11-24 00:00:00': 7, '2015-09-19 00:00:00': 3, '2017-04-15 00:00:00': 17, '2011-11-24 00:00:00': 5, '2007-01-14 00:00:00': 3, '2017-05-04 00:00:00': 5, '2013-12-19 00:00:00': 2, '2018-08-01 00:00:00': 16, '2018-06-27 00:00:00': 16, '2013-11-15 00:00:00': 3, '2012-11-10 00:00:00': 2, '2017-06-02 00:00:00': 13, '2011-01-04 00:00:00': 3, '2016-04-08 00:00:00': 5, '2018-12-11 00:00:00': 3, '2016-11-30 00:00:00': 9, '2019-02-22 00:00:00': 2, '2018-10-10 00:00:00': 11, '2018-03-14 00:00:00': 8, '2014-07-28 00:00:00': 5, '2018-12-04 00:00:00': 4, '2014-01-17 00:00:00': 2, '2014-10-27 00:00:00': 8, '2016-02-16 00:00:00': 3, '2016-05-04 00:00:00': 35, '2015-11-07 00:00:00': 3, '2018-02-23 00:00:00': 7, '2007-06-23 00:00:00': 2, '2015-03-14 00:00:00': 4, '2016-12-20 00:00:00': 23, '2018-03-09 00:00:00': 3, '2016-04-15 00:00:00': 5, '2017-10-24 00:00:00': 9, '2011-05-18 00:00:00': 2, '2017-10-30 00:00:00': 8, '2017-12-13 00:00:00': 12, '2010-10-19 00:00:00': 2, '2017-12-21 00:00:00': 9, '2008-06-29 00:00:00': 2, '2015-11-28 00:00:00': 10, '2014-07-27 00:00:00': 2, '2006-12-08 00:00:00': 2, '2018-12-01 00:00:00': 2, '2018-06-09 00:00:00': 6, '2018-11-19 00:00:00': 8, '2013-02-10 00:00:00': 3, '2013-09-09 00:00:00': 3, '2016-10-29 00:00:00': 20, '2006-12-22 00:00:00': 2, '2017-09-09 00:00:00': 8, '2011-12-11 00:00:00': 3, '2008-04-08 00:00:00': 2, '2017-04-18 00:00:00': 7, '2013-09-03 00:00:00': 3, '2015-08-06 00:00:00': 5, '2015-05-02 00:00:00': 8, '2018-01-26 00:00:00': 5, '2013-02-11 00:00:00': 2, '2018-10-27 00:00:00': 13, '2012-05-17 00:00:00': 2, '2015-06-07 00:00:00': 10, '2018-01-14 00:00:00': 12, '2012-11-16 00:00:00': 4, '2013-05-12 00:00:00': 3, '2017-08-24 00:00:00': 14, '2018-08-19 00:00:00': 5, '2017-03-11 00:00:00': 17, '2015-12-01 00:00:00': 6, '2015-07-26 00:00:00': 9, '2011-03-04 00:00:00': 2, '2016-01-12 00:00:00': 6, '2013-03-27 00:00:00': 2, '2015-03-31 00:00:00': 3, '2018-08-14 00:00:00': 14, '2018-07-17 00:00:00': 28, '2017-06-11 00:00:00': 15, '2015-05-31 00:00:00': 4, '2014-07-23 00:00:00': 5, '2014-11-10 00:00:00': 3, '2014-06-06 00:00:00': 3, '2016-11-20 00:00:00': 20, '2015-11-30 00:00:00': 8, '2014-02-06 00:00:00': 2, '2009-03-20 00:00:00': 5, '2015-01-01 00:00:00': 5, '2016-07-12 00:00:00': 26, '2009-12-19 00:00:00': 4, '2009-04-06 00:00:00': 2, '2013-07-26 00:00:00': 2, '2018-07-09 00:00:00': 7, '2013-04-03 00:00:00': 5, '2011-08-04 00:00:00': 2, '2009-06-06 00:00:00': 3, '2013-06-19 00:00:00': 3, '2018-08-09 00:00:00': 10, '2014-04-29 00:00:00': 5, '2017-09-30 00:00:00': 7, '2016-12-30 00:00:00': 10, '2016-09-27 00:00:00': 21, '2012-10-05 00:00:00': 4, '2017-08-01 00:00:00': 15, '2015-05-05 00:00:00': 7, '2016-08-27 00:00:00': 9, '2017-09-29 00:00:00': 4, '2017-01-02 00:00:00': 13, '2011-02-09 00:00:00': 4, '2014-01-30 00:00:00': 2, '2013-04-09 00:00:00': 2, '2017-03-03 00:00:00': 10, '2016-06-13 00:00:00': 13, '2017-08-19 00:00:00': 6, '2017-01-23 00:00:00': 8, '2013-07-18 00:00:00': 4, '2016-12-08 00:00:00': 8, '2013-11-19 00:00:00': 3, '2018-08-29 00:00:00': 4, '2013-07-02 00:00:00': 6, '2007-07-19 00:00:00': 2, '2009-07-25 00:00:00': 2, '2018-06-07 00:00:00': 7, '2016-01-16 00:00:00': 7, '2017-12-30 00:00:00': 9, '2014-12-17 00:00:00': 4, '2014-01-28 00:00:00': 3, '2015-02-10 00:00:00': 8, '2019-01-17 00:00:00': 5, '2018-10-18 00:00:00': 5, '2018-05-31 00:00:00': 6, '2016-12-27 00:00:00': 7, '2016-06-26 00:00:00': 21, '2015-10-03 00:00:00': 4, '2011-04-13 00:00:00': 3, '2017-04-20 00:00:00': 11, '2013-12-06 00:00:00': 4, '2013-09-26 00:00:00': 3, '2009-07-20 00:00:00': 2, '2016-05-16 00:00:00': 4, '2013-10-19 00:00:00': 3, '2008-07-31 00:00:00': 2, '2015-12-12 00:00:00': 7, '2016-09-12 00:00:00': 20, '2016-08-18 00:00:00': 9, '2012-10-16 00:00:00': 2, '2018-07-10 00:00:00': 9, '2011-07-04 00:00:00': 2, '2015-01-07 00:00:00': 4, '2016-11-17 00:00:00': 22, '2016-06-06 00:00:00': 16, '2017-11-23 00:00:00': 19, '2014-06-21 00:00:00': 3, '2015-02-12 00:00:00': 4, '2012-06-21 00:00:00': 4, '2017-09-15 00:00:00': 14, '2010-08-22 00:00:00': 2, '2006-08-21 00:00:00': 4, '2014-11-18 00:00:00': 3, '2017-01-11 00:00:00': 13, '2010-11-17 00:00:00': 2, '2012-06-01 00:00:00': 5, '2016-12-29 00:00:00': 15, '2014-03-15 00:00:00': 2, '2017-03-27 00:00:00': 7, '2012-05-08 00:00:00': 2, '2011-07-29 00:00:00': 2, '2010-02-06 00:00:00': 2, '2018-04-08 00:00:00': 4, '2018-01-07 00:00:00': 10, '2011-10-02 00:00:00': 7, '2011-12-18 00:00:00': 2, '2014-11-25 00:00:00': 8, '2009-03-04 00:00:00': 4, '2018-04-01 00:00:00': 6, '2016-02-08 00:00:00': 6, '2018-10-02 00:00:00': 3, '2016-09-05 00:00:00': 11, '2015-06-23 00:00:00': 9, '2014-07-01 00:00:00': 8, '2018-08-28 00:00:00': 4, '2011-06-22 00:00:00': 2, '2008-05-11 00:00:00': 3, '2018-03-21 00:00:00': 4, '2013-03-19 00:00:00': 2, '2013-12-01 00:00:00': 3, '2011-01-27 00:00:00': 3, '2015-02-04 00:00:00': 9, '2016-12-10 00:00:00': 10, '2016-11-13 00:00:00': 17, '2013-11-10 00:00:00': 3, '2015-01-19 00:00:00': 5, '2016-09-25 00:00:00': 17, '2017-07-12 00:00:00': 30, '2013-10-01 00:00:00': 3, '2014-11-05 00:00:00': 3, '2011-09-19 00:00:00': 4, '2014-07-17 00:00:00': 5, '2017-02-02 00:00:00': 15, '2010-09-01 00:00:00': 3, '2016-09-14 00:00:00': 18, '2016-10-03 00:00:00': 17, '2012-01-29 00:00:00': 3, '2016-07-06 00:00:00': 16, '2010-12-03 00:00:00': 2, '2013-06-26 00:00:00': 2, '2018-02-06 00:00:00': 4, '2014-08-19 00:00:00': 4, '2015-05-25 00:00:00': 2, '2014-01-15 00:00:00': 3, '2011-07-27 00:00:00': 3, '2017-09-24 00:00:00': 5, '2006-07-21 00:00:00': 3, '2018-09-08 00:00:00': 8, '2017-05-02 00:00:00': 20, '2019-01-28 00:00:00': 5, '2009-03-18 00:00:00': 2, '2016-07-15 00:00:00': 23, '2007-09-15 00:00:00': 2, '2013-07-13 00:00:00': 2, '2015-08-10 00:00:00': 9, '2018-01-01 00:00:00': 13, '2017-03-28 00:00:00': 9, '2016-08-28 00:00:00': 11, '2014-07-10 00:00:00': 3, '2013-08-18 00:00:00': 4, '2017-10-18 00:00:00': 8, '2016-06-19 00:00:00': 9, '2015-02-01 00:00:00': 11, '2015-12-03 00:00:00': 8, '2015-10-02 00:00:00': 6, '2016-05-18 00:00:00': 9, '2016-04-24 00:00:00': 9, '2010-11-04 00:00:00': 2, '2015-03-20 00:00:00': 21, '2003-04-30 00:00:00': 2, '2013-10-04 00:00:00': 2, '2016-04-18 00:00:00': 12, '2016-10-17 00:00:00': 14, '2017-11-22 00:00:00': 17, '2013-10-25 00:00:00': 2, '2012-01-03 00:00:00': 2, '2018-04-07 00:00:00': 10, '2014-08-01 00:00:00': 6, '2017-09-21 00:00:00': 14, '2016-02-26 00:00:00': 6, '2013-02-14 00:00:00': 2, '2016-12-23 00:00:00': 14, '2013-03-10 00:00:00': 2, '2017-10-01 00:00:00': 11, '2016-10-26 00:00:00': 10, '2017-07-31 00:00:00': 7, '2013-10-23 00:00:00': 3, '2016-10-21 00:00:00': 15, '2015-11-16 00:00:00': 8, '2016-01-24 00:00:00': 12, '2016-12-19 00:00:00': 14, '2015-10-20 00:00:00': 12, '2004-08-01 00:00:00': 3, '2012-12-09 00:00:00': 6, '2019-01-03 00:00:00': 3, '2015-05-16 00:00:00': 9, '2018-12-20 00:00:00': 3, '2008-06-19 00:00:00': 2, '2014-09-19 00:00:00': 6, '2015-11-25 00:00:00': 7, '2018-12-19 00:00:00': 3, '2008-10-25 00:00:00': 2, '2017-09-23 00:00:00': 12, '2015-03-02 00:00:00': 12, '2017-04-08 00:00:00': 13, '2014-02-19 00:00:00': 3, '2018-09-04 00:00:00': 14, '2018-04-19 00:00:00': 3, '2014-03-29 00:00:00': 8, '2018-05-24 00:00:00': 2, '2014-03-22 00:00:00': 4, '2016-04-09 00:00:00': 9, '2012-03-22 00:00:00': 3, '2017-08-03 00:00:00': 21, '2012-12-18 00:00:00': 2, '2018-05-10 00:00:00': 5, '2008-03-09 00:00:00': 2, '2016-03-10 00:00:00': 4, '2014-03-25 00:00:00': 2, '2009-11-14 00:00:00': 4, '2012-09-03 00:00:00': 2, '2014-03-20 00:00:00': 10, '2009-04-13 00:00:00': 4, '2010-10-14 00:00:00': 2, '2018-04-26 00:00:00': 2, '2010-06-01 00:00:00': 2, '2015-05-21 00:00:00': 10, '2008-11-21 00:00:00': 4, '2018-03-07 00:00:00': 5, '2007-10-20 00:00:00': 2, '2016-01-30 00:00:00': 14, '2016-11-09 00:00:00': 10, '2011-03-20 00:00:00': 7, '2013-11-30 00:00:00': 8, '2018-04-14 00:00:00': 8, '2005-10-19 00:00:00': 2, '2013-04-10 00:00:00': 2, '2017-01-26 00:00:00': 8, '2012-06-07 00:00:00': 3, '2018-10-23 00:00:00': 8, '2014-02-10 00:00:00': 2, '2016-04-11 00:00:00': 11, '2018-05-12 00:00:00': 8, '2014-06-29 00:00:00': 5, '2011-09-08 00:00:00': 3, '2010-03-20 00:00:00': 2, '2017-03-30 00:00:00': 8, '2012-12-10 00:00:00': 2, '2017-07-22 00:00:00': 10, '2018-03-10 00:00:00': 12, '2018-07-29 00:00:00': 12, '2012-09-15 00:00:00': 2, '2014-11-03 00:00:00': 2, '2005-02-26 00:00:00': 2, '2014-10-28 00:00:00': 10, '2016-02-04 00:00:00': 9, '2013-05-31 00:00:00': 2, '2017-04-06 00:00:00': 7, '2013-12-28 00:00:00': 5, '2011-01-22 00:00:00': 2, '2010-02-16 00:00:00': 2, '2014-10-11 00:00:00': 4, '2010-07-17 00:00:00': 3, '2018-01-22 00:00:00': 4, '2015-06-08 00:00:00': 3, '2017-12-18 00:00:00': 11, '2014-09-17 00:00:00': 9, '2017-09-08 00:00:00': 9, '2015-07-22 00:00:00': 10, '2014-10-02 00:00:00': 3, '2015-09-16 00:00:00': 5, '2010-11-25 00:00:00': 3, '2018-05-27 00:00:00': 8, '2015-07-09 00:00:00': 5, '2015-11-11 00:00:00': 8, '2017-08-20 00:00:00': 12, '2017-01-24 00:00:00': 9, '2014-07-04 00:00:00': 2, '2010-07-27 00:00:00': 2, '2018-09-03 00:00:00': 7, '2010-12-31 00:00:00': 2, '2011-01-30 00:00:00': 3, '2013-06-30 00:00:00': 5, '2007-12-04 00:00:00': 2, '2016-12-24 00:00:00': 7, '2018-08-07 00:00:00': 11, '2015-01-28 00:00:00': 9, '2016-07-19 00:00:00': 13, '2017-12-20 00:00:00': 7, '2018-10-15 00:00:00': 5, '2018-12-03 00:00:00': 5, '2017-06-15 00:00:00': 11, '2015-12-17 00:00:00': 10, '2016-05-31 00:00:00': 17, '2017-05-28 00:00:00': 9, '2017-05-08 00:00:00': 7, '2011-04-21 00:00:00': 3, '2018-06-11 00:00:00': 6, '2014-12-02 00:00:00': 7, '2016-04-26 00:00:00': 11, '2018-07-18 00:00:00': 12, '2016-04-14 00:00:00': 11, '2016-11-11 00:00:00': 16, '2012-10-19 00:00:00': 3, '2012-11-18 00:00:00': 3, '2016-09-28 00:00:00': 5, '2011-06-28 00:00:00': 2, '2015-11-13 00:00:00': 3, '2018-01-27 00:00:00': 4, '2016-03-01 00:00:00': 5, '2014-11-16 00:00:00': 4, '2015-08-13 00:00:00': 5, '2016-09-16 00:00:00': 19, '2013-04-25 00:00:00': 2, '2018-02-28 00:00:00': 6, '2018-08-15 00:00:00': 13, '2008-06-07 00:00:00': 2, '2015-09-18 00:00:00': 7, '2008-10-17 00:00:00': 2, '2014-01-27 00:00:00': 2, '2013-01-31 00:00:00': 2, '2007-09-19 00:00:00': 2, '2015-02-02 00:00:00': 4, '2015-06-16 00:00:00': 3, '2016-03-06 00:00:00': 7, '2012-06-03 00:00:00': 2, '2017-12-28 00:00:00': 3, '2018-09-10 00:00:00': 11, '2007-05-21 00:00:00': 3, '2014-09-14 00:00:00': 7, '2014-01-19 00:00:00': 3, '2017-10-22 00:00:00': 14, '2015-01-25 00:00:00': 3, '2012-01-11 00:00:00': 3, '2016-05-22 00:00:00': 16, '2017-11-10 00:00:00': 15, '2011-06-24 00:00:00': 2, '2013-07-07 00:00:00': 2, '2016-08-02 00:00:00': 23, '2014-08-31 00:00:00': 10, '2009-03-23 00:00:00': 4, '2015-05-13 00:00:00': 7, '2015-07-14 00:00:00': 6, '2019-01-07 00:00:00': 7, '2017-05-11 00:00:00': 9, '2009-02-19 00:00:00': 2, '2016-07-24 00:00:00': 21, '2007-11-30 00:00:00': 2, '2015-12-30 00:00:00': 3, '2010-04-07 00:00:00': 2, '2014-07-25 00:00:00': 5, '2014-06-17 00:00:00': 3, '2012-04-19 00:00:00': 2, '2018-07-22 00:00:00': 9, '2015-06-05 00:00:00': 3, '2015-08-16 00:00:00': 12, '2019-02-13 00:00:00': 2, '2013-09-13 00:00:00': 2, '2017-11-20 00:00:00': 4, '2017-12-06 00:00:00': 9, '2005-03-04 00:00:00': 3, '2014-09-04 00:00:00': 8, '2019-01-04 00:00:00': 9, '2015-08-20 00:00:00': 3, '2016-08-26 00:00:00': 11, '2018-03-22 00:00:00': 12, '2014-09-18 00:00:00': 8, '2018-02-24 00:00:00': 13, '2018-08-22 00:00:00': 14, '2016-09-30 00:00:00': 10, '2018-01-09 00:00:00': 8, '2018-03-20 00:00:00': 30, '2016-05-05 00:00:00': 20, '2016-09-08 00:00:00': 5, '2007-08-08 00:00:00': 2, '2016-03-15 00:00:00': 4, '2017-08-02 00:00:00': 13, '2014-05-05 00:00:00': 4, '2019-01-23 00:00:00': 8, '2016-07-11 00:00:00': 22, '2015-09-24 00:00:00': 5, '2015-02-05 00:00:00': 3, '2018-05-02 00:00:00': 2, '2015-01-17 00:00:00': 3, '2015-11-22 00:00:00': 6, '2017-02-05 00:00:00': 9, '2013-09-05 00:00:00': 3, '2018-10-07 00:00:00': 5, '2011-10-17 00:00:00': 2, '2013-06-08 00:00:00': 4, '2014-12-09 00:00:00': 9, '2017-04-14 00:00:00': 8, '2009-10-21 00:00:00': 3, '2009-04-19 00:00:00': 2, '2013-05-11 00:00:00': 3, '2016-05-23 00:00:00': 19, '2014-12-03 00:00:00': 7, '2017-10-08 00:00:00': 11, '2014-12-07 00:00:00': 3, '2015-09-02 00:00:00': 7, '2011-09-23 00:00:00': 2, '2018-06-12 00:00:00': 10, '2018-02-13 00:00:00': 5, '2017-06-26 00:00:00': 18, '2013-06-28 00:00:00': 5, '2015-12-06 00:00:00': 4, '2016-10-18 00:00:00': 16, '2006-12-20 00:00:00': 2, '2017-01-28 00:00:00': 8, '2017-02-24 00:00:00': 11, '2018-01-15 00:00:00': 6, '2013-07-11 00:00:00': 4, '2018-10-21 00:00:00': 7, '2015-07-21 00:00:00': 7, '2010-04-05 00:00:00': 2, '2016-02-01 00:00:00': 11, '2018-06-23 00:00:00': 11, '2015-10-07 00:00:00': 4, '2006-09-21 00:00:00': 2, '2014-08-05 00:00:00': 7, '2017-03-16 00:00:00': 6, '2014-04-11 00:00:00': 3, '2017-03-21 00:00:00': 8, '2016-07-03 00:00:00': 15, '2013-08-12 00:00:00': 2, '2018-02-27 00:00:00': 7, '2008-10-23 00:00:00': 2, '2017-12-11 00:00:00': 5, '2008-08-08 00:00:00': 2, '2016-07-09 00:00:00': 27, '2016-10-01 00:00:00': 12, '2017-04-26 00:00:00': 7, '2016-03-30 00:00:00': 8, '2018-11-12 00:00:00': 9, '2001-10-26 00:00:00': 2, '2013-01-12 00:00:00': 3, '2018-03-06 00:00:00': 3, '2018-11-09 00:00:00': 6, '2014-11-26 00:00:00': 6, '2012-06-25 00:00:00': 2, '2012-03-10 00:00:00': 3, '2015-12-07 00:00:00': 3, '2013-05-29 00:00:00': 2, '2016-04-05 00:00:00': 10, '2013-10-12 00:00:00': 3, '2017-09-28 00:00:00': 15, '2017-06-19 00:00:00': 10, '2013-03-30 00:00:00': 2, '2018-09-18 00:00:00': 7, '2015-07-08 00:00:00': 5, '2015-11-12 00:00:00': 7, '2014-07-15 00:00:00': 5, '2014-07-24 00:00:00': 4, '2010-02-27 00:00:00': 2, '2013-04-26 00:00:00': 2, '2015-07-23 00:00:00': 4, '2018-11-08 00:00:00': 8, '2014-12-01 00:00:00': 4, '2017-11-28 00:00:00': 10, '2018-01-19 00:00:00': 8, '2015-01-15 00:00:00': 5, '2017-12-31 00:00:00': 6, '2016-03-31 00:00:00': 11, '2015-11-05 00:00:00': 2, '2017-10-28 00:00:00': 6, '2007-10-05 00:00:00': 2, '2009-07-18 00:00:00': 2, '2016-06-16 00:00:00': 11, '2013-05-01 00:00:00': 3, '2016-02-12 00:00:00': 7, '2016-07-31 00:00:00': 22, '2013-03-07 00:00:00': 3, '2008-07-18 00:00:00': 2, '2014-07-16 00:00:00': 3, '2015-07-25 00:00:00': 16, '2018-03-26 00:00:00': 8, '2013-06-13 00:00:00': 4, '2010-09-29 00:00:00': 2, '2006-11-05 00:00:00': 2, '2006-11-17 00:00:00': 3, '2012-08-29 00:00:00': 4, '2013-08-15 00:00:00': 2, '2008-01-04 00:00:00': 2, '2011-06-10 00:00:00': 3, '2013-08-20 00:00:00': 4, '2015-10-23 00:00:00': 5, '2013-02-07 00:00:00': 3, '2015-03-22 00:00:00': 10, '2018-06-15 00:00:00': 7, '2010-07-15 00:00:00': 4, '2010-09-26 00:00:00': 2, '2015-06-03 00:00:00': 3, '2016-08-20 00:00:00': 8, '2014-03-01 00:00:00': 2, '2011-04-05 00:00:00': 3, '2009-12-29 00:00:00': 3, '2014-10-25 00:00:00': 5, '2004-01-30 00:00:00': 2, '2005-06-27 00:00:00': 2, '2006-07-30 00:00:00': 2, '2017-01-05 00:00:00': 5, '2014-08-26 00:00:00': 4, '2016-09-04 00:00:00': 16, '2018-06-22 00:00:00': 11, '2016-01-06 00:00:00': 6, '2006-07-23 00:00:00': 2, '2013-08-11 00:00:00': 2, '2012-05-30 00:00:00': 3, '2016-10-19 00:00:00': 17, '2014-03-13 00:00:00': 3, '2010-10-10 00:00:00': 2, '2004-02-14 00:00:00': 2, '2007-03-28 00:00:00': 2, '2017-11-27 00:00:00': 10, '2013-04-11 00:00:00': 2, '2013-08-19 00:00:00': 2, '2014-04-14 00:00:00': 4, '2018-10-31 00:00:00': 4, '2018-02-08 00:00:00': 12, '2012-04-18 00:00:00': 3, '2004-05-16 00:00:00': 2, '2014-01-31 00:00:00': 2, '2017-06-09 00:00:00': 14, '2018-04-17 00:00:00': 15, '2014-03-19 00:00:00': 3, '2017-08-15 00:00:00': 9, '2017-02-11 00:00:00': 14, '2015-09-15 00:00:00': 6, '2016-02-22 00:00:00': 9, '2013-05-06 00:00:00': 2, '2014-01-03 00:00:00': 2, '2015-08-02 00:00:00': 6, '2008-03-10 00:00:00': 2, '2012-11-13 00:00:00': 2, '2017-11-30 00:00:00': 5, '2016-10-31 00:00:00': 14, '2018-10-08 00:00:00': 2, '2014-10-18 00:00:00': 6, '2015-08-08 00:00:00': 11, '2012-01-31 00:00:00': 4, '2018-04-21 00:00:00': 7, '2015-03-03 00:00:00': 4, '2017-09-03 00:00:00': 3, '2007-03-21 00:00:00': 2, '2013-08-01 00:00:00': 4, '2008-03-27 00:00:00': 2, '2014-05-28 00:00:00': 4, '2017-02-18 00:00:00': 10, '2015-05-15 00:00:00': 4, '2009-08-20 00:00:00': 3, '2015-02-07 00:00:00': 9, '2015-03-10 00:00:00': 3, '2010-11-07 00:00:00': 2, '2014-06-11 00:00:00': 2, '2013-03-22 00:00:00': 2, '2006-07-11 00:00:00': 2, '2006-10-24 00:00:00': 2, '2012-07-28 00:00:00': 2, '2016-07-23 00:00:00': 12, '2015-11-06 00:00:00': 7, '2007-12-31 00:00:00': 3, '2013-11-06 00:00:00': 2, '2009-03-26 00:00:00': 2, '2011-01-21 00:00:00': 2, '2010-12-13 00:00:00': 2, '2015-05-10 00:00:00': 8, '2016-03-08 00:00:00': 9, '2015-03-28 00:00:00': 4, '2015-06-09 00:00:00': 3, '2017-10-15 00:00:00': 9, '2013-10-28 00:00:00': 4, '2017-08-17 00:00:00': 8, '2019-01-12 00:00:00': 10, '2017-08-05 00:00:00': 11, '2018-09-09 00:00:00': 4, '2010-11-27 00:00:00': 5, '2010-04-12 00:00:00': 2, '2016-12-15 00:00:00': 11, '2015-05-03 00:00:00': 9, '2010-10-05 00:00:00': 2, '2014-10-07 00:00:00': 4, '2011-04-20 00:00:00': 2, '2015-01-27 00:00:00': 2, '2018-07-12 00:00:00': 12, '2014-12-23 00:00:00': 3, '2017-07-27 00:00:00': 12, '2009-11-24 00:00:00': 3, '2018-04-02 00:00:00': 4, '2014-04-27 00:00:00': 6, '2017-03-05 00:00:00': 6, '2017-01-20 00:00:00': 8, '2012-08-14 00:00:00': 4, '2018-02-16 00:00:00': 9, '2014-10-13 00:00:00': 4, '2017-07-10 00:00:00': 19, '2016-12-26 00:00:00': 13, '2014-11-22 00:00:00': 6, '2007-08-11 00:00:00': 2, '2018-07-31 00:00:00': 20, '2018-03-29 00:00:00': 5, '2016-02-17 00:00:00': 11, '2004-07-06 00:00:00': 2, '2015-01-22 00:00:00': 6, '2015-12-28 00:00:00': 5, '2014-12-21 00:00:00': 5, '2018-10-20 00:00:00': 7, '2012-09-07 00:00:00': 2, '2016-07-16 00:00:00': 24, '2015-06-24 00:00:00': 6, '2012-04-03 00:00:00': 3, '2007-07-14 00:00:00': 2, '2016-08-13 00:00:00': 18, '2018-06-10 00:00:00': 12, '2017-08-10 00:00:00': 16, '2008-01-18 00:00:00': 2, '2010-04-19 00:00:00': 2, '2017-07-24 00:00:00': 14, '2017-09-27 00:00:00': 8, '2013-03-31 00:00:00': 4, '2016-11-22 00:00:00': 25, '2018-05-16 00:00:00': 7, '2011-11-15 00:00:00': 2, '2018-10-01 00:00:00': 8, '2014-07-07 00:00:00': 3, '2013-01-26 00:00:00': 3, '2016-02-03 00:00:00': 6, '2017-06-24 00:00:00': 21, '2014-12-16 00:00:00': 2, '2009-09-10 00:00:00': 2, '2016-09-01 00:00:00': 10, '2008-03-17 00:00:00': 2, '2019-01-05 00:00:00': 6, '2017-02-27 00:00:00': 8, '2013-03-14 00:00:00': 2, '2012-05-12 00:00:00': 4, '2016-05-29 00:00:00': 9, '2015-04-05 00:00:00': 5, '2016-07-30 00:00:00': 18, '2016-01-02 00:00:00': 7, '2012-02-07 00:00:00': 2, '2017-08-18 00:00:00': 10, '2010-12-30 00:00:00': 2, '2018-11-13 00:00:00': 7, '2018-12-15 00:00:00': 3, '2018-09-26 00:00:00': 7, '2011-12-23 00:00:00': 2, '2012-05-04 00:00:00': 3, '2010-08-05 00:00:00': 2, '2009-06-30 00:00:00': 2, '2017-01-08 00:00:00': 13, '2014-02-09 00:00:00': 2, '2008-03-11 00:00:00': 2, '2011-09-16 00:00:00': 4, '2017-09-19 00:00:00': 13, '2016-05-24 00:00:00': 10, '2018-06-20 00:00:00': 5, '2017-01-13 00:00:00': 14, '2015-07-19 00:00:00': 11, '2010-05-12 00:00:00': 2, '2017-06-18 00:00:00': 15, '2007-05-30 00:00:00': 2, '2018-09-14 00:00:00': 7, '2016-12-18 00:00:00': 10, '2016-05-30 00:00:00': 10, '2018-07-20 00:00:00': 9, '2011-11-03 00:00:00': 2, '2016-09-06 00:00:00': 15, '2014-09-05 00:00:00': 8, '2008-12-17 00:00:00': 2, '2014-10-14 00:00:00': 7, '2010-08-23 00:00:00': 5, '2011-04-14 00:00:00': 2, '2014-12-12 00:00:00': 10, '2014-04-07 00:00:00': 2, '2013-10-21 00:00:00': 7, '2008-09-28 00:00:00': 2, '2017-06-03 00:00:00': 13, '2012-11-26 00:00:00': 5, '2014-04-21 00:00:00': 2, '2018-08-25 00:00:00': 13, '2012-12-23 00:00:00': 3, '2016-10-16 00:00:00': 16, '2012-11-30 00:00:00': 5, '2009-09-09 00:00:00': 2, '2018-06-05 00:00:00': 5, '2015-04-25 00:00:00': 4, '2010-02-05 00:00:00': 2, '2010-03-11 00:00:00': 3, '2017-07-05 00:00:00': 35, '2015-04-14 00:00:00': 2, '2017-10-12 00:00:00': 12, '2013-09-07 00:00:00': 4, '2014-08-04 00:00:00': 7, '2013-12-10 00:00:00': 2, '2016-03-09 00:00:00': 3, '2009-04-12 00:00:00': 2, '2013-10-03 00:00:00': 4, '2008-06-28 00:00:00': 2, '2015-09-23 00:00:00': 5, '2018-12-07 00:00:00': 3, '2018-04-25 00:00:00': 5, '2007-02-02 00:00:00': 2, '2018-10-14 00:00:00': 5, '2018-08-27 00:00:00': 6, '2011-11-08 00:00:00': 3, '2016-10-05 00:00:00': 15, '2014-11-19 00:00:00': 5, '2016-05-25 00:00:00': 11, '2018-07-04 00:00:00': 13, '2017-05-21 00:00:00': 18, '2017-04-24 00:00:00': 6, '2014-09-30 00:00:00': 6, '2015-12-10 00:00:00': 2, '2016-11-27 00:00:00': 23, '2019-01-24 00:00:00': 3, '2018-12-12 00:00:00': 2, '2017-04-07 00:00:00': 10, '2014-10-16 00:00:00': 3, '2003-06-02 00:00:00': 2, '2014-05-15 00:00:00': 2, '2018-11-24 00:00:00': 5, '2012-12-17 00:00:00': 2, '2018-02-02 00:00:00': 10, '2014-08-13 00:00:00': 12, '2004-08-22 00:00:00': 2, '2014-04-12 00:00:00': 2, '2016-08-15 00:00:00': 20, '2018-03-11 00:00:00': 6, '2007-03-27 00:00:00': 2, '2018-02-09 00:00:00': 2, '2011-07-19 00:00:00': 4, '2014-07-12 00:00:00': 2, '2014-08-11 00:00:00': 8, '2018-07-06 00:00:00': 20, '2014-11-17 00:00:00': 5, '2018-09-17 00:00:00': 13, '2017-06-05 00:00:00': 12, '2012-10-20 00:00:00': 3, '2017-05-13 00:00:00': 12, '2013-06-17 00:00:00': 4, '2017-03-22 00:00:00': 12, '2017-11-04 00:00:00': 7, '2018-03-02 00:00:00': 3, '2017-07-30 00:00:00': 10, '2016-09-07 00:00:00': 15, '2013-01-05 00:00:00': 5, '2015-01-03 00:00:00': 6, '2011-03-07 00:00:00': 2, '2008-07-17 00:00:00': 3, '2010-08-04 00:00:00': 2, '2011-01-12 00:00:00': 2, '2015-01-04 00:00:00': 2, '2010-12-26 00:00:00': 2, '2010-06-23 00:00:00': 6, '2011-10-19 00:00:00': 3, '2015-10-29 00:00:00': 10, '2013-06-25 00:00:00': 2, '2019-01-26 00:00:00': 8, '2017-12-29 00:00:00': 5, '2004-10-07 00:00:00': 2, '2012-01-19 00:00:00': 3, '2010-01-13 00:00:00': 3, '2014-10-21 00:00:00': 3, '2013-03-24 00:00:00': 2, '2008-08-14 00:00:00': 3, '2017-12-01 00:00:00': 8, '2016-03-22 00:00:00': 9, '2015-07-16 00:00:00': 4, '2009-12-20 00:00:00': 2, '2014-11-15 00:00:00': 9, '2015-04-16 00:00:00': 4, '2017-06-23 00:00:00': 27, '2014-09-13 00:00:00': 3, '2018-05-21 00:00:00': 15, '2017-06-20 00:00:00': 15, '2019-03-07 00:00:00': 3, '2015-02-13 00:00:00': 5, '1998-12-06 00:00:00': 2, '2015-04-10 00:00:00': 5, '2017-05-26 00:00:00': 12, '2015-02-16 00:00:00': 4, '2018-06-30 00:00:00': 15, '2011-12-24 00:00:00': 2, '2014-08-23 00:00:00': 3, '2015-08-14 00:00:00': 6, '2014-10-31 00:00:00': 3, '2018-11-11 00:00:00': 3, '2012-03-23 00:00:00': 3, '2018-04-30 00:00:00': 3, '2012-07-19 00:00:00': 5, '2014-06-05 00:00:00': 3, '2011-05-22 00:00:00': 2, '2011-11-14 00:00:00': 2, '2015-06-02 00:00:00': 4, '2014-05-03 00:00:00': 2, '2013-06-21 00:00:00': 3, '2015-05-07 00:00:00': 2, '2010-11-01 00:00:00': 2, '2010-11-09 00:00:00': 3, '2010-04-21 00:00:00': 2, '2018-11-06 00:00:00': 14, '2018-08-11 00:00:00': 12, '2009-05-10 00:00:00': 2, '2015-06-13 00:00:00': 3, '2010-09-25 00:00:00': 2, '2018-10-22 00:00:00': 7, '2019-02-16 00:00:00': 2, '2018-02-10 00:00:00': 8, '2017-06-17 00:00:00': 20, '2017-10-13 00:00:00': 9, '2014-10-01 00:00:00': 6, '2014-04-28 00:00:00': 2, '2003-02-23 00:00:00': 2, '2016-05-11 00:00:00': 5, '2016-01-27 00:00:00': 8, '2014-01-16 00:00:00': 3, '2018-05-23 00:00:00': 6, '2017-10-03 00:00:00': 10, '2015-09-09 00:00:00': 5, '2018-01-23 00:00:00': 9, '2018-12-22 00:00:00': 7, '2016-09-02 00:00:00': 15, '2018-01-05 00:00:00': 12, '2013-12-24 00:00:00': 3, '2008-03-01 00:00:00': 2, '2010-08-08 00:00:00': 3, '2015-11-03 00:00:00': 10, '2017-07-25 00:00:00': 15, '2016-08-19 00:00:00': 18, '2016-04-30 00:00:00': 10, '2012-03-11 00:00:00': 4, '2016-10-02 00:00:00': 17, '2018-03-04 00:00:00': 8, '2014-02-07 00:00:00': 3, '2018-12-13 00:00:00': 6, '2011-09-09 00:00:00': 5, '2016-09-26 00:00:00': 16, '2011-01-17 00:00:00': 2, '2013-12-29 00:00:00': 2, '2017-10-14 00:00:00': 16, '2005-01-23 00:00:00': 2, '2014-08-21 00:00:00': 9, '2016-11-04 00:00:00': 18, '2011-08-23 00:00:00': 2, '2016-12-16 00:00:00': 10, '2015-10-13 00:00:00': 3, '2012-08-30 00:00:00': 3, '2015-08-28 00:00:00': 7, '2018-01-24 00:00:00': 2, '2019-02-21 00:00:00': 3, '2015-04-11 00:00:00': 2, '2017-09-13 00:00:00': 11, '2018-05-17 00:00:00': 6, '2014-12-27 00:00:00': 3, '2006-12-31 00:00:00': 2, '2013-01-08 00:00:00': 2, '2014-05-16 00:00:00': 2, '2015-01-18 00:00:00': 5, '2008-12-03 00:00:00': 6, '2013-05-10 00:00:00': 5, '2017-12-26 00:00:00': 10, '2014-09-27 00:00:00': 6, '2015-01-10 00:00:00': 5, '2016-12-01 00:00:00': 14, '2018-05-03 00:00:00': 8, '2015-05-11 00:00:00': 2, '2018-02-21 00:00:00': 4, '2014-08-15 00:00:00': 5, '2007-07-15 00:00:00': 2, '2011-06-06 00:00:00': 2, '2014-07-21 00:00:00': 7, '2017-01-01 00:00:00': 20, '2017-01-18 00:00:00': 10, '2008-04-26 00:00:00': 4, '2017-02-26 00:00:00': 13, '2014-06-26 00:00:00': 3, '2014-04-23 00:00:00': 5, '2011-04-12 00:00:00': 3, '2015-02-24 00:00:00': 2, '2015-10-17 00:00:00': 8, '2016-03-11 00:00:00': 9, '2014-09-21 00:00:00': 4, '2007-07-04 00:00:00': 2, '2016-11-24 00:00:00': 17, '2014-08-03 00:00:00': 3, '2016-01-07 00:00:00': 13, '2015-02-21 00:00:00': 8, '2017-11-14 00:00:00': 6, '2015-09-10 00:00:00': 6, '2014-12-24 00:00:00': 6, '2006-05-14 00:00:00': 2, '2013-03-11 00:00:00': 4, '2018-04-13 00:00:00': 4, '2016-08-25 00:00:00': 22, '2017-01-06 00:00:00': 20, '2015-02-27 00:00:00': 5, '2016-06-09 00:00:00': 13, '2018-04-12 00:00:00': 6, '2016-06-24 00:00:00': 17, '2013-10-27 00:00:00': 4, '2017-08-14 00:00:00': 11, '2018-05-22 00:00:00': 4, '2017-04-17 00:00:00': 8, '2007-03-31 00:00:00': 2, '2013-04-21 00:00:00': 2, '2014-07-05 00:00:00': 3, '2015-06-17 00:00:00': 4, '2015-06-15 00:00:00': 5, '2008-11-08 00:00:00': 3, '2017-09-04 00:00:00': 5, '2017-04-03 00:00:00': 9, '2018-06-03 00:00:00': 11, '2010-08-15 00:00:00': 2, '2017-08-07 00:00:00': 6, '2018-05-26 00:00:00': 11, '2014-08-09 00:00:00': 4, '2013-09-02 00:00:00': 2, '2017-10-06 00:00:00': 7, '2016-06-20 00:00:00': 10, '2017-03-20 00:00:00': 41, '2016-02-28 00:00:00': 7, '2016-01-19 00:00:00': 10, '2015-10-26 00:00:00': 5, '2017-08-06 00:00:00': 13, '2017-01-10 00:00:00': 9, '2012-07-09 00:00:00': 2, '2010-03-08 00:00:00': 3, '2018-12-10 00:00:00': 4, '2015-06-22 00:00:00': 6, '2011-08-08 00:00:00': 3, '2013-11-24 00:00:00': 2, '2013-01-11 00:00:00': 3, '2017-04-09 00:00:00': 13, '2011-08-24 00:00:00': 2, '2017-07-15 00:00:00': 27, '2015-03-21 00:00:00': 5, '2014-01-07 00:00:00': 4, '2015-08-27 00:00:00': 5, '2013-06-29 00:00:00': 3, '2011-09-24 00:00:00': 3, '2016-10-28 00:00:00': 11, '2011-02-07 00:00:00': 2, '2002-11-07 00:00:00': 2, '2018-01-13 00:00:00': 6, '2017-03-02 00:00:00': 10, '2015-10-19 00:00:00': 8, '2016-11-05 00:00:00': 10, '2015-10-08 00:00:00': 3, '2015-01-21 00:00:00': 9, '2010-01-10 00:00:00': 3, '2018-06-17 00:00:00': 15, '2015-11-23 00:00:00': 8, '2017-11-07 00:00:00': 13, '2011-01-26 00:00:00': 3, '2011-10-24 00:00:00': 2, '2013-10-11 00:00:00': 4, '2013-04-28 00:00:00': 2, '2013-11-27 00:00:00': 2, '2014-10-09 00:00:00': 5, '2015-02-19 00:00:00': 5, '2014-12-08 00:00:00': 6, '2016-03-26 00:00:00': 7, '2012-02-22 00:00:00': 2, '2015-02-26 00:00:00': 4, '2010-01-18 00:00:00': 2, '2012-11-24 00:00:00': 7, '2010-02-03 00:00:00': 3, '2015-12-26 00:00:00': 11, '2015-05-18 00:00:00': 2, '2006-08-13 00:00:00': 2, '2014-12-11 00:00:00': 2, '2018-09-27 00:00:00': 4, '2015-06-18 00:00:00': 7, '2018-05-28 00:00:00': 5, '2014-10-06 00:00:00': 6, '2013-12-07 00:00:00': 3, '2018-01-03 00:00:00': 14, '2014-12-26 00:00:00': 3, '2017-07-08 00:00:00': 18, '2017-04-25 00:00:00': 8, '2010-10-21 00:00:00': 2, '2014-11-09 00:00:00': 6, '2013-05-26 00:00:00': 2, '2016-09-21 00:00:00': 18, '2015-11-01 00:00:00': 5, '2012-09-25 00:00:00': 2, '2015-03-30 00:00:00': 5, '2012-11-12 00:00:00': 2, '2016-12-17 00:00:00': 8, '2013-01-29 00:00:00': 4, '2006-08-11 00:00:00': 2, '2015-02-28 00:00:00': 2, '2014-10-05 00:00:00': 2, '2015-12-20 00:00:00': 14, '2017-10-26 00:00:00': 6, '2009-06-03 00:00:00': 2, '2018-07-14 00:00:00': 24, '2013-07-25 00:00:00': 4, '2016-10-07 00:00:00': 9, '2015-04-27 00:00:00': 2, '2018-11-14 00:00:00': 4, '2018-12-05 00:00:00': 6, '2005-11-29 00:00:00': 2, '2013-12-25 00:00:00': 2, '2014-12-25 00:00:00': 8, '2014-04-19 00:00:00': 4, '2018-01-11 00:00:00': 9, '2009-05-03 00:00:00': 3, '2006-12-25 00:00:00': 2, '2014-12-28 00:00:00': 14, '2008-12-09 00:00:00': 2, '2018-09-15 00:00:00': 4, '2017-05-10 00:00:00': 7, '2013-01-14 00:00:00': 2, '2017-05-18 00:00:00': 9, '2012-12-08 00:00:00': 4, '2016-01-17 00:00:00': 6, '2015-04-01 00:00:00': 2, '2009-07-06 00:00:00': 2, '2014-07-06 00:00:00': 2, '2014-07-31 00:00:00': 3, '2017-02-13 00:00:00': 12, '2008-11-14 00:00:00': 2, '2015-07-13 00:00:00': 5, '2009-11-19 00:00:00': 2, '2016-10-13 00:00:00': 19, '2016-11-03 00:00:00': 16, '2005-07-28 00:00:00': 2, '2016-12-31 00:00:00': 12, '2018-02-26 00:00:00': 5, '2010-06-22 00:00:00': 5, '2017-09-22 00:00:00': 9, '2015-09-07 00:00:00': 2, '2018-10-13 00:00:00': 13, '2018-08-03 00:00:00': 6, '2016-03-14 00:00:00': 6, '2013-08-04 00:00:00': 3, '2012-05-03 00:00:00': 2, '2017-12-27 00:00:00': 15, '2015-10-31 00:00:00': 14, '2007-06-11 00:00:00': 2, '2008-10-28 00:00:00': 3, '2016-11-12 00:00:00': 22, '2015-01-14 00:00:00': 5, '2017-12-09 00:00:00': 15, '2015-11-17 00:00:00': 7, '2017-02-10 00:00:00': 9, '2016-12-13 00:00:00': 8, '2012-07-08 00:00:00': 4, '2015-04-02 00:00:00': 6, '2017-03-23 00:00:00': 16, '2014-09-08 00:00:00': 7, '2007-05-07 00:00:00': 2, '2015-05-08 00:00:00': 3, '2018-11-22 00:00:00': 6, '2017-06-04 00:00:00': 11, '2014-08-16 00:00:00': 9, '2016-04-13 00:00:00': 7, '2017-07-16 00:00:00': 19, '2017-05-31 00:00:00': 11, '2017-10-25 00:00:00': 3, '2014-04-05 00:00:00': 2, '2013-12-31 00:00:00': 2, '2018-08-31 00:00:00': 7, '2009-02-22 00:00:00': 2, '2017-04-19 00:00:00': 12, '2013-06-12 00:00:00': 4, '2017-07-20 00:00:00': 16, '2010-08-03 00:00:00': 3, '2014-12-20 00:00:00': 5, '2018-10-12 00:00:00': 5, '2016-01-21 00:00:00': 7, '2017-09-06 00:00:00': 10, '2017-01-22 00:00:00': 16, '2014-06-10 00:00:00': 3, '2010-12-15 00:00:00': 2, '2017-08-26 00:00:00': 11, '2018-03-23 00:00:00': 10, '2006-12-05 00:00:00': 2, '2017-05-05 00:00:00': 10, '2015-06-01 00:00:00': 4, '2005-09-14 00:00:00': 3, '2013-01-04 00:00:00': 3, '2016-03-16 00:00:00': 2, '2017-12-02 00:00:00': 14, '2010-09-28 00:00:00': 5, '2018-12-31 00:00:00': 3, '2015-09-28 00:00:00': 9, '2011-04-26 00:00:00': 3, '2005-03-31 00:00:00': 2, '2016-10-08 00:00:00': 8, '2017-06-10 00:00:00': 16, '2014-05-22 00:00:00': 5, '2016-04-01 00:00:00': 8, '2012-05-23 00:00:00': 2, '2019-01-11 00:00:00': 2, '2009-03-25 00:00:00': 2, '2014-07-13 00:00:00': 6, '2011-12-03 00:00:00': 3, '2017-04-04 00:00:00': 13, '2018-11-18 00:00:00': 4, '2016-09-09 00:00:00': 13, '2004-03-23 00:00:00': 3, '2018-05-18 00:00:00': 7, '2016-03-28 00:00:00': 8, '2016-04-19 00:00:00': 4, '2018-06-02 00:00:00': 15, '2015-07-02 00:00:00': 3, '2014-06-09 00:00:00': 6, '2010-02-26 00:00:00': 2, '2010-11-26 00:00:00': 3, '2011-01-25 00:00:00': 2, '2018-07-16 00:00:00': 17, '2017-05-07 00:00:00': 8, '2010-01-25 00:00:00': 4, '2013-08-09 00:00:00': 4, '2016-10-11 00:00:00': 19, '2017-02-12 00:00:00': 18, '2016-11-26 00:00:00': 16, '2017-05-30 00:00:00': 8, '2010-05-05 00:00:00': 2, '2018-07-03 00:00:00': 19, '2012-03-20 00:00:00': 6, '2018-03-19 00:00:00': 10, '2015-09-25 00:00:00': 2, '2017-10-17 00:00:00': 7, '2017-10-07 00:00:00': 13, '2014-05-04 00:00:00': 2, '2013-02-16 00:00:00': 3, '2012-07-04 00:00:00': 2, '2018-04-10 00:00:00': 17, '2009-08-29 00:00:00': 2, '2018-08-05 00:00:00': 10, '2017-08-16 00:00:00': 9, '2012-05-31 00:00:00': 2, '2018-10-16 00:00:00': 8, '2013-01-20 00:00:00': 5, '2015-09-27 00:00:00': 8, '2018-09-01 00:00:00': 11, '2017-02-09 00:00:00': 13, '2019-01-13 00:00:00': 2, '2014-03-07 00:00:00': 2, '2018-08-21 00:00:00': 10, '2017-04-16 00:00:00': 13, '2013-08-10 00:00:00': 6, '2017-03-15 00:00:00': 11, '2017-07-21 00:00:00': 35, '2009-12-14 00:00:00': 4, '2018-09-30 00:00:00': 2, '2015-01-06 00:00:00': 6, '2018-12-06 00:00:00': 2, '2012-09-17 00:00:00': 3, '2008-03-22 00:00:00': 2, '2011-08-11 00:00:00': 4, '2018-10-17 00:00:00': 8, '2007-10-30 00:00:00': 2, '2017-05-14 00:00:00': 14, '2015-11-24 00:00:00': 4, '2015-05-23 00:00:00': 5, '2018-06-28 00:00:00': 11, '2002-06-06 00:00:00': 2, '2016-11-10 00:00:00': 14, '2011-11-17 00:00:00': 2, '2018-04-03 00:00:00': 6, '2012-05-15 00:00:00': 4, '2015-10-06 00:00:00': 4, '2015-12-29 00:00:00': 5, '2009-03-11 00:00:00': 3, '2013-06-23 00:00:00': 3, '2018-06-25 00:00:00': 15, '2011-07-10 00:00:00': 2, '2017-05-19 00:00:00': 4, '2015-02-09 00:00:00': 3, '2016-11-25 00:00:00': 10, '2017-04-02 00:00:00': 16, '2010-07-20 00:00:00': 3, '2018-11-28 00:00:00': 5, '2009-11-25 00:00:00': 2, '2007-03-12 00:00:00': 2, '2017-12-25 00:00:00': 5, '2018-11-07 00:00:00': 6, '2014-09-22 00:00:00': 4, '2017-05-22 00:00:00': 9, '2018-07-28 00:00:00': 9, '2013-11-16 00:00:00': 4, '2016-06-10 00:00:00': 13, '2010-10-07 00:00:00': 2, '2018-06-29 00:00:00': 15, '2014-03-24 00:00:00': 3, '2012-03-29 00:00:00': 3, '2016-12-28 00:00:00': 12, '2011-06-25 00:00:00': 2, '2005-10-10 00:00:00': 2, '2017-07-17 00:00:00': 13, '2012-02-05 00:00:00': 2, '2018-02-18 00:00:00': 11, '2018-04-27 00:00:00': 6, '2013-06-03 00:00:00': 2, '2016-04-27 00:00:00': 10, '2011-11-05 00:00:00': 2, '2017-07-01 00:00:00': 14, '2018-06-01 00:00:00': 11, '2014-06-15 00:00:00': 3, '2010-02-07 00:00:00': 2, '2016-08-14 00:00:00': 24, '2016-06-01 00:00:00': 18, '2006-08-14 00:00:00': 2, '2017-10-11 00:00:00': 11, '2017-03-19 00:00:00': 11, '2012-10-06 00:00:00': 3, '2014-08-28 00:00:00': 5, '2016-10-12 00:00:00': 15, '2017-07-26 00:00:00': 14, '2013-08-27 00:00:00': 4, '2016-11-15 00:00:00': 20, '2016-11-08 00:00:00': 9, '2018-05-11 00:00:00': 4, '2017-10-31 00:00:00': 8, '2009-12-06 00:00:00': 2, '2015-01-26 00:00:00': 4, '2014-04-18 00:00:00': 5, '2018-05-14 00:00:00': 2, '2012-03-30 00:00:00': 2, '2008-03-20 00:00:00': 3, '2017-12-12 00:00:00': 7, '2016-05-15 00:00:00': 18, '2018-03-01 00:00:00': 8, '2014-11-20 00:00:00': 2, '2016-01-15 00:00:00': 10, '2010-11-29 00:00:00': 6, '2016-07-14 00:00:00': 16, '2017-05-06 00:00:00': 11, '2016-11-07 00:00:00': 17, '2012-11-27 00:00:00': 2, '2013-09-23 00:00:00': 6, '2011-06-19 00:00:00': 2, '2018-08-18 00:00:00': 11, '2010-11-16 00:00:00': 2, '2013-12-15 00:00:00': 2, '2015-08-07 00:00:00': 7, '2011-08-14 00:00:00': 3, '2018-02-14 00:00:00': 6, '2019-01-01 00:00:00': 6, '2015-01-09 00:00:00': 10, '2016-07-07 00:00:00': 26, '2015-12-11 00:00:00': 4, '2008-11-11 00:00:00': 2, '2014-10-08 00:00:00': 6, '2015-02-06 00:00:00': 4, '2015-08-15 00:00:00': 11, '2013-11-11 00:00:00': 4, '2017-04-05 00:00:00': 6, '2019-01-27 00:00:00': 5, '2009-12-30 00:00:00': 2, '2007-05-06 00:00:00': 2, '2014-08-06 00:00:00': 8, '2012-07-26 00:00:00': 3, '2009-05-22 00:00:00': 2, '2012-02-27 00:00:00': 2, '2017-03-31 00:00:00': 10, '2013-09-11 00:00:00': 3, '2013-09-16 00:00:00': 5, '2013-04-17 00:00:00': 4, '2015-03-08 00:00:00': 5, '2018-06-04 00:00:00': 6, '2012-04-26 00:00:00': 2, '2015-07-28 00:00:00': 4, '2014-02-03 00:00:00': 3, '2017-02-21 00:00:00': 15, '2013-12-23 00:00:00': 2, '2012-07-14 00:00:00': 2, '2013-09-06 00:00:00': 3, '2011-12-25 00:00:00': 4, '2015-11-18 00:00:00': 8, '2018-07-11 00:00:00': 17, '2012-09-04 00:00:00': 7, '2015-07-27 00:00:00': 6, '2016-10-10 00:00:00': 12, '2016-02-07 00:00:00': 4, '2016-01-23 00:00:00': 10, '2008-12-04 00:00:00': 2, '2013-03-20 00:00:00': 10, '2018-12-24 00:00:00': 7, '2011-05-31 00:00:00': 2, '2011-11-21 00:00:00': 3, '2018-12-28 00:00:00': 5, '2013-07-01 00:00:00': 2, '2007-10-17 00:00:00': 2, '2014-05-12 00:00:00': 2, '2013-06-02 00:00:00': 4, '2019-01-02 00:00:00': 4, '2015-04-24 00:00:00': 4, '2017-06-30 00:00:00': 31, '2018-04-22 00:00:00': 7, '2010-04-24 00:00:00': 2, '2013-12-11 00:00:00': 4, '2018-02-05 00:00:00': 7, '2018-11-20 00:00:00': 2, '2017-05-01 00:00:00': 8, '2017-06-01 00:00:00': 7, '2012-02-26 00:00:00': 2, '2015-10-16 00:00:00': 6, '2011-05-10 00:00:00': 2, '2015-08-23 00:00:00': 7, '2013-08-17 00:00:00': 3, '2013-07-31 00:00:00': 5, '2014-09-03 00:00:00': 4, '2018-11-26 00:00:00': 2, '2006-10-18 00:00:00': 2, '2014-07-19 00:00:00': 7, '2016-01-28 00:00:00': 12, '2016-07-20 00:00:00': 24, '2014-02-22 00:00:00': 3, '2018-02-01 00:00:00': 5, '2015-06-21 00:00:00': 4, '2014-06-20 00:00:00': 2, '2006-06-10 00:00:00': 2, '2008-11-23 00:00:00': 3, '2009-12-04 00:00:00': 2, '2019-01-10 00:00:00': 3, '2011-01-24 00:00:00': 3, '2014-04-08 00:00:00': 4, '2015-03-11 00:00:00': 4, '2012-03-25 00:00:00': 3, '2013-11-05 00:00:00': 2, '2016-07-21 00:00:00': 26, '2016-11-14 00:00:00': 14, '2007-03-22 00:00:00': 2, '2017-01-19 00:00:00': 8, '2015-09-08 00:00:00': 4, '2016-06-17 00:00:00': 18, '2015-08-09 00:00:00': 8, '2008-08-23 00:00:00': 2, '2011-10-01 00:00:00': 3, '2016-05-07 00:00:00': 5, '2015-05-26 00:00:00': 6, '2015-08-03 00:00:00': 9, '2016-03-03 00:00:00': 6, '2012-05-22 00:00:00': 2, '2018-08-13 00:00:00': 9, '2013-06-07 00:00:00': 2, '2011-09-21 00:00:00': 3, '2018-11-04 00:00:00': 6, '2012-03-28 00:00:00': 2, '2012-02-16 00:00:00': 3, '2018-01-06 00:00:00': 9, '2012-07-30 00:00:00': 5, '2017-06-16 00:00:00': 9, '2016-10-24 00:00:00': 10, '2014-12-18 00:00:00': 2, '2015-10-01 00:00:00': 6, '2011-06-14 00:00:00': 2, '2009-09-25 00:00:00': 2, '2007-09-30 00:00:00': 2, '2011-10-07 00:00:00': 4, '2014-02-21 00:00:00': 4, '2015-11-26 00:00:00': 5}\n",
            "{'2018-10-21 19:01:00': 2, '2017-12-05 00:00:00': 4, '2017-07-14 18:40:00': 3, '2017-12-23 00:00:00': 2, '2019-02-27 17:36:00': 2, '2018-09-01 14:51:00': 2, '2018-08-01 18:29:00': 2, '2017-05-12 00:00:00': 4, '2016-08-07 00:00:00': 2, '2017-03-10 17:16:00': 2, '2017-05-28 10:48:00': 3, '2016-12-07 00:00:00': 2, '2016-10-03 13:25:00': 2, '2017-09-15 18:00:00': 2, '2018-09-16 00:00:00': 3, '2017-01-11 12:10:00': 2, '2016-10-25 15:25:00': 2, '2017-09-04 18:59:00': 2, '2016-12-05 13:39:00': 2, '2018-12-14 00:00:00': 3, '2018-06-17 13:31:00': 2, '2017-03-23 13:07:00': 2, '2018-09-28 17:25:00': 2, '2017-08-21 19:04:00': 2, '2018-02-01 12:31:00': 2, '2018-04-08 09:00:00': 2, '2018-04-15 13:47:00': 2, '2017-08-02 12:30:00': 2, '2017-12-01 14:56:00': 2, '2018-05-02 11:50:00': 2, '2019-04-13 00:00:00': 2, '2019-02-23 11:27:00': 2, '2018-11-16 16:46:00': 2, '2016-08-19 16:20:00': 2, '2018-09-30 15:34:00': 3, '2019-05-01 12:35:00': 2, '2018-12-26 00:00:00': 2, '2016-10-04 11:20:00': 2, '2018-09-05 09:56:00': 2, '2018-06-23 13:54:00': 2, '2019-05-10 12:11:00': 2, '2017-02-13 11:52:00': 3, '2017-07-31 17:17:00': 2, '2016-08-15 11:48:00': 2, '2018-07-07 00:00:00': 2, '2019-01-19 18:34:00': 2, '2016-11-09 11:03:00': 2, '2017-06-28 10:28:00': 2, '2016-08-29 16:34:00': 2, '2018-07-21 18:59:00': 2, '2017-08-14 11:35:00': 2, '2017-04-01 00:00:00': 3, '2017-08-22 00:00:00': 2, '2017-02-08 11:59:00': 2, '2019-03-27 16:35:00': 2, '2016-09-14 10:56:00': 2, '2016-08-17 14:49:00': 2, '2018-09-21 17:09:00': 2, '2016-10-28 16:47:00': 3, '2018-08-04 00:00:00': 2, '2018-07-16 13:14:00': 2, '2018-09-19 18:28:00': 2, '2017-03-22 19:23:00': 2, '2017-09-17 18:24:00': 3, '2018-01-29 00:00:00': 6, '2018-12-04 13:00:00': 2, '2019-01-23 19:08:00': 2, '2017-02-06 13:54:00': 2, '2017-06-08 13:52:00': 3, '2017-03-20 11:47:00': 2, '2016-09-18 16:25:00': 3, '2017-01-29 09:00:00': 3, '2018-10-11 13:36:00': 2, '2017-10-02 00:00:00': 3, '2018-02-15 17:11:00': 2, '2017-07-03 10:57:00': 2, '2017-12-18 18:53:00': 3, '2018-07-07 16:28:00': 2, '2016-12-25 18:11:00': 2, '2017-10-19 17:50:00': 2, '2018-03-28 09:00:00': 3, '2016-12-17 09:00:00': 2, '2018-08-21 11:59:00': 2, '2016-09-06 15:26:00': 2, '2017-02-28 00:00:00': 2, '2018-12-24 15:37:00': 2, '2018-05-23 18:24:00': 2, '2018-02-02 16:12:00': 2, '2018-03-15 00:00:00': 3, '2017-07-26 16:59:00': 2, '2017-05-25 00:00:00': 6, '2018-08-21 19:03:00': 2, '2017-09-02 00:00:00': 2, '2018-02-24 18:51:00': 2, '2016-08-22 09:00:00': 3, '2017-01-27 00:00:00': 3, '2016-09-11 13:46:00': 2, '2017-12-16 09:00:00': 2, '2019-01-13 13:48:00': 3, '2019-04-24 17:37:00': 4, '2018-08-07 10:39:00': 4, '2017-04-26 16:46:00': 2, '2017-05-12 17:30:00': 2, '2017-01-21 17:40:00': 2, '2019-04-25 15:33:00': 2, '2017-07-19 12:01:00': 2, '2016-09-25 15:38:00': 2, '2019-01-29 16:34:00': 2, '2018-11-29 00:00:00': 2, '2019-01-25 18:30:00': 2, '2018-11-29 13:43:00': 2, '2016-09-02 09:00:00': 2, '2019-05-09 16:33:00': 2, '2018-04-08 19:53:00': 2, '2018-06-15 17:46:00': 2, '2017-10-16 09:00:00': 3, '2016-09-02 15:41:00': 2, '2017-08-29 18:47:00': 2, '2017-07-23 00:00:00': 3, '2018-03-10 12:00:00': 2, '2018-03-02 09:00:00': 3, '2016-11-03 13:17:00': 3, '2017-12-21 17:43:00': 2, '2017-12-09 14:21:00': 2, '2018-07-28 12:01:00': 2, '2018-02-14 18:21:00': 2, '2018-06-26 11:54:00': 2, '2017-02-20 13:57:00': 2, '2018-10-06 18:41:00': 2, '2017-08-21 00:00:00': 2, '2018-12-14 09:52:00': 2, '2016-07-27 18:05:00': 2, '2018-07-03 08:42:00': 3, '2016-08-26 09:00:00': 2, '2019-04-24 17:36:00': 2, '2018-05-02 12:04:00': 3, '2016-10-10 09:00:00': 2, '2018-10-09 11:27:00': 2, '2017-12-12 17:07:00': 2, '2017-05-21 14:56:00': 2, '2017-09-19 17:07:00': 2, '2017-10-26 09:00:00': 3, '2017-02-15 00:00:00': 4, '2019-04-17 13:16:00': 2, '2016-12-16 17:59:00': 2, '2016-10-09 12:41:00': 2, '2017-04-16 12:45:00': 4, '2018-12-11 14:37:00': 3, '2019-04-07 18:19:00': 2, '2019-04-13 19:15:00': 2, '2018-09-04 14:52:00': 2, '2017-02-13 13:11:00': 2, '2016-08-27 09:00:00': 4, '2016-08-27 19:03:00': 2, '2018-03-08 13:11:00': 2, '2018-05-25 13:23:00': 2, '2018-12-25 19:20:00': 3, '2019-01-13 11:30:00': 3, '2019-03-10 15:51:00': 2, '2019-01-23 11:14:00': 2, '2018-10-24 13:50:00': 2, '2016-08-30 18:59:00': 3, '2017-03-02 13:43:00': 2, '2017-01-28 17:31:00': 2, '2018-10-16 18:51:00': 3, '2017-02-23 13:42:00': 3, '2017-01-08 09:00:00': 2, '2018-01-16 16:11:00': 2, '2018-12-17 11:45:00': 2, '2018-02-16 15:46:00': 2, '2016-11-13 00:00:00': 3, '2018-02-07 16:18:00': 2, '2019-04-17 18:14:00': 2, '2017-01-12 18:25:00': 2, '2018-09-08 00:00:00': 2, '2019-01-19 19:37:00': 2, '2017-10-09 14:03:00': 2, '2019-01-29 12:41:00': 3, '2017-03-10 17:09:00': 2, '2017-05-31 11:57:00': 2, '2018-02-11 14:50:00': 2, '2018-05-24 00:00:00': 5, '2018-10-10 15:27:00': 3, '2018-05-10 00:00:00': 3, '2018-12-25 14:14:00': 2, '2017-11-29 09:00:00': 2, '2017-01-30 15:59:00': 2, '2018-10-23 00:00:00': 2, '2017-01-30 09:00:00': 6, '2017-11-19 17:05:00': 3, '2016-10-21 09:51:00': 2, '2016-09-05 12:20:00': 3, '2016-10-04 16:39:00': 2, '2018-01-28 18:40:00': 2, '2018-09-19 12:52:00': 2, '2017-09-24 09:00:00': 2, '2018-09-30 18:44:00': 2, '2016-12-02 16:12:00': 2, '2019-01-07 00:00:00': 3, '2017-05-11 00:00:00': 3, '2019-01-07 13:57:00': 2, '2018-11-28 13:05:00': 2, '2017-12-06 00:00:00': 2, '2018-03-22 00:00:00': 5, '2018-08-24 16:58:00': 2, '2017-04-14 00:00:00': 3, '2017-10-08 00:00:00': 4, '2018-01-06 14:54:00': 3, '2017-04-07 14:36:00': 2, '2016-09-17 17:23:00': 2, '2016-09-27 12:45:00': 3, '2017-08-26 15:52:00': 3, '2016-09-25 09:00:00': 2, '2018-04-16 22:45:00': 2, '2017-01-08 19:01:00': 2, '2017-11-27 00:00:00': 9, '2019-01-19 13:09:00': 2, '2018-11-07 14:56:00': 2, '2018-09-27 08:47:00': 2, '2018-10-21 19:05:00': 2, '2016-10-04 12:23:00': 2, '2018-08-07 13:38:00': 2, '2019-01-30 00:00:00': 4, '2018-09-09 00:00:00': 3, '2017-04-12 12:09:00': 2, '2018-03-10 18:59:00': 2, '2016-09-05 11:53:00': 2, '2017-03-05 00:00:00': 4, '2017-08-09 19:14:00': 2, '2016-09-01 14:18:00': 2, '2017-06-21 15:33:00': 2, '2016-12-29 13:01:00': 2, '2017-08-02 15:23:00': 2, '2019-02-20 13:25:00': 3, '2019-01-23 19:11:00': 2, '2016-12-13 08:32:00': 2, '2019-03-18 13:31:00': 2, '2016-09-05 16:56:00': 2, '2019-01-14 14:02:00': 2, '2017-07-03 17:35:00': 2, '2017-09-01 11:36:00': 2, '2018-02-25 09:00:00': 2, '2018-02-02 00:00:00': 4, '2018-09-19 12:53:00': 3, '2018-11-14 09:53:00': 2, '2016-07-25 12:57:00': 2, '2016-10-09 13:55:00': 2, '2016-11-19 11:46:00': 2, '2018-04-16 09:12:00': 2, '2018-02-04 09:00:00': 2, '2018-02-02 12:34:00': 2, '2019-02-09 14:57:00': 2, '2017-10-10 13:25:00': 2, '2018-01-05 00:00:00': 6, '2017-01-16 09:00:00': 3, '2019-04-20 10:53:00': 3, '2018-05-04 09:00:00': 2, '2016-07-29 09:00:00': 2, '2016-09-27 12:27:00': 2, '2018-01-03 09:00:00': 2, '2019-05-03 13:05:00': 2, '2016-08-06 17:18:00': 2, '2018-08-06 13:18:00': 4, '2017-01-11 11:49:00': 3, '2017-01-05 09:32:00': 2, '2017-01-13 15:35:00': 2, '2017-09-15 17:53:00': 2, '2017-03-03 17:55:00': 2, '2016-12-16 09:00:00': 3, '2016-11-22 14:19:00': 2, '2018-06-20 16:22:00': 2, '2019-02-05 00:00:00': 3, '2019-04-03 11:24:00': 2, '2017-07-02 17:53:00': 2, '2018-09-28 17:33:00': 2, '2018-08-24 17:08:00': 2, '2019-04-08 17:49:00': 2, '2019-04-06 15:40:00': 2, '2018-12-31 14:53:00': 2, '2018-03-20 19:05:00': 2, '2018-07-19 16:40:00': 2, '2017-04-27 18:01:00': 2, '2018-11-18 16:49:00': 2, '2018-09-19 17:41:00': 2, '2017-08-29 19:15:00': 2, '2017-02-23 11:54:00': 2, '2017-04-05 12:34:00': 2, '2018-10-19 14:56:00': 2, '2018-09-30 00:00:00': 2, '2018-09-12 15:34:00': 2, '2017-06-12 12:16:00': 2, '2017-10-09 17:26:00': 2, '2016-08-27 15:06:00': 2, '2017-05-13 09:42:00': 2, '2017-04-08 13:11:00': 2, '2018-11-01 12:20:00': 2, '2017-02-21 00:00:00': 4, '2016-09-17 12:36:00': 2, '2017-01-13 09:00:00': 3, '2016-11-23 18:14:00': 2, '2018-04-22 00:00:00': 3, '2016-11-05 14:40:00': 4, '2017-03-07 16:49:00': 2, '2018-12-16 14:00:00': 3, '2018-08-13 00:00:00': 2, '2016-11-13 11:33:00': 2, '2018-06-29 09:00:00': 2, '2018-11-25 11:00:00': 2, '2016-07-29 17:52:00': 2, '2017-09-21 17:17:00': 2, '2018-01-23 09:00:00': 4, '2018-10-07 17:39:00': 3, '2017-09-06 16:48:00': 2, '2018-06-24 09:00:00': 2, '2017-10-16 00:00:00': 2, '2016-11-21 00:00:00': 7, '2016-12-31 15:55:00': 4, '2016-11-05 09:00:00': 3, '2018-10-11 17:26:00': 3, '2019-01-12 12:06:00': 2, '2018-09-26 07:44:00': 2, '2018-11-18 16:03:00': 2, '2016-10-04 12:39:00': 2, '2018-02-14 15:37:00': 3, '2018-05-10 09:00:00': 2, '2019-04-30 13:22:00': 2, '2018-05-10 17:20:00': 2, '2017-06-18 18:15:00': 2, '2017-01-22 17:27:00': 2, '2017-08-25 12:14:00': 3, '2019-04-18 17:50:00': 3, '2017-08-15 19:00:00': 3, '2017-05-02 11:31:00': 2, '2019-01-13 15:03:00': 2, '2016-08-20 19:32:00': 2, '2017-09-06 15:11:00': 2, '2016-12-15 14:41:00': 2, '2018-03-30 00:00:00': 2, '2018-01-21 13:10:00': 2, '2017-11-27 15:00:00': 3, '2019-04-08 16:49:00': 2, '2017-11-16 17:31:00': 2, '2018-07-20 13:17:00': 2, '2017-04-15 18:49:00': 2, '2018-03-19 12:37:00': 2, '2017-10-06 09:00:00': 3, '2017-09-28 16:49:00': 2, '2019-04-10 16:11:00': 2, '2018-02-24 12:03:00': 2, '2017-12-19 14:01:00': 3, '2016-07-18 13:14:00': 2, '2019-04-11 15:00:00': 3, '2016-11-09 18:19:00': 2, '2017-02-21 13:47:00': 2, '2018-09-22 00:00:00': 2, '2017-06-11 17:30:00': 2, '2018-10-04 18:24:00': 2, '2017-04-28 18:45:00': 2, '2017-01-07 16:25:00': 2, '2018-01-13 16:22:00': 2, '2018-01-12 09:00:00': 2, '2017-09-01 13:57:00': 2, '2016-10-31 14:51:00': 2, '2017-01-19 15:26:00': 3, '2019-02-22 17:37:00': 2, '2018-03-19 09:00:00': 2, '2017-11-17 09:00:00': 2, '2016-12-06 00:00:00': 2, '2017-06-13 16:41:00': 2, '2019-05-10 09:13:00': 2, '2019-04-05 11:37:00': 2, '2017-10-11 18:44:00': 2, '2019-01-23 19:09:00': 2, '2019-05-10 18:07:00': 2, '2019-05-01 17:14:00': 2, '2016-08-06 09:00:00': 2, '2017-08-03 14:33:00': 2, '2016-08-23 09:00:00': 3, '2016-11-04 09:00:00': 2, '2019-03-18 16:25:00': 2, '2016-12-13 14:24:00': 3, '2017-08-22 19:15:00': 2, '2016-12-15 14:40:00': 2, '2016-09-23 09:00:00': 2, '2018-05-20 17:28:00': 2, '2018-01-09 13:02:00': 2, '2018-02-17 09:00:00': 2, '2019-05-10 12:12:00': 2, '2018-01-02 17:07:00': 3, '2017-02-15 13:56:00': 3, '2017-06-19 10:58:00': 5, '2018-11-08 17:56:00': 2, '2017-01-19 15:25:00': 2, '2018-10-16 18:41:00': 2, '2018-05-24 09:17:00': 2, '2017-08-27 19:06:00': 2, '2017-02-07 00:00:00': 2, '2017-07-01 14:13:00': 3, '2018-08-24 16:59:00': 2, '2018-06-06 12:29:00': 2, '2017-06-24 13:36:00': 2, '2018-02-04 15:21:00': 2, '2018-03-27 18:11:00': 2, '2017-09-12 17:57:00': 2, '2016-08-21 18:54:00': 2, '2016-08-30 14:09:00': 2, '2019-05-01 16:18:00': 2, '2017-11-14 09:00:00': 2, '2017-03-17 00:00:00': 4, '2017-03-05 18:46:00': 2, '2017-08-11 00:00:00': 2, '2019-01-13 14:12:00': 2, '2017-10-29 14:09:00': 3, '2018-07-08 00:00:00': 7, '2016-11-09 09:00:00': 3, '2018-04-01 17:49:00': 2, '2018-06-29 09:35:00': 2, '2018-03-08 14:26:00': 2, '2018-12-23 19:15:00': 2, '2019-03-30 13:16:00': 2, '2018-08-26 00:00:00': 3, '2017-07-28 00:00:00': 17, '2018-11-29 10:51:00': 2, '2016-09-17 19:18:00': 2, '2018-03-20 09:00:00': 2, '2016-10-30 18:42:00': 2, '2017-10-24 09:00:00': 3, '2018-04-11 14:58:00': 2, '2017-03-07 07:42:00': 2, '2019-01-15 00:00:00': 2, '2019-03-10 12:07:00': 2, '2017-04-26 15:07:00': 2, '2019-02-22 12:53:00': 2, '2018-08-19 18:27:00': 2, '2017-10-04 00:00:00': 2, '2017-11-04 09:00:00': 2, '2017-04-29 12:19:00': 2, '2017-04-10 13:32:00': 2, '2017-08-28 19:17:00': 2, '2016-11-20 09:00:00': 2, '2017-11-24 16:42:00': 2, '2018-05-30 00:00:00': 3, '2016-12-10 16:25:00': 2, '2018-06-27 13:34:00': 2, '2016-12-22 17:46:00': 2, '2019-01-22 06:19:00': 2, '2018-12-08 17:21:00': 2, '2016-10-24 15:50:00': 2, '2017-04-15 00:00:00': 3, '2018-10-03 11:13:00': 2, '2017-09-28 13:36:00': 2, '2019-04-10 17:19:00': 2, '2016-12-22 14:28:00': 2, '2018-10-26 19:19:00': 3, '2018-06-02 13:11:00': 2, '2017-10-25 09:00:00': 2, '2016-11-07 11:40:00': 2, '2016-12-27 09:00:00': 2, '2017-11-23 12:27:00': 3, '2017-11-11 17:34:00': 2, '2018-08-14 00:00:00': 3, '2017-04-21 17:52:00': 2, '2018-01-30 15:31:00': 2, '2016-11-17 12:38:00': 2, '2017-12-22 16:39:00': 3, '2017-08-19 00:00:00': 5, '2017-12-15 18:36:00': 2, '2017-08-14 14:46:00': 2, '2016-09-05 17:17:00': 2, '2017-04-20 00:00:00': 2, '2017-09-14 19:19:00': 2, '2018-03-21 00:00:00': 3, '2017-03-28 15:18:00': 2, '2017-06-20 15:35:00': 2, '2017-12-15 16:54:00': 2, '2017-09-05 15:21:00': 2, '2018-03-20 12:42:00': 2, '2019-03-11 15:45:00': 2, '2016-10-25 09:00:00': 2, '2016-12-01 16:59:00': 2, '2019-04-30 17:37:00': 2, '2018-04-19 00:00:00': 2, '2017-08-03 00:00:00': 3, '2016-10-08 09:00:00': 3, '2017-02-11 16:49:00': 2, '2018-11-05 18:20:00': 2, '2016-10-10 12:13:00': 3, '2017-01-26 00:00:00': 2, '2017-03-30 00:00:00': 3, '2018-03-14 09:00:00': 2, '2018-03-10 00:00:00': 4, '2019-01-25 12:46:00': 2, '2017-09-07 16:28:00': 2, '2018-01-11 17:25:00': 2, '2017-05-21 17:45:00': 2, '2018-08-20 11:23:00': 2, '2019-01-12 16:25:00': 2, '2018-04-12 18:26:00': 2, '2018-10-11 17:03:00': 2, '2018-10-07 14:04:00': 2, '2018-10-13 15:05:00': 5, '2018-08-31 18:28:00': 3, '2016-11-11 00:00:00': 2, '2019-04-20 10:52:00': 3, '2018-08-15 00:00:00': 2, '2018-09-14 14:54:00': 2, '2019-02-28 19:09:00': 2, '2019-04-16 11:41:00': 2, '2018-12-14 17:42:00': 2, '2016-11-14 09:00:00': 2, '2018-09-29 14:02:00': 2, '2017-03-22 17:54:00': 2, '2018-08-21 12:00:00': 2, '2019-01-29 00:00:00': 2, '2018-07-19 16:41:00': 3, '2017-06-01 15:58:00': 4, '2016-09-27 09:00:00': 2, '2018-05-09 18:42:00': 2, '2019-05-10 18:06:00': 2, '2017-02-05 12:28:00': 2, '2018-10-09 08:55:00': 2, '2017-04-14 13:05:00': 2, '2017-12-14 17:48:00': 2, '2017-11-25 16:26:00': 2, '2016-12-10 18:05:00': 2, '2017-09-05 19:12:00': 2, '2019-04-11 10:19:00': 2, '2017-02-18 00:00:00': 3, '2017-07-22 19:35:00': 2, '2016-08-30 09:00:00': 2, '2016-12-22 16:48:00': 2, '2018-02-08 14:05:00': 2, '2018-11-21 14:13:00': 2, '2017-10-04 15:24:00': 3, '2018-08-24 16:55:00': 2, '2017-07-14 17:57:00': 2, '2019-04-16 12:42:00': 2, '2018-11-12 14:47:00': 2, '2019-04-27 11:40:00': 2, '2018-03-29 09:00:00': 2, '2019-04-12 17:29:00': 2, '2018-03-28 11:17:00': 2, '2017-04-27 19:00:00': 2, '2016-09-05 17:15:00': 2, '2016-08-05 18:59:00': 2, '2019-02-11 10:55:00': 2, '2018-05-16 13:45:00': 2, '2018-07-28 14:40:00': 2, '2018-01-13 13:00:00': 2, '2017-12-23 18:47:00': 2, '2018-09-03 09:53:00': 2, '2017-08-16 12:36:00': 2, '2018-12-02 15:07:00': 2, '2017-09-11 19:05:00': 2, '2019-05-08 10:56:00': 3, '2017-11-09 13:48:00': 2, '2018-01-31 13:57:00': 2, '2019-01-28 18:31:00': 2, '2019-05-02 17:06:00': 2, '2016-09-10 18:06:00': 2, '2019-01-09 18:46:00': 2, '2016-12-27 09:28:00': 2, '2018-01-27 13:53:00': 2, '2016-07-26 15:07:00': 2, '2018-05-26 00:00:00': 2, '2017-12-15 16:53:00': 2, '2016-09-06 14:19:00': 2, '2017-05-10 16:17:00': 2, '2018-01-01 15:59:00': 3, '2018-03-30 09:00:00': 2, '2018-09-05 16:46:00': 2, '2016-12-15 14:05:00': 2, '2017-02-15 13:54:00': 2, '2017-03-03 13:01:00': 2, '2019-04-16 16:35:00': 2, '2018-07-25 17:36:00': 2, '2019-03-19 19:17:00': 2, '2016-10-29 09:00:00': 3, '2017-05-10 00:00:00': 2, '2017-03-09 17:08:00': 2, '2018-01-28 11:19:00': 2, '2018-10-21 18:03:00': 2, '2017-09-22 00:00:00': 2, '2017-10-19 20:34:00': 2, '2019-01-26 15:28:00': 2, '2017-03-29 15:47:00': 2, '2016-09-04 14:13:00': 2, '2017-09-04 10:32:00': 2, '2017-03-07 16:51:00': 2, '2016-11-24 09:00:00': 2, '2018-11-25 15:24:00': 2, '2017-10-06 13:39:00': 2, '2017-05-23 13:05:00': 2, '2019-04-29 00:00:00': 2, '2017-09-13 17:40:00': 2, '2017-10-17 18:00:00': 2, '2017-10-07 00:00:00': 4, '2018-09-09 09:52:00': 2, '2016-12-07 12:38:00': 3, '2018-01-15 15:08:00': 3, '2018-06-25 00:00:00': 2, '2016-11-11 14:51:00': 2, '2017-09-29 12:45:00': 2, '2019-05-10 17:34:00': 2, '2017-05-03 16:01:00': 2, '2017-10-11 00:00:00': 3, '2017-01-21 14:08:00': 2, '2017-02-06 09:00:00': 2, '2017-07-26 00:00:00': 2, '2017-10-18 09:00:00': 4, '2018-04-26 11:53:00': 2, '2019-04-06 07:13:00': 2, '2017-08-21 13:53:00': 2, '2016-10-17 09:00:00': 2, '2018-08-29 10:17:00': 2, '2019-01-13 14:11:00': 2, '2019-02-15 17:05:00': 2, '2019-01-27 00:00:00': 11, '2018-12-24 18:25:00': 2, '2016-11-12 09:00:00': 5, '2017-01-06 15:11:00': 2, '2017-12-10 09:00:00': 3, '2018-09-12 13:20:00': 2, '2019-05-08 17:48:00': 2, '2018-06-05 17:35:00': 2, '2017-06-22 18:11:00': 2, '2019-02-15 13:47:00': 2, '2016-10-14 11:07:00': 2, '2019-01-26 12:46:00': 2, '2017-02-21 11:36:00': 2, '2017-08-31 15:39:00': 2, '2019-05-08 18:59:00': 2, '2017-01-18 16:26:00': 2, '2017-08-31 11:22:00': 2, '2018-05-12 12:14:00': 2, '2018-04-19 19:03:00': 2, '2017-04-27 18:57:00': 2, '2018-10-30 13:59:00': 2, '2019-03-09 18:56:00': 2, '2018-01-21 22:39:00': 2, '2017-08-14 17:31:00': 2, '2018-11-21 13:41:00': 2, '2017-01-18 13:47:00': 2, '2017-06-12 00:00:00': 2, '2018-10-11 17:12:00': 2, '2018-06-29 15:55:00': 2, '2019-01-16 14:22:00': 2, '2016-12-03 19:43:00': 2, '2018-03-03 09:00:00': 2, '2018-02-03 00:00:00': 2, '2017-09-15 17:23:00': 2, '2018-01-16 17:07:00': 2, '2018-04-03 16:53:00': 2, '2017-10-16 17:41:00': 2, '2017-01-16 17:38:00': 3, '2018-05-27 17:01:00': 2, '2018-05-09 17:59:00': 2, '2016-11-05 14:38:00': 2, '2018-01-08 14:30:00': 2, '2018-09-02 14:09:00': 2, '2017-11-24 00:00:00': 6, '2018-06-07 12:26:00': 2, '2019-04-10 14:02:00': 2, '2019-03-23 15:37:00': 2, '2017-09-01 15:29:00': 2, '2018-09-21 18:56:00': 2, '2018-08-19 19:31:00': 2, '2017-09-01 18:18:00': 2, '2016-07-30 18:00:00': 2, '2019-02-22 18:09:00': 2, '2018-10-15 14:37:00': 2, '2019-04-07 16:38:00': 3, '2018-03-23 18:45:00': 2, '2017-08-01 16:16:00': 2, '2019-05-07 18:39:00': 2, '2017-09-25 15:20:00': 2, '2019-05-06 14:15:00': 2, '2017-08-15 13:17:00': 2, '2019-04-15 17:33:00': 2, '2016-07-18 13:15:00': 2, '2017-10-08 11:33:00': 2, '2019-01-05 11:21:00': 2, '2019-03-30 17:05:00': 2, '2017-12-16 00:00:00': 4, '2017-01-30 17:12:00': 2, '2019-02-19 14:47:00': 2, '2016-09-16 12:56:00': 2, '2018-02-07 15:32:00': 3, '2019-03-31 13:26:00': 2, '2019-04-27 16:51:00': 3, '2016-08-04 09:00:00': 3, '2018-01-26 17:35:00': 2, '2018-09-19 00:00:00': 2, '2019-05-02 15:59:00': 2, '2016-09-10 13:46:00': 2, '2018-01-17 12:56:00': 2, '2017-10-14 16:11:00': 2, '2017-11-12 15:41:00': 2, '2017-05-27 00:00:00': 3, '2016-08-20 16:08:00': 2, '2018-08-13 09:02:00': 2, '2017-11-03 09:00:00': 3, '2018-11-27 00:00:00': 4, '2017-06-13 00:00:00': 2, '2016-10-11 09:00:00': 2, '2016-07-25 09:00:00': 2, '2017-12-31 14:17:00': 2, '2018-08-20 00:00:00': 6, '2017-02-24 15:18:00': 2, '2019-05-07 12:25:00': 2, '2016-12-28 13:25:00': 2, '2016-12-24 13:43:00': 3, '2016-11-16 09:00:00': 2, '2018-06-07 16:23:00': 2, '2018-05-21 15:18:00': 2, '2017-08-31 15:54:00': 2, '2018-09-05 18:58:00': 2, '2017-10-10 18:48:00': 2, '2017-09-24 12:03:00': 2, '2017-09-27 09:06:00': 2, '2019-05-11 17:51:00': 2, '2018-03-10 18:09:00': 2, '2019-02-03 15:03:00': 2, '2016-08-30 13:28:00': 2, '2019-05-09 17:26:00': 2, '2018-10-24 12:27:00': 3, '2017-08-12 13:30:00': 2, '2018-10-04 18:23:00': 2, '2017-05-18 13:54:00': 2, '2019-04-09 16:47:00': 2, '2018-12-29 18:37:00': 2, '2017-09-13 12:08:00': 3, '2017-03-09 12:31:00': 2, '2018-09-05 00:00:00': 4, '2018-12-16 12:22:00': 3, '2016-08-09 14:44:00': 2, '2018-08-04 15:34:00': 3, '2018-10-15 19:01:00': 2, '2018-11-04 14:25:00': 2, '2018-09-04 15:34:00': 2, '2018-12-11 18:24:00': 2, '2017-04-06 16:52:00': 2, '2017-11-21 11:34:00': 2, '2017-02-10 13:47:00': 2, '2016-12-26 11:06:00': 2, '2018-08-29 15:36:00': 2, '2018-07-30 12:42:00': 2, '2017-03-10 14:52:00': 2, '2019-02-20 19:13:00': 4, '2017-02-11 13:43:00': 2, '2019-04-25 00:00:00': 2, '2018-04-07 16:56:00': 2, '2017-11-29 14:30:00': 2, '2017-03-07 20:20:00': 2, '2018-01-30 15:33:00': 3, '2019-05-09 17:27:00': 2, '2017-06-03 18:24:00': 2, '2019-02-27 19:22:00': 2, '2017-09-09 13:16:00': 2, '2017-10-31 15:09:00': 2, '2018-09-06 00:00:00': 2, '2016-10-28 13:04:00': 2, '2017-09-23 19:29:00': 2, '2018-02-17 00:00:00': 2, '2017-10-09 15:23:00': 2, '2018-11-08 13:17:00': 2, '2017-01-21 14:07:00': 2, '2017-07-25 00:01:00': 2, '2017-02-06 14:54:00': 2, '2017-06-18 13:49:00': 2, '2016-10-13 13:59:00': 2, '2018-08-18 18:01:00': 2, '2018-12-07 14:00:00': 2, '2018-10-27 00:00:00': 3, '2017-08-24 00:00:00': 2, '2016-09-29 13:45:00': 3, '2017-01-05 09:00:00': 3, '2017-10-08 11:34:00': 3, '2016-12-15 09:00:00': 3, '2016-12-30 09:00:00': 4, '2016-12-14 09:00:00': 3, '2018-10-20 18:20:00': 2, '2017-09-01 17:50:00': 3, '2016-09-05 00:00:00': 5, '2018-09-18 18:58:00': 2, '2018-03-07 14:11:00': 2, '2016-07-23 12:12:00': 2, '2018-04-19 17:56:00': 2, '2018-07-28 11:55:00': 2, '2019-01-22 18:36:00': 2, '2017-02-08 11:58:00': 2, '2017-06-19 17:35:00': 2, '2018-11-18 16:28:00': 2, '2017-11-23 16:44:00': 3, '2016-11-28 09:00:00': 2, '2017-11-08 14:31:00': 2, '2018-10-29 13:20:00': 2, '2018-05-26 09:00:00': 2, '2018-10-14 10:58:00': 2, '2018-12-20 00:00:00': 2, '2016-11-04 11:31:00': 2, '2017-12-31 14:16:00': 2, '2018-01-19 09:00:00': 2, '2017-08-19 16:29:00': 2, '2018-01-31 17:25:00': 2, '2018-10-12 12:28:00': 2, '2018-05-19 17:19:00': 2, '2018-05-01 11:53:00': 2, '2017-07-15 15:19:00': 2, '2018-01-05 14:11:00': 2, '2018-06-20 14:49:00': 2, '2017-12-28 13:37:00': 2, '2017-09-05 19:05:00': 2, '2018-07-10 14:09:00': 2, '2018-10-15 14:58:00': 2, '2019-02-14 10:30:00': 2, '2018-12-03 00:00:00': 2, '2019-03-20 12:40:00': 2, '2018-02-08 09:00:00': 2, '2018-09-10 00:00:00': 3, '2019-04-05 17:15:00': 2, '2016-10-25 16:13:00': 2, '2018-12-09 00:00:00': 2, '2017-11-17 18:22:00': 2, '2018-11-17 17:08:00': 2, '2015-08-24 08:00:00': 2, '2016-09-30 00:00:00': 6, '2016-11-28 12:35:00': 2, '2017-01-11 12:09:00': 2, '2018-08-28 16:01:00': 2, '2018-10-07 00:00:00': 2, '2017-03-15 17:56:00': 2, '2016-08-03 15:34:00': 2, '2016-11-22 19:40:00': 2, '2017-04-26 00:00:00': 2, '2016-09-26 09:00:00': 3, '2016-12-02 11:39:00': 2, '2018-10-21 11:49:00': 2, '2018-08-27 14:22:00': 2, '2018-06-05 09:00:00': 2, '2016-11-21 14:36:00': 2, '2016-11-25 18:06:00': 2, '2017-01-08 14:42:00': 3, '2019-05-04 00:00:00': 7, '2017-01-23 13:49:00': 2, '2018-02-01 18:48:00': 2, '2018-01-12 13:01:00': 2, '2018-03-20 13:58:00': 2, '2016-12-21 12:59:00': 2, '2017-12-13 10:38:00': 2, '2018-06-24 16:52:00': 2, '2018-08-16 19:00:00': 2, '2016-11-30 17:13:00': 2, '2018-06-21 11:23:00': 2, '2017-12-12 09:00:00': 3, '2019-04-24 17:34:00': 3, '2017-07-27 00:00:00': 2, '2019-01-12 14:57:00': 2, '2016-08-11 11:30:00': 2, '2017-11-26 16:39:00': 2, '2016-12-27 12:23:00': 2, '2018-10-20 00:00:00': 4, '2018-06-05 18:43:00': 3, '2018-05-16 00:00:00': 2, '2018-05-11 10:14:00': 2, '2016-10-14 10:30:00': 2, '2017-02-27 00:00:00': 5, '2018-02-02 09:00:00': 2, '2016-10-10 18:32:00': 2, '2017-04-27 12:23:00': 2, '2018-10-11 16:49:00': 2, '2017-12-01 09:00:00': 2, '2018-08-25 00:00:00': 3, '2018-10-16 11:13:00': 2, '2018-03-04 12:11:00': 2, '2018-09-17 00:00:00': 2, '2018-11-21 14:12:00': 2, '2019-04-05 00:00:00': 4, '2018-06-06 09:00:00': 2, '2016-10-07 17:21:00': 2, '2018-06-07 09:00:00': 5, '2017-08-14 18:23:00': 2, '2018-05-06 15:49:00': 2, '2019-04-08 00:00:00': 2, '2019-02-06 19:44:00': 2, '2018-02-10 00:00:00': 5, '2017-09-01 14:48:00': 2, '2018-10-07 16:37:00': 2, '2018-01-23 00:00:00': 3, '2018-09-05 09:54:00': 2, '2016-09-01 14:17:00': 2, '2016-09-30 12:28:00': 2, '2016-12-06 09:00:00': 2, '2017-05-10 13:55:00': 2, '2018-04-13 00:00:00': 2, '2016-08-22 12:02:00': 2, '2017-12-20 13:59:00': 2, '2017-12-10 14:41:00': 2, '2017-03-10 17:27:00': 2, '2017-11-23 16:14:00': 2, '2019-04-06 17:46:00': 2, '2018-04-24 13:53:00': 2, '2018-11-24 16:11:00': 2, '2016-10-28 18:28:00': 2, '2016-09-03 13:43:00': 2, '2016-10-27 14:18:00': 2, '2018-02-02 17:30:00': 2, '2017-12-13 14:33:00': 3, '2017-10-19 18:58:00': 2, '2017-07-16 00:00:00': 5, '2016-08-01 17:04:00': 2, '2018-10-21 11:47:00': 2, '2017-05-25 17:54:00': 2, '2018-04-25 13:15:00': 2, '2018-08-20 09:41:00': 2, '2016-09-14 18:15:00': 2, '2016-08-22 17:41:00': 2, '2019-02-24 10:56:00': 2, '2018-07-20 09:00:00': 2, '2016-09-05 14:26:00': 3, '2017-03-02 15:31:00': 2, '2018-10-14 16:18:00': 2, '2018-05-06 13:09:00': 2, '2017-08-04 17:28:00': 2, '2019-01-08 16:05:00': 2, '2017-07-17 00:00:00': 2, '2017-08-07 13:32:00': 2, '2016-10-10 12:14:00': 2, '2018-08-02 17:48:00': 2, '2017-04-21 13:28:00': 2, '2016-11-09 18:46:00': 2, '2016-11-11 16:28:00': 2, '2017-11-19 18:09:00': 2, '2018-12-28 00:00:00': 2, '2017-08-26 14:13:00': 2, '2018-09-05 18:57:00': 2, '2019-01-08 14:21:00': 2, '2018-08-27 18:47:00': 2, '2018-07-24 18:46:00': 2, '2017-09-18 18:43:00': 2, '2019-03-26 13:42:00': 2, '2017-08-25 00:00:00': 4, '2016-10-06 09:42:00': 2, '2017-09-17 13:52:00': 3, '2017-09-16 00:00:00': 3, '2018-05-04 17:33:00': 2, '2018-05-17 09:00:00': 2, '2017-02-23 15:26:00': 3, '2019-04-24 17:33:00': 4, '2017-02-20 09:00:00': 2, '2016-12-25 17:05:00': 2, '2018-09-11 00:00:00': 3, '2018-04-16 09:00:00': 2, '2019-01-13 13:42:00': 2, '2018-06-03 17:01:00': 2, '2016-10-16 09:00:00': 2, '2018-11-11 15:09:00': 2, '2016-11-17 12:39:00': 2, '2017-05-23 12:46:00': 2, '2016-07-18 15:41:00': 2, '2019-01-11 17:37:00': 2, '2018-10-16 18:53:00': 2, '2018-11-04 12:04:00': 2, '2017-08-31 14:40:00': 2, '2017-12-24 09:00:00': 2, '2018-08-07 14:30:00': 2, '2019-01-07 16:55:00': 2, '2016-10-18 17:57:00': 2, '2016-12-07 09:00:00': 3, '2018-02-22 19:05:00': 2, '2017-01-18 14:37:00': 2, '2017-05-08 12:18:00': 2, '2019-04-05 13:11:00': 2, '2016-12-10 16:26:00': 2, '2016-10-28 14:44:00': 2, '2018-01-30 13:54:00': 2, '2018-11-13 14:15:00': 3, '2016-09-09 19:17:00': 2, '2017-12-06 15:00:00': 2, '2016-09-13 17:03:00': 2, '2017-05-17 00:00:00': 3, '2018-04-15 19:25:00': 2, '2017-05-06 13:14:00': 3, '2016-11-01 14:29:00': 2, '2016-10-20 09:00:00': 2, '2016-08-13 12:36:00': 2, '2017-01-13 17:37:00': 2, '2017-11-02 12:58:00': 2, '2018-11-17 13:54:00': 2, '2018-10-05 17:23:00': 2, '2017-06-30 19:38:00': 2, '2017-01-02 17:20:00': 2, '2018-06-23 16:21:00': 2, '2016-09-04 14:33:00': 2, '2017-12-17 09:00:00': 2, '2017-02-05 09:00:00': 3, '2018-02-20 00:00:00': 2, '2018-04-09 09:00:00': 3, '2016-10-31 14:09:00': 2, '2019-04-24 14:14:00': 2, '2018-04-25 15:54:00': 2, '2016-09-11 11:42:00': 2, '2016-11-25 15:23:00': 2, '2016-08-22 18:54:00': 2, '2018-07-04 12:03:00': 2, '2016-12-01 09:00:00': 3, '2017-03-10 00:00:00': 5, '2019-03-20 18:24:00': 2, '2017-12-18 11:42:00': 3, '2019-01-14 17:45:00': 2, '2018-07-08 18:15:00': 3, '2018-08-24 16:56:00': 2, '2016-12-10 09:00:00': 2, '2017-04-16 12:44:00': 3, '2018-11-08 17:23:00': 2, '2019-01-15 10:12:00': 2, '2018-08-26 14:07:00': 2, '2018-06-11 18:37:00': 2, '2019-03-23 17:11:00': 2, '2017-02-22 16:09:00': 2, '2018-02-12 00:00:00': 4, '2017-11-24 19:02:00': 2, '2018-03-05 11:15:00': 2, '2017-10-14 13:05:00': 2, '2018-06-05 17:30:00': 2, '2018-02-11 14:49:00': 2, '2016-09-13 09:00:00': 2, '2016-08-06 13:33:00': 2, '2019-03-25 19:24:00': 2, '2017-01-17 14:23:00': 3, '2017-02-28 17:56:00': 4, '2016-12-21 00:00:00': 3, '2016-12-11 00:00:00': 3, '2017-08-13 10:56:00': 2, '2018-06-04 15:48:00': 2, '2017-01-31 12:02:00': 2, '2016-10-06 12:09:00': 2, '2017-09-18 12:18:00': 3, '2019-01-22 17:13:00': 2, '2016-11-18 15:56:00': 2, '2017-06-01 15:57:00': 2, '2017-08-04 18:02:00': 2, '2016-11-29 14:27:00': 2, '2017-12-20 17:23:00': 2, '2018-06-15 09:00:00': 2, '2017-12-10 00:00:00': 2, '2018-10-16 08:00:00': 2, '2017-11-11 19:12:00': 2, '2017-08-29 19:29:00': 2, '2016-12-19 15:22:00': 2, '2018-09-20 17:09:00': 2, '2017-03-10 17:24:00': 2, '2017-09-07 15:42:00': 2, '2018-01-04 09:00:00': 2, '2017-02-08 16:24:00': 2, '2019-04-14 21:51:00': 2, '2016-09-10 00:00:00': 4, '2019-01-01 15:30:00': 2, '2018-05-06 00:00:00': 2, '2016-10-03 13:39:00': 2, '2017-09-02 17:47:00': 3, '2016-07-22 11:47:00': 2, '2018-10-12 12:57:00': 2, '2016-12-16 13:42:00': 2, '2019-03-19 17:09:00': 2, '2016-10-07 12:05:00': 2, '2017-02-14 15:28:00': 2, '2018-12-17 15:16:00': 2, '2016-12-11 15:52:00': 3, '2019-01-16 12:24:00': 2, '2017-05-10 14:02:00': 2, '2017-10-19 19:18:00': 2, '2018-11-08 13:33:00': 2, '2017-02-03 13:32:00': 2, '2019-05-06 15:29:00': 2, '2018-07-09 00:00:00': 3, '2016-11-08 13:31:00': 2, '2016-12-04 18:56:00': 2, '2017-09-16 19:38:00': 2, '2017-09-30 00:00:00': 3, '2017-01-02 09:00:00': 2, '2016-08-27 16:02:00': 3, '2019-02-10 00:00:00': 4, '2018-11-18 09:50:00': 2, '2019-01-27 18:37:00': 2, '2017-11-20 18:43:00': 2, '2019-04-12 12:26:00': 2, '2017-04-13 09:37:00': 2, '2018-09-29 16:50:00': 2, '2018-10-24 17:58:00': 2, '2016-12-10 00:00:00': 2, '2017-01-25 17:11:00': 2, '2016-12-18 09:00:00': 2, '2018-01-01 00:00:00': 5, '2017-11-16 17:55:00': 2, '2018-10-28 15:44:00': 2, '2017-09-09 16:38:00': 2, '2017-03-10 14:03:00': 2, '2017-12-11 22:13:00': 2, '2017-02-12 17:35:00': 2, '2018-06-27 13:35:00': 2, '2018-11-01 17:24:00': 2, '2019-05-04 19:12:00': 2, '2018-04-26 00:00:00': 2, '2018-10-06 14:19:00': 2, '2018-10-14 10:57:00': 2, '2016-09-26 11:05:00': 2, '2017-09-08 00:00:00': 2, '2017-03-31 18:17:00': 2, '2016-12-09 09:00:00': 4, '2018-08-03 16:29:00': 2, '2019-04-12 13:47:00': 2, '2019-04-13 08:54:00': 2, '2017-05-17 18:11:00': 2, '2016-08-20 18:38:00': 2, '2018-07-15 12:59:00': 2, '2018-02-05 14:56:00': 3, '2017-04-13 18:38:00': 2, '2019-02-19 13:47:00': 2, '2016-12-31 15:54:00': 4, '2017-05-02 11:32:00': 2, '2017-11-21 15:49:00': 2, '2016-09-04 10:33:00': 2, '2016-07-24 09:00:00': 2, '2017-04-12 14:18:00': 2, '2017-11-12 09:00:00': 2, '2017-10-20 09:00:00': 2, '2019-03-08 16:35:00': 2, '2019-02-06 19:45:00': 2, '2017-08-31 19:13:00': 2, '2017-01-17 09:00:00': 3, '2018-12-01 13:31:00': 2, '2018-06-23 00:00:00': 2, '2019-03-08 14:58:00': 2, '2016-10-29 14:44:00': 2, '2018-03-10 19:12:00': 2, '2017-01-15 09:00:00': 4, '2016-08-27 19:06:00': 2, '2018-11-18 11:40:00': 2, '2016-12-29 15:30:00': 4, '2019-01-18 18:20:00': 2, '2019-02-28 00:00:00': 2, '2018-11-17 12:54:00': 2, '2017-02-11 00:00:00': 3, '2019-03-06 00:00:00': 2, '2018-12-01 17:41:00': 2, '2017-03-10 14:57:00': 2, '2018-09-12 13:21:00': 2, '2019-01-25 15:29:00': 2, '2017-10-15 00:00:00': 2, '2017-09-11 14:46:00': 2, '2018-01-15 12:27:00': 2, '2019-04-03 11:23:00': 3, '2018-08-29 16:53:00': 2, '2017-01-21 09:00:00': 2, '2019-04-06 13:45:00': 2, '2017-02-13 09:00:00': 2, '2017-01-22 09:00:00': 2, '2016-09-04 09:00:00': 2, '2019-04-07 14:00:00': 2, '2019-01-14 17:47:00': 2, '2018-11-27 17:52:00': 2, '2017-06-01 15:56:00': 2, '2019-04-17 18:51:00': 2, '2017-06-18 18:22:00': 2, '2017-04-19 11:23:00': 2, '2018-12-15 00:00:00': 4, '2019-04-07 18:30:00': 2, '2017-06-18 00:00:00': 2, '2017-11-18 09:00:00': 3, '2019-01-22 06:20:00': 4, '2018-03-08 16:50:00': 2, '2017-08-09 17:51:00': 2, '2019-01-06 17:49:00': 2, '2019-02-19 14:45:00': 3, '2017-05-13 00:00:00': 2, '2019-01-30 12:21:00': 2, '2018-12-30 17:45:00': 2, '2018-09-21 13:25:00': 2, '2017-10-24 15:14:00': 2, '2017-05-26 00:00:00': 5, '2019-02-05 15:19:00': 2, '2018-08-13 18:44:00': 2, '2018-10-07 15:07:00': 3, '2018-04-06 15:45:00': 3, '2018-05-23 00:00:00': 5, '2018-07-04 16:00:00': 3, '2018-03-04 00:00:00': 4, '2016-08-20 17:20:00': 2, '2017-12-28 09:00:00': 2, '2018-12-12 17:13:00': 2, '2016-12-20 12:42:00': 2, '2019-02-08 18:15:00': 2, '2018-11-14 17:58:00': 2, '2017-03-26 13:00:00': 2, '2017-08-14 00:00:00': 2, '2016-08-09 14:43:00': 2, '2019-04-25 14:03:00': 2, '2016-11-27 09:00:00': 2, '2017-01-12 09:00:00': 2, '2019-03-25 08:10:00': 2, '2017-06-20 15:15:00': 4, '2018-05-04 11:04:00': 2, '2016-11-23 14:44:00': 2, '2018-02-09 09:00:00': 2, '2017-11-23 16:15:00': 2, '2016-12-11 13:47:00': 2, '2017-02-10 07:49:00': 2, '2017-05-31 00:00:00': 5, '2018-12-11 18:27:00': 2, '2016-10-28 19:44:00': 2, '2018-11-01 19:14:00': 2, '2018-10-18 17:50:00': 2, '2017-05-05 00:00:00': 3, '2016-12-19 12:30:00': 2, '2018-09-06 13:32:00': 2, '2018-12-12 17:27:00': 2, '2016-09-07 09:00:00': 2, '2017-05-05 14:08:00': 2, '2017-01-19 14:47:00': 2, '2018-12-09 17:03:00': 2, '2018-11-19 16:00:00': 2, '2018-05-16 09:00:00': 2, '2018-10-27 17:34:00': 3, '2016-10-12 00:00:00': 9, '2018-01-03 17:28:00': 3, '2016-11-30 18:48:00': 2, '2016-10-12 09:00:00': 2, '2017-12-07 14:07:00': 2, '2016-12-17 14:57:00': 2, '2019-04-13 08:55:00': 2, '2018-11-29 13:41:00': 2, '2017-12-22 15:54:00': 2, '2017-11-23 16:16:00': 3, '2019-04-08 13:14:00': 2, '2017-06-13 12:06:00': 2, '2017-09-28 18:16:00': 3, '2018-01-02 18:22:00': 2, '2016-10-03 13:40:00': 2, '2018-11-26 00:00:00': 3, '2017-06-25 19:09:00': 2, '2017-08-01 16:19:00': 2, '2017-02-23 15:27:00': 2, '2018-01-15 19:44:00': 2}\n",
            "{0.8833899867488622: 1477, 1.0: 6819, 2.0: 4257, 0.0: 6281}\n",
            "{'Cream': 162, 'Seal Point': 78, 'Black': 4620, 'Gray': 307, 'Blue Merle': 104, 'Flame Point': 52, 'Blue Point': 20, 'Cream Tabby': 191, 'Blue Smoke': 6, 'Green': 8, 'Silver Tabby': 18, 'Tan': 1349, 'Blue': 852, 'Tortie Point': 26, 'Black Smoke': 32, 'Agouti': 4, 'Chocolate': 259, 'Calico Point': 12, 'Blue Cream': 10, 'Liver': 3, 'Black Brindle': 66, 'Fawn': 159, 'Tricolor': 469, 'Buff': 125, 'Silver': 24, 'Silver Lynx Point': 4, 'Red Merle': 13, 'Blue Tiger': 10, 'Gray Tabby': 65, 'Calico': 343, 'Chocolate Point': 9, 'Gold': 31, 'Lilac Point': 19, 'Red Tick': 23, 'Orange Tabby': 791, 'Red': 526, 'Brown Brindle': 496, 'Black Tabby': 55, 'Yellow Brindle': 15, 'Brown Tiger': 4, 'White': 2453, 'Sable': 167, 'Pink': 8, 'Torbie': 242, 'Brown': 1791, 'Brown Tabby': 1687, 'Blue Tick': 21, 'Apricot': 13, 'Brown Merle': 39, 'Orange': 39, 'Yellow': 143, 'Lynx Point': 117, 'Tortie': 366, 'Blue Tabby': 386}\n",
            "{0.8: 205, 0.72: 199, 0.5: 174, 0.55: 184, 0.0: 93, 0.76: 208, 0.51: 189, 0.26: 172, 1.0: 107, 0.52: 189, 0.75: 189, 0.25: 197, 0.59: 195, 0.21: 185, 0.79: 195, 0.54: 171, 0.22: 177, 0.23: 203, 0.38: 195, 0.63: 183, 0.13: 184, 0.97: 204, 0.47: 179, 0.44: 210, 0.42: 189, 0.18: 181, 0.43: 178, 0.19: 202, 0.2: 207, 0.45: 182, 0.46: 172, 0.41: 193, 0.6: 213, 0.85: 208, 0.35: 208, 0.69: 188, 0.94: 196, 0.15: 195, 0.16: 177, 0.17: 147, 0.64: 170, 0.89: 184, 0.39: 190, 0.48: 190, 0.98: 197, 0.73: 176, 0.82: 198, 0.57: 182, 0.62: 178, 0.92: 194, 0.14: 177, 0.88: 191, 0.83: 191, 0.67: 181, 0.58: 197, 0.84: 190, 0.93: 194, 0.68: 163, 0.11: 206, 0.27: 195, 0.77: 205, 0.66: 195, 0.61: 180, 0.36: 188, 0.86: 192, 0.7: 173, 0.95: 185, 0.09: 180, 0.1: 194, 0.08: 216, 0.56: 187, 0.81: 187, 0.9: 179, 0.65: 199, 0.4: 205, 0.49: 201, 0.24: 197, 0.99: 196, 0.74: 192, 0.3: 209, 0.29: 174, 0.31: 188, 0.06: 194, 0.32: 204, 0.07: 184, 0.33: 180, 0.34: 157, 0.05: 171, 0.04: 187, 0.53: 187, 0.28: 175, 0.78: 172, 0.37: 206, 0.87: 177, 0.12: 189, 0.03: 176, 0.96: 177, 0.71: 188, 0.02: 176, 0.01: 165, 0.91: 180}\n",
            "{5.75: 8, 6.25: 3, 7.09: 11, 6.75: 4, 9.0: 4, 6.91: 3, 11.5: 10, 12.75: 6, 13.25: 6, 14.0: 5, 14.02: 7, 15.86: 6, 17.82: 5, 18.14: 5, 13.5: 8, 13.0: 4, 21.26: 4, 22.33: 2, 23.06: 4, 24.33: 7, 25.48: 7, 22.34: 4, 27.19: 6, 21.9: 3, 29.56: 4, 30.54: 5, 30.78: 3, 32.98: 5, 30.24: 7, 30.4: 8, 32.76: 7, 35.06: 4, 36.01: 6, 37.17: 4, 38.22: 6, 38.99: 3, 40.9: 7, 40.24: 7, 40.32: 6, 37.62: 2, 41.37: 7, 46.29: 11, 45.53: 5, 44.1: 4, 42.92: 6, 48.92: 4, 49.05: 4, 49.5: 7, 49.04: 4, 49.36: 5, 48.19: 5, 49.68: 4, 48.06: 5, 49.06: 5, 10.0: 3, 11.0: 3, 12.25: 3, 12.0: 4, 37.82: 7, 13.75: 8, 12.5: 2, 14.75: 4, 14.25: 5, 14.5: 6, 15.75: 2, 15.5: 5, 15.25: 3, 15.0: 3, 16.0: 6, 16.5: 3, 16.75: 5, 38.57: 5, 38.07: 3, 17.0: 5, 17.75: 9, 17.5: 5, 16.25: 3, 5.72: 4, 18.0: 6, 18.5: 3, 18.25: 6, 5.47: 4, 18.75: 4, 19.0: 5, 19.75: 6, 19.25: 4, 7.47: 6, 7.72: 4, 20.0: 4, 20.5: 3, 6.72: 3, 20.25: 4, 21.0: 7, 21.75: 6, 21.5: 7, 7.97: 2, 20.75: 6, 22.5: 7, 22.75: 3, 22.25: 7, 22.0: 10, 23.0: 2, 23.25: 3, 23.5: 2, 23.75: 3, 28.58: 3, 24.0: 6, 24.75: 2, 24.5: 3, 24.25: 3, 25.0: 3, 25.5: 3, 25.25: 2, 25.75: 3, 26.5: 3, 26.75: 10, 26.25: 2, 5.5: 3, 27.0: 8, 27.75: 4, 27.5: 3, 27.25: 4, 28.5: 6, 28.75: 7, 28.25: 2, 28.0: 3, 29.0: 5, 29.75: 7, 29.5: 5, 30.75: 4, 30.25: 2, 30.5: 3, 31.75: 6, 6.0: 4, 31.0: 3, 6.5: 3, 31.5: 3, 31.25: 4, 32.0: 6, 32.75: 2, 32.25: 5, 32.5: 4, 33.0: 3, 33.25: 6, 8.19: 6, 8.94: 6, 8.69: 6, 34.25: 2, 34.0: 3, 9.44: 4, 33.5: 6, 8.44: 3, 35.75: 2, 35.5: 6, 10.69: 3, 10.44: 8, 7.75: 5, 36.25: 5, 7.5: 6, 11.94: 6, 11.44: 6, 36.5: 5, 37.0: 5, 37.75: 7, 12.69: 5, 36.0: 5, 12.44: 6, 38.25: 7, 38.5: 8, 13.94: 6, 13.69: 7, 12.94: 2, 39.25: 5, 39.75: 5, 14.69: 7, 39.0: 5, 39.5: 3, 40.5: 4, 40.25: 2, 15.19: 5, 40.75: 5, 8.0: 3, 41.0: 5, 41.75: 6, 8.25: 2, 8.5: 7, 40.0: 5, 42.75: 5, 42.0: 8, 42.5: 4, 41.25: 7, 42.25: 2, 43.25: 4, 43.75: 7, 43.5: 5, 43.0: 2, 44.25: 6, 44.0: 7, 44.75: 3, 44.5: 2, 45.5: 5, 45.0: 4, 45.75: 4, 45.25: 2, 46.75: 5, 46.25: 2, 46.0: 3, 9.5: 2, 47.5: 4, 47.25: 5, 47.0: 3, 47.75: 7, 46.5: 3, 48.75: 5, 48.0: 6, 48.25: 4, 48.5: 3, 49.25: 2, 49.75: 5, 49.0: 4, 50.0: 2, 34.95: 4, 10.75: 2, 10.25: 3, 10.5: 3, 8.72: 3, 35.45: 4, 9.22: 4, 36.2: 2, 36.7: 6, 10.72: 3, 10.22: 4, 37.45: 6, 16.13: 5, 16.88: 5, 16.63: 4, 16.38: 3, 36.65: 5, 17.63: 3, 17.38: 2, 36.9: 2, 36.4: 4, 17.13: 2, 18.13: 5, 18.88: 3, 18.38: 6, 11.72: 9, 18.63: 3, 19.38: 7, 19.13: 9, 11.97: 2, 19.88: 6, 19.63: 3, 20.63: 3, 20.13: 4, 20.88: 2, 20.38: 3, 38.7: 3, 21.13: 3, 21.38: 5, 21.88: 4, 22.38: 2, 22.88: 5, 22.13: 6, 22.63: 3, 23.88: 6, 23.38: 6, 12.97: 3, 24.63: 6, 24.38: 7, 24.88: 4, 39.45: 3, 44.8: 3, 25.13: 4, 25.38: 6, 25.63: 3, 25.88: 4, 24.13: 2, 26.13: 5, 26.88: 4, 26.63: 5, 26.38: 3, 27.63: 3, 27.88: 4, 27.38: 5, 27.13: 2, 28.38: 3, 28.88: 9, 28.63: 4, 13.97: 5, 28.13: 3, 29.88: 6, 29.38: 4, 40.45: 4, 13.72: 3, 29.63: 3, 30.38: 6, 30.63: 2, 40.95: 3, 30.13: 4, 31.88: 2, 31.63: 2, 31.38: 3, 31.13: 5, 17.25: 4, 42.45: 4, 42.2: 4, 35.85: 2, 42.95: 3, 37.65: 3, 43.45: 2, 48.24: 7, 45.45: 2, 32.87: 5, 46.95: 4, 46.45: 3, 17.89: 4, 36.6: 3, 34.87: 4, 38.15: 5, 48.2: 6, 5.45: 5, 38.87: 3, 35.12: 7, 35.37: 2, 35.87: 2, 6.2: 5, 6.7: 3, 7.7: 6, 37.87: 4, 32.63: 5, 32.26: 3, 32.38: 2, 32.13: 2, 32.01: 5, 33.26: 4, 33.51: 5, 33.01: 6, 33.63: 6, 33.88: 6, 34.13: 4, 34.63: 6, 34.88: 4, 34.38: 4, 33.76: 4, 35.76: 3, 35.01: 7, 35.13: 5, 35.88: 3, 35.51: 6, 36.51: 3, 36.13: 3, 36.26: 2, 36.38: 4, 37.88: 6, 37.51: 3, 37.63: 4, 37.26: 2, 37.01: 5, 38.26: 3, 38.88: 4, 38.51: 4, 39.88: 5, 39.76: 6, 39.63: 3, 38.38: 4, 39.51: 4, 40.88: 3, 40.26: 5, 40.76: 7, 40.13: 5, 41.63: 2, 41.51: 3, 41.01: 5, 41.76: 4, 42.76: 6, 42.13: 4, 42.38: 5, 42.63: 3, 42.26: 6, 43.01: 5, 43.38: 5, 43.88: 4, 42.88: 4, 42.51: 3, 44.38: 7, 44.01: 2, 44.26: 8, 44.51: 3, 45.76: 5, 45.13: 4, 45.38: 5, 45.26: 4, 45.51: 3, 46.88: 4, 46.38: 5, 46.51: 5, 46.63: 2, 46.76: 7, 47.01: 4, 47.51: 7, 47.38: 8, 47.13: 2, 47.88: 5, 48.26: 5, 48.76: 3, 48.88: 6, 48.51: 3, 48.01: 4, 49.38: 5, 49.88: 3, 49.76: 2, 49.13: 2, 49.51: 3, 49.01: 6, 41.12: 5, 49.26: 6, 42.37: 4, 42.12: 3, 43.12: 2, 43.87: 3, 33.75: 4, 16.51: 8, 16.76: 4, 16.26: 4, 16.01: 4, 17.01: 5, 17.26: 4, 17.51: 7, 17.76: 5, 18.51: 5, 18.01: 2, 18.76: 2, 18.26: 5, 34.5: 7, 19.01: 4, 19.26: 3, 45.37: 4, 45.87: 6, 19.51: 3, 20.51: 4, 20.26: 2, 19.76: 2, 20.76: 5, 20.01: 3, 21.01: 5, 21.51: 3, 21.76: 6, 22.76: 3, 22.26: 7, 22.01: 5, 22.51: 2, 23.01: 4, 23.76: 4, 35.25: 5, 23.51: 6, 35.0: 2, 24.76: 5, 24.01: 7, 24.26: 6, 24.51: 5, 25.26: 4, 25.51: 7, 25.76: 3, 25.01: 3, 26.01: 4, 26.26: 3, 26.51: 6, 26.76: 4, 27.76: 7, 27.51: 4, 27.01: 4, 7.25: 4, 7.0: 3, 28.51: 2, 28.76: 2, 28.01: 5, 36.75: 2, 29.51: 5, 29.01: 5, 47.62: 4, 29.76: 5, 30.01: 4, 30.76: 8, 47.47: 7, 47.97: 5, 30.51: 3, 31.01: 6, 31.51: 2, 31.26: 6, 31.76: 2, 37.25: 4, 37.5: 5, 48.37: 3, 39.1: 2, 39.6: 2, 38.0: 2, 38.75: 3, 8.75: 2, 8.89: 7, 8.14: 5, 8.39: 2, 8.64: 7, 9.14: 4, 9.89: 3, 9.64: 5, 9.39: 5, 10.89: 4, 10.14: 3, 10.39: 2, 40.6: 3, 5.15: 4, 11.89: 6, 11.64: 5, 11.39: 5, 5.9: 4, 40.1: 3, 12.64: 6, 12.39: 4, 12.89: 2, 12.14: 6, 11.14: 3, 13.89: 5, 13.39: 3, 13.64: 5, 13.14: 3, 14.39: 5, 14.14: 6, 14.64: 7, 14.89: 5, 15.14: 3, 15.89: 4, 15.64: 2, 15.39: 3, 16.14: 4, 16.64: 8, 16.39: 5, 16.89: 6, 33.38: 3, 17.14: 4, 17.39: 6, 17.64: 4, 33.13: 4, 5.36: 4, 5.61: 3, 18.64: 4, 18.39: 7, 18.89: 7, 6.36: 3, 19.14: 2, 19.39: 3, 6.86: 4, 6.11: 5, 7.11: 4, 7.61: 7, 20.64: 7, 19.64: 5, 20.89: 7, 7.15: 7, 21.14: 8, 21.64: 7, 21.89: 3, 21.39: 6, 7.4: 3, 22.14: 8, 22.64: 11, 22.39: 2, 22.89: 8, 23.89: 6, 23.39: 4, 23.14: 3, 23.64: 5, 24.89: 5, 24.14: 5, 24.64: 3, 25.14: 9, 25.89: 4, 25.39: 3, 26.89: 4, 26.64: 5, 26.39: 3, 26.14: 5, 35.63: 3, 27.39: 6, 27.14: 2, 27.64: 3, 27.89: 4, 35.38: 4, 28.39: 8, 28.64: 7, 28.14: 4, 28.89: 3, 29.89: 5, 29.14: 3, 29.64: 2, 29.39: 4, 30.64: 3, 30.89: 4, 30.39: 4, 5.58: 10, 5.08: 5, 31.14: 5, 31.89: 4, 47.19: 3, 6.33: 4, 6.08: 6, 36.63: 4, 32.89: 8, 32.39: 6, 7.58: 7, 32.14: 7, 7.08: 2, 33.14: 3, 33.64: 5, 8.08: 4, 8.58: 3, 34.39: 5, 8.33: 3, 9.83: 2, 9.33: 6, 9.58: 5, 35.39: 8, 35.14: 4, 35.64: 6, 10.08: 6, 10.83: 5, 10.33: 2, 9.08: 5, 11.08: 5, 11.83: 6, 11.58: 9, 37.89: 3, 11.33: 6, 12.33: 6, 37.14: 4, 12.08: 6, 38.64: 6, 38.14: 2, 13.58: 3, 13.08: 2, 38.89: 12, 39.89: 3, 39.39: 5, 39.64: 6, 39.14: 6, 14.58: 5, 40.39: 6, 40.89: 5, 15.33: 3, 15.83: 4, 40.14: 3, 41.14: 11, 41.64: 4, 41.39: 3, 41.89: 2, 42.64: 2, 42.39: 6, 42.89: 6, 42.14: 3, 43.14: 4, 43.89: 7, 5.8: 6, 5.3: 2, 5.55: 7, 44.14: 4, 6.8: 6, 6.3: 3, 44.89: 5, 44.39: 7, 45.39: 6, 45.64: 6, 45.89: 3, 45.14: 3, 12.15: 5, 46.14: 7, 46.39: 4, 7.55: 3, 7.8: 2, 47.89: 7, 47.14: 7, 47.39: 5, 47.64: 3, 46.89: 4, 48.89: 4, 48.39: 3, 48.64: 3, 49.89: 4, 49.14: 4, 49.39: 4, 13.4: 6, 40.38: 6, 14.65: 5, 14.9: 3, 5.77: 7, 5.27: 5, 5.52: 6, 5.02: 5, 41.13: 5, 6.27: 9, 6.77: 4, 6.02: 2, 6.52: 2, 41.88: 2, 7.27: 7, 7.52: 7, 7.77: 3, 8.02: 4, 8.27: 2, 8.77: 3, 8.52: 2, 9.77: 5, 9.52: 9, 9.27: 7, 9.02: 2, 10.02: 6, 10.77: 5, 10.27: 5, 10.52: 8, 11.02: 6, 11.52: 8, 11.77: 2, 11.27: 3, 12.77: 5, 12.27: 5, 12.52: 4, 12.02: 2, 13.52: 5, 13.77: 4, 13.27: 3, 13.02: 3, 14.52: 4, 14.77: 4, 14.27: 3, 15.27: 4, 15.52: 4, 15.02: 4, 43.63: 4, 43.13: 5, 16.27: 4, 15.77: 5, 16.52: 6, 16.77: 3, 17.77: 6, 17.52: 5, 17.27: 3, 18.77: 5, 18.52: 4, 18.27: 7, 19.77: 9, 19.27: 4, 19.52: 4, 19.02: 3, 20.02: 4, 20.52: 5, 44.63: 4, 44.13: 4, 20.27: 3, 21.77: 4, 21.52: 6, 21.27: 3, 21.02: 2, 22.52: 9, 22.02: 6, 22.27: 6, 22.77: 2, 23.02: 9, 23.52: 3, 23.27: 4, 23.77: 3, 24.52: 5, 24.27: 4, 24.02: 4, 24.77: 5, 25.77: 3, 25.27: 5, 45.88: 3, 45.63: 6, 25.02: 4, 26.27: 2, 26.52: 4, 26.02: 3, 27.77: 4, 27.27: 6, 27.02: 4, 27.52: 4, 32.3: 2, 28.52: 4, 28.02: 6, 28.77: 4, 29.27: 2, 29.77: 3, 29.52: 4, 29.02: 2, 30.77: 8, 30.52: 2, 30.27: 2, 30.02: 5, 46.13: 4, 31.52: 5, 31.27: 4, 31.02: 3, 31.77: 4, 33.05: 7, 47.63: 4, 34.55: 4, 48.38: 4, 48.13: 3, 5.38: 2, 48.63: 4, 6.13: 3, 6.88: 5, 31.71: 5, 36.3: 4, 37.55: 2, 39.8: 4, 16.15: 8, 16.4: 3, 16.9: 4, 40.3: 4, 40.8: 4, 17.15: 6, 17.9: 6, 16.65: 3, 18.9: 7, 18.15: 5, 18.4: 3, 18.65: 3, 19.65: 3, 19.15: 4, 19.9: 4, 19.4: 5, 20.15: 3, 20.65: 2, 20.4: 5, 20.9: 6, 21.4: 15, 21.65: 5, 41.55: 4, 41.8: 3, 21.15: 3, 22.9: 4, 22.65: 4, 22.4: 3, 22.15: 5, 23.15: 3, 23.9: 4, 23.4: 4, 23.65: 3, 24.15: 7, 24.9: 6, 24.65: 4, 24.4: 4, 25.65: 5, 25.9: 5, 25.4: 2, 25.15: 2, 26.65: 2, 26.9: 4, 42.3: 2, 26.4: 3, 42.8: 3, 27.9: 6, 27.65: 3, 27.15: 9, 27.4: 2, 32.96: 4, 28.4: 2, 28.65: 4, 28.9: 6, 28.15: 4, 29.65: 4, 29.9: 5, 29.4: 8, 29.15: 3, 30.9: 4, 30.65: 4, 30.15: 2, 45.78: 3, 32.93: 2, 31.4: 6, 31.65: 5, 31.9: 5, 31.15: 2, 43.8: 2, 43.3: 4, 32.9: 6, 32.77: 2, 32.65: 3, 32.15: 4, 32.02: 4, 33.9: 6, 33.15: 4, 33.77: 2, 32.4: 5, 32.52: 3, 34.4: 5, 34.52: 4, 34.77: 3, 33.27: 3, 33.4: 2, 35.4: 6, 35.65: 5, 35.15: 2, 35.77: 2, 35.52: 5, 36.77: 4, 36.15: 7, 36.52: 6, 35.9: 5, 35.27: 2, 37.15: 6, 37.27: 9, 37.02: 5, 37.77: 4, 37.4: 5, 38.9: 8, 38.4: 6, 38.65: 4, 38.02: 3, 37.9: 4, 39.65: 7, 39.02: 6, 39.15: 6, 38.77: 4, 40.27: 3, 40.52: 11, 40.02: 4, 34.68: 5, 39.4: 4, 41.52: 3, 41.77: 6, 41.9: 5, 41.02: 3, 41.15: 3, 42.27: 5, 42.4: 9, 42.9: 4, 41.4: 8, 45.3: 5, 43.9: 7, 43.27: 7, 43.52: 5, 43.4: 5, 43.15: 5, 44.65: 5, 44.52: 5, 44.9: 8, 44.4: 6, 43.65: 4, 45.4: 5, 45.27: 2, 45.65: 4, 45.9: 5, 45.02: 4, 46.15: 4, 46.9: 2, 46.02: 5, 35.18: 4, 45.15: 5, 47.02: 12, 47.9: 8, 47.77: 8, 47.65: 2, 47.15: 2, 48.15: 6, 48.52: 4, 48.4: 5, 48.77: 4, 47.52: 5, 49.4: 6, 49.9: 5, 49.77: 5, 49.15: 3, 48.02: 6, 49.52: 4, 49.65: 2, 49.27: 5, 36.18: 2, 36.68: 5, 33.71: 3, 47.8: 4, 33.96: 4, 37.68: 4, 37.43: 5, 39.93: 2, 42.83: 4, 40.18: 4, 40.43: 3, 41.18: 2, 5.83: 5, 5.33: 3, 32.06: 4, 6.83: 2, 6.58: 3, 33.81: 8, 7.33: 2, 7.83: 2, 43.83: 6, 34.81: 2, 34.06: 4, 35.81: 3, 35.56: 2, 5.22: 3, 6.47: 7, 6.97: 4, 7.22: 4, 5.86: 8, 5.06: 4, 6.81: 4, 5.88: 4, 6.38: 5, 7.88: 5, 7.63: 6, 7.38: 4, 36.56: 2, 10.58: 2, 37.56: 4, 16.53: 5, 16.03: 3, 16.78: 2, 12.83: 5, 17.78: 5, 12.58: 3, 17.53: 4, 39.81: 8, 18.28: 5, 18.78: 4, 18.03: 4, 18.53: 2, 39.56: 5, 19.28: 4, 19.03: 7, 19.53: 2, 19.78: 3, 20.28: 4, 20.03: 5, 20.53: 6, 20.78: 6, 21.28: 7, 21.78: 9, 21.53: 3, 21.03: 3, 22.28: 4, 22.53: 3, 22.78: 4, 22.03: 2, 40.31: 2, 23.78: 5, 23.03: 3, 23.53: 4, 23.28: 4, 24.03: 9, 24.78: 3, 24.53: 4, 24.28: 2, 25.28: 3, 25.78: 7, 25.53: 5, 26.78: 4, 26.03: 2, 26.28: 3, 26.53: 2, 27.53: 6, 27.78: 7, 27.28: 3, 27.03: 4, 41.81: 3, 28.28: 2, 28.53: 4, 28.03: 6, 28.78: 5, 14.33: 3, 29.03: 6, 29.78: 3, 29.28: 8, 29.53: 5, 30.03: 5, 30.28: 2, 31.53: 5, 31.28: 3, 31.78: 4, 15.58: 5, 32.41: 5, 32.78: 2, 32.53: 8, 32.66: 4, 32.28: 3, 33.16: 5, 33.41: 4, 33.53: 4, 33.91: 3, 34.53: 3, 34.16: 4, 9.72: 7, 9.97: 3, 9.47: 3, 35.53: 3, 35.28: 5, 35.66: 3, 10.47: 6, 36.78: 3, 36.91: 4, 35.41: 3, 36.16: 3, 10.97: 6, 37.41: 4, 37.03: 5, 36.53: 4, 12.72: 4, 12.47: 6, 38.28: 4, 38.41: 6, 37.16: 4, 37.28: 6, 38.03: 8, 39.78: 7, 39.16: 4, 14.47: 4, 39.03: 2, 14.22: 3, 40.03: 4, 39.66: 3, 15.47: 6, 15.72: 8, 14.72: 6, 41.66: 3, 41.91: 6, 41.53: 4, 40.91: 5, 15.22: 6, 42.41: 9, 42.16: 9, 42.03: 3, 42.78: 8, 41.03: 5, 43.78: 5, 43.16: 5, 43.28: 4, 43.03: 6, 43.53: 5, 44.53: 6, 44.78: 3, 6.19: 2, 6.69: 2, 44.91: 4, 7.19: 5, 44.41: 5, 7.69: 5, 45.28: 4, 46.91: 3, 46.53: 7, 46.66: 3, 45.91: 5, 45.03: 3, 47.78: 7, 47.16: 4, 47.53: 6, 47.41: 9, 47.03: 7, 48.53: 6, 48.16: 3, 48.28: 4, 48.03: 2, 49.03: 5, 49.66: 3, 49.78: 8, 49.53: 4, 49.91: 7, 49.28: 7, 49.41: 3, 49.16: 2, 46.81: 7, 5.91: 2, 5.16: 2, 5.66: 3, 5.41: 5, 6.66: 3, 6.16: 4, 6.41: 4, 47.81: 2, 7.91: 6, 7.41: 4, 7.16: 9, 7.66: 5, 8.16: 8, 8.41: 4, 8.66: 2, 9.16: 4, 9.41: 6, 9.91: 4, 9.66: 5, 33.69: 3, 10.66: 2, 10.41: 3, 10.16: 4, 10.91: 5, 11.66: 5, 11.16: 3, 11.41: 5, 48.56: 7, 48.81: 5, 12.16: 3, 12.91: 8, 12.66: 3, 12.41: 3, 11.91: 3, 13.16: 5, 13.41: 4, 13.66: 4, 13.91: 2, 44.28: 9, 14.41: 6, 14.16: 6, 14.66: 4, 35.23: 4, 15.66: 4, 15.16: 9, 14.91: 4, 35.98: 4, 15.91: 6, 16.66: 2, 16.16: 3, 16.91: 5, 16.41: 3, 17.16: 4, 17.91: 4, 17.41: 6, 17.66: 2, 5.13: 5, 18.66: 3, 18.91: 7, 18.41: 7, 5.63: 3, 19.66: 7, 19.16: 9, 19.41: 5, 36.98: 2, 7.13: 5, 20.66: 9, 20.91: 4, 20.41: 6, 20.16: 7, 19.91: 2, 21.91: 3, 22.16: 3, 22.91: 4, 22.41: 5, 7.56: 5, 22.66: 2, 23.91: 8, 23.41: 4, 23.66: 3, 23.16: 2, 37.73: 3, 24.66: 3, 24.16: 5, 24.91: 2, 37.48: 4, 24.41: 3, 25.91: 6, 25.16: 4, 25.41: 8, 25.66: 3, 26.91: 7, 26.41: 3, 26.16: 5, 26.66: 4, 27.66: 5, 27.16: 12, 27.91: 2, 27.41: 3, 28.16: 3, 28.66: 4, 28.91: 5, 28.41: 2, 38.48: 7, 29.41: 5, 29.16: 4, 29.91: 5, 29.66: 4, 30.91: 5, 30.41: 4, 30.16: 7, 5.35: 3, 5.1: 6, 31.41: 6, 31.16: 3, 5.6: 6, 6.1: 5, 6.35: 6, 31.91: 5, 31.66: 2, 7.1: 4, 7.6: 8, 7.85: 7, 8.85: 5, 8.6: 6, 8.1: 8, 8.35: 4, 9.35: 5, 9.6: 4, 34.19: 2, 10.85: 7, 10.1: 3, 10.6: 4, 10.35: 3, 11.1: 6, 11.85: 5, 11.35: 4, 12.6: 3, 12.85: 3, 12.1: 4, 13.85: 4, 13.1: 3, 40.48: 2, 40.73: 3, 14.6: 7, 14.35: 8, 14.85: 2, 40.23: 5, 15.6: 4, 15.1: 3, 15.85: 7, 42.98: 7, 42.73: 3, 43.48: 4, 43.23: 4, 44.98: 3, 8.04: 3, 8.29: 5, 8.54: 2, 8.79: 4, 9.79: 4, 9.54: 2, 9.29: 9, 9.04: 7, 10.29: 5, 10.54: 4, 10.79: 4, 10.04: 3, 11.29: 7, 11.54: 2, 11.79: 4, 11.04: 3, 12.54: 5, 12.79: 3, 12.04: 5, 46.03: 2, 46.78: 5, 13.29: 4, 45.98: 6, 13.54: 4, 13.04: 4, 46.28: 3, 14.79: 3, 14.04: 2, 14.29: 3, 13.79: 4, 15.29: 6, 15.54: 5, 15.79: 5, 15.04: 4, 16.29: 4, 16.79: 4, 16.04: 6, 16.54: 3, 17.29: 5, 17.54: 2, 17.04: 4, 46.98: 5, 17.79: 3, 18.54: 6, 18.79: 5, 30.55: 5, 18.29: 5, 46.73: 4, 19.29: 3, 19.04: 3, 19.79: 3, 19.54: 5, 7.62: 2, 20.29: 6, 20.04: 4, 20.54: 5, 21.54: 4, 21.04: 3, 21.29: 2, 21.79: 2, 22.29: 4, 22.04: 2, 22.54: 5, 47.98: 4, 22.79: 2, 23.04: 6, 23.29: 4, 23.79: 5, 23.54: 5, 24.79: 8, 24.04: 5, 24.29: 4, 24.54: 3, 25.54: 9, 25.29: 11, 25.04: 6, 25.79: 3, 26.79: 10, 26.04: 5, 26.29: 2, 27.54: 8, 27.79: 6, 27.29: 5, 48.73: 3, 48.48: 4, 28.04: 5, 28.54: 4, 28.79: 4, 27.04: 3, 28.29: 2, 29.04: 3, 29.54: 7, 29.79: 2, 30.29: 5, 30.79: 3, 30.04: 4, 34.89: 4, 31.29: 6, 31.54: 2, 31.79: 3, 34.64: 2, 32.54: 7, 32.04: 5, 32.29: 3, 49.48: 4, 33.54: 3, 33.79: 6, 33.29: 4, 34.04: 6, 34.54: 3, 35.29: 6, 35.54: 4, 35.04: 5, 36.04: 7, 36.29: 4, 36.54: 4, 36.79: 4, 37.79: 7, 37.54: 2, 37.29: 3, 38.79: 5, 38.04: 2, 38.54: 4, 38.29: 4, 39.04: 6, 39.79: 5, 39.54: 6, 39.29: 2, 10.87: 4, 40.04: 8, 40.29: 6, 40.54: 6, 40.79: 8, 41.54: 10, 41.79: 6, 41.04: 3, 41.29: 2, 42.29: 6, 42.54: 3, 42.79: 6, 42.04: 3, 43.04: 4, 43.79: 2, 43.29: 5, 44.54: 7, 44.04: 3, 44.79: 4, 44.29: 4, 45.54: 4, 45.04: 2, 45.79: 2, 46.54: 7, 46.79: 3, 46.04: 2, 47.79: 4, 47.54: 4, 47.04: 2, 48.54: 5, 48.04: 5, 48.79: 7, 48.29: 2, 49.54: 6, 49.29: 9, 49.79: 5, 5.51: 3, 5.01: 4, 32.24: 6, 33.24: 2, 8.76: 2, 35.99: 2, 9.76: 3, 9.51: 4, 36.49: 2, 10.51: 2, 36.64: 3, 11.26: 3, 11.01: 7, 38.24: 3, 38.49: 2, 39.99: 2, 13.76: 3, 40.99: 4, 14.26: 2, 14.76: 4, 41.74: 3, 15.76: 4, 44.49: 2, 44.24: 5, 16.92: 3, 16.17: 6, 16.67: 5, 16.42: 5, 17.67: 4, 17.92: 5, 17.42: 4, 17.17: 3, 18.42: 2, 18.17: 7, 18.67: 4, 18.92: 3, 19.92: 2, 19.42: 4, 19.17: 9, 45.74: 3, 45.49: 4, 20.92: 7, 20.42: 6, 20.17: 4, 20.67: 6, 21.42: 4, 21.17: 5, 21.92: 5, 32.16: 6, 21.67: 5, 22.17: 7, 22.42: 6, 22.67: 2, 22.92: 3, 32.91: 2, 23.42: 4, 23.67: 6, 23.92: 5, 23.17: 5, 24.42: 3, 24.67: 5, 24.92: 2, 46.74: 2, 25.17: 4, 25.67: 6, 25.42: 5, 46.99: 3, 5.05: 2, 26.67: 2, 26.17: 4, 26.92: 2, 33.66: 4, 26.42: 4, 27.42: 4, 27.17: 5, 27.92: 3, 27.67: 3, 28.92: 7, 28.42: 4, 28.67: 5, 29.67: 5, 29.17: 3, 29.42: 5, 29.92: 4, 30.92: 5, 30.17: 6, 30.67: 3, 30.42: 2, 31.92: 9, 34.41: 2, 34.91: 3, 31.67: 2, 34.66: 3, 31.42: 4, 32.17: 7, 32.8: 3, 32.05: 5, 32.42: 5, 32.92: 3, 33.8: 3, 33.3: 9, 33.92: 3, 32.55: 4, 33.55: 4, 34.05: 3, 34.17: 5, 34.3: 8, 34.92: 6, 34.8: 2, 35.42: 3, 35.55: 7, 35.67: 3, 35.3: 4, 35.05: 7, 36.05: 6, 36.42: 4, 36.8: 4, 36.92: 4, 35.8: 6, 37.05: 2, 37.8: 4, 37.3: 3, 37.42: 5, 37.67: 4, 38.8: 5, 38.42: 6, 38.3: 5, 38.17: 3, 38.05: 4, 39.05: 8, 39.67: 7, 39.17: 5, 39.55: 3, 39.92: 4, 40.17: 6, 40.05: 4, 40.67: 4, 40.55: 5, 40.92: 4, 41.92: 5, 41.67: 6, 41.3: 5, 41.42: 3, 41.05: 5, 42.55: 4, 42.17: 8, 42.05: 8, 42.42: 5, 36.66: 5, 43.05: 7, 43.17: 3, 43.55: 2, 43.42: 4, 43.67: 6, 44.05: 7, 44.17: 2, 44.67: 4, 44.92: 3, 45.05: 7, 45.67: 3, 45.92: 7, 45.17: 6, 44.3: 6, 46.05: 5, 46.17: 3, 46.42: 8, 46.67: 3, 46.3: 5, 47.42: 4, 47.05: 5, 47.67: 3, 47.17: 4, 46.8: 2, 48.3: 7, 48.8: 3, 48.67: 5, 47.3: 3, 47.55: 5, 49.42: 2, 49.17: 3, 49.8: 6, 49.3: 2, 48.05: 3, 49.92: 2, 49.55: 3, 6.05: 3, 49.67: 3, 38.16: 3, 38.91: 6, 38.66: 3, 39.91: 2, 39.41: 5, 8.05: 7, 8.55: 4, 8.3: 5, 8.8: 3, 9.05: 6, 9.3: 6, 9.55: 2, 9.8: 4, 10.05: 5, 10.3: 7, 40.16: 4, 10.8: 4, 40.66: 5, 11.05: 5, 10.55: 3, 40.41: 3, 11.8: 2, 11.3: 3, 12.05: 2, 12.8: 3, 12.55: 3, 12.3: 5, 13.05: 2, 13.8: 3, 13.3: 2, 13.55: 3, 14.8: 4, 14.3: 6, 14.55: 3, 14.05: 5, 15.8: 5, 15.05: 7, 15.3: 8, 15.55: 5, 41.41: 4, 16.55: 4, 16.05: 5, 16.3: 3, 16.8: 4, 41.16: 3, 17.3: 4, 17.55: 4, 17.8: 4, 18.8: 5, 18.3: 5, 18.55: 3, 19.05: 3, 19.55: 2, 19.8: 3, 19.3: 3, 20.55: 4, 20.05: 4, 20.3: 4, 42.91: 3, 42.66: 4, 21.05: 3, 20.8: 3, 21.55: 2, 22.55: 4, 22.05: 7, 22.8: 7, 22.3: 2, 23.05: 8, 23.8: 6, 23.3: 4, 23.55: 3, 24.3: 3, 24.55: 6, 24.05: 3, 7.05: 3, 24.8: 7, 25.8: 2, 25.05: 4, 43.41: 2, 43.91: 4, 25.55: 4, 26.8: 9, 26.05: 7, 26.55: 9, 26.3: 4, 43.66: 2, 27.3: 5, 27.8: 3, 27.55: 4, 27.05: 5, 28.05: 3, 28.55: 4, 28.3: 7, 28.8: 4, 29.3: 9, 29.05: 3, 29.8: 4, 30.8: 8, 30.05: 3, 30.3: 7, 5.49: 3, 5.99: 5, 31.55: 7, 31.8: 4, 31.05: 5, 6.99: 7, 6.24: 4, 5.74: 6, 6.74: 3, 31.3: 5, 7.99: 6, 7.74: 6, 7.49: 4, 8.49: 4, 8.99: 3, 8.74: 2, 8.24: 4, 9.99: 7, 9.49: 3, 9.74: 4, 45.16: 2, 9.24: 4, 10.74: 5, 10.49: 2, 10.99: 4, 45.66: 2, 10.24: 6, 11.49: 5, 11.24: 5, 11.99: 3, 11.74: 3, 12.49: 7, 12.99: 5, 12.24: 7, 12.74: 3, 24.17: 3, 13.49: 2, 13.74: 2, 13.99: 5, 13.24: 2, 14.99: 2, 14.49: 2, 14.24: 3, 46.41: 3, 14.74: 3, 15.24: 10, 15.99: 3, 15.74: 4, 15.49: 5, 46.16: 5, 30.23: 2, 25.92: 2, 5.96: 5, 5.21: 4, 5.71: 4, 5.46: 4, 6.71: 7, 6.96: 2, 6.46: 4, 6.21: 3, 47.91: 2, 7.96: 3, 7.46: 5, 47.66: 3, 7.21: 3, 7.71: 3, 48.66: 4, 48.91: 2, 5.93: 8, 5.43: 7, 5.68: 8, 5.18: 5, 6.43: 5, 6.93: 5, 6.68: 2, 6.18: 3, 7.43: 5, 7.93: 4, 7.18: 5, 7.68: 4, 8.18: 4, 8.68: 3, 8.43: 3, 8.93: 4, 9.43: 3, 9.18: 3, 9.93: 4, 10.43: 6, 10.68: 7, 10.93: 3, 35.82: 8, 10.18: 4, 11.18: 7, 11.68: 4, 35.32: 3, 11.93: 3, 11.43: 4, 12.18: 6, 12.43: 4, 12.93: 3, 13.43: 6, 13.68: 6, 13.18: 6, 13.93: 4, 14.43: 2, 14.18: 8, 14.93: 4, 15.43: 3, 15.68: 5, 15.18: 6, 15.93: 3, 16.93: 3, 16.68: 3, 16.18: 4, 17.93: 5, 17.68: 4, 17.43: 4, 17.18: 3, 18.68: 4, 18.43: 4, 18.93: 6, 19.93: 4, 19.18: 8, 19.43: 3, 19.68: 4, 20.93: 5, 20.43: 5, 20.68: 4, 20.18: 2, 21.68: 6, 21.93: 4, 21.18: 5, 31.17: 2, 21.43: 5, 22.93: 6, 22.18: 3, 22.68: 6, 22.43: 4, 23.93: 5, 23.43: 8, 23.68: 7, 23.18: 7, 40.84: 6, 24.18: 3, 24.93: 3, 24.68: 4, 40.09: 5, 25.68: 2, 25.18: 7, 25.43: 4, 25.93: 9, 11.22: 2, 26.43: 5, 26.18: 5, 26.68: 5, 26.93: 2, 27.18: 7, 27.68: 4, 27.43: 2, 32.67: 6, 27.93: 4, 28.43: 3, 28.18: 5, 28.93: 3, 28.68: 3, 29.68: 6, 29.93: 5, 29.18: 5, 29.43: 4, 30.68: 4, 30.43: 5, 30.18: 3, 30.93: 2, 31.93: 4, 31.18: 5, 31.43: 5, 31.68: 4, 32.43: 7, 32.68: 4, 32.18: 3, 33.67: 2, 33.17: 4, 33.93: 2, 8.12: 8, 8.62: 6, 8.37: 5, 34.43: 6, 34.18: 3, 9.87: 4, 33.43: 3, 35.93: 5, 35.43: 5, 35.68: 7, 10.37: 7, 9.62: 3, 36.43: 7, 36.93: 7, 11.87: 3, 11.62: 5, 11.12: 3, 37.93: 5, 37.18: 4, 12.12: 7, 12.37: 5, 11.37: 4, 38.68: 5, 38.18: 5, 13.12: 10, 13.87: 3, 13.37: 7, 39.18: 7, 14.12: 6, 14.62: 3, 38.43: 4, 40.93: 5, 39.68: 4, 15.62: 4, 15.37: 3, 15.12: 5, 41.93: 5, 41.68: 2, 41.43: 4, 15.87: 4, 40.68: 5, 42.43: 2, 42.93: 3, 42.18: 2, 42.68: 6, 35.92: 3, 43.68: 4, 43.18: 9, 43.43: 3, 43.93: 4, 35.17: 2, 44.18: 4, 44.93: 5, 44.68: 2, 45.68: 7, 45.93: 5, 45.43: 4, 45.18: 2, 46.43: 4, 46.18: 2, 46.93: 6, 46.68: 3, 47.93: 7, 47.43: 6, 36.67: 5, 47.68: 3, 48.18: 2, 48.43: 4, 48.68: 5, 48.93: 2, 47.18: 2, 49.43: 5, 49.93: 4, 41.34: 2, 10.94: 2, 10.19: 4, 37.92: 5, 11.69: 3, 38.67: 3, 38.92: 5, 6.9: 2, 37.57: 3, 12.19: 3, 39.42: 4, 13.44: 3, 13.19: 2, 16.81: 2, 16.56: 2, 40.42: 4, 16.06: 5, 16.31: 7, 17.56: 4, 17.06: 5, 17.31: 9, 17.81: 6, 18.81: 3, 18.56: 7, 18.31: 7, 18.06: 4, 19.31: 3, 19.56: 4, 19.06: 6, 19.81: 4, 20.31: 3, 20.06: 3, 20.81: 6, 14.94: 3, 20.56: 2, 21.06: 4, 21.31: 6, 21.56: 4, 41.17: 2, 21.81: 7, 22.56: 8, 22.06: 7, 42.84: 3, 22.31: 3, 42.34: 3, 23.56: 3, 23.31: 5, 23.81: 3, 22.81: 3, 24.31: 8, 24.06: 5, 24.81: 7, 13.22: 3, 25.31: 5, 25.81: 2, 25.56: 4, 25.06: 2, 26.81: 4, 26.06: 9, 42.67: 4, 15.69: 3, 27.31: 5, 27.06: 7, 46.44: 8, 27.56: 2, 26.56: 3, 28.31: 2, 28.81: 6, 28.06: 6, 28.56: 8, 29.06: 6, 29.31: 2, 30.56: 6, 30.81: 5, 30.31: 4, 31.56: 4, 31.81: 5, 31.06: 3, 43.92: 2, 31.31: 6, 38.32: 3, 40.87: 4, 44.42: 4, 45.42: 3, 46.92: 2, 47.92: 2, 5.85: 6, 6.85: 2, 6.6: 2, 8.22: 4, 8.97: 9, 10.9: 9, 11.06: 6, 12.88: 6, 13.83: 4, 14.19: 7, 14.83: 3, 14.08: 3, 15.08: 2, 9.94: 3, 11.19: 7, 12.22: 8, 13.47: 3, 15.97: 7, 15.94: 3, 15.44: 7, 18.16: 3, 48.42: 2, 48.17: 2, 32.94: 7, 9.9: 3, 32.56: 3, 32.69: 6, 32.19: 8, 32.31: 5, 32.81: 5, 33.19: 2, 33.94: 3, 33.44: 5, 33.06: 3, 33.56: 8, 34.44: 3, 34.56: 2, 34.31: 5, 33.31: 6, 34.94: 3, 35.69: 7, 35.44: 7, 35.31: 5, 35.19: 7, 34.69: 3, 36.19: 10, 36.81: 5, 36.06: 2, 36.44: 3, 35.94: 9, 37.06: 9, 37.44: 3, 37.81: 3, 37.19: 5, 38.81: 3, 38.44: 3, 38.19: 3, 38.69: 7, 38.31: 4, 39.31: 4, 39.44: 5, 39.94: 7, 39.06: 4, 38.06: 8, 40.94: 4, 40.81: 9, 40.44: 5, 40.06: 4, 40.56: 4, 41.06: 6, 41.56: 5, 41.19: 3, 41.44: 4, 42.44: 5, 42.94: 7, 42.56: 8, 42.19: 6, 42.81: 6, 43.81: 8, 43.19: 6, 43.31: 3, 43.44: 4, 42.69: 4, 44.06: 4, 44.69: 2, 44.44: 3, 44.81: 5, 44.19: 3, 45.81: 2, 45.06: 4, 45.56: 4, 45.31: 7, 45.69: 5, 46.19: 8, 46.06: 6, 46.56: 3, 46.94: 2, 46.69: 8, 47.94: 6, 47.31: 6, 47.56: 8, 47.44: 4, 46.31: 10, 48.44: 3, 48.69: 5, 48.31: 6, 48.94: 4, 47.06: 6, 49.56: 7, 49.31: 5, 49.94: 5, 49.44: 4, 49.19: 5, 49.81: 2, 34.22: 3, 35.47: 5, 30.66: 3, 36.22: 3, 36.97: 4, 16.94: 4, 16.69: 3, 16.19: 3, 36.72: 2, 16.44: 3, 17.94: 9, 17.69: 3, 17.44: 6, 17.19: 4, 18.19: 5, 18.94: 6, 18.69: 5, 18.44: 3, 19.19: 8, 19.44: 5, 19.69: 4, 19.94: 5, 20.94: 6, 20.19: 5, 20.44: 5, 20.69: 4, 37.47: 4, 21.69: 2, 21.94: 4, 21.44: 3, 21.19: 6, 22.69: 7, 22.44: 7, 22.94: 2, 22.19: 2, 23.94: 7, 23.44: 7, 23.19: 4, 23.69: 5, 24.94: 4, 24.69: 8, 24.19: 6, 24.44: 2, 25.94: 3, 25.19: 2, 38.47: 4, 25.69: 4, 26.19: 2, 26.69: 7, 26.44: 4, 26.94: 3, 27.94: 2, 27.69: 5, 27.44: 4, 28.94: 10, 28.19: 7, 28.69: 2, 28.44: 3, 29.44: 6, 29.19: 6, 29.94: 5, 29.69: 2, 30.69: 6, 30.44: 2, 30.94: 6, 30.19: 5, 39.22: 2, 31.19: 6, 31.44: 6, 31.69: 2, 31.94: 2, 11.65: 2, 8.13: 2, 8.88: 5, 8.63: 3, 8.38: 2, 9.88: 2, 9.38: 8, 9.63: 3, 9.13: 2, 10.38: 6, 10.63: 7, 10.13: 5, 10.88: 3, 11.88: 8, 11.63: 5, 11.38: 5, 11.13: 4, 40.97: 2, 12.38: 5, 12.13: 4, 12.63: 3, 13.13: 2, 13.38: 5, 13.88: 2, 14.38: 11, 14.88: 6, 41.83: 2, 15.38: 5, 15.88: 11, 15.63: 7, 15.13: 3, 42.97: 2, 42.72: 3, 32.85: 3, 33.35: 3, 44.72: 7, 5.32: 11, 5.07: 4, 6.07: 5, 6.57: 4, 6.32: 2, 7.32: 6, 7.07: 6, 7.82: 5, 7.57: 3, 8.57: 4, 8.07: 5, 8.82: 2, 8.32: 3, 9.82: 5, 9.07: 3, 9.57: 10, 45.47: 4, 10.07: 4, 10.32: 4, 10.57: 6, 11.07: 6, 11.82: 3, 11.57: 3, 11.32: 3, 12.82: 2, 12.07: 5, 12.57: 3, 12.32: 5, 13.57: 7, 13.82: 4, 13.32: 4, 13.07: 3, 8.87: 2, 14.32: 9, 14.07: 4, 14.82: 3, 46.72: 2, 15.32: 5, 15.57: 4, 15.82: 3, 35.35: 2, 16.82: 7, 16.07: 8, 16.57: 2, 16.32: 4, 17.07: 7, 17.57: 6, 17.32: 3, 5.79: 5, 18.82: 3, 18.07: 2, 5.29: 10, 18.32: 5, 6.29: 3, 6.54: 3, 19.07: 2, 5.54: 3, 36.35: 7, 7.29: 3, 7.54: 3, 20.07: 5, 7.79: 5, 19.57: 7, 20.32: 6, 21.07: 6, 21.57: 2, 21.82: 6, 7.04: 4, 20.57: 4, 22.82: 5, 22.57: 6, 22.32: 3, 21.32: 2, 22.07: 2, 10.62: 4, 23.07: 5, 23.32: 2, 23.82: 7, 37.35: 5, 24.82: 5, 24.32: 5, 24.57: 5, 25.07: 11, 25.82: 5, 25.57: 2, 25.32: 2, 26.07: 5, 26.57: 3, 26.82: 2, 26.32: 4, 27.82: 10, 27.32: 6, 27.57: 3, 27.07: 5, 28.82: 2, 28.32: 6, 28.57: 2, 28.07: 3, 29.07: 7, 29.82: 5, 29.57: 2, 49.97: 2, 30.57: 6, 30.32: 8, 30.07: 2, 5.26: 5, 5.76: 4, 31.07: 5, 31.57: 5, 6.01: 6, 6.76: 6, 6.51: 5, 32.82: 4, 32.07: 5, 7.51: 4, 7.26: 3, 7.01: 7, 33.57: 6, 7.76: 3, 8.26: 5, 8.51: 5, 8.01: 5, 34.07: 8, 34.32: 4, 9.26: 4, 9.01: 3, 33.07: 8, 35.07: 5, 35.57: 4, 10.01: 7, 10.26: 5, 34.82: 3, 36.57: 3, 36.07: 8, 36.32: 6, 36.82: 2, 11.51: 3, 37.07: 5, 37.32: 2, 12.01: 3, 12.51: 6, 12.26: 5, 38.82: 7, 12.76: 5, 13.51: 2, 13.01: 5, 13.26: 3, 39.82: 6, 39.57: 6, 14.01: 4, 14.51: 3, 39.32: 4, 40.07: 4, 40.57: 3, 15.51: 6, 15.01: 4, 39.07: 2, 41.07: 5, 41.57: 2, 41.82: 7, 15.26: 6, 40.82: 2, 42.32: 2, 42.82: 4, 42.07: 2, 42.57: 3, 14.37: 2, 43.32: 6, 43.07: 3, 43.57: 7, 43.82: 5, 41.1: 5, 44.57: 6, 44.07: 6, 44.82: 3, 44.32: 6, 45.57: 5, 45.32: 7, 45.07: 2, 45.82: 4, 46.07: 6, 46.57: 4, 46.32: 4, 46.82: 3, 47.82: 5, 47.32: 6, 47.07: 6, 47.57: 3, 48.07: 4, 48.82: 2, 42.85: 2, 42.1: 5, 49.82: 9, 49.07: 7, 49.32: 2, 49.57: 5, 48.57: 2, 47.37: 3, 47.87: 2, 44.6: 2, 8.2: 2, 8.45: 4, 8.95: 5, 8.7: 4, 9.2: 6, 9.95: 7, 9.45: 4, 9.7: 2, 10.45: 7, 10.95: 4, 10.7: 6, 10.2: 4, 11.2: 4, 11.45: 4, 11.95: 2, 11.7: 2, 12.95: 5, 12.45: 4, 12.2: 11, 12.7: 6, 45.35: 4, 13.95: 4, 13.7: 5, 13.2: 5, 13.45: 5, 14.2: 6, 14.45: 4, 14.7: 4, 15.45: 7, 15.7: 3, 15.2: 4, 16.2: 8, 16.95: 4, 16.45: 3, 17.7: 5, 17.45: 6, 17.95: 3, 17.2: 6, 18.7: 5, 18.45: 2, 18.95: 7, 18.2: 2, 19.95: 2, 19.7: 2, 19.2: 2, 20.2: 3, 20.7: 7, 20.95: 4, 20.45: 4, 21.45: 4, 21.7: 6, 21.2: 6, 21.95: 4, 22.2: 4, 22.95: 6, 33.68: 2, 22.7: 3, 22.45: 6, 23.2: 3, 23.45: 3, 23.95: 5, 23.7: 7, 47.85: 3, 24.2: 7, 24.45: 6, 24.95: 3, 24.7: 2, 25.95: 4, 25.45: 5, 25.2: 2, 25.7: 3, 18.34: 2, 26.2: 8, 26.95: 7, 26.7: 5, 26.45: 4, 27.7: 3, 27.45: 5, 27.95: 5, 48.35: 2, 48.6: 7, 28.7: 4, 28.45: 7, 28.2: 8, 28.95: 6, 27.2: 2, 29.2: 5, 29.95: 5, 29.7: 5, 29.45: 5, 30.45: 4, 30.2: 7, 19.34: 5, 31.45: 4, 31.2: 5, 31.95: 2, 31.7: 2, 30.7: 2, 38.45: 2, 26.15: 3, 19.98: 6, 19.73: 3, 34.93: 5, 17.03: 3, 5.04: 6, 6.04: 5, 39.95: 2, 16.33: 6, 16.58: 3, 16.08: 5, 16.83: 7, 17.58: 6, 17.08: 5, 17.33: 3, 18.58: 5, 18.83: 4, 18.08: 3, 18.33: 5, 19.33: 4, 19.08: 3, 19.83: 2, 19.58: 5, 20.83: 6, 20.08: 4, 20.58: 2, 20.33: 3, 21.58: 5, 21.33: 5, 21.08: 4, 21.83: 2, 22.83: 3, 22.58: 4, 22.08: 3, 23.08: 5, 23.58: 4, 23.83: 3, 23.33: 3, 33.65: 2, 24.83: 4, 24.58: 3, 24.08: 5, 25.83: 3, 46.77: 4, 46.52: 2, 25.08: 3, 46.27: 2, 26.58: 5, 26.83: 4, 26.33: 4, 27.83: 4, 27.58: 5, 27.08: 5, 27.33: 5, 28.83: 5, 34.15: 7, 28.33: 6, 28.08: 4, 29.33: 5, 29.58: 3, 29.08: 6, 29.83: 7, 30.08: 3, 30.58: 6, 30.33: 4, 30.83: 4, 31.08: 3, 31.83: 5, 31.58: 2, 31.33: 3, 32.95: 5, 32.45: 4, 32.7: 3, 32.83: 6, 32.33: 5, 33.95: 4, 33.83: 3, 33.33: 10, 33.7: 6, 33.45: 4, 34.45: 4, 34.08: 3, 34.7: 8, 34.83: 2, 34.2: 4, 35.2: 5, 35.83: 4, 35.33: 5, 35.08: 5, 35.95: 3, 36.33: 3, 36.08: 3, 35.7: 6, 35.58: 2, 37.33: 2, 37.83: 4, 37.95: 2, 37.58: 8, 37.08: 8, 38.2: 3, 38.83: 7, 37.7: 4, 38.95: 2, 39.7: 3, 39.08: 3, 39.83: 6, 39.33: 3, 38.58: 4, 40.2: 10, 40.33: 5, 40.7: 6, 40.08: 5, 40.83: 6, 41.45: 7, 41.33: 5, 41.2: 4, 41.08: 2, 41.7: 9, 42.7: 8, 42.33: 6, 42.58: 5, 42.08: 5, 41.95: 5, 43.58: 8, 43.2: 4, 43.7: 3, 43.33: 3, 43.95: 3, 44.7: 3, 44.45: 3, 44.95: 7, 44.83: 4, 44.2: 9, 45.83: 5, 45.08: 7, 45.7: 5, 45.2: 5, 45.95: 6, 46.08: 4, 46.7: 8, 46.58: 6, 46.2: 2, 45.58: 6, 47.33: 5, 47.58: 3, 47.2: 2, 47.45: 5, 48.83: 7, 48.58: 8, 48.95: 4, 48.33: 7, 48.7: 5, 49.7: 5, 49.83: 9, 49.2: 5, 49.95: 2, 48.08: 5, 47.27: 3, 49.45: 3, 49.08: 3, 49.33: 6, 49.58: 7, 39.9: 7, 40.65: 3, 40.15: 3, 40.4: 2, 41.65: 2, 45.8: 5, 42.65: 5, 32.03: 4, 33.28: 4, 33.78: 3, 44.15: 4, 34.03: 5, 34.78: 6, 35.78: 2, 35.03: 3, 46.65: 5, 46.55: 2, 36.03: 3, 36.28: 2, 47.4: 7, 37.53: 5, 37.78: 2, 48.65: 4, 5.24: 6, 38.78: 3, 38.53: 6, 39.53: 5, 39.28: 2, 8.46: 7, 8.96: 3, 8.71: 7, 9.71: 3, 9.96: 3, 9.21: 5, 9.46: 6, 5.65: 3, 10.96: 4, 10.71: 5, 40.78: 5, 40.53: 4, 11.21: 3, 11.71: 3, 11.96: 5, 40.28: 2, 11.46: 2, 12.21: 9, 12.96: 8, 12.71: 6, 12.46: 8, 13.71: 7, 13.46: 4, 13.21: 3, 13.96: 2, 14.21: 6, 14.46: 2, 14.96: 4, 14.71: 7, 15.46: 7, 15.71: 6, 15.96: 6, 41.78: 5, 41.28: 3, 16.21: 5, 16.96: 3, 16.71: 4, 37.38: 3, 17.96: 6, 17.46: 7, 17.21: 4, 16.46: 3, 18.71: 3, 18.46: 4, 18.96: 3, 18.21: 5, 19.21: 4, 19.46: 8, 19.96: 5, 19.71: 2, 20.71: 6, 20.21: 7, 42.28: 6, 20.46: 4, 20.96: 3, 21.71: 5, 21.96: 5, 21.21: 7, 21.46: 5, 22.96: 2, 22.46: 5, 22.71: 5, 22.21: 3, 23.46: 7, 23.21: 7, 23.96: 2, 24.96: 6, 24.21: 7, 24.46: 5, 24.71: 2, 25.46: 6, 25.96: 3, 25.21: 5, 25.71: 5, 26.46: 5, 26.71: 7, 26.21: 4, 26.96: 3, 27.96: 3, 27.46: 6, 27.21: 5, 28.46: 4, 28.71: 2, 28.96: 7, 28.21: 2, 29.71: 2, 29.21: 7, 29.46: 7, 9.25: 5, 29.96: 2, 30.46: 4, 30.71: 8, 30.21: 4, 5.4: 6, 30.96: 4, 31.46: 5, 31.21: 4, 35.91: 6, 6.15: 7, 6.65: 6, 31.96: 10, 32.21: 8, 32.46: 6, 32.71: 5, 7.9: 4, 7.65: 2, 33.46: 4, 33.21: 3, 8.9: 2, 8.65: 9, 8.4: 5, 34.71: 5, 34.21: 3, 9.4: 10, 8.15: 7, 9.65: 5, 35.21: 2, 35.96: 3, 10.65: 4, 10.4: 4, 10.15: 2, 36.96: 3, 36.71: 5, 11.4: 7, 36.21: 4, 37.21: 4, 11.9: 4, 12.9: 8, 12.65: 5, 12.4: 7, 38.46: 3, 38.71: 4, 13.15: 4, 13.9: 3, 13.65: 4, 39.96: 8, 39.21: 8, 38.21: 8, 39.71: 5, 40.96: 5, 40.46: 4, 15.9: 3, 15.65: 4, 15.4: 4, 41.46: 4, 41.96: 6, 41.21: 6, 41.71: 9, 15.15: 8, 42.46: 2, 42.71: 4, 42.21: 5, 43.96: 6, 43.21: 5, 5.12: 4, 5.62: 7, 43.71: 3, 44.46: 4, 6.12: 6, 6.37: 2, 44.71: 9, 6.87: 6, 44.21: 6, 7.12: 7, 7.87: 8, 7.37: 4, 45.46: 3, 46.21: 4, 46.96: 6, 46.71: 2, 45.21: 2, 45.71: 3, 47.46: 3, 47.21: 3, 47.71: 2, 46.46: 5, 48.21: 4, 48.71: 6, 48.96: 2, 48.46: 5, 49.71: 6, 49.96: 5, 49.46: 8, 49.21: 5, 48.78: 2, 34.61: 4, 5.11: 2, 36.41: 2, 5.09: 5, 5.84: 5, 5.34: 7, 5.59: 4, 6.09: 5, 6.84: 3, 6.59: 2, 6.34: 7, 7.59: 5, 7.34: 9, 8.34: 9, 8.84: 4, 8.59: 3, 8.09: 2, 9.59: 3, 9.84: 7, 9.09: 3, 9.34: 3, 10.59: 3, 10.34: 4, 10.84: 3, 10.09: 2, 11.34: 5, 11.59: 5, 11.84: 4, 12.34: 4, 12.09: 3, 12.84: 4, 12.59: 3, 13.84: 5, 13.09: 9, 13.34: 2, 14.34: 5, 14.84: 8, 14.09: 4, 15.09: 2, 15.59: 5, 15.34: 6, 15.84: 5, 16.34: 5, 16.59: 5, 16.84: 3, 16.09: 5, 17.59: 9, 17.84: 3, 17.09: 4, 5.81: 6, 5.56: 5, 5.31: 5, 18.59: 4, 18.09: 5, 6.31: 4, 19.59: 6, 6.06: 2, 19.84: 4, 7.31: 5, 20.84: 4, 20.59: 4, 7.81: 5, 20.09: 3, 20.34: 3, 21.84: 6, 21.09: 3, 7.06: 6, 21.59: 2, 22.09: 5, 22.84: 4, 22.59: 2, 23.09: 7, 23.34: 5, 23.84: 4, 23.59: 4, 24.84: 9, 24.59: 7, 24.34: 7, 24.09: 2, 25.84: 3, 25.09: 3, 25.59: 4, 25.34: 5, 26.59: 5, 26.84: 5, 26.09: 2, 26.34: 2, 5.97: 3, 27.09: 2, 27.34: 3, 27.59: 9, 27.84: 3, 28.59: 3, 28.34: 7, 28.84: 5, 28.09: 3, 29.09: 4, 29.34: 5, 29.84: 7, 37.66: 4, 37.91: 6, 30.09: 6, 30.59: 4, 30.84: 3, 29.59: 4, 31.09: 2, 31.59: 8, 31.84: 4, 6.22: 5, 31.34: 2, 8.03: 4, 8.78: 5, 8.53: 2, 9.78: 5, 9.03: 4, 9.28: 6, 10.53: 6, 10.03: 7, 10.28: 12, 10.78: 6, 11.53: 3, 11.03: 5, 11.28: 3, 11.78: 3, 12.53: 5, 12.28: 4, 12.03: 8, 12.78: 2, 13.03: 4, 13.78: 4, 13.53: 3, 14.53: 6, 14.28: 4, 14.03: 3, 14.78: 3, 5.44: 4, 15.28: 2, 15.03: 5, 15.78: 4, 32.08: 4, 5.94: 4, 32.58: 2, 6.44: 2, 33.58: 5, 33.08: 3, 7.94: 4, 34.33: 3, 5.39: 7, 5.19: 8, 7.78: 6, 5.69: 6, 7.44: 4, 5.14: 5, 5.89: 3, 6.39: 6, 6.89: 3, 7.64: 4, 7.14: 3, 7.39: 4, 7.86: 3, 7.36: 2, 36.83: 3, 36.58: 4, 16.72: 4, 16.22: 4, 16.47: 5, 17.47: 4, 17.22: 9, 17.72: 4, 17.97: 7, 18.72: 3, 18.22: 2, 18.97: 5, 19.47: 6, 19.22: 6, 19.72: 5, 38.33: 4, 20.22: 6, 20.47: 5, 20.97: 5, 20.72: 2, 21.97: 6, 21.72: 2, 21.22: 6, 22.47: 4, 22.72: 4, 22.22: 8, 23.47: 6, 23.97: 4, 23.22: 3, 23.72: 7, 46.48: 5, 24.22: 9, 24.47: 4, 24.97: 3, 39.58: 9, 24.72: 2, 25.47: 8, 25.22: 3, 25.97: 5, 25.72: 3, 26.22: 7, 26.47: 7, 26.72: 2, 27.72: 6, 27.22: 3, 27.47: 4, 37.13: 2, 27.97: 2, 28.97: 4, 28.47: 5, 28.72: 3, 28.22: 2, 29.47: 7, 29.97: 3, 29.22: 2, 29.72: 4, 40.58: 2, 30.22: 6, 30.47: 6, 30.72: 2, 30.97: 4, 31.72: 5, 31.22: 5, 31.47: 5, 31.97: 3, 32.09: 8, 32.97: 4, 32.59: 8, 32.34: 6, 32.84: 4, 33.22: 4, 33.59: 3, 33.47: 4, 32.72: 3, 33.34: 2, 34.59: 6, 34.97: 4, 34.84: 5, 34.72: 4, 34.47: 2, 35.97: 4, 35.59: 5, 35.09: 5, 35.22: 7, 35.72: 5, 36.09: 5, 36.59: 8, 36.47: 3, 35.34: 5, 37.34: 3, 37.97: 6, 37.09: 6, 37.72: 2, 38.97: 5, 38.34: 7, 38.72: 5, 38.09: 3, 38.59: 3, 39.47: 3, 39.84: 4, 39.72: 3, 39.59: 6, 39.34: 6, 40.34: 7, 40.72: 4, 39.97: 4, 40.22: 3, 40.59: 2, 41.97: 5, 41.47: 6, 41.84: 4, 41.59: 3, 41.09: 3, 42.09: 4, 42.22: 3, 42.59: 4, 41.22: 3, 42.47: 9, 43.97: 2, 43.47: 3, 43.72: 6, 43.22: 4, 43.59: 6, 44.97: 4, 44.09: 5, 44.34: 6, 44.22: 5, 44.47: 4, 45.09: 6, 45.84: 5, 45.34: 7, 45.59: 6, 46.59: 6, 46.09: 8, 46.22: 10, 46.34: 5, 47.22: 4, 47.34: 6, 47.59: 6, 47.84: 4, 47.72: 2, 48.22: 3, 48.72: 4, 48.34: 3, 48.09: 5, 48.97: 3, 49.84: 3, 49.34: 8, 49.22: 2, 44.58: 8, 49.09: 4, 49.47: 4, 44.33: 3, 44.08: 3, 49.59: 2, 34.46: 2, 45.33: 5, 35.71: 3, 29.13: 3, 46.83: 4, 46.33: 2, 36.46: 5, 47.83: 6, 37.96: 5, 37.71: 4, 5.42: 2, 38.96: 3, 40.21: 3, 40.71: 4, 43.46: 5, 9.19: 3, 33.84: 2, 44.96: 6, 34.34: 5, 34.09: 3, 10.64: 2, 45.96: 2, 32.2: 3, 36.34: 8, 36.84: 4, 16.35: 7, 16.1: 6, 16.6: 5, 16.85: 2, 17.85: 8, 17.1: 2, 17.35: 6, 17.6: 3, 18.85: 2, 18.6: 6, 18.35: 2, 18.1: 4, 19.35: 3, 19.6: 2, 19.85: 4, 19.1: 4, 20.35: 6, 20.85: 4, 20.6: 6, 20.1: 3, 37.84: 5, 21.6: 2, 21.85: 3, 22.6: 5, 22.85: 3, 22.1: 4, 22.35: 6, 23.85: 7, 23.6: 4, 23.1: 3, 24.35: 3, 24.1: 8, 24.6: 2, 24.85: 2, 25.35: 4, 25.6: 4, 25.85: 5, 25.1: 7, 38.84: 3, 26.1: 7, 26.6: 4, 26.35: 5, 26.85: 4, 27.1: 7, 27.85: 4, 27.6: 7, 27.35: 6, 28.85: 9, 28.1: 4, 28.6: 5, 29.85: 3, 29.1: 3, 29.35: 6, 29.6: 9, 30.35: 6, 30.6: 3, 39.09: 5, 31.1: 8, 31.85: 8, 31.6: 5, 31.35: 5, 32.6: 5, 32.48: 5, 32.35: 5, 32.73: 8, 33.48: 4, 33.73: 4, 33.23: 5, 33.1: 5, 33.85: 4, 34.85: 5, 34.23: 10, 34.48: 2, 34.98: 5, 33.6: 2, 35.6: 6, 35.1: 3, 35.73: 4, 35.48: 4, 34.1: 5, 36.1: 6, 36.73: 5, 36.85: 2, 36.48: 5, 36.23: 4, 37.23: 6, 37.85: 5, 37.6: 5, 37.1: 8, 37.98: 3, 38.85: 2, 38.1: 4, 38.6: 2, 38.73: 5, 38.98: 5, 39.98: 9, 38.23: 3, 39.73: 4, 39.23: 7, 39.48: 4, 40.85: 4, 40.35: 3, 39.35: 9, 39.85: 3, 40.98: 8, 41.35: 7, 41.98: 8, 41.85: 3, 41.23: 5, 41.73: 7, 42.6: 4, 41.6: 3, 41.48: 5, 42.48: 4, 43.73: 3, 43.98: 5, 43.1: 4, 43.85: 7, 43.35: 7, 44.73: 7, 44.48: 3, 44.23: 5, 44.35: 7, 43.6: 4, 45.23: 3, 45.6: 7, 44.85: 6, 45.48: 7, 45.73: 3, 46.85: 4, 46.1: 8, 46.35: 7, 45.1: 3, 47.6: 4, 47.48: 3, 47.73: 2, 47.1: 6, 47.35: 5, 48.23: 2, 48.85: 11, 48.1: 8, 47.23: 5, 48.98: 11, 49.23: 5, 49.35: 4, 49.1: 10, 49.98: 5, 49.85: 3, 49.73: 2, 49.6: 8, 43.84: 6, 44.16: 3, 44.66: 3, 44.59: 5, 44.84: 2, 5.23: 4, 5.73: 5, 5.48: 11, 5.98: 5, 6.48: 4, 6.98: 7, 6.23: 6, 6.73: 2, 20.14: 2, 7.98: 3, 7.23: 3, 7.73: 4, 7.48: 2, 8.23: 5, 8.98: 4, 8.73: 6, 9.98: 6, 9.23: 5, 9.73: 2, 9.48: 2, 10.73: 4, 10.98: 9, 10.23: 3, 10.48: 2, 11.48: 5, 11.23: 4, 11.98: 6, 5.87: 2, 5.37: 6, 12.48: 4, 12.98: 8, 12.23: 4, 11.73: 2, 32.51: 3, 13.23: 8, 13.48: 5, 13.98: 6, 13.73: 5, 12.73: 2, 14.73: 5, 14.98: 2, 46.84: 6, 14.23: 2, 14.48: 2, 15.23: 3, 15.98: 6, 15.73: 3, 15.48: 5, 16.23: 4, 16.48: 4, 16.73: 5, 16.98: 4, 17.73: 6, 17.48: 2, 17.98: 7, 17.23: 2, 5.7: 2, 18.48: 4, 5.2: 5, 18.98: 4, 5.95: 3, 6.45: 10, 6.95: 7, 19.23: 9, 18.23: 3, 7.95: 2, 20.73: 6, 7.45: 10, 20.98: 4, 20.23: 3, 20.48: 6, 21.23: 5, 21.98: 5, 21.48: 4, 34.76: 2, 22.98: 3, 22.73: 4, 22.23: 9, 22.48: 3, 21.73: 3, 23.48: 3, 23.98: 3, 23.73: 5, 24.98: 5, 24.48: 6, 48.59: 5, 24.23: 4, 48.84: 5, 25.23: 6, 25.98: 3, 45.41: 4, 26.48: 4, 26.98: 3, 26.73: 3, 35.26: 2, 27.23: 4, 27.98: 3, 27.48: 6, 27.73: 4, 28.23: 3, 28.48: 7, 28.73: 7, 28.98: 3, 29.98: 3, 29.23: 2, 29.73: 2, 29.48: 2, 30.48: 4, 30.98: 6, 30.73: 5, 5.17: 7, 5.92: 2, 31.23: 4, 31.73: 3, 31.48: 4, 6.67: 6, 6.42: 4, 6.17: 4, 6.92: 3, 5.67: 5, 7.67: 9, 7.42: 3, 7.17: 6, 7.92: 3, 36.76: 4, 8.42: 6, 8.17: 5, 8.67: 4, 9.92: 4, 9.17: 5, 9.67: 3, 9.42: 2, 10.92: 3, 10.42: 6, 10.67: 5, 10.17: 3, 11.92: 3, 11.67: 4, 11.42: 3, 11.17: 2, 12.67: 3, 12.92: 5, 12.42: 2, 13.42: 3, 13.67: 4, 13.92: 4, 13.17: 5, 14.92: 4, 14.67: 4, 14.42: 4, 14.17: 5, 15.67: 4, 15.92: 6, 15.17: 5, 15.42: 2, 38.76: 3, 38.01: 6, 5.64: 2, 42.31: 3, 6.64: 4, 42.06: 4, 7.89: 3, 39.01: 7, 30.14: 4, 8.86: 2, 8.36: 3, 31.39: 4, 9.11: 4, 9.61: 4, 9.36: 3, 9.86: 3, 31.64: 2, 10.11: 5, 10.36: 6, 10.61: 6, 10.86: 2, 11.86: 5, 11.11: 9, 11.36: 3, 11.61: 5, 12.36: 7, 12.11: 3, 12.61: 3, 12.86: 4, 13.11: 7, 13.61: 5, 13.86: 10, 32.22: 2, 14.36: 4, 14.61: 5, 14.11: 4, 32.47: 2, 32.64: 2, 15.61: 3, 15.11: 6, 15.36: 5, 43.76: 6, 43.26: 5, 16.61: 4, 16.11: 6, 16.86: 4, 43.51: 3, 17.61: 8, 17.11: 6, 17.86: 6, 17.36: 4, 18.86: 5, 18.61: 4, 18.11: 2, 18.36: 4, 43.06: 3, 19.61: 5, 19.11: 6, 19.86: 6, 19.36: 4, 33.39: 3, 20.11: 3, 20.61: 8, 20.36: 4, 20.86: 3, 21.36: 4, 21.86: 4, 21.61: 5, 21.11: 4, 22.36: 5, 22.86: 6, 22.11: 3, 22.61: 6, 23.86: 2, 23.36: 5, 23.61: 2, 23.11: 5, 24.36: 5, 24.11: 5, 24.86: 4, 34.14: 2, 25.61: 3, 25.11: 3, 45.01: 3, 25.86: 3, 25.36: 5, 26.86: 6, 26.36: 5, 26.61: 4, 26.11: 5, 27.61: 7, 27.11: 5, 27.86: 7, 27.36: 4, 28.36: 3, 28.61: 5, 28.11: 2, 28.86: 5, 29.11: 6, 29.36: 5, 29.86: 4, 29.61: 5, 35.89: 6, 30.11: 6, 30.61: 4, 30.36: 6, 46.01: 3, 46.26: 2, 31.36: 4, 31.11: 5, 31.86: 5, 30.86: 5, 32.36: 6, 32.61: 3, 32.86: 7, 32.11: 4, 33.61: 6, 33.11: 6, 33.86: 4, 33.36: 2, 34.11: 5, 34.86: 8, 34.36: 4, 36.14: 2, 36.39: 5, 35.86: 5, 35.61: 6, 35.36: 4, 35.11: 2, 47.26: 3, 36.36: 3, 36.61: 8, 36.89: 4, 36.11: 4, 36.86: 2, 37.61: 4, 37.86: 2, 37.11: 5, 37.36: 4, 38.36: 3, 38.86: 3, 39.36: 6, 39.86: 6, 39.61: 3, 37.64: 4, 37.39: 3, 40.86: 5, 40.61: 7, 40.36: 3, 39.11: 2, 40.11: 2, 41.36: 8, 41.86: 6, 41.61: 5, 41.11: 5, 42.61: 4, 42.86: 7, 42.36: 5, 42.11: 4, 43.61: 5, 43.86: 4, 43.36: 9, 43.11: 3, 44.31: 6, 44.36: 9, 44.86: 4, 44.11: 6, 44.61: 5, 38.39: 6, 45.36: 5, 45.61: 5, 45.86: 5, 46.86: 7, 46.36: 4, 46.11: 4, 47.61: 2, 47.86: 6, 47.11: 6, 47.36: 4, 48.36: 5, 48.61: 5, 48.86: 5, 48.11: 5, 49.86: 5, 49.11: 3, 7.3: 2, 9.12: 2, 16.74: 4, 16.49: 6, 16.24: 7, 16.99: 2, 17.74: 3, 17.24: 3, 17.99: 6, 17.49: 2, 18.49: 3, 18.99: 5, 32.27: 4, 18.74: 3, 18.24: 3, 19.74: 2, 19.49: 4, 19.99: 5, 43.64: 3, 20.24: 6, 20.49: 6, 20.99: 4, 20.74: 3, 19.24: 3, 21.99: 7, 21.49: 4, 21.74: 3, 21.24: 3, 22.74: 5, 22.49: 3, 22.24: 3, 22.99: 3, 23.24: 4, 23.74: 10, 23.49: 4, 23.99: 5, 33.02: 3, 24.49: 3, 24.74: 4, 24.24: 8, 24.99: 5, 33.52: 3, 25.99: 3, 25.24: 3, 25.74: 4, 25.49: 5, 26.74: 3, 26.49: 6, 26.99: 6, 26.24: 3, 27.99: 5, 27.74: 7, 27.49: 6, 10.12: 3, 28.74: 4, 28.99: 2, 34.02: 5, 34.27: 4, 28.49: 3, 29.49: 4, 29.24: 6, 29.99: 5, 28.24: 2, 30.99: 5, 30.49: 7, 30.74: 6, 13.6: 3, 31.74: 6, 31.99: 2, 31.49: 2, 31.24: 2, 35.02: 6, 33.42: 2, 36.02: 3, 37.52: 4, 38.52: 3, 38.27: 4, 39.52: 3, 39.27: 3, 40.77: 2, 34.42: 2, 42.77: 5, 42.02: 2, 18.57: 6, 43.77: 3, 43.02: 5, 19.82: 2, 12.87: 6, 44.77: 6, 44.27: 5, 44.02: 8, 12.62: 4, 20.82: 2, 45.52: 5, 45.77: 4, 32.37: 8, 32.49: 3, 32.99: 2, 32.74: 10, 32.12: 7, 33.12: 4, 33.99: 6, 33.49: 5, 33.74: 5, 33.62: 3, 34.49: 5, 34.37: 7, 34.74: 4, 33.37: 10, 34.24: 6, 35.74: 3, 35.62: 3, 34.99: 3, 34.62: 3, 36.12: 6, 36.74: 6, 36.62: 4, 36.99: 8, 35.49: 3, 37.74: 8, 37.99: 4, 37.49: 4, 37.37: 4, 36.87: 3, 38.37: 5, 38.12: 8, 38.74: 3, 38.62: 4, 6.55: 3, 39.49: 3, 39.62: 6, 39.37: 7, 39.87: 2, 40.12: 5, 40.62: 4, 40.37: 5, 40.49: 4, 40.74: 6, 41.49: 8, 41.24: 3, 41.99: 4, 41.87: 3, 41.62: 4, 42.24: 8, 42.99: 7, 42.49: 3, 42.74: 2, 42.62: 3, 43.62: 2, 43.49: 6, 43.74: 8, 43.99: 2, 43.37: 3, 44.37: 2, 44.12: 5, 44.99: 3, 44.74: 3, 44.87: 3, 45.62: 2, 45.99: 2, 45.24: 3, 44.62: 5, 45.12: 3, 46.62: 5, 46.12: 5, 46.87: 4, 46.37: 6, 48.27: 4, 47.99: 6, 47.74: 6, 47.12: 5, 47.24: 4, 47.49: 3, 48.49: 5, 48.87: 5, 48.74: 5, 48.12: 5, 48.99: 7, 49.62: 5, 49.99: 4, 49.74: 2, 49.49: 3, 49.87: 5, 49.12: 4, 49.37: 2, 13.62: 2, 49.02: 2, 36.69: 3, 36.94: 2, 37.94: 2, 37.69: 3, 38.94: 3, 16.87: 5, 16.62: 8, 16.12: 2, 16.37: 4, 17.62: 7, 17.37: 5, 17.87: 6, 17.12: 4, 39.19: 6, 18.37: 7, 18.87: 4, 18.62: 3, 18.12: 6, 19.12: 3, 19.37: 5, 19.62: 5, 19.87: 3, 20.62: 4, 20.12: 2, 20.37: 2, 21.12: 6, 21.37: 6, 21.87: 4, 21.62: 5, 22.62: 4, 22.87: 5, 22.12: 7, 22.37: 3, 40.69: 6, 23.37: 3, 23.62: 3, 40.19: 3, 23.87: 2, 24.87: 3, 24.62: 6, 24.37: 5, 25.12: 6, 25.62: 3, 14.87: 2, 25.87: 5, 26.37: 4, 26.62: 2, 26.87: 5, 30.82: 7, 26.12: 3, 27.37: 3, 27.12: 4, 27.87: 3, 27.62: 4, 41.69: 4, 28.87: 5, 28.62: 6, 28.37: 5, 28.12: 2, 29.12: 2, 29.62: 2, 29.37: 4, 29.87: 2, 30.62: 3, 30.12: 3, 30.87: 3, 30.37: 2, 31.37: 9, 31.62: 4, 31.87: 7, 31.12: 5, 31.32: 5, 8.81: 8, 8.31: 2, 8.06: 6, 8.56: 3, 9.31: 9, 9.06: 3, 9.56: 3, 9.81: 5, 10.06: 4, 10.56: 5, 10.31: 4, 10.81: 5, 11.81: 2, 11.56: 9, 11.31: 2, 32.32: 3, 12.56: 8, 12.81: 3, 12.06: 6, 43.69: 5, 12.31: 4, 13.56: 4, 13.31: 5, 13.06: 2, 13.81: 4, 43.94: 4, 14.31: 4, 14.06: 5, 14.81: 3, 14.56: 2, 15.56: 5, 15.06: 2, 15.81: 4, 15.31: 2, 33.32: 5, 33.82: 2, 44.94: 2, 5.53: 7, 5.28: 5, 5.03: 4, 5.78: 3, 6.53: 7, 6.28: 4, 6.78: 4, 6.03: 3, 7.53: 5, 7.03: 4, 34.57: 6, 45.44: 2, 45.94: 4, 45.19: 4, 32.44: 4}\n",
            "{0: 10752, 1: 51, 2: 24, 4: 7, 5: 3, 6: 11, 7: 1460, 8: 46, 9: 106, 10: 6, 11: 53, 12: 64, 13: 4280, 14: 2, 15: 554, 16: 603, 17: 260, 18: 548, 19: 3}\n",
            "{0: 4, 1: 8493, 2: 183, 3: 64, 4: 1263, 5: 12, 6: 5, 7: 3608, 8: 58, 9: 5144}\n",
            "{0.0: 9000, 1.0: 8357, 2.0: 1477}\n",
            "{0: 88, 1: 7184, 2: 10621, 4: 941}\n"
          ],
          "name": "stdout"
        }
      ]
    },
    {
      "cell_type": "code",
      "metadata": {
        "colab": {
          "base_uri": "https://localhost:8080/",
          "height": 419
        },
        "id": "O4WaqCBz2k_R",
        "outputId": "ddaec290-dcf8-407d-de5f-8a18a264fa8d"
      },
      "source": [
        "# удаление бесполезных столбцов\r\n",
        "\r\n",
        "train = train.drop(['issue_date', 'listing_date', 'pet_id'], axis = 1) \r\n",
        "train"
      ],
      "execution_count": 8,
      "outputs": [
        {
          "output_type": "execute_result",
          "data": {
            "text/html": [
              "<div>\n",
              "<style scoped>\n",
              "    .dataframe tbody tr th:only-of-type {\n",
              "        vertical-align: middle;\n",
              "    }\n",
              "\n",
              "    .dataframe tbody tr th {\n",
              "        vertical-align: top;\n",
              "    }\n",
              "\n",
              "    .dataframe thead th {\n",
              "        text-align: right;\n",
              "    }\n",
              "</style>\n",
              "<table border=\"1\" class=\"dataframe\">\n",
              "  <thead>\n",
              "    <tr style=\"text-align: right;\">\n",
              "      <th></th>\n",
              "      <th>condition</th>\n",
              "      <th>color_type</th>\n",
              "      <th>length(m)</th>\n",
              "      <th>height(cm)</th>\n",
              "      <th>X1</th>\n",
              "      <th>X2</th>\n",
              "      <th>breed_category</th>\n",
              "      <th>pet_category</th>\n",
              "    </tr>\n",
              "  </thead>\n",
              "  <tbody>\n",
              "    <tr>\n",
              "      <th>0</th>\n",
              "      <td>2.00000</td>\n",
              "      <td>Brown Tabby</td>\n",
              "      <td>0.80</td>\n",
              "      <td>7.78</td>\n",
              "      <td>13</td>\n",
              "      <td>9</td>\n",
              "      <td>0.0</td>\n",
              "      <td>1</td>\n",
              "    </tr>\n",
              "    <tr>\n",
              "      <th>1</th>\n",
              "      <td>1.00000</td>\n",
              "      <td>White</td>\n",
              "      <td>0.72</td>\n",
              "      <td>14.19</td>\n",
              "      <td>13</td>\n",
              "      <td>9</td>\n",
              "      <td>0.0</td>\n",
              "      <td>2</td>\n",
              "    </tr>\n",
              "    <tr>\n",
              "      <th>2</th>\n",
              "      <td>0.88339</td>\n",
              "      <td>Brown</td>\n",
              "      <td>0.15</td>\n",
              "      <td>40.90</td>\n",
              "      <td>15</td>\n",
              "      <td>4</td>\n",
              "      <td>2.0</td>\n",
              "      <td>4</td>\n",
              "    </tr>\n",
              "    <tr>\n",
              "      <th>3</th>\n",
              "      <td>1.00000</td>\n",
              "      <td>White</td>\n",
              "      <td>0.62</td>\n",
              "      <td>17.82</td>\n",
              "      <td>0</td>\n",
              "      <td>1</td>\n",
              "      <td>0.0</td>\n",
              "      <td>2</td>\n",
              "    </tr>\n",
              "    <tr>\n",
              "      <th>4</th>\n",
              "      <td>2.00000</td>\n",
              "      <td>Black</td>\n",
              "      <td>0.50</td>\n",
              "      <td>11.06</td>\n",
              "      <td>18</td>\n",
              "      <td>4</td>\n",
              "      <td>0.0</td>\n",
              "      <td>1</td>\n",
              "    </tr>\n",
              "    <tr>\n",
              "      <th>...</th>\n",
              "      <td>...</td>\n",
              "      <td>...</td>\n",
              "      <td>...</td>\n",
              "      <td>...</td>\n",
              "      <td>...</td>\n",
              "      <td>...</td>\n",
              "      <td>...</td>\n",
              "      <td>...</td>\n",
              "    </tr>\n",
              "    <tr>\n",
              "      <th>18829</th>\n",
              "      <td>2.00000</td>\n",
              "      <td>Tricolor</td>\n",
              "      <td>0.44</td>\n",
              "      <td>27.36</td>\n",
              "      <td>0</td>\n",
              "      <td>1</td>\n",
              "      <td>0.0</td>\n",
              "      <td>2</td>\n",
              "    </tr>\n",
              "    <tr>\n",
              "      <th>18830</th>\n",
              "      <td>0.88339</td>\n",
              "      <td>Brown</td>\n",
              "      <td>0.73</td>\n",
              "      <td>14.25</td>\n",
              "      <td>15</td>\n",
              "      <td>4</td>\n",
              "      <td>2.0</td>\n",
              "      <td>4</td>\n",
              "    </tr>\n",
              "    <tr>\n",
              "      <th>18831</th>\n",
              "      <td>0.00000</td>\n",
              "      <td>Calico Point</td>\n",
              "      <td>0.99</td>\n",
              "      <td>28.13</td>\n",
              "      <td>13</td>\n",
              "      <td>9</td>\n",
              "      <td>1.0</td>\n",
              "      <td>1</td>\n",
              "    </tr>\n",
              "    <tr>\n",
              "      <th>18832</th>\n",
              "      <td>0.00000</td>\n",
              "      <td>Tan</td>\n",
              "      <td>0.55</td>\n",
              "      <td>44.82</td>\n",
              "      <td>13</td>\n",
              "      <td>9</td>\n",
              "      <td>1.0</td>\n",
              "      <td>2</td>\n",
              "    </tr>\n",
              "    <tr>\n",
              "      <th>18833</th>\n",
              "      <td>0.00000</td>\n",
              "      <td>Brown</td>\n",
              "      <td>0.86</td>\n",
              "      <td>37.40</td>\n",
              "      <td>0</td>\n",
              "      <td>1</td>\n",
              "      <td>1.0</td>\n",
              "      <td>2</td>\n",
              "    </tr>\n",
              "  </tbody>\n",
              "</table>\n",
              "<p>18834 rows × 8 columns</p>\n",
              "</div>"
            ],
            "text/plain": [
              "       condition    color_type  length(m)  ...  X2  breed_category  pet_category\n",
              "0        2.00000   Brown Tabby       0.80  ...   9             0.0             1\n",
              "1        1.00000         White       0.72  ...   9             0.0             2\n",
              "2        0.88339         Brown       0.15  ...   4             2.0             4\n",
              "3        1.00000         White       0.62  ...   1             0.0             2\n",
              "4        2.00000         Black       0.50  ...   4             0.0             1\n",
              "...          ...           ...        ...  ...  ..             ...           ...\n",
              "18829    2.00000      Tricolor       0.44  ...   1             0.0             2\n",
              "18830    0.88339         Brown       0.73  ...   4             2.0             4\n",
              "18831    0.00000  Calico Point       0.99  ...   9             1.0             1\n",
              "18832    0.00000           Tan       0.55  ...   9             1.0             2\n",
              "18833    0.00000         Brown       0.86  ...   1             1.0             2\n",
              "\n",
              "[18834 rows x 8 columns]"
            ]
          },
          "metadata": {
            "tags": []
          },
          "execution_count": 8
        }
      ]
    },
    {
      "cell_type": "code",
      "metadata": {
        "colab": {
          "base_uri": "https://localhost:8080/",
          "height": 419
        },
        "id": "ctQhh0PvUrkL",
        "outputId": "4c73d5b5-0c09-4911-898d-78adead265d2"
      },
      "source": [
        "labelencoder = LabelEncoder()\r\n",
        "\r\n",
        "train['color_type'] = labelencoder.fit_transform(train['color_type'])  # преобразование категориальных признаков в числовые\r\n",
        "train"
      ],
      "execution_count": 10,
      "outputs": [
        {
          "output_type": "execute_result",
          "data": {
            "text/html": [
              "<div>\n",
              "<style scoped>\n",
              "    .dataframe tbody tr th:only-of-type {\n",
              "        vertical-align: middle;\n",
              "    }\n",
              "\n",
              "    .dataframe tbody tr th {\n",
              "        vertical-align: top;\n",
              "    }\n",
              "\n",
              "    .dataframe thead th {\n",
              "        text-align: right;\n",
              "    }\n",
              "</style>\n",
              "<table border=\"1\" class=\"dataframe\">\n",
              "  <thead>\n",
              "    <tr style=\"text-align: right;\">\n",
              "      <th></th>\n",
              "      <th>condition</th>\n",
              "      <th>color_type</th>\n",
              "      <th>length(m)</th>\n",
              "      <th>height(cm)</th>\n",
              "      <th>X1</th>\n",
              "      <th>X2</th>\n",
              "      <th>breed_category</th>\n",
              "      <th>pet_category</th>\n",
              "    </tr>\n",
              "  </thead>\n",
              "  <tbody>\n",
              "    <tr>\n",
              "      <th>0</th>\n",
              "      <td>2.00000</td>\n",
              "      <td>18</td>\n",
              "      <td>0.80</td>\n",
              "      <td>7.78</td>\n",
              "      <td>13</td>\n",
              "      <td>9</td>\n",
              "      <td>0.0</td>\n",
              "      <td>1</td>\n",
              "    </tr>\n",
              "    <tr>\n",
              "      <th>1</th>\n",
              "      <td>1.00000</td>\n",
              "      <td>53</td>\n",
              "      <td>0.72</td>\n",
              "      <td>14.19</td>\n",
              "      <td>13</td>\n",
              "      <td>9</td>\n",
              "      <td>0.0</td>\n",
              "      <td>2</td>\n",
              "    </tr>\n",
              "    <tr>\n",
              "      <th>2</th>\n",
              "      <td>0.88339</td>\n",
              "      <td>15</td>\n",
              "      <td>0.15</td>\n",
              "      <td>40.90</td>\n",
              "      <td>15</td>\n",
              "      <td>4</td>\n",
              "      <td>2.0</td>\n",
              "      <td>4</td>\n",
              "    </tr>\n",
              "    <tr>\n",
              "      <th>3</th>\n",
              "      <td>1.00000</td>\n",
              "      <td>53</td>\n",
              "      <td>0.62</td>\n",
              "      <td>17.82</td>\n",
              "      <td>0</td>\n",
              "      <td>1</td>\n",
              "      <td>0.0</td>\n",
              "      <td>2</td>\n",
              "    </tr>\n",
              "    <tr>\n",
              "      <th>4</th>\n",
              "      <td>2.00000</td>\n",
              "      <td>2</td>\n",
              "      <td>0.50</td>\n",
              "      <td>11.06</td>\n",
              "      <td>18</td>\n",
              "      <td>4</td>\n",
              "      <td>0.0</td>\n",
              "      <td>1</td>\n",
              "    </tr>\n",
              "    <tr>\n",
              "      <th>...</th>\n",
              "      <td>...</td>\n",
              "      <td>...</td>\n",
              "      <td>...</td>\n",
              "      <td>...</td>\n",
              "      <td>...</td>\n",
              "      <td>...</td>\n",
              "      <td>...</td>\n",
              "      <td>...</td>\n",
              "    </tr>\n",
              "    <tr>\n",
              "      <th>18829</th>\n",
              "      <td>2.00000</td>\n",
              "      <td>52</td>\n",
              "      <td>0.44</td>\n",
              "      <td>27.36</td>\n",
              "      <td>0</td>\n",
              "      <td>1</td>\n",
              "      <td>0.0</td>\n",
              "      <td>2</td>\n",
              "    </tr>\n",
              "    <tr>\n",
              "      <th>18830</th>\n",
              "      <td>0.88339</td>\n",
              "      <td>15</td>\n",
              "      <td>0.73</td>\n",
              "      <td>14.25</td>\n",
              "      <td>15</td>\n",
              "      <td>4</td>\n",
              "      <td>2.0</td>\n",
              "      <td>4</td>\n",
              "    </tr>\n",
              "    <tr>\n",
              "      <th>18831</th>\n",
              "      <td>0.00000</td>\n",
              "      <td>22</td>\n",
              "      <td>0.99</td>\n",
              "      <td>28.13</td>\n",
              "      <td>13</td>\n",
              "      <td>9</td>\n",
              "      <td>1.0</td>\n",
              "      <td>1</td>\n",
              "    </tr>\n",
              "    <tr>\n",
              "      <th>18832</th>\n",
              "      <td>0.00000</td>\n",
              "      <td>48</td>\n",
              "      <td>0.55</td>\n",
              "      <td>44.82</td>\n",
              "      <td>13</td>\n",
              "      <td>9</td>\n",
              "      <td>1.0</td>\n",
              "      <td>2</td>\n",
              "    </tr>\n",
              "    <tr>\n",
              "      <th>18833</th>\n",
              "      <td>0.00000</td>\n",
              "      <td>15</td>\n",
              "      <td>0.86</td>\n",
              "      <td>37.40</td>\n",
              "      <td>0</td>\n",
              "      <td>1</td>\n",
              "      <td>1.0</td>\n",
              "      <td>2</td>\n",
              "    </tr>\n",
              "  </tbody>\n",
              "</table>\n",
              "<p>18834 rows × 8 columns</p>\n",
              "</div>"
            ],
            "text/plain": [
              "       condition  color_type  length(m)  ...  X2  breed_category  pet_category\n",
              "0        2.00000          18       0.80  ...   9             0.0             1\n",
              "1        1.00000          53       0.72  ...   9             0.0             2\n",
              "2        0.88339          15       0.15  ...   4             2.0             4\n",
              "3        1.00000          53       0.62  ...   1             0.0             2\n",
              "4        2.00000           2       0.50  ...   4             0.0             1\n",
              "...          ...         ...        ...  ...  ..             ...           ...\n",
              "18829    2.00000          52       0.44  ...   1             0.0             2\n",
              "18830    0.88339          15       0.73  ...   4             2.0             4\n",
              "18831    0.00000          22       0.99  ...   9             1.0             1\n",
              "18832    0.00000          48       0.55  ...   9             1.0             2\n",
              "18833    0.00000          15       0.86  ...   1             1.0             2\n",
              "\n",
              "[18834 rows x 8 columns]"
            ]
          },
          "metadata": {
            "tags": []
          },
          "execution_count": 10
        }
      ]
    },
    {
      "cell_type": "code",
      "metadata": {
        "id": "67b1feWWzkJS"
      },
      "source": [
        "X = train.drop(['pet_category'], axis = 1)\r\n",
        "y = train['pet_category']"
      ],
      "execution_count": 11,
      "outputs": []
    },
    {
      "cell_type": "code",
      "metadata": {
        "id": "TbIEMbGpV78P"
      },
      "source": [
        "def metriki(y_test, y_pred):\r\n",
        "  cm = confusion_matrix(y_test, y_pred)\r\n",
        "\r\n",
        "  TP = np.diag(cm)\r\n",
        "  FP = np.sum(cm, axis=0) - TP\r\n",
        "  FN = np.sum(cm, axis=1) - TP\r\n",
        "  num_classes = 4\r\n",
        "  TN = []\r\n",
        "  for i in range(num_classes):\r\n",
        "    temp = np.delete(cm, i, 0)   \r\n",
        "    temp = np.delete(temp, i, 1)  \r\n",
        "    TN.append(sum(sum(temp)))\r\n",
        "\r\n",
        "  accuracy = (TP + TN) / (TP + TN + FP + FN)\r\n",
        "  recall = TP / (TP + FN)\r\n",
        "  precision = TP / (TP + FP)\r\n",
        "  f1_score = 2 * precision * recall / (precision + recall)\r\n",
        "  print()\r\n",
        "  print('confusion_matrix: \\n', confusion_matrix(y_test, y_pred))\r\n",
        "  print()\r\n",
        "  print('accuracy:', accuracy)\r\n",
        "  print('recall:', recall)\r\n",
        "  print('precision:', precision)\r\n",
        "  print('f1_score:', f1_score)"
      ],
      "execution_count": 12,
      "outputs": []
    },
    {
      "cell_type": "code",
      "metadata": {
        "colab": {
          "base_uri": "https://localhost:8080/"
        },
        "id": "zOjhIWXTWpxN",
        "outputId": "eccc75c6-c792-4daf-fcb7-02290fdb75a5"
      },
      "source": [
        "X_train,X_test,y_train,y_test = train_test_split(X, y, test_size=1/3, random_state=42)\r\n",
        "\r\n",
        "model = LogisticRegression() \r\n",
        "model.fit(X_train, y_train)\r\n",
        "y_pred = model.predict(X_test)\r\n",
        "print(model.score(X_test, y_test)) # 69% неплохо, неплохо\r\n",
        "\r\n",
        "metriki(y_test, y_pred)\r\n",
        "\r\n",
        "# логистическая регрессия \r\n",
        "# хороший результат"
      ],
      "execution_count": 13,
      "outputs": [
        {
          "output_type": "stream",
          "text": [
            "0.6973558458107677\n",
            "\n",
            "confusion_matrix: \n",
            " [[   0    5   12   15]\n",
            " [   0 1218 1096   33]\n",
            " [   0  624 2955    7]\n",
            " [   0   63   45  205]]\n",
            "\n",
            "accuracy: [0.99490284 0.70993947 0.71583307 0.97403632]\n",
            "recall: [0.         0.51896037 0.82403793 0.65495208]\n",
            "precision: [       nan 0.63769634 0.71932814 0.78846154]\n",
            "f1_score: [       nan 0.57223397 0.76813101 0.71553229]\n"
          ],
          "name": "stdout"
        },
        {
          "output_type": "stream",
          "text": [
            "/usr/local/lib/python3.7/dist-packages/sklearn/linear_model/_logistic.py:940: ConvergenceWarning: lbfgs failed to converge (status=1):\n",
            "STOP: TOTAL NO. of ITERATIONS REACHED LIMIT.\n",
            "\n",
            "Increase the number of iterations (max_iter) or scale the data as shown in:\n",
            "    https://scikit-learn.org/stable/modules/preprocessing.html\n",
            "Please also refer to the documentation for alternative solver options:\n",
            "    https://scikit-learn.org/stable/modules/linear_model.html#logistic-regression\n",
            "  extra_warning_msg=_LOGISTIC_SOLVER_CONVERGENCE_MSG)\n",
            "/usr/local/lib/python3.7/dist-packages/ipykernel_launcher.py:16: RuntimeWarning: invalid value encountered in true_divide\n",
            "  app.launch_new_instance()\n"
          ],
          "name": "stderr"
        }
      ]
    },
    {
      "cell_type": "code",
      "metadata": {
        "colab": {
          "base_uri": "https://localhost:8080/"
        },
        "id": "8naKz8M2UfB_",
        "outputId": "4e49f3dd-59de-4429-e992-8b65af7ac42c"
      },
      "source": [
        "sc = MinMaxScaler()\r\n",
        "x_nm = sc.fit_transform(X)\r\n",
        "\r\n",
        "X_train,X_test,y_train,y_test = train_test_split(x_nm, y, test_size=1/3, random_state=42)\r\n",
        "\r\n",
        "model = LogisticRegression() \r\n",
        "model.fit(X_train, y_train)\r\n",
        "y_pred = model.predict(X_test)\r\n",
        "print(model.score(X_test, y_test)) # 70% вполне непллохо\r\n",
        "\r\n",
        "metriki(y_test, y_pred)\r\n",
        "\r\n",
        "# логистическая регрессия с нормализованными данными дала очень хорошие результаты\r\n",
        "\r\n",
        "# каждое значение списков accuracy, recall, precision и f1_score соответствует каждому классу\r\n",
        "# т.к. их 4, то и 4 значения в каждом списке"
      ],
      "execution_count": 14,
      "outputs": [
        {
          "output_type": "stream",
          "text": [
            "0.7011787193373686\n",
            "\n",
            "confusion_matrix: \n",
            " [[   0    5   10   17]\n",
            " [   0 1245 1076   26]\n",
            " [   0  649 2930    7]\n",
            " [   0   47   39  227]]\n",
            "\n",
            "accuracy: [0.99490284 0.71280663 0.71631093 0.97833705]\n",
            "recall: [0.         0.53046442 0.81706637 0.72523962]\n",
            "precision: [       nan 0.6397739  0.72256473 0.81949458]\n",
            "f1_score: [       nan 0.58001398 0.76691533 0.76949153]\n"
          ],
          "name": "stdout"
        },
        {
          "output_type": "stream",
          "text": [
            "/usr/local/lib/python3.7/dist-packages/sklearn/linear_model/_logistic.py:940: ConvergenceWarning: lbfgs failed to converge (status=1):\n",
            "STOP: TOTAL NO. of ITERATIONS REACHED LIMIT.\n",
            "\n",
            "Increase the number of iterations (max_iter) or scale the data as shown in:\n",
            "    https://scikit-learn.org/stable/modules/preprocessing.html\n",
            "Please also refer to the documentation for alternative solver options:\n",
            "    https://scikit-learn.org/stable/modules/linear_model.html#logistic-regression\n",
            "  extra_warning_msg=_LOGISTIC_SOLVER_CONVERGENCE_MSG)\n",
            "/usr/local/lib/python3.7/dist-packages/ipykernel_launcher.py:16: RuntimeWarning: invalid value encountered in true_divide\n",
            "  app.launch_new_instance()\n"
          ],
          "name": "stderr"
        }
      ]
    },
    {
      "cell_type": "code",
      "metadata": {
        "colab": {
          "base_uri": "https://localhost:8080/"
        },
        "id": "RyZD6wlSaCSS",
        "outputId": "df71d324-a16b-4500-a284-70fff4196cf3"
      },
      "source": [
        "x = StandardScaler().fit_transform(train) \r\n",
        "\r\n",
        "X_train,X_test,y_train,y_test = train_test_split(x, y, test_size=1/3, random_state=42)\r\n",
        "\r\n",
        "model = LogisticRegression() \r\n",
        "model.fit(X_train, y_train)\r\n",
        "y_pred = model.predict(X_test)\r\n",
        "print(model.score(X_test, y_test)) # 100% очень сильно\r\n",
        "\r\n",
        "metriki(y_test, y_pred)\r\n",
        "\r\n",
        "# самая точная модель - логистическая регрессия с стандартизированными данными\r\n",
        "# т.к. FP и FN равны 0, то все параметры стали равными 1\r\n",
        "# получается все супер идеально))"
      ],
      "execution_count": 15,
      "outputs": [
        {
          "output_type": "stream",
          "text": [
            "1.0\n",
            "\n",
            "confusion_matrix: \n",
            " [[  32    0    0    0]\n",
            " [   0 2347    0    0]\n",
            " [   0    0 3586    0]\n",
            " [   0    0    0  313]]\n",
            "\n",
            "accuracy: [1. 1. 1. 1.]\n",
            "recall: [1. 1. 1. 1.]\n",
            "precision: [1. 1. 1. 1.]\n",
            "f1_score: [1. 1. 1. 1.]\n"
          ],
          "name": "stdout"
        }
      ]
    },
    {
      "cell_type": "code",
      "metadata": {
        "colab": {
          "base_uri": "https://localhost:8080/"
        },
        "id": "lit5nSdkIykM",
        "outputId": "d7da8ddc-dc8a-4edd-c822-0e85f6ac5300"
      },
      "source": [
        "X_train,X_test,y_train,y_test = train_test_split(X, y, test_size=1/3, random_state=42)\r\n",
        "\r\n",
        "score = []\r\n",
        "for i in range(1,15):\r\n",
        "    knn = KNeighborsClassifier(i)\r\n",
        "    knn.fit(X_train,y_train)\r\n",
        "    answers = knn.predict(X_test)\r\n",
        "    score.append(knn.score(X_test,y_test))\r\n",
        "\r\n",
        "print(score) # 77-80% \r\n",
        "print(np.mean(score)) # 79% хорошо\r\n",
        "\r\n",
        "knn = KNeighborsClassifier(5)\r\n",
        "knn.fit(X_train, y_train)\r\n",
        "y_pred = knn.predict(X_test)\r\n",
        "\r\n",
        "metriki(y_test, y_pred)\r\n",
        "\r\n",
        "# метод ближайших соседей, в сравнении, показал вполне хороший результат"
      ],
      "execution_count": 37,
      "outputs": [
        {
          "output_type": "stream",
          "text": [
            "0.7933600327674873\n",
            "\n",
            "confusion_matrix: \n",
            " [[   0    9   16    7]\n",
            " [   2 1753  581   11]\n",
            " [   0  484 3094    8]\n",
            " [   1   41   71  200]]\n",
            "\n",
            "accuracy: [0.99442498 0.82032494 0.81522778 0.97785919]\n",
            "recall: [0.         0.74691095 0.86279978 0.63897764]\n",
            "precision: [0.         0.76650634 0.82243488 0.88495575]\n",
            "f1_score: [       nan 0.75658179 0.84213391 0.74211503]\n"
          ],
          "name": "stdout"
        },
        {
          "output_type": "stream",
          "text": [
            "/usr/local/lib/python3.7/dist-packages/ipykernel_launcher.py:17: RuntimeWarning: invalid value encountered in true_divide\n"
          ],
          "name": "stderr"
        }
      ]
    },
    {
      "cell_type": "code",
      "metadata": {
        "colab": {
          "base_uri": "https://localhost:8080/"
        },
        "id": "V5wg4-QwzS0L",
        "outputId": "6c74715b-f0b0-4e30-8a85-5099962e7f7b"
      },
      "source": [
        "X_train,X_test,y_train,y_test = train_test_split(X, y, test_size=1/3, random_state=42)\r\n",
        "\r\n",
        "tree = DecisionTreeClassifier(criterion='gini', max_depth=15, random_state=1)\r\n",
        "\r\n",
        "tree.fit(X_train, y_train)\r\n",
        "y_pred_tree = tree.predict(X_test)\r\n",
        "print(tree.score(X_test, y_test))\r\n",
        "\r\n",
        "metriki(y_test, y_pred_tree)\r\n",
        "\r\n",
        "# дерево решений показало очень неплохие результаты"
      ],
      "execution_count": 32,
      "outputs": [
        {
          "output_type": "stream",
          "text": [
            "0.8517043644472762\n",
            "\n",
            "confusion_matrix: \n",
            " [[   9    6    5   12]\n",
            " [   6 1844  474   23]\n",
            " [   7  279 3272   28]\n",
            " [   4   43   44  222]]\n",
            "\n",
            "accuracy: [0.99362854 0.867633   0.86667729 0.97546989]\n",
            "recall: [0.28125    0.78568385 0.91243726 0.70926518]\n",
            "precision: [0.34615385 0.84898711 0.86218709 0.77894737]\n",
            "f1_score: [0.31034483 0.81610976 0.88660073 0.74247492]\n"
          ],
          "name": "stdout"
        }
      ]
    },
    {
      "cell_type": "code",
      "metadata": {
        "colab": {
          "base_uri": "https://localhost:8080/"
        },
        "id": "8ChZTVJXWtIA",
        "outputId": "0958ca1d-5888-405d-f24b-01568d91a470"
      },
      "source": [
        "from sklearn.model_selection import cross_val_score\r\n",
        "from sklearn.model_selection import KFold\r\n",
        "\r\n",
        "kf = KFold(n_splits=5)\r\n",
        "tree = DecisionTreeClassifier(criterion='gini', max_depth=4, random_state=1)\r\n",
        "cvs = cross_val_score(estimator=tree, X=X, y=y, cv=kf, scoring='accuracy')\r\n",
        "\r\n",
        "print(cvs)\r\n",
        "print(cvs.mean()) # \r\n",
        "\r\n",
        "# дерево решений с кроссвалидацией \r\n",
        "# получилось хуже, чем дерево без кроссвалидации"
      ],
      "execution_count": 19,
      "outputs": [
        {
          "output_type": "stream",
          "text": [
            "[0.76187948 0.76479958 0.75657022 0.75418105 0.75305364]\n",
            "0.7580967907426499\n"
          ],
          "name": "stdout"
        }
      ]
    },
    {
      "cell_type": "code",
      "metadata": {
        "id": "jNku19oWViPQ",
        "colab": {
          "base_uri": "https://localhost:8080/"
        },
        "outputId": "5f65eea5-e8f6-44a3-d1d6-8d96897afc6a"
      },
      "source": [
        "X_train,X_test,y_train,y_test = train_test_split(X, y, test_size=1/3, random_state=42)\r\n",
        "\r\n",
        "# svm = SVC(kernel='linear', C=1.0, random_state=1)\r\n",
        "svm = SVC()\r\n",
        "svm.fit(X_train, y_train)\r\n",
        "y_pred_svm = svm.predict(X_test)\r\n",
        "print(svm.score(X_test, y_test)) # 67% на фоне других так себе\r\n",
        "\r\n",
        "metriki(y_test, y_pred_svm)\r\n",
        "\r\n",
        "\r\n",
        "# метод опорных векторов работает с переменным успехом, самый низкий \r\n",
        "# что можно заметить в списке accuracy "
      ],
      "execution_count": 33,
      "outputs": [
        {
          "output_type": "stream",
          "text": [
            "0.6784007645747053\n",
            "\n",
            "confusion_matrix: \n",
            " [[   0    7   21    4]\n",
            " [   0 1163 1156   28]\n",
            " [   0  590 2992    4]\n",
            " [   0  138   71  104]]\n",
            "\n",
            "accuracy: [0.99490284 0.6943294  0.70659446 0.96097483]\n",
            "recall: [0.         0.4955262  0.83435583 0.33226837]\n",
            "precision: [       nan 0.61275026 0.70566038 0.74285714]\n",
            "f1_score: [       nan 0.54793875 0.76463072 0.45916115]\n"
          ],
          "name": "stdout"
        },
        {
          "output_type": "stream",
          "text": [
            "/usr/local/lib/python3.7/dist-packages/ipykernel_launcher.py:16: RuntimeWarning: invalid value encountered in true_divide\n",
            "  app.launch_new_instance()\n"
          ],
          "name": "stderr"
        }
      ]
    }
  ]
}