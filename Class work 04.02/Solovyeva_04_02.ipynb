{
  "nbformat": 4,
  "nbformat_minor": 0,
  "metadata": {
    "colab": {
      "name": "Solovyeva_04_02.ipynb",
      "provenance": [],
      "collapsed_sections": []
    },
    "kernelspec": {
      "name": "python3",
      "display_name": "Python 3"
    }
  },
  "cells": [
    {
      "cell_type": "code",
      "metadata": {
        "id": "G2rMw_HCFgPD"
      },
      "source": [
        "import pandas as pd\r\n",
        "import numpy as np\r\n",
        "import matplotlib.pyplot as plt\r\n",
        "from sklearn.model_selection import train_test_split"
      ],
      "execution_count": null,
      "outputs": []
    },
    {
      "cell_type": "code",
      "metadata": {
        "colab": {
          "base_uri": "https://localhost:8080/"
        },
        "id": "hhLKwhHQJdFn",
        "outputId": "546150b5-770e-4c4c-b5f4-5b45a19c0244"
      },
      "source": [
        "from google.colab import drive\r\n",
        "drive.mount('/content/drive')"
      ],
      "execution_count": null,
      "outputs": [
        {
          "output_type": "stream",
          "text": [
            "Mounted at /content/drive\n"
          ],
          "name": "stdout"
        }
      ]
    },
    {
      "cell_type": "code",
      "metadata": {
        "colab": {
          "base_uri": "https://localhost:8080/",
          "height": 415
        },
        "id": "JlYm98oPJgtQ",
        "outputId": "4e996585-5a9e-4af0-cfaf-614d3b812086"
      },
      "source": [
        "di= pd.read_csv(\"drive/My Drive/diabetes.csv\" )\r\n",
        "di"
      ],
      "execution_count": 24,
      "outputs": [
        {
          "output_type": "execute_result",
          "data": {
            "text/html": [
              "<div>\n",
              "<style scoped>\n",
              "    .dataframe tbody tr th:only-of-type {\n",
              "        vertical-align: middle;\n",
              "    }\n",
              "\n",
              "    .dataframe tbody tr th {\n",
              "        vertical-align: top;\n",
              "    }\n",
              "\n",
              "    .dataframe thead th {\n",
              "        text-align: right;\n",
              "    }\n",
              "</style>\n",
              "<table border=\"1\" class=\"dataframe\">\n",
              "  <thead>\n",
              "    <tr style=\"text-align: right;\">\n",
              "      <th></th>\n",
              "      <th>Pregnancies</th>\n",
              "      <th>Glucose</th>\n",
              "      <th>BloodPressure</th>\n",
              "      <th>SkinThickness</th>\n",
              "      <th>Insulin</th>\n",
              "      <th>BMI</th>\n",
              "      <th>DiabetesPedigreeFunction</th>\n",
              "      <th>Age</th>\n",
              "      <th>Outcome</th>\n",
              "    </tr>\n",
              "  </thead>\n",
              "  <tbody>\n",
              "    <tr>\n",
              "      <th>0</th>\n",
              "      <td>6</td>\n",
              "      <td>148</td>\n",
              "      <td>72</td>\n",
              "      <td>35</td>\n",
              "      <td>0</td>\n",
              "      <td>33.6</td>\n",
              "      <td>0.627</td>\n",
              "      <td>50</td>\n",
              "      <td>1</td>\n",
              "    </tr>\n",
              "    <tr>\n",
              "      <th>1</th>\n",
              "      <td>1</td>\n",
              "      <td>85</td>\n",
              "      <td>66</td>\n",
              "      <td>29</td>\n",
              "      <td>0</td>\n",
              "      <td>26.6</td>\n",
              "      <td>0.351</td>\n",
              "      <td>31</td>\n",
              "      <td>0</td>\n",
              "    </tr>\n",
              "    <tr>\n",
              "      <th>2</th>\n",
              "      <td>8</td>\n",
              "      <td>183</td>\n",
              "      <td>64</td>\n",
              "      <td>0</td>\n",
              "      <td>0</td>\n",
              "      <td>23.3</td>\n",
              "      <td>0.672</td>\n",
              "      <td>32</td>\n",
              "      <td>1</td>\n",
              "    </tr>\n",
              "    <tr>\n",
              "      <th>3</th>\n",
              "      <td>1</td>\n",
              "      <td>89</td>\n",
              "      <td>66</td>\n",
              "      <td>23</td>\n",
              "      <td>94</td>\n",
              "      <td>28.1</td>\n",
              "      <td>0.167</td>\n",
              "      <td>21</td>\n",
              "      <td>0</td>\n",
              "    </tr>\n",
              "    <tr>\n",
              "      <th>4</th>\n",
              "      <td>0</td>\n",
              "      <td>137</td>\n",
              "      <td>40</td>\n",
              "      <td>35</td>\n",
              "      <td>168</td>\n",
              "      <td>43.1</td>\n",
              "      <td>2.288</td>\n",
              "      <td>33</td>\n",
              "      <td>1</td>\n",
              "    </tr>\n",
              "    <tr>\n",
              "      <th>...</th>\n",
              "      <td>...</td>\n",
              "      <td>...</td>\n",
              "      <td>...</td>\n",
              "      <td>...</td>\n",
              "      <td>...</td>\n",
              "      <td>...</td>\n",
              "      <td>...</td>\n",
              "      <td>...</td>\n",
              "      <td>...</td>\n",
              "    </tr>\n",
              "    <tr>\n",
              "      <th>763</th>\n",
              "      <td>10</td>\n",
              "      <td>101</td>\n",
              "      <td>76</td>\n",
              "      <td>48</td>\n",
              "      <td>180</td>\n",
              "      <td>32.9</td>\n",
              "      <td>0.171</td>\n",
              "      <td>63</td>\n",
              "      <td>0</td>\n",
              "    </tr>\n",
              "    <tr>\n",
              "      <th>764</th>\n",
              "      <td>2</td>\n",
              "      <td>122</td>\n",
              "      <td>70</td>\n",
              "      <td>27</td>\n",
              "      <td>0</td>\n",
              "      <td>36.8</td>\n",
              "      <td>0.340</td>\n",
              "      <td>27</td>\n",
              "      <td>0</td>\n",
              "    </tr>\n",
              "    <tr>\n",
              "      <th>765</th>\n",
              "      <td>5</td>\n",
              "      <td>121</td>\n",
              "      <td>72</td>\n",
              "      <td>23</td>\n",
              "      <td>112</td>\n",
              "      <td>26.2</td>\n",
              "      <td>0.245</td>\n",
              "      <td>30</td>\n",
              "      <td>0</td>\n",
              "    </tr>\n",
              "    <tr>\n",
              "      <th>766</th>\n",
              "      <td>1</td>\n",
              "      <td>126</td>\n",
              "      <td>60</td>\n",
              "      <td>0</td>\n",
              "      <td>0</td>\n",
              "      <td>30.1</td>\n",
              "      <td>0.349</td>\n",
              "      <td>47</td>\n",
              "      <td>1</td>\n",
              "    </tr>\n",
              "    <tr>\n",
              "      <th>767</th>\n",
              "      <td>1</td>\n",
              "      <td>93</td>\n",
              "      <td>70</td>\n",
              "      <td>31</td>\n",
              "      <td>0</td>\n",
              "      <td>30.4</td>\n",
              "      <td>0.315</td>\n",
              "      <td>23</td>\n",
              "      <td>0</td>\n",
              "    </tr>\n",
              "  </tbody>\n",
              "</table>\n",
              "<p>768 rows × 9 columns</p>\n",
              "</div>"
            ],
            "text/plain": [
              "     Pregnancies  Glucose  ...  Age  Outcome\n",
              "0              6      148  ...   50        1\n",
              "1              1       85  ...   31        0\n",
              "2              8      183  ...   32        1\n",
              "3              1       89  ...   21        0\n",
              "4              0      137  ...   33        1\n",
              "..           ...      ...  ...  ...      ...\n",
              "763           10      101  ...   63        0\n",
              "764            2      122  ...   27        0\n",
              "765            5      121  ...   30        0\n",
              "766            1      126  ...   47        1\n",
              "767            1       93  ...   23        0\n",
              "\n",
              "[768 rows x 9 columns]"
            ]
          },
          "metadata": {
            "tags": []
          },
          "execution_count": 24
        }
      ]
    },
    {
      "cell_type": "code",
      "metadata": {
        "colab": {
          "base_uri": "https://localhost:8080/"
        },
        "id": "PZVDIpvfKQV6",
        "outputId": "82e26e8f-1185-46cd-c892-c1a4da436883"
      },
      "source": [
        "print(di.shape)"
      ],
      "execution_count": 25,
      "outputs": [
        {
          "output_type": "stream",
          "text": [
            "(768, 9)\n"
          ],
          "name": "stdout"
        }
      ]
    },
    {
      "cell_type": "code",
      "metadata": {
        "colab": {
          "base_uri": "https://localhost:8080/"
        },
        "id": "Jh9NEO9uKixB",
        "outputId": "6ec27a95-b560-43ae-8444-f160cfd8672c"
      },
      "source": [
        "print(di[di['Outcome'] ==1].shape)\r\n",
        "print(di[di['Outcome'] ==0].shape)\r\n",
        "print(di.info())\r\n",
        "print(di.isna().sum())\r\n",
        "y = di['Outcome']\r\n",
        "x = di.drop(['Outcome'], axis=1)"
      ],
      "execution_count": 26,
      "outputs": [
        {
          "output_type": "stream",
          "text": [
            "(268, 9)\n",
            "(500, 9)\n",
            "<class 'pandas.core.frame.DataFrame'>\n",
            "RangeIndex: 768 entries, 0 to 767\n",
            "Data columns (total 9 columns):\n",
            " #   Column                    Non-Null Count  Dtype  \n",
            "---  ------                    --------------  -----  \n",
            " 0   Pregnancies               768 non-null    int64  \n",
            " 1   Glucose                   768 non-null    int64  \n",
            " 2   BloodPressure             768 non-null    int64  \n",
            " 3   SkinThickness             768 non-null    int64  \n",
            " 4   Insulin                   768 non-null    int64  \n",
            " 5   BMI                       768 non-null    float64\n",
            " 6   DiabetesPedigreeFunction  768 non-null    float64\n",
            " 7   Age                       768 non-null    int64  \n",
            " 8   Outcome                   768 non-null    int64  \n",
            "dtypes: float64(2), int64(7)\n",
            "memory usage: 54.1 KB\n",
            "None\n",
            "Pregnancies                 0\n",
            "Glucose                     0\n",
            "BloodPressure               0\n",
            "SkinThickness               0\n",
            "Insulin                     0\n",
            "BMI                         0\n",
            "DiabetesPedigreeFunction    0\n",
            "Age                         0\n",
            "Outcome                     0\n",
            "dtype: int64\n"
          ],
          "name": "stdout"
        }
      ]
    },
    {
      "cell_type": "code",
      "metadata": {
        "colab": {
          "base_uri": "https://localhost:8080/"
        },
        "id": "Cs-tyXM-Mj6j",
        "outputId": "dca8b73b-4ec3-48f0-931e-3b496352628e"
      },
      "source": [
        "from sklearn.preprocessing import StandardScaler\r\n",
        "\r\n",
        "scaler = StandardScaler()\r\n",
        "X_st = scaler.fit_transform(x)\r\n",
        "\r\n",
        "X_st"
      ],
      "execution_count": 27,
      "outputs": [
        {
          "output_type": "execute_result",
          "data": {
            "text/plain": [
              "array([[ 0.63994726,  0.84832379,  0.14964075, ...,  0.20401277,\n",
              "         0.46849198,  1.4259954 ],\n",
              "       [-0.84488505, -1.12339636, -0.16054575, ..., -0.68442195,\n",
              "        -0.36506078, -0.19067191],\n",
              "       [ 1.23388019,  1.94372388, -0.26394125, ..., -1.10325546,\n",
              "         0.60439732, -0.10558415],\n",
              "       ...,\n",
              "       [ 0.3429808 ,  0.00330087,  0.14964075, ..., -0.73518964,\n",
              "        -0.68519336, -0.27575966],\n",
              "       [-0.84488505,  0.1597866 , -0.47073225, ..., -0.24020459,\n",
              "        -0.37110101,  1.17073215],\n",
              "       [-0.84488505, -0.8730192 ,  0.04624525, ..., -0.20212881,\n",
              "        -0.47378505, -0.87137393]])"
            ]
          },
          "metadata": {
            "tags": []
          },
          "execution_count": 27
        }
      ]
    },
    {
      "cell_type": "code",
      "metadata": {
        "colab": {
          "base_uri": "https://localhost:8080/"
        },
        "id": "qfqW1KDINgJs",
        "outputId": "6917854d-7ece-4be5-d342-d02b46fc4d37"
      },
      "source": [
        "from sklearn.preprocessing import MinMaxScaler\r\n",
        "scaler = MinMaxScaler()\r\n",
        "X_norm = scaler.fit_transform(x)\r\n",
        "X_norm"
      ],
      "execution_count": 28,
      "outputs": [
        {
          "output_type": "execute_result",
          "data": {
            "text/plain": [
              "array([[0.35294118, 0.74371859, 0.59016393, ..., 0.50074516, 0.23441503,\n",
              "        0.48333333],\n",
              "       [0.05882353, 0.42713568, 0.54098361, ..., 0.39642325, 0.11656704,\n",
              "        0.16666667],\n",
              "       [0.47058824, 0.91959799, 0.52459016, ..., 0.34724292, 0.25362938,\n",
              "        0.18333333],\n",
              "       ...,\n",
              "       [0.29411765, 0.6080402 , 0.59016393, ..., 0.390462  , 0.07130658,\n",
              "        0.15      ],\n",
              "       [0.05882353, 0.63316583, 0.49180328, ..., 0.4485842 , 0.11571307,\n",
              "        0.43333333],\n",
              "       [0.05882353, 0.46733668, 0.57377049, ..., 0.45305514, 0.10119556,\n",
              "        0.03333333]])"
            ]
          },
          "metadata": {
            "tags": []
          },
          "execution_count": 28
        }
      ]
    },
    {
      "cell_type": "code",
      "metadata": {
        "colab": {
          "base_uri": "https://localhost:8080/"
        },
        "id": "dWLWwyLUOWo7",
        "outputId": "ec34f9ce-65e7-4deb-cb6c-2df5ac7fbd5c"
      },
      "source": [
        "from sklearn.neighbors import KNeighborsClassifier\r\n",
        "from sklearn.metrics import confusion_matrix\r\n",
        "X_train, X_test, y_train, y_test = train_test_split(x,y, test_size=0.3)\r\n",
        "scores =[]\r\n",
        "for i in range(1,15):\r\n",
        "  knn = KNeighborsClassifier(i)\r\n",
        "  knn.fit(X_train,y_train)\r\n",
        "  answers = knn.predict(X_test)\r\n",
        "  scores.append(knn.score(X_test,y_test))\r\n",
        "print(scores)"
      ],
      "execution_count": 30,
      "outputs": [
        {
          "output_type": "stream",
          "text": [
            "[0.7012987012987013, 0.7056277056277056, 0.7142857142857143, 0.7142857142857143, 0.7142857142857143, 0.7445887445887446, 0.7142857142857143, 0.7402597402597403, 0.7402597402597403, 0.7402597402597403, 0.7532467532467533, 0.7575757575757576, 0.7662337662337663, 0.7532467532467533]\n"
          ],
          "name": "stdout"
        }
      ]
    },
    {
      "cell_type": "code",
      "metadata": {
        "colab": {
          "base_uri": "https://localhost:8080/"
        },
        "id": "CjuZ_ihTRs4R",
        "outputId": "eb1eec54-0117-4412-a39c-bcf0548a39c9"
      },
      "source": [
        "max_score = max(scores)\r\n",
        "scores_ind = [ i for i, v in enumerate(scores) if v == max_score]\r\n",
        "scores_ind"
      ],
      "execution_count": 31,
      "outputs": [
        {
          "output_type": "execute_result",
          "data": {
            "text/plain": [
              "[12]"
            ]
          },
          "metadata": {
            "tags": []
          },
          "execution_count": 31
        }
      ]
    },
    {
      "cell_type": "code",
      "metadata": {
        "colab": {
          "base_uri": "https://localhost:8080/"
        },
        "id": "EXbPDsEnSMTv",
        "outputId": "7fd62264-c869-4ef5-a542-888630196597"
      },
      "source": [
        "knn = KNeighborsClassifier(5)\r\n",
        "knn.fit(X_train,y_train)\r\n",
        "y_pred = knn.predict(X_test)\r\n",
        "confusion_matrix(y_test,y_pred)"
      ],
      "execution_count": 32,
      "outputs": [
        {
          "output_type": "execute_result",
          "data": {
            "text/plain": [
              "array([[125,  29],\n",
              "       [ 37,  40]])"
            ]
          },
          "metadata": {
            "tags": []
          },
          "execution_count": 32
        }
      ]
    },
    {
      "cell_type": "code",
      "metadata": {
        "colab": {
          "base_uri": "https://localhost:8080/"
        },
        "id": "mwtDHsakSt4t",
        "outputId": "19f88af6-7c28-48aa-fa82-f40e2853cfbe"
      },
      "source": [
        "from sklearn.metrics import accuracy_score\r\n",
        "from sklearn.metrics import recall_score\r\n",
        "from sklearn.metrics import precision_score\r\n",
        "print(\"Accuracy: \", accuracy_score(y_test,y_pred))\r\n",
        "print(\"Recall: \", recall_score(y_test,y_pred))\r\n",
        "print(\"Precision: \", precision_score(y_test,y_pred))"
      ],
      "execution_count": 33,
      "outputs": [
        {
          "output_type": "stream",
          "text": [
            "Accuracy:  0.7142857142857143\n",
            "Recall:  0.5194805194805194\n",
            "Precision:  0.5797101449275363\n"
          ],
          "name": "stdout"
        }
      ]
    },
    {
      "cell_type": "code",
      "metadata": {
        "colab": {
          "base_uri": "https://localhost:8080/"
        },
        "id": "YoiwUvMwVsB9",
        "outputId": "6c6f702c-ab5d-4434-d56a-266996ad00f0"
      },
      "source": [
        "X_train, X_test, y_train, y_test = train_test_split(X_st,y, test_size=0.3)\r\n",
        "scores =[]\r\n",
        "for i in range(1,15):\r\n",
        "  knn = KNeighborsClassifier(i)\r\n",
        "  knn.fit(X_train,y_train)\r\n",
        "  answers = knn.predict(X_test)\r\n",
        "  scores.append(knn.score(X_test,y_test))\r\n",
        "print(scores)\r\n",
        "\r\n",
        "print(\"Accuracy: \", accuracy_score(y_test,y_pred))\r\n",
        "print(\"Recall: \", recall_score(y_test,y_pred))\r\n",
        "print(\"Precision: \", precision_score(y_test,y_pred))"
      ],
      "execution_count": 34,
      "outputs": [
        {
          "output_type": "stream",
          "text": [
            "[0.7012987012987013, 0.7142857142857143, 0.7532467532467533, 0.7359307359307359, 0.7489177489177489, 0.7445887445887446, 0.7402597402597403, 0.7402597402597403, 0.7575757575757576, 0.7532467532467533, 0.7489177489177489, 0.7316017316017316, 0.7445887445887446, 0.7359307359307359]\n",
            "Accuracy:  0.5238095238095238\n",
            "Recall:  0.2191780821917808\n",
            "Precision:  0.2318840579710145\n"
          ],
          "name": "stdout"
        }
      ]
    },
    {
      "cell_type": "code",
      "metadata": {
        "colab": {
          "base_uri": "https://localhost:8080/"
        },
        "id": "O_Li_s6ibv-5",
        "outputId": "a1c31a1a-7d63-475c-e918-46edf601e366"
      },
      "source": [
        "X_train, X_test, y_train, y_test = train_test_split(X_norm,y, test_size=0.3)\r\n",
        "scores =[]\r\n",
        "for i in range(1,15):\r\n",
        "  knn = KNeighborsClassifier(i)\r\n",
        "  knn.fit(X_train,y_train)\r\n",
        "  answers = knn.predict(X_test)\r\n",
        "  scores.append(knn.score(X_test,y_test))\r\n",
        "print(scores)\r\n",
        "\r\n",
        "print(\"Accuracy: \", accuracy_score(y_test,y_pred))\r\n",
        "print(\"Recall: \", recall_score(y_test,y_pred))\r\n",
        "print(\"Precision: \", precision_score(y_test,y_pred))"
      ],
      "execution_count": 35,
      "outputs": [
        {
          "output_type": "stream",
          "text": [
            "[0.70995670995671, 0.7272727272727273, 0.7272727272727273, 0.7489177489177489, 0.7619047619047619, 0.7575757575757576, 0.7792207792207793, 0.7532467532467533, 0.7748917748917749, 0.7575757575757576, 0.7748917748917749, 0.7705627705627706, 0.7662337662337663, 0.7575757575757576]\n",
            "Accuracy:  0.5497835497835498\n",
            "Recall:  0.27848101265822783\n",
            "Precision:  0.3188405797101449\n"
          ],
          "name": "stdout"
        }
      ]
    },
    {
      "cell_type": "code",
      "metadata": {
        "colab": {
          "base_uri": "https://localhost:8080/"
        },
        "id": "eJ00ezGLT3sz",
        "outputId": "f7320362-aaa7-4f5b-f026-68d9d44b5297"
      },
      "source": [
        "from sklearn.linear_model import LogisticRegression\r\n",
        "model = LogisticRegression()\r\n",
        "model.fit(X_train, y_train)\r\n",
        "ans_pred = model.predict(X_train)\r\n",
        "print(model.score(X_test, y_test))\r\n",
        "\r\n",
        "print(\"Accuracy: \", accuracy_score(y_test,y_pred))\r\n",
        "print(\"Recall: \", recall_score(y_test,y_pred))\r\n",
        "print(\"Precision: \", precision_score(y_test,y_pred))\r\n"
      ],
      "execution_count": 36,
      "outputs": [
        {
          "output_type": "stream",
          "text": [
            "0.7835497835497836\n",
            "Accuracy:  0.5497835497835498\n",
            "Recall:  0.27848101265822783\n",
            "Precision:  0.3188405797101449\n"
          ],
          "name": "stdout"
        }
      ]
    },
    {
      "cell_type": "markdown",
      "metadata": {
        "id": "lEGKZWcmWXpF"
      },
      "source": [
        "С этого момента начинается работа 04.02"
      ]
    },
    {
      "cell_type": "code",
      "metadata": {
        "id": "uiQMWyxHM4rx",
        "colab": {
          "base_uri": "https://localhost:8080/"
        },
        "outputId": "9ddd9443-c8c4-470c-c91f-ed28e3beb874"
      },
      "source": [
        "from sklearn.tree import DecisionTreeClassifier\r\n",
        "X_train,X_test,y_train,y_test = train_test_split(x, y, test_size=1/3, random_state=42)\r\n",
        "tree = DecisionTreeClassifier(criterion='gini', max_depth=6, random_state=1)\r\n",
        "tree.fit(X_train, y_train)\r\n",
        "\r\n",
        "y_pred_tree = tree.predict(X_test)\r\n",
        "\r\n",
        "print(\"Accuracy: \", accuracy_score(y_test,y_pred_tree))\r\n",
        "print(\"Recall: \", recall_score(y_test,y_pred_tree))\r\n",
        "print(\"Precision: \", precision_score(y_test,y_pred_tree))"
      ],
      "execution_count": 80,
      "outputs": [
        {
          "output_type": "stream",
          "text": [
            "Accuracy:  0.71484375\n",
            "Recall:  0.7441860465116279\n",
            "Precision:  0.5565217391304348\n"
          ],
          "name": "stdout"
        }
      ]
    },
    {
      "cell_type": "code",
      "metadata": {
        "colab": {
          "base_uri": "https://localhost:8080/"
        },
        "id": "b-UlYushUAiq",
        "outputId": "76291ccb-a01e-4028-9ede-7416dc69b60b"
      },
      "source": [
        "from sklearn.model_selection import cross_val_score\r\n",
        "from sklearn.model_selection import KFold\r\n",
        "\r\n",
        "kf = KFold(n_splits=5)\r\n",
        "model = LogisticRegression()\r\n",
        "model.fit(X_train, y_train)\r\n",
        "ans_pred = model.predict(X_train)\r\n",
        "\r\n",
        "cvs = cross_val_score(estimator= model, X=x, y=y, cv=kf, scoring='accuracy')\r\n",
        "print(cvs)\r\n",
        "print(cvs.mean())"
      ],
      "execution_count": 92,
      "outputs": [
        {
          "output_type": "stream",
          "text": [
            "[0.77272727 0.72077922 0.77272727 0.82352941 0.75163399]\n",
            "0.7682794329853152\n"
          ],
          "name": "stdout"
        },
        {
          "output_type": "stream",
          "text": [
            "/usr/local/lib/python3.6/dist-packages/sklearn/linear_model/_logistic.py:940: ConvergenceWarning: lbfgs failed to converge (status=1):\n",
            "STOP: TOTAL NO. of ITERATIONS REACHED LIMIT.\n",
            "\n",
            "Increase the number of iterations (max_iter) or scale the data as shown in:\n",
            "    https://scikit-learn.org/stable/modules/preprocessing.html\n",
            "Please also refer to the documentation for alternative solver options:\n",
            "    https://scikit-learn.org/stable/modules/linear_model.html#logistic-regression\n",
            "  extra_warning_msg=_LOGISTIC_SOLVER_CONVERGENCE_MSG)\n",
            "/usr/local/lib/python3.6/dist-packages/sklearn/linear_model/_logistic.py:940: ConvergenceWarning: lbfgs failed to converge (status=1):\n",
            "STOP: TOTAL NO. of ITERATIONS REACHED LIMIT.\n",
            "\n",
            "Increase the number of iterations (max_iter) or scale the data as shown in:\n",
            "    https://scikit-learn.org/stable/modules/preprocessing.html\n",
            "Please also refer to the documentation for alternative solver options:\n",
            "    https://scikit-learn.org/stable/modules/linear_model.html#logistic-regression\n",
            "  extra_warning_msg=_LOGISTIC_SOLVER_CONVERGENCE_MSG)\n",
            "/usr/local/lib/python3.6/dist-packages/sklearn/linear_model/_logistic.py:940: ConvergenceWarning: lbfgs failed to converge (status=1):\n",
            "STOP: TOTAL NO. of ITERATIONS REACHED LIMIT.\n",
            "\n",
            "Increase the number of iterations (max_iter) or scale the data as shown in:\n",
            "    https://scikit-learn.org/stable/modules/preprocessing.html\n",
            "Please also refer to the documentation for alternative solver options:\n",
            "    https://scikit-learn.org/stable/modules/linear_model.html#logistic-regression\n",
            "  extra_warning_msg=_LOGISTIC_SOLVER_CONVERGENCE_MSG)\n",
            "/usr/local/lib/python3.6/dist-packages/sklearn/linear_model/_logistic.py:940: ConvergenceWarning: lbfgs failed to converge (status=1):\n",
            "STOP: TOTAL NO. of ITERATIONS REACHED LIMIT.\n",
            "\n",
            "Increase the number of iterations (max_iter) or scale the data as shown in:\n",
            "    https://scikit-learn.org/stable/modules/preprocessing.html\n",
            "Please also refer to the documentation for alternative solver options:\n",
            "    https://scikit-learn.org/stable/modules/linear_model.html#logistic-regression\n",
            "  extra_warning_msg=_LOGISTIC_SOLVER_CONVERGENCE_MSG)\n",
            "/usr/local/lib/python3.6/dist-packages/sklearn/linear_model/_logistic.py:940: ConvergenceWarning: lbfgs failed to converge (status=1):\n",
            "STOP: TOTAL NO. of ITERATIONS REACHED LIMIT.\n",
            "\n",
            "Increase the number of iterations (max_iter) or scale the data as shown in:\n",
            "    https://scikit-learn.org/stable/modules/preprocessing.html\n",
            "Please also refer to the documentation for alternative solver options:\n",
            "    https://scikit-learn.org/stable/modules/linear_model.html#logistic-regression\n",
            "  extra_warning_msg=_LOGISTIC_SOLVER_CONVERGENCE_MSG)\n"
          ],
          "name": "stderr"
        }
      ]
    },
    {
      "cell_type": "markdown",
      "metadata": {
        "id": "UUXkzoppfHFN"
      },
      "source": [
        "Логистическая регрессия с помощью кросс валидации работает лучше, чем просто логистическая регрессия"
      ]
    },
    {
      "cell_type": "code",
      "metadata": {
        "colab": {
          "base_uri": "https://localhost:8080/"
        },
        "id": "5Zavs8bWdlrg",
        "outputId": "3e0d9f2c-b24d-47bd-8f54-7b13ae7c9030"
      },
      "source": [
        "scores =[]\r\n",
        "for i in range(1,15):\r\n",
        "  knn = KNeighborsClassifier(i)\r\n",
        "  knn.fit(X_train,y_train)\r\n",
        "  answers = knn.predict(X_test)\r\n",
        "  scores.append(knn.score(X_test,y_test))\r\n",
        "\r\n",
        "cvs = cross_val_score(estimator= knn, X=x, y=y, cv=kf, scoring='accuracy')\r\n",
        "print(cvs)\r\n",
        "print(cvs.mean())"
      ],
      "execution_count": 93,
      "outputs": [
        {
          "output_type": "stream",
          "text": [
            "[0.75974026 0.68831169 0.76623377 0.8496732  0.73202614]\n",
            "0.7591970121381887\n"
          ],
          "name": "stdout"
        }
      ]
    },
    {
      "cell_type": "markdown",
      "metadata": {
        "id": "q_C6Fpi1etJ9"
      },
      "source": [
        "Метод ближайших соседий с помощью кросс валидации работает лучше, чем просто метод ближайших соседей"
      ]
    },
    {
      "cell_type": "code",
      "metadata": {
        "colab": {
          "base_uri": "https://localhost:8080/"
        },
        "id": "t4GR4BrqWDLm",
        "outputId": "15e6d306-a8a9-49ea-b408-4ffed71017f2"
      },
      "source": [
        "# стандартизированные данные\r\n",
        "X_train,X_test,y_train,y_test = train_test_split(X_st, y, test_size=1/3, random_state=42)\r\n",
        "tree = DecisionTreeClassifier(criterion='gini', max_depth=6, random_state=1)\r\n",
        "tree.fit(X_train, y_train)\r\n",
        "\r\n",
        "y_pred_tree = tree.predict(X_test)\r\n",
        "\r\n",
        "print(\"Accuracy: \", accuracy_score(y_test,y_pred_tree))\r\n",
        "print(\"Recall: \", recall_score(y_test,y_pred_tree))\r\n",
        "print(\"Precision: \", precision_score(y_test,y_pred_tree))"
      ],
      "execution_count": 82,
      "outputs": [
        {
          "output_type": "stream",
          "text": [
            "Accuracy:  0.71484375\n",
            "Recall:  0.7441860465116279\n",
            "Precision:  0.5565217391304348\n"
          ],
          "name": "stdout"
        }
      ]
    },
    {
      "cell_type": "code",
      "metadata": {
        "colab": {
          "base_uri": "https://localhost:8080/"
        },
        "id": "HpbuvXe9WEZd",
        "outputId": "bc907824-0eeb-469f-9b08-26432384a295"
      },
      "source": [
        "# нормализированные данные\r\n",
        "X_train,X_test,y_train,y_test = train_test_split(X_norm, y, test_size=1/3, random_state=42)\r\n",
        "tree = DecisionTreeClassifier(criterion='gini', max_depth=4, random_state=1)\r\n",
        "tree.fit(X_train, y_train)\r\n",
        "\r\n",
        "y_pred_tree = tree.predict(X_test)\r\n",
        "\r\n",
        "print(\"Accuracy: \", accuracy_score(y_test,y_pred_tree))\r\n",
        "print(\"Recall: \", recall_score(y_test,y_pred_tree))\r\n",
        "print(\"Precision: \", precision_score(y_test,y_pred_tree))"
      ],
      "execution_count": 84,
      "outputs": [
        {
          "output_type": "stream",
          "text": [
            "Accuracy:  0.72265625\n",
            "Recall:  0.7209302325581395\n",
            "Precision:  0.5688073394495413\n"
          ],
          "name": "stdout"
        }
      ]
    }
  ]
}