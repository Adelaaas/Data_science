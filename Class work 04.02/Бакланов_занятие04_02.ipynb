{
  "nbformat": 4,
  "nbformat_minor": 0,
  "metadata": {
    "colab": {
      "name": "Бакланов_занятие04_02.ipynb",
      "provenance": [],
      "collapsed_sections": []
    },
    "kernelspec": {
      "name": "python3",
      "display_name": "Python 3"
    }
  },
  "cells": [
    {
      "cell_type": "code",
      "metadata": {
        "id": "WJ1PZufOKy7h"
      },
      "source": [
        "import pandas as pd\r\n",
        "from sklearn.linear_model import LogisticRegression"
      ],
      "execution_count": 59,
      "outputs": []
    },
    {
      "cell_type": "code",
      "metadata": {
        "colab": {
          "resources": {
            "http://localhost:8080/nbextensions/google.colab/files.js": {
              "data": "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",
              "ok": true,
              "headers": [
                [
                  "content-type",
                  "application/javascript"
                ]
              ],
              "status": 200,
              "status_text": ""
            }
          },
          "base_uri": "https://localhost:8080/",
          "height": 74
        },
        "id": "CFW0uTEGMsac",
        "outputId": "275d1333-e3b5-46ab-e747-56865d31871e"
      },
      "source": [
        "from google.colab import files #загрузка датасета\r\n",
        "uploaded = files.upload()"
      ],
      "execution_count": 36,
      "outputs": [
        {
          "output_type": "display_data",
          "data": {
            "text/html": [
              "\n",
              "     <input type=\"file\" id=\"files-f6c03848-005b-4588-887d-b12bc8e9c517\" name=\"files[]\" multiple disabled\n",
              "        style=\"border:none\" />\n",
              "     <output id=\"result-f6c03848-005b-4588-887d-b12bc8e9c517\">\n",
              "      Upload widget is only available when the cell has been executed in the\n",
              "      current browser session. Please rerun this cell to enable.\n",
              "      </output>\n",
              "      <script src=\"/nbextensions/google.colab/files.js\"></script> "
            ],
            "text/plain": [
              "<IPython.core.display.HTML object>"
            ]
          },
          "metadata": {
            "tags": []
          }
        },
        {
          "output_type": "stream",
          "text": [
            "Saving diabetes.csv to diabetes (2).csv\n"
          ],
          "name": "stdout"
        }
      ]
    },
    {
      "cell_type": "code",
      "metadata": {
        "id": "qAVGH_KPMuHo"
      },
      "source": [
        "db = pd.read_csv(\"diabetes.csv\")\r\n",
        "db "
      ],
      "execution_count": null,
      "outputs": []
    },
    {
      "cell_type": "code",
      "metadata": {
        "id": "DHNfjkdtNCRD"
      },
      "source": [
        "#выделим вектор ответов и вектор признаков \r\n",
        "X = df.drop(['Outcome'],axis=1)\r\n",
        "y = df['Outcome']"
      ],
      "execution_count": 38,
      "outputs": []
    },
    {
      "cell_type": "code",
      "metadata": {
        "id": "Q_MyuAHfPI9q"
      },
      "source": [
        "from sklearn.tree import DecisionTreeClassifier\r\n",
        "from sklearn.model_selection import train_test_split\r\n",
        "\r\n",
        "X_train, X_test, y_train, y_test = train_test_split(X, y, test_size=1/3,random_state=42)\r\n",
        "\r\n",
        "tree = DecisionTreeClassifier()\r\n",
        "#model = logisticRegression()\r\n",
        "# knn = KNearestNeighbor()\r\n",
        "\r\n",
        "tree.fit(X_train, y_train)\r\n",
        "y_pred_tree = tree.predict(X_test)\r\n"
      ],
      "execution_count": 39,
      "outputs": []
    },
    {
      "cell_type": "code",
      "metadata": {
        "colab": {
          "base_uri": "https://localhost:8080/"
        },
        "id": "7CMWyzH9P55_",
        "outputId": "390055c1-d3b4-43b8-9fcf-f5ed8a3b1a82"
      },
      "source": [
        "from sklearn.metrics import recall_score\r\n",
        "from sklearn.metrics import precision_score\r\n",
        "from sklearn.metrics import accuracy_score\r\n",
        "\r\n",
        "print(\"accuracy: \", accuracy_score(y_test,y_pred_tree))\r\n",
        "print(\"recall: \", recall_score(y_test,y_pred_tree))\r\n",
        "print(\"precision: \", precision_score(y_test,y_pred_tree))"
      ],
      "execution_count": 40,
      "outputs": [
        {
          "output_type": "stream",
          "text": [
            "accuracy:  0.70703125\n",
            "recall:  0.6744186046511628\n",
            "precision:  0.5523809523809524\n"
          ],
          "name": "stdout"
        }
      ]
    },
    {
      "cell_type": "code",
      "metadata": {
        "colab": {
          "base_uri": "https://localhost:8080/"
        },
        "id": "NG2gLJ9pQ2gX",
        "outputId": "e369a35e-293b-4276-b7d5-48edaa0517bb"
      },
      "source": [
        "from sklearn.model_selection import cross_val_score\r\n",
        "from sklearn.model_selection import KFold\r\n",
        "\r\n",
        "kf = KFold(n_splits = 5)\r\n",
        "tree = DecisionTreeClassifier()\r\n",
        "\r\n",
        "\r\n",
        "cvs = cross_val_score(estimator=tree, X=X, y=y, cv=kf, scoring='accuracy')\r\n",
        "\r\n",
        "print(cvs)\r\n",
        "print(cvs.mean())"
      ],
      "execution_count": 41,
      "outputs": [
        {
          "output_type": "stream",
          "text": [
            "[0.68831169 0.6038961  0.70779221 0.79084967 0.75816993]\n",
            "0.7098039215686274\n"
          ],
          "name": "stdout"
        }
      ]
    },
    {
      "cell_type": "markdown",
      "metadata": {
        "id": "w9xB_2g6TjTB"
      },
      "source": [
        "#Построение на нормализованных данных "
      ]
    },
    {
      "cell_type": "code",
      "metadata": {
        "colab": {
          "base_uri": "https://localhost:8080/"
        },
        "id": "tL1b5I1mTgJk",
        "outputId": "55bbc1f0-2434-47eb-ca8c-8620c3dfc335"
      },
      "source": [
        "from sklearn.preprocessing import MinMaxScaler\r\n",
        "\r\n",
        "scaler = MinMaxScaler()\r\n",
        "X_norm = scaler.fit_transform(X)\r\n",
        "X_norm\r\n",
        "\r\n",
        "X_train, X_test, y_train, y_test = train_test_split(X_norm, y, test_size=1/3,random_state=42)\r\n",
        "\r\n",
        "tree_norm = DecisionTreeClassifier()\r\n",
        "#model = logisticRegression()\r\n",
        "# knn = KNearestNeighbor()\r\n",
        "\r\n",
        "tree_norm.fit(X_train, y_train)\r\n",
        "y_pred_tree_norm = tree_norm.predict(X_test)\r\n",
        "\r\n",
        "kf = KFold(n_splits = 6) #на 6 блоках выдает больший результат\r\n",
        "cvs_norm = cross_val_score(estimator=tree_norm, X=X, y=y, cv=kf, scoring='accuracy')\r\n",
        "\r\n",
        "print(cvs_norm)\r\n",
        "print(cvs_norm.mean())\r\n",
        "#на 5 блоках выдает среднюю оценку немного ниже чем на обычных данных - несколько тысячных\r\n",
        "# 6 блоков дают прирост в несколько сотых "
      ],
      "execution_count": 56,
      "outputs": [
        {
          "output_type": "stream",
          "text": [
            "[0.71875   0.671875  0.609375  0.7421875 0.78125   0.765625 ]\n",
            "0.71484375\n"
          ],
          "name": "stdout"
        }
      ]
    },
    {
      "cell_type": "markdown",
      "metadata": {
        "id": "BNuh_AitXtWS"
      },
      "source": [
        "# Построние на стандартизованных данных "
      ]
    },
    {
      "cell_type": "code",
      "metadata": {
        "colab": {
          "base_uri": "https://localhost:8080/"
        },
        "id": "DBm_6E6OXyZM",
        "outputId": "2f86ba0b-f524-48e1-9d8f-705b21687301"
      },
      "source": [
        "from sklearn.preprocessing import StandardScaler\r\n",
        "\r\n",
        "scaler = StandardScaler()\r\n",
        "X_st = scaler.fit_transform(X)\r\n",
        "\r\n",
        "\r\n",
        "X_train, X_test, y_train, y_test = train_test_split(X_st, y, test_size=1/3,random_state=42)\r\n",
        "\r\n",
        "tree_st = DecisionTreeClassifier()\r\n",
        "#model = logisticRegression()\r\n",
        "# knn = KNearestNeighbor()\r\n",
        "\r\n",
        "tree_st.fit(X_train, y_train)\r\n",
        "y_pred_tree_st = tree_st.predict(X_test)\r\n",
        "\r\n",
        "kfs = KFold(n_splits = 5) #на 6 блоках выдает больший результат\r\n",
        "cvs_st = cross_val_score(estimator=tree_st, X=X, y=y, cv=kfs, scoring='accuracy')\r\n",
        "\r\n",
        "print(cvs_norm)\r\n",
        "print(cvs_norm.mean())\r\n",
        "\r\n",
        "#точность идентична нормализованным"
      ],
      "execution_count": 58,
      "outputs": [
        {
          "output_type": "stream",
          "text": [
            "[0.71875   0.671875  0.609375  0.7421875 0.78125   0.765625 ]\n",
            "0.71484375\n"
          ],
          "name": "stdout"
        }
      ]
    },
    {
      "cell_type": "markdown",
      "metadata": {
        "id": "1nXUZvFJdJKL"
      },
      "source": [
        "# Изменение глубины дерева\r\n"
      ]
    },
    {
      "cell_type": "code",
      "metadata": {
        "id": "L_8inUqWdMVJ",
        "colab": {
          "base_uri": "https://localhost:8080/"
        },
        "outputId": "9b5ff56b-e89d-46b4-e868-be22cc13363d"
      },
      "source": [
        "X_train,X_test,y_train,y_test = train_test_split(X_norm, y, test_size=1/3, random_state=42)\r\n",
        "\r\n",
        "\r\n",
        "kf = KFold(n_splits=5)\r\n",
        "\r\n",
        "for i in range(1, 15):\r\n",
        "  tree_test = DecisionTreeClassifier(criterion='gini', max_depth=i, random_state=1)\r\n",
        "  cvs = cross_val_score(estimator=tree_test, X=X, y=y, cv=kf, scoring='accuracy')\r\n",
        "  print('     ')\r\n",
        "  print('глубина дерева:', i)\r\n",
        "  print(cvs)\r\n",
        "  print(cvs.mean()) \r\n",
        "\r\n",
        "#наибольшую точность дает глубина 2"
      ],
      "execution_count": 55,
      "outputs": [
        {
          "output_type": "stream",
          "text": [
            "     \n",
            "глубина дерева: 1\n",
            "[0.68181818 0.68831169 0.75974026 0.77777778 0.74509804]\n",
            "0.7305491893727187\n",
            "     \n",
            "глубина дерева: 2\n",
            "[0.73376623 0.68831169 0.7987013  0.84313725 0.73856209]\n",
            "0.7604957134368899\n",
            "     \n",
            "глубина дерева: 3\n",
            "[0.72727273 0.66883117 0.7987013  0.83006536 0.7254902 ]\n",
            "0.7500721500721501\n",
            "     \n",
            "глубина дерева: 4\n",
            "[0.73376623 0.65584416 0.78571429 0.82352941 0.7254902 ]\n",
            "0.7448688566335624\n",
            "     \n",
            "глубина дерева: 5\n",
            "[0.74675325 0.63636364 0.77272727 0.81699346 0.75163399]\n",
            "0.7448943213649095\n",
            "     \n",
            "глубина дерева: 6\n",
            "[0.74675325 0.62337662 0.76623377 0.79738562 0.71895425]\n",
            "0.7305407011289364\n",
            "     \n",
            "глубина дерева: 7\n",
            "[0.71428571 0.62987013 0.72727273 0.83006536 0.73856209]\n",
            "0.7280112044817927\n",
            "     \n",
            "глубина дерева: 8\n",
            "[0.74675325 0.62987013 0.75324675 0.81699346 0.71895425]\n",
            "0.7331635684576862\n",
            "     \n",
            "глубина дерева: 9\n",
            "[0.71428571 0.62337662 0.71428571 0.79084967 0.73202614]\n",
            "0.7149647737883031\n",
            "     \n",
            "глубина дерева: 10\n",
            "[0.69480519 0.6038961  0.74675325 0.77777778 0.71895425]\n",
            "0.7084373143196673\n",
            "     \n",
            "глубина дерева: 11\n",
            "[0.68181818 0.62987013 0.71428571 0.79738562 0.77124183]\n",
            "0.7189202953908836\n",
            "     \n",
            "глубина дерева: 12\n",
            "[0.69480519 0.61688312 0.71428571 0.78431373 0.73856209]\n",
            "0.7097699685934981\n",
            "     \n",
            "глубина дерева: 13\n",
            "[0.68181818 0.5974026  0.72727273 0.78431373 0.73202614]\n",
            "0.7045666751549104\n",
            "     \n",
            "глубина дерева: 14\n",
            "[0.71428571 0.61038961 0.72727273 0.79738562 0.73202614]\n",
            "0.7162719633307869\n"
          ],
          "name": "stdout"
        }
      ]
    },
    {
      "cell_type": "markdown",
      "metadata": {
        "id": "XSuS4shsetfP"
      },
      "source": [
        "# Логистическая регрессия на кросс валидации с нормализированными"
      ]
    },
    {
      "cell_type": "code",
      "metadata": {
        "colab": {
          "base_uri": "https://localhost:8080/"
        },
        "id": "nC4Q3fZjeyuo",
        "outputId": "8c10cf85-d434-423c-acff-c555eb8d8879"
      },
      "source": [
        "\r\n",
        "scaler=MinMaxScaler()\r\n",
        "X_norm=scaler.fit_transform(X)\r\n",
        "X_norm\r\n",
        "\r\n",
        "kf=KFold(n_splits=5)\r\n",
        "\r\n",
        "model=LogisticRegression()\r\n",
        "\r\n",
        "cvs=cross_val_score(estimator=model, X=X_norm, y=y, cv=kf, scoring='accuracy')\r\n",
        "\r\n",
        "\r\n",
        "print(cvs.mean())\r\n",
        "\r\n",
        "#пока самый высокий результат"
      ],
      "execution_count": 62,
      "outputs": [
        {
          "output_type": "stream",
          "text": [
            "0.7617859264918089\n"
          ],
          "name": "stdout"
        }
      ]
    },
    {
      "cell_type": "markdown",
      "metadata": {
        "id": "X2cjdpq-g0Xs"
      },
      "source": [
        "# Логистическая регрессия на кросс валидации со стандартизированными"
      ]
    },
    {
      "cell_type": "code",
      "metadata": {
        "colab": {
          "base_uri": "https://localhost:8080/"
        },
        "id": "FksEAJ1RgcTq",
        "outputId": "80e0ebef-1333-49a5-81a8-46986446ca78"
      },
      "source": [
        "scaler=StandardScaler()\r\n",
        "X_st=scaler.fit_transform(X)\r\n",
        "X_st\r\n",
        "\r\n",
        "\r\n",
        "kf=KFold(n_splits=5)\r\n",
        "tree=DecisionTreeClassifier(random_state=42)\r\n",
        "cvs=cross_val_score(estimator=tree, X=X_st, y=y, cv=kf, scoring='accuracy')\r\n",
        "\r\n",
        "print(cvs)\r\n",
        "print(cvs.mean())\r\n",
        "\r\n",
        "#результат вернулся уровень дерева решений"
      ],
      "execution_count": 63,
      "outputs": [
        {
          "output_type": "stream",
          "text": [
            "[0.70779221 0.61038961 0.73376623 0.80392157 0.71895425]\n",
            "0.7149647737883033\n"
          ],
          "name": "stdout"
        }
      ]
    },
    {
      "cell_type": "code",
      "metadata": {
        "id": "Zi492X0ahVBh"
      },
      "source": [
        "#самый лучшие резульатат остался у лог регрессии с нормализованными данными"
      ],
      "execution_count": null,
      "outputs": []
    }
  ]
}