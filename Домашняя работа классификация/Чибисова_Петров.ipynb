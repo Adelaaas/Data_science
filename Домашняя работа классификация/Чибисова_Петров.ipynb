{
  "nbformat": 4,
  "nbformat_minor": 0,
  "metadata": {
    "colab": {
      "name": "Untitled33_2_3.ipynb",
      "provenance": []
    },
    "kernelspec": {
      "name": "python3",
      "display_name": "Python 3"
    }
  },
  "cells": [
    {
      "cell_type": "code",
      "metadata": {
        "id": "fLfNHnC5Bq13"
      },
      "source": [
        "import pandas as pd\r\n",
        "import numpy as np\r\n",
        "from sklearn.linear_model import LogisticRegression\r\n",
        "from sklearn.model_selection import train_test_split\r\n",
        "from sklearn.preprocessing import StandardScaler\r\n",
        "from sklearn.model_selection import cross_val_score\r\n",
        "from sklearn.model_selection import KFold\r\n",
        "from sklearn.metrics import accuracy_score\r\n",
        "from sklearn.metrics import recall_score\r\n",
        "from sklearn.metrics import precision_score\r\n",
        "from sklearn.tree import DecisionTreeClassifier\r\n",
        "from sklearn.preprocessing import MinMaxScaler\r\n",
        "from sklearn.metrics import confusion_matrix\r\n",
        "from sklearn.neighbors import KNeighborsClassifier\r\n",
        "from sklearn.svm import SVC"
      ],
      "execution_count": 2,
      "outputs": []
    },
    {
      "cell_type": "code",
      "metadata": {
        "colab": {
          "resources": {
            "http://localhost:8080/nbextensions/google.colab/files.js": {
              "data": "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",
              "ok": true,
              "headers": [
                [
                  "content-type",
                  "application/javascript"
                ]
              ],
              "status": 200,
              "status_text": ""
            }
          },
          "base_uri": "https://localhost:8080/",
          "height": 73
        },
        "id": "cvRScHYvB0KZ",
        "outputId": "99fc0847-e83e-4a38-dd83-755b92e6f53c"
      },
      "source": [
        "from google.colab import files \r\n",
        "uploaded = files.upload()"
      ],
      "execution_count": 3,
      "outputs": [
        {
          "output_type": "display_data",
          "data": {
            "text/html": [
              "\n",
              "     <input type=\"file\" id=\"files-b39e07d2-97c4-499c-b2f0-0e9dbccc6c0c\" name=\"files[]\" multiple disabled\n",
              "        style=\"border:none\" />\n",
              "     <output id=\"result-b39e07d2-97c4-499c-b2f0-0e9dbccc6c0c\">\n",
              "      Upload widget is only available when the cell has been executed in the\n",
              "      current browser session. Please rerun this cell to enable.\n",
              "      </output>\n",
              "      <script src=\"/nbextensions/google.colab/files.js\"></script> "
            ],
            "text/plain": [
              "<IPython.core.display.HTML object>"
            ]
          },
          "metadata": {
            "tags": []
          }
        },
        {
          "output_type": "stream",
          "text": [
            "Saving house-votes-84.csv to house-votes-84.csv\n"
          ],
          "name": "stdout"
        }
      ]
    },
    {
      "cell_type": "code",
      "metadata": {
        "colab": {
          "base_uri": "https://localhost:8080/",
          "height": 440
        },
        "id": "u3zd7D-RCAZa",
        "outputId": "1e094c15-3ae0-4e3d-fb4d-0ae8be7c8554"
      },
      "source": [
        "df = pd.read_csv(\"house-votes-84.csv\")\r\n",
        "df\r\n",
        "## Считываем датасет"
      ],
      "execution_count": 4,
      "outputs": [
        {
          "output_type": "execute_result",
          "data": {
            "text/html": [
              "<div>\n",
              "<style scoped>\n",
              "    .dataframe tbody tr th:only-of-type {\n",
              "        vertical-align: middle;\n",
              "    }\n",
              "\n",
              "    .dataframe tbody tr th {\n",
              "        vertical-align: top;\n",
              "    }\n",
              "\n",
              "    .dataframe thead th {\n",
              "        text-align: right;\n",
              "    }\n",
              "</style>\n",
              "<table border=\"1\" class=\"dataframe\">\n",
              "  <thead>\n",
              "    <tr style=\"text-align: right;\">\n",
              "      <th></th>\n",
              "      <th>Class Name</th>\n",
              "      <th>handicapped-infants</th>\n",
              "      <th>water-project-cost-sharing</th>\n",
              "      <th>adoption-of-the-budget-resolution</th>\n",
              "      <th>physician-fee-freeze</th>\n",
              "      <th>el-salvador-aid</th>\n",
              "      <th>religious-groups-in-schools</th>\n",
              "      <th>anti-satellite-test-ban</th>\n",
              "      <th>aid-to-nicaraguan-contras</th>\n",
              "      <th>mx-missile</th>\n",
              "      <th>immigration</th>\n",
              "      <th>synfuels-corporation-cutback</th>\n",
              "      <th>education-spending</th>\n",
              "      <th>superfund-right-to-sue</th>\n",
              "      <th>crime</th>\n",
              "      <th>duty-free-exports</th>\n",
              "      <th>export-administration-act-south-africa</th>\n",
              "    </tr>\n",
              "  </thead>\n",
              "  <tbody>\n",
              "    <tr>\n",
              "      <th>0</th>\n",
              "      <td>republican</td>\n",
              "      <td>n</td>\n",
              "      <td>y</td>\n",
              "      <td>n</td>\n",
              "      <td>y</td>\n",
              "      <td>y</td>\n",
              "      <td>y</td>\n",
              "      <td>n</td>\n",
              "      <td>n</td>\n",
              "      <td>n</td>\n",
              "      <td>y</td>\n",
              "      <td>?</td>\n",
              "      <td>y</td>\n",
              "      <td>y</td>\n",
              "      <td>y</td>\n",
              "      <td>n</td>\n",
              "      <td>y</td>\n",
              "    </tr>\n",
              "    <tr>\n",
              "      <th>1</th>\n",
              "      <td>republican</td>\n",
              "      <td>n</td>\n",
              "      <td>y</td>\n",
              "      <td>n</td>\n",
              "      <td>y</td>\n",
              "      <td>y</td>\n",
              "      <td>y</td>\n",
              "      <td>n</td>\n",
              "      <td>n</td>\n",
              "      <td>n</td>\n",
              "      <td>n</td>\n",
              "      <td>n</td>\n",
              "      <td>y</td>\n",
              "      <td>y</td>\n",
              "      <td>y</td>\n",
              "      <td>n</td>\n",
              "      <td>?</td>\n",
              "    </tr>\n",
              "    <tr>\n",
              "      <th>2</th>\n",
              "      <td>democrat</td>\n",
              "      <td>?</td>\n",
              "      <td>y</td>\n",
              "      <td>y</td>\n",
              "      <td>?</td>\n",
              "      <td>y</td>\n",
              "      <td>y</td>\n",
              "      <td>n</td>\n",
              "      <td>n</td>\n",
              "      <td>n</td>\n",
              "      <td>n</td>\n",
              "      <td>y</td>\n",
              "      <td>n</td>\n",
              "      <td>y</td>\n",
              "      <td>y</td>\n",
              "      <td>n</td>\n",
              "      <td>n</td>\n",
              "    </tr>\n",
              "    <tr>\n",
              "      <th>3</th>\n",
              "      <td>democrat</td>\n",
              "      <td>n</td>\n",
              "      <td>y</td>\n",
              "      <td>y</td>\n",
              "      <td>n</td>\n",
              "      <td>?</td>\n",
              "      <td>y</td>\n",
              "      <td>n</td>\n",
              "      <td>n</td>\n",
              "      <td>n</td>\n",
              "      <td>n</td>\n",
              "      <td>y</td>\n",
              "      <td>n</td>\n",
              "      <td>y</td>\n",
              "      <td>n</td>\n",
              "      <td>n</td>\n",
              "      <td>y</td>\n",
              "    </tr>\n",
              "    <tr>\n",
              "      <th>4</th>\n",
              "      <td>democrat</td>\n",
              "      <td>y</td>\n",
              "      <td>y</td>\n",
              "      <td>y</td>\n",
              "      <td>n</td>\n",
              "      <td>y</td>\n",
              "      <td>y</td>\n",
              "      <td>n</td>\n",
              "      <td>n</td>\n",
              "      <td>n</td>\n",
              "      <td>n</td>\n",
              "      <td>y</td>\n",
              "      <td>?</td>\n",
              "      <td>y</td>\n",
              "      <td>y</td>\n",
              "      <td>y</td>\n",
              "      <td>y</td>\n",
              "    </tr>\n",
              "    <tr>\n",
              "      <th>...</th>\n",
              "      <td>...</td>\n",
              "      <td>...</td>\n",
              "      <td>...</td>\n",
              "      <td>...</td>\n",
              "      <td>...</td>\n",
              "      <td>...</td>\n",
              "      <td>...</td>\n",
              "      <td>...</td>\n",
              "      <td>...</td>\n",
              "      <td>...</td>\n",
              "      <td>...</td>\n",
              "      <td>...</td>\n",
              "      <td>...</td>\n",
              "      <td>...</td>\n",
              "      <td>...</td>\n",
              "      <td>...</td>\n",
              "      <td>...</td>\n",
              "    </tr>\n",
              "    <tr>\n",
              "      <th>430</th>\n",
              "      <td>republican</td>\n",
              "      <td>n</td>\n",
              "      <td>n</td>\n",
              "      <td>y</td>\n",
              "      <td>y</td>\n",
              "      <td>y</td>\n",
              "      <td>y</td>\n",
              "      <td>n</td>\n",
              "      <td>n</td>\n",
              "      <td>y</td>\n",
              "      <td>y</td>\n",
              "      <td>n</td>\n",
              "      <td>y</td>\n",
              "      <td>y</td>\n",
              "      <td>y</td>\n",
              "      <td>n</td>\n",
              "      <td>y</td>\n",
              "    </tr>\n",
              "    <tr>\n",
              "      <th>431</th>\n",
              "      <td>democrat</td>\n",
              "      <td>n</td>\n",
              "      <td>n</td>\n",
              "      <td>y</td>\n",
              "      <td>n</td>\n",
              "      <td>n</td>\n",
              "      <td>n</td>\n",
              "      <td>y</td>\n",
              "      <td>y</td>\n",
              "      <td>y</td>\n",
              "      <td>y</td>\n",
              "      <td>n</td>\n",
              "      <td>n</td>\n",
              "      <td>n</td>\n",
              "      <td>n</td>\n",
              "      <td>n</td>\n",
              "      <td>y</td>\n",
              "    </tr>\n",
              "    <tr>\n",
              "      <th>432</th>\n",
              "      <td>republican</td>\n",
              "      <td>n</td>\n",
              "      <td>?</td>\n",
              "      <td>n</td>\n",
              "      <td>y</td>\n",
              "      <td>y</td>\n",
              "      <td>y</td>\n",
              "      <td>n</td>\n",
              "      <td>n</td>\n",
              "      <td>n</td>\n",
              "      <td>n</td>\n",
              "      <td>y</td>\n",
              "      <td>y</td>\n",
              "      <td>y</td>\n",
              "      <td>y</td>\n",
              "      <td>n</td>\n",
              "      <td>y</td>\n",
              "    </tr>\n",
              "    <tr>\n",
              "      <th>433</th>\n",
              "      <td>republican</td>\n",
              "      <td>n</td>\n",
              "      <td>n</td>\n",
              "      <td>n</td>\n",
              "      <td>y</td>\n",
              "      <td>y</td>\n",
              "      <td>y</td>\n",
              "      <td>?</td>\n",
              "      <td>?</td>\n",
              "      <td>?</td>\n",
              "      <td>?</td>\n",
              "      <td>n</td>\n",
              "      <td>y</td>\n",
              "      <td>y</td>\n",
              "      <td>y</td>\n",
              "      <td>n</td>\n",
              "      <td>y</td>\n",
              "    </tr>\n",
              "    <tr>\n",
              "      <th>434</th>\n",
              "      <td>republican</td>\n",
              "      <td>n</td>\n",
              "      <td>y</td>\n",
              "      <td>n</td>\n",
              "      <td>y</td>\n",
              "      <td>y</td>\n",
              "      <td>y</td>\n",
              "      <td>n</td>\n",
              "      <td>n</td>\n",
              "      <td>n</td>\n",
              "      <td>y</td>\n",
              "      <td>n</td>\n",
              "      <td>y</td>\n",
              "      <td>y</td>\n",
              "      <td>y</td>\n",
              "      <td>?</td>\n",
              "      <td>n</td>\n",
              "    </tr>\n",
              "  </tbody>\n",
              "</table>\n",
              "<p>435 rows × 17 columns</p>\n",
              "</div>"
            ],
            "text/plain": [
              "     Class Name  ...  export-administration-act-south-africa\n",
              "0    republican  ...                                       y\n",
              "1    republican  ...                                       ?\n",
              "2      democrat  ...                                       n\n",
              "3      democrat  ...                                       y\n",
              "4      democrat  ...                                       y\n",
              "..          ...  ...                                     ...\n",
              "430  republican  ...                                       y\n",
              "431    democrat  ...                                       y\n",
              "432  republican  ...                                       y\n",
              "433  republican  ...                                       y\n",
              "434  republican  ...                                       n\n",
              "\n",
              "[435 rows x 17 columns]"
            ]
          },
          "metadata": {
            "tags": []
          },
          "execution_count": 4
        }
      ]
    },
    {
      "cell_type": "code",
      "metadata": {
        "colab": {
          "base_uri": "https://localhost:8080/"
        },
        "id": "I9OiprOPCK9V",
        "outputId": "e6044c40-6b72-46a5-dceb-866881032c68"
      },
      "source": [
        "print(df.shape)\r\n",
        "## Определяем размерность датафрейма"
      ],
      "execution_count": 5,
      "outputs": [
        {
          "output_type": "stream",
          "text": [
            "(435, 17)\n"
          ],
          "name": "stdout"
        }
      ]
    },
    {
      "cell_type": "code",
      "metadata": {
        "colab": {
          "base_uri": "https://localhost:8080/"
        },
        "id": "otqFSJqzLXtl",
        "outputId": "e58a0f20-b58a-465a-b4b8-66a421fbee27"
      },
      "source": [
        "df.info()\r\n",
        "# Определяем тип данных в каждом столбце"
      ],
      "execution_count": 6,
      "outputs": [
        {
          "output_type": "stream",
          "text": [
            "<class 'pandas.core.frame.DataFrame'>\n",
            "RangeIndex: 435 entries, 0 to 434\n",
            "Data columns (total 17 columns):\n",
            " #   Column                                   Non-Null Count  Dtype \n",
            "---  ------                                   --------------  ----- \n",
            " 0   Class Name                               435 non-null    object\n",
            " 1    handicapped-infants                     435 non-null    object\n",
            " 2    water-project-cost-sharing              435 non-null    object\n",
            " 3    adoption-of-the-budget-resolution       435 non-null    object\n",
            " 4    physician-fee-freeze                    435 non-null    object\n",
            " 5    el-salvador-aid                         435 non-null    object\n",
            " 6    religious-groups-in-schools             435 non-null    object\n",
            " 7    anti-satellite-test-ban                 435 non-null    object\n",
            " 8    aid-to-nicaraguan-contras               435 non-null    object\n",
            " 9    mx-missile                              435 non-null    object\n",
            " 10   immigration                             435 non-null    object\n",
            " 11   synfuels-corporation-cutback            435 non-null    object\n",
            " 12   education-spending                      435 non-null    object\n",
            " 13   superfund-right-to-sue                  435 non-null    object\n",
            " 14   crime                                   435 non-null    object\n",
            " 15   duty-free-exports                       435 non-null    object\n",
            " 16   export-administration-act-south-africa  435 non-null    object\n",
            "dtypes: object(17)\n",
            "memory usage: 57.9+ KB\n"
          ],
          "name": "stdout"
        }
      ]
    },
    {
      "cell_type": "code",
      "metadata": {
        "colab": {
          "base_uri": "https://localhost:8080/"
        },
        "id": "zKhfSWKfCMaq",
        "outputId": "c1b0e676-beab-40b4-a913-7db2f20134f5"
      },
      "source": [
        "print(df.isna().sum())\r\n",
        "## Ищем пустые значения"
      ],
      "execution_count": 7,
      "outputs": [
        {
          "output_type": "stream",
          "text": [
            "Class Name                                 0\n",
            " handicapped-infants                       0\n",
            " water-project-cost-sharing                0\n",
            " adoption-of-the-budget-resolution         0\n",
            " physician-fee-freeze                      0\n",
            " el-salvador-aid                           0\n",
            " religious-groups-in-schools               0\n",
            " anti-satellite-test-ban                   0\n",
            " aid-to-nicaraguan-contras                 0\n",
            " mx-missile                                0\n",
            " immigration                               0\n",
            " synfuels-corporation-cutback              0\n",
            " education-spending                        0\n",
            " superfund-right-to-sue                    0\n",
            " crime                                     0\n",
            " duty-free-exports                         0\n",
            " export-administration-act-south-africa    0\n",
            "dtype: int64\n"
          ],
          "name": "stdout"
        }
      ]
    },
    {
      "cell_type": "code",
      "metadata": {
        "id": "hQiZ8o-iCD8d"
      },
      "source": [
        "df[' handicapped-infants'] = df[' handicapped-infants'].map({'n': 0,\r\n",
        "'y': 1})\r\n",
        "df[' water-project-cost-sharing'] = df[' water-project-cost-sharing'].map({'n': 0,\r\n",
        "'y': 1})\r\n",
        "df[' adoption-of-the-budget-resolution'] = df[' adoption-of-the-budget-resolution'].map({'n': 0,\r\n",
        "'y': 1})\r\n",
        "df[' physician-fee-freeze'] = df[' physician-fee-freeze'].map({'n': 0,\r\n",
        "'y': 1})\r\n",
        "df[' el-salvador-aid'] = df[' el-salvador-aid'].map({'n': 0,\r\n",
        "'y': 1})\r\n",
        "df[' religious-groups-in-schools'] = df[' religious-groups-in-schools'].map({'n': 0,\r\n",
        "'y': 1})\r\n",
        "df[' anti-satellite-test-ban'] = df[' anti-satellite-test-ban'].map({'n': 0,\r\n",
        "'y': 1})\r\n",
        "df[' mx-missile'] = df[' mx-missile'].map({'n': 0,\r\n",
        "'y': 1})\r\n",
        "df[' immigration'] = df[' immigration'].map({'n': 0,\r\n",
        "'y': 1})\r\n",
        "df[' synfuels-corporation-cutback'] = df[' synfuels-corporation-cutback'].map({'n': 0,\r\n",
        "'y': 1})\r\n",
        "df[' education-spending'] = df[' education-spending'].map({'n': 0,\r\n",
        "'y': 1})\r\n",
        "df[' superfund-right-to-sue'] = df[' superfund-right-to-sue'].map({'n': 0,\r\n",
        "'y': 1})\r\n",
        "df[' crime'] = df[' crime'].map({'n': 0,\r\n",
        "'y': 1})\r\n",
        "df[' export-administration-act-south-africa'] = df[' export-administration-act-south-africa'].map({'n': 0,\r\n",
        "'y': 1})\r\n",
        "df[' aid-to-nicaraguan-contras'] = df[' aid-to-nicaraguan-contras'].map({'n': 0,\r\n",
        "'y': 1})\r\n",
        "df[' duty-free-exports'] = df[' duty-free-exports'].map({'n': 0,\r\n",
        "'y': 1})\r\n",
        "df['Class Name'] = df['Class Name'].map({'republican': 0,\r\n",
        "'democrat': 1})\r\n",
        "## Заменяем строчные значения на числовые"
      ],
      "execution_count": 8,
      "outputs": []
    },
    {
      "cell_type": "code",
      "metadata": {
        "colab": {
          "base_uri": "https://localhost:8080/"
        },
        "id": "HmuRlEWaCRAg",
        "outputId": "4c2bbc9e-b744-4df6-82d7-883f0c8d4d82"
      },
      "source": [
        "df.isna().sum()\r\n",
        "# После замены значений появились пустые значения"
      ],
      "execution_count": 9,
      "outputs": [
        {
          "output_type": "execute_result",
          "data": {
            "text/plain": [
              "Class Name                                   0\n",
              " handicapped-infants                        12\n",
              " water-project-cost-sharing                 48\n",
              " adoption-of-the-budget-resolution          11\n",
              " physician-fee-freeze                       11\n",
              " el-salvador-aid                            15\n",
              " religious-groups-in-schools                11\n",
              " anti-satellite-test-ban                    14\n",
              " aid-to-nicaraguan-contras                  15\n",
              " mx-missile                                 22\n",
              " immigration                                 7\n",
              " synfuels-corporation-cutback               21\n",
              " education-spending                         31\n",
              " superfund-right-to-sue                     25\n",
              " crime                                      17\n",
              " duty-free-exports                          28\n",
              " export-administration-act-south-africa    104\n",
              "dtype: int64"
            ]
          },
          "metadata": {
            "tags": []
          },
          "execution_count": 9
        }
      ]
    },
    {
      "cell_type": "code",
      "metadata": {
        "id": "HHYtDYvbCWRJ"
      },
      "source": [
        "df = df.drop([' export-administration-act-south-africa'] , axis=1)\r\n",
        "# Удаляем столбец в котором слишком много пустых значений"
      ],
      "execution_count": 10,
      "outputs": []
    },
    {
      "cell_type": "code",
      "metadata": {
        "colab": {
          "base_uri": "https://localhost:8080/",
          "height": 440
        },
        "id": "q0VXKcM0CbGx",
        "outputId": "0d47a3d1-be67-49b0-ee13-caa0f9f6740a"
      },
      "source": [
        "df"
      ],
      "execution_count": 11,
      "outputs": [
        {
          "output_type": "execute_result",
          "data": {
            "text/html": [
              "<div>\n",
              "<style scoped>\n",
              "    .dataframe tbody tr th:only-of-type {\n",
              "        vertical-align: middle;\n",
              "    }\n",
              "\n",
              "    .dataframe tbody tr th {\n",
              "        vertical-align: top;\n",
              "    }\n",
              "\n",
              "    .dataframe thead th {\n",
              "        text-align: right;\n",
              "    }\n",
              "</style>\n",
              "<table border=\"1\" class=\"dataframe\">\n",
              "  <thead>\n",
              "    <tr style=\"text-align: right;\">\n",
              "      <th></th>\n",
              "      <th>Class Name</th>\n",
              "      <th>handicapped-infants</th>\n",
              "      <th>water-project-cost-sharing</th>\n",
              "      <th>adoption-of-the-budget-resolution</th>\n",
              "      <th>physician-fee-freeze</th>\n",
              "      <th>el-salvador-aid</th>\n",
              "      <th>religious-groups-in-schools</th>\n",
              "      <th>anti-satellite-test-ban</th>\n",
              "      <th>aid-to-nicaraguan-contras</th>\n",
              "      <th>mx-missile</th>\n",
              "      <th>immigration</th>\n",
              "      <th>synfuels-corporation-cutback</th>\n",
              "      <th>education-spending</th>\n",
              "      <th>superfund-right-to-sue</th>\n",
              "      <th>crime</th>\n",
              "      <th>duty-free-exports</th>\n",
              "    </tr>\n",
              "  </thead>\n",
              "  <tbody>\n",
              "    <tr>\n",
              "      <th>0</th>\n",
              "      <td>0</td>\n",
              "      <td>0.0</td>\n",
              "      <td>1.0</td>\n",
              "      <td>0.0</td>\n",
              "      <td>1.0</td>\n",
              "      <td>1.0</td>\n",
              "      <td>1.0</td>\n",
              "      <td>0.0</td>\n",
              "      <td>0.0</td>\n",
              "      <td>0.0</td>\n",
              "      <td>1.0</td>\n",
              "      <td>NaN</td>\n",
              "      <td>1.0</td>\n",
              "      <td>1.0</td>\n",
              "      <td>1.0</td>\n",
              "      <td>0.0</td>\n",
              "    </tr>\n",
              "    <tr>\n",
              "      <th>1</th>\n",
              "      <td>0</td>\n",
              "      <td>0.0</td>\n",
              "      <td>1.0</td>\n",
              "      <td>0.0</td>\n",
              "      <td>1.0</td>\n",
              "      <td>1.0</td>\n",
              "      <td>1.0</td>\n",
              "      <td>0.0</td>\n",
              "      <td>0.0</td>\n",
              "      <td>0.0</td>\n",
              "      <td>0.0</td>\n",
              "      <td>0.0</td>\n",
              "      <td>1.0</td>\n",
              "      <td>1.0</td>\n",
              "      <td>1.0</td>\n",
              "      <td>0.0</td>\n",
              "    </tr>\n",
              "    <tr>\n",
              "      <th>2</th>\n",
              "      <td>1</td>\n",
              "      <td>NaN</td>\n",
              "      <td>1.0</td>\n",
              "      <td>1.0</td>\n",
              "      <td>NaN</td>\n",
              "      <td>1.0</td>\n",
              "      <td>1.0</td>\n",
              "      <td>0.0</td>\n",
              "      <td>0.0</td>\n",
              "      <td>0.0</td>\n",
              "      <td>0.0</td>\n",
              "      <td>1.0</td>\n",
              "      <td>0.0</td>\n",
              "      <td>1.0</td>\n",
              "      <td>1.0</td>\n",
              "      <td>0.0</td>\n",
              "    </tr>\n",
              "    <tr>\n",
              "      <th>3</th>\n",
              "      <td>1</td>\n",
              "      <td>0.0</td>\n",
              "      <td>1.0</td>\n",
              "      <td>1.0</td>\n",
              "      <td>0.0</td>\n",
              "      <td>NaN</td>\n",
              "      <td>1.0</td>\n",
              "      <td>0.0</td>\n",
              "      <td>0.0</td>\n",
              "      <td>0.0</td>\n",
              "      <td>0.0</td>\n",
              "      <td>1.0</td>\n",
              "      <td>0.0</td>\n",
              "      <td>1.0</td>\n",
              "      <td>0.0</td>\n",
              "      <td>0.0</td>\n",
              "    </tr>\n",
              "    <tr>\n",
              "      <th>4</th>\n",
              "      <td>1</td>\n",
              "      <td>1.0</td>\n",
              "      <td>1.0</td>\n",
              "      <td>1.0</td>\n",
              "      <td>0.0</td>\n",
              "      <td>1.0</td>\n",
              "      <td>1.0</td>\n",
              "      <td>0.0</td>\n",
              "      <td>0.0</td>\n",
              "      <td>0.0</td>\n",
              "      <td>0.0</td>\n",
              "      <td>1.0</td>\n",
              "      <td>NaN</td>\n",
              "      <td>1.0</td>\n",
              "      <td>1.0</td>\n",
              "      <td>1.0</td>\n",
              "    </tr>\n",
              "    <tr>\n",
              "      <th>...</th>\n",
              "      <td>...</td>\n",
              "      <td>...</td>\n",
              "      <td>...</td>\n",
              "      <td>...</td>\n",
              "      <td>...</td>\n",
              "      <td>...</td>\n",
              "      <td>...</td>\n",
              "      <td>...</td>\n",
              "      <td>...</td>\n",
              "      <td>...</td>\n",
              "      <td>...</td>\n",
              "      <td>...</td>\n",
              "      <td>...</td>\n",
              "      <td>...</td>\n",
              "      <td>...</td>\n",
              "      <td>...</td>\n",
              "    </tr>\n",
              "    <tr>\n",
              "      <th>430</th>\n",
              "      <td>0</td>\n",
              "      <td>0.0</td>\n",
              "      <td>0.0</td>\n",
              "      <td>1.0</td>\n",
              "      <td>1.0</td>\n",
              "      <td>1.0</td>\n",
              "      <td>1.0</td>\n",
              "      <td>0.0</td>\n",
              "      <td>0.0</td>\n",
              "      <td>1.0</td>\n",
              "      <td>1.0</td>\n",
              "      <td>0.0</td>\n",
              "      <td>1.0</td>\n",
              "      <td>1.0</td>\n",
              "      <td>1.0</td>\n",
              "      <td>0.0</td>\n",
              "    </tr>\n",
              "    <tr>\n",
              "      <th>431</th>\n",
              "      <td>1</td>\n",
              "      <td>0.0</td>\n",
              "      <td>0.0</td>\n",
              "      <td>1.0</td>\n",
              "      <td>0.0</td>\n",
              "      <td>0.0</td>\n",
              "      <td>0.0</td>\n",
              "      <td>1.0</td>\n",
              "      <td>1.0</td>\n",
              "      <td>1.0</td>\n",
              "      <td>1.0</td>\n",
              "      <td>0.0</td>\n",
              "      <td>0.0</td>\n",
              "      <td>0.0</td>\n",
              "      <td>0.0</td>\n",
              "      <td>0.0</td>\n",
              "    </tr>\n",
              "    <tr>\n",
              "      <th>432</th>\n",
              "      <td>0</td>\n",
              "      <td>0.0</td>\n",
              "      <td>NaN</td>\n",
              "      <td>0.0</td>\n",
              "      <td>1.0</td>\n",
              "      <td>1.0</td>\n",
              "      <td>1.0</td>\n",
              "      <td>0.0</td>\n",
              "      <td>0.0</td>\n",
              "      <td>0.0</td>\n",
              "      <td>0.0</td>\n",
              "      <td>1.0</td>\n",
              "      <td>1.0</td>\n",
              "      <td>1.0</td>\n",
              "      <td>1.0</td>\n",
              "      <td>0.0</td>\n",
              "    </tr>\n",
              "    <tr>\n",
              "      <th>433</th>\n",
              "      <td>0</td>\n",
              "      <td>0.0</td>\n",
              "      <td>0.0</td>\n",
              "      <td>0.0</td>\n",
              "      <td>1.0</td>\n",
              "      <td>1.0</td>\n",
              "      <td>1.0</td>\n",
              "      <td>NaN</td>\n",
              "      <td>NaN</td>\n",
              "      <td>NaN</td>\n",
              "      <td>NaN</td>\n",
              "      <td>0.0</td>\n",
              "      <td>1.0</td>\n",
              "      <td>1.0</td>\n",
              "      <td>1.0</td>\n",
              "      <td>0.0</td>\n",
              "    </tr>\n",
              "    <tr>\n",
              "      <th>434</th>\n",
              "      <td>0</td>\n",
              "      <td>0.0</td>\n",
              "      <td>1.0</td>\n",
              "      <td>0.0</td>\n",
              "      <td>1.0</td>\n",
              "      <td>1.0</td>\n",
              "      <td>1.0</td>\n",
              "      <td>0.0</td>\n",
              "      <td>0.0</td>\n",
              "      <td>0.0</td>\n",
              "      <td>1.0</td>\n",
              "      <td>0.0</td>\n",
              "      <td>1.0</td>\n",
              "      <td>1.0</td>\n",
              "      <td>1.0</td>\n",
              "      <td>NaN</td>\n",
              "    </tr>\n",
              "  </tbody>\n",
              "</table>\n",
              "<p>435 rows × 16 columns</p>\n",
              "</div>"
            ],
            "text/plain": [
              "     Class Name   handicapped-infants  ...   crime   duty-free-exports\n",
              "0             0                   0.0  ...     1.0                 0.0\n",
              "1             0                   0.0  ...     1.0                 0.0\n",
              "2             1                   NaN  ...     1.0                 0.0\n",
              "3             1                   0.0  ...     0.0                 0.0\n",
              "4             1                   1.0  ...     1.0                 1.0\n",
              "..          ...                   ...  ...     ...                 ...\n",
              "430           0                   0.0  ...     1.0                 0.0\n",
              "431           1                   0.0  ...     0.0                 0.0\n",
              "432           0                   0.0  ...     1.0                 0.0\n",
              "433           0                   0.0  ...     1.0                 0.0\n",
              "434           0                   0.0  ...     1.0                 NaN\n",
              "\n",
              "[435 rows x 16 columns]"
            ]
          },
          "metadata": {
            "tags": []
          },
          "execution_count": 11
        }
      ]
    },
    {
      "cell_type": "code",
      "metadata": {
        "colab": {
          "base_uri": "https://localhost:8080/",
          "height": 440
        },
        "id": "XP9oF0dSCc9P",
        "outputId": "70b2c512-c6b0-443b-dcd0-2f56241e6a96"
      },
      "source": [
        "df = df.dropna()\r\n",
        "df\r\n",
        "# Удаляем все строки с пустыми значениями"
      ],
      "execution_count": 12,
      "outputs": [
        {
          "output_type": "execute_result",
          "data": {
            "text/html": [
              "<div>\n",
              "<style scoped>\n",
              "    .dataframe tbody tr th:only-of-type {\n",
              "        vertical-align: middle;\n",
              "    }\n",
              "\n",
              "    .dataframe tbody tr th {\n",
              "        vertical-align: top;\n",
              "    }\n",
              "\n",
              "    .dataframe thead th {\n",
              "        text-align: right;\n",
              "    }\n",
              "</style>\n",
              "<table border=\"1\" class=\"dataframe\">\n",
              "  <thead>\n",
              "    <tr style=\"text-align: right;\">\n",
              "      <th></th>\n",
              "      <th>Class Name</th>\n",
              "      <th>handicapped-infants</th>\n",
              "      <th>water-project-cost-sharing</th>\n",
              "      <th>adoption-of-the-budget-resolution</th>\n",
              "      <th>physician-fee-freeze</th>\n",
              "      <th>el-salvador-aid</th>\n",
              "      <th>religious-groups-in-schools</th>\n",
              "      <th>anti-satellite-test-ban</th>\n",
              "      <th>aid-to-nicaraguan-contras</th>\n",
              "      <th>mx-missile</th>\n",
              "      <th>immigration</th>\n",
              "      <th>synfuels-corporation-cutback</th>\n",
              "      <th>education-spending</th>\n",
              "      <th>superfund-right-to-sue</th>\n",
              "      <th>crime</th>\n",
              "      <th>duty-free-exports</th>\n",
              "    </tr>\n",
              "  </thead>\n",
              "  <tbody>\n",
              "    <tr>\n",
              "      <th>1</th>\n",
              "      <td>0</td>\n",
              "      <td>0.0</td>\n",
              "      <td>1.0</td>\n",
              "      <td>0.0</td>\n",
              "      <td>1.0</td>\n",
              "      <td>1.0</td>\n",
              "      <td>1.0</td>\n",
              "      <td>0.0</td>\n",
              "      <td>0.0</td>\n",
              "      <td>0.0</td>\n",
              "      <td>0.0</td>\n",
              "      <td>0.0</td>\n",
              "      <td>1.0</td>\n",
              "      <td>1.0</td>\n",
              "      <td>1.0</td>\n",
              "      <td>0.0</td>\n",
              "    </tr>\n",
              "    <tr>\n",
              "      <th>5</th>\n",
              "      <td>1</td>\n",
              "      <td>0.0</td>\n",
              "      <td>1.0</td>\n",
              "      <td>1.0</td>\n",
              "      <td>0.0</td>\n",
              "      <td>1.0</td>\n",
              "      <td>1.0</td>\n",
              "      <td>0.0</td>\n",
              "      <td>0.0</td>\n",
              "      <td>0.0</td>\n",
              "      <td>0.0</td>\n",
              "      <td>0.0</td>\n",
              "      <td>0.0</td>\n",
              "      <td>1.0</td>\n",
              "      <td>1.0</td>\n",
              "      <td>1.0</td>\n",
              "    </tr>\n",
              "    <tr>\n",
              "      <th>8</th>\n",
              "      <td>0</td>\n",
              "      <td>0.0</td>\n",
              "      <td>1.0</td>\n",
              "      <td>0.0</td>\n",
              "      <td>1.0</td>\n",
              "      <td>1.0</td>\n",
              "      <td>1.0</td>\n",
              "      <td>0.0</td>\n",
              "      <td>0.0</td>\n",
              "      <td>0.0</td>\n",
              "      <td>0.0</td>\n",
              "      <td>0.0</td>\n",
              "      <td>1.0</td>\n",
              "      <td>1.0</td>\n",
              "      <td>1.0</td>\n",
              "      <td>0.0</td>\n",
              "    </tr>\n",
              "    <tr>\n",
              "      <th>19</th>\n",
              "      <td>1</td>\n",
              "      <td>1.0</td>\n",
              "      <td>1.0</td>\n",
              "      <td>1.0</td>\n",
              "      <td>0.0</td>\n",
              "      <td>0.0</td>\n",
              "      <td>0.0</td>\n",
              "      <td>1.0</td>\n",
              "      <td>1.0</td>\n",
              "      <td>1.0</td>\n",
              "      <td>0.0</td>\n",
              "      <td>1.0</td>\n",
              "      <td>0.0</td>\n",
              "      <td>0.0</td>\n",
              "      <td>0.0</td>\n",
              "      <td>1.0</td>\n",
              "    </tr>\n",
              "    <tr>\n",
              "      <th>23</th>\n",
              "      <td>1</td>\n",
              "      <td>1.0</td>\n",
              "      <td>1.0</td>\n",
              "      <td>1.0</td>\n",
              "      <td>0.0</td>\n",
              "      <td>0.0</td>\n",
              "      <td>0.0</td>\n",
              "      <td>1.0</td>\n",
              "      <td>1.0</td>\n",
              "      <td>1.0</td>\n",
              "      <td>0.0</td>\n",
              "      <td>0.0</td>\n",
              "      <td>0.0</td>\n",
              "      <td>0.0</td>\n",
              "      <td>0.0</td>\n",
              "      <td>1.0</td>\n",
              "    </tr>\n",
              "    <tr>\n",
              "      <th>...</th>\n",
              "      <td>...</td>\n",
              "      <td>...</td>\n",
              "      <td>...</td>\n",
              "      <td>...</td>\n",
              "      <td>...</td>\n",
              "      <td>...</td>\n",
              "      <td>...</td>\n",
              "      <td>...</td>\n",
              "      <td>...</td>\n",
              "      <td>...</td>\n",
              "      <td>...</td>\n",
              "      <td>...</td>\n",
              "      <td>...</td>\n",
              "      <td>...</td>\n",
              "      <td>...</td>\n",
              "      <td>...</td>\n",
              "    </tr>\n",
              "    <tr>\n",
              "      <th>425</th>\n",
              "      <td>1</td>\n",
              "      <td>0.0</td>\n",
              "      <td>0.0</td>\n",
              "      <td>1.0</td>\n",
              "      <td>0.0</td>\n",
              "      <td>0.0</td>\n",
              "      <td>0.0</td>\n",
              "      <td>1.0</td>\n",
              "      <td>1.0</td>\n",
              "      <td>0.0</td>\n",
              "      <td>1.0</td>\n",
              "      <td>1.0</td>\n",
              "      <td>0.0</td>\n",
              "      <td>0.0</td>\n",
              "      <td>0.0</td>\n",
              "      <td>1.0</td>\n",
              "    </tr>\n",
              "    <tr>\n",
              "      <th>426</th>\n",
              "      <td>1</td>\n",
              "      <td>1.0</td>\n",
              "      <td>0.0</td>\n",
              "      <td>1.0</td>\n",
              "      <td>0.0</td>\n",
              "      <td>0.0</td>\n",
              "      <td>0.0</td>\n",
              "      <td>1.0</td>\n",
              "      <td>1.0</td>\n",
              "      <td>1.0</td>\n",
              "      <td>1.0</td>\n",
              "      <td>0.0</td>\n",
              "      <td>0.0</td>\n",
              "      <td>0.0</td>\n",
              "      <td>0.0</td>\n",
              "      <td>1.0</td>\n",
              "    </tr>\n",
              "    <tr>\n",
              "      <th>427</th>\n",
              "      <td>0</td>\n",
              "      <td>0.0</td>\n",
              "      <td>0.0</td>\n",
              "      <td>0.0</td>\n",
              "      <td>1.0</td>\n",
              "      <td>1.0</td>\n",
              "      <td>1.0</td>\n",
              "      <td>1.0</td>\n",
              "      <td>1.0</td>\n",
              "      <td>0.0</td>\n",
              "      <td>1.0</td>\n",
              "      <td>0.0</td>\n",
              "      <td>1.0</td>\n",
              "      <td>1.0</td>\n",
              "      <td>1.0</td>\n",
              "      <td>0.0</td>\n",
              "    </tr>\n",
              "    <tr>\n",
              "      <th>430</th>\n",
              "      <td>0</td>\n",
              "      <td>0.0</td>\n",
              "      <td>0.0</td>\n",
              "      <td>1.0</td>\n",
              "      <td>1.0</td>\n",
              "      <td>1.0</td>\n",
              "      <td>1.0</td>\n",
              "      <td>0.0</td>\n",
              "      <td>0.0</td>\n",
              "      <td>1.0</td>\n",
              "      <td>1.0</td>\n",
              "      <td>0.0</td>\n",
              "      <td>1.0</td>\n",
              "      <td>1.0</td>\n",
              "      <td>1.0</td>\n",
              "      <td>0.0</td>\n",
              "    </tr>\n",
              "    <tr>\n",
              "      <th>431</th>\n",
              "      <td>1</td>\n",
              "      <td>0.0</td>\n",
              "      <td>0.0</td>\n",
              "      <td>1.0</td>\n",
              "      <td>0.0</td>\n",
              "      <td>0.0</td>\n",
              "      <td>0.0</td>\n",
              "      <td>1.0</td>\n",
              "      <td>1.0</td>\n",
              "      <td>1.0</td>\n",
              "      <td>1.0</td>\n",
              "      <td>0.0</td>\n",
              "      <td>0.0</td>\n",
              "      <td>0.0</td>\n",
              "      <td>0.0</td>\n",
              "      <td>0.0</td>\n",
              "    </tr>\n",
              "  </tbody>\n",
              "</table>\n",
              "<p>281 rows × 16 columns</p>\n",
              "</div>"
            ],
            "text/plain": [
              "     Class Name   handicapped-infants  ...   crime   duty-free-exports\n",
              "1             0                   0.0  ...     1.0                 0.0\n",
              "5             1                   0.0  ...     1.0                 1.0\n",
              "8             0                   0.0  ...     1.0                 0.0\n",
              "19            1                   1.0  ...     0.0                 1.0\n",
              "23            1                   1.0  ...     0.0                 1.0\n",
              "..          ...                   ...  ...     ...                 ...\n",
              "425           1                   0.0  ...     0.0                 1.0\n",
              "426           1                   1.0  ...     0.0                 1.0\n",
              "427           0                   0.0  ...     1.0                 0.0\n",
              "430           0                   0.0  ...     1.0                 0.0\n",
              "431           1                   0.0  ...     0.0                 0.0\n",
              "\n",
              "[281 rows x 16 columns]"
            ]
          },
          "metadata": {
            "tags": []
          },
          "execution_count": 12
        }
      ]
    },
    {
      "cell_type": "code",
      "metadata": {
        "id": "pKuJ0WxCDm18"
      },
      "source": [
        "X =  df.drop(['Class Name'], axis = 1)\r\n",
        "y = df['Class Name']\r\n",
        "# Задаем вектор признаков"
      ],
      "execution_count": 13,
      "outputs": []
    },
    {
      "cell_type": "code",
      "metadata": {
        "colab": {
          "base_uri": "https://localhost:8080/"
        },
        "id": "WINfYvJ-LOsd",
        "outputId": "80e758b3-5222-4240-a6cb-61109f493142"
      },
      "source": [
        "# Логистическая регрессия для немасштабированных данных\r\n",
        "X_train, X_test, y_train, y_test = train_test_split(X, y, test_size=0.3, random_state = 42)\r\n",
        "model = LogisticRegression()\r\n",
        "model.fit(X_train, y_train)\r\n",
        "y_pred = model.predict(X_test)\r\n",
        "\r\n",
        "print(\"Accuracy\" , accuracy_score(y_test, y_pred))\r\n",
        "print(\"Recall\" ,recall_score(y_test, y_pred))\r\n",
        "print(\"Precision\" , precision_score(y_test, y_pred)) "
      ],
      "execution_count": 14,
      "outputs": [
        {
          "output_type": "stream",
          "text": [
            "Accuracy 0.9411764705882353\n",
            "Recall 0.9259259259259259\n",
            "Precision 0.9803921568627451\n"
          ],
          "name": "stdout"
        }
      ]
    },
    {
      "cell_type": "code",
      "metadata": {
        "colab": {
          "base_uri": "https://localhost:8080/"
        },
        "id": "L7CcnETTMAzi",
        "outputId": "e18b3b94-52a1-4dbf-b5f7-f09e6c824dc1"
      },
      "source": [
        "# Метод ближайших соседей для немасштабированных данных\r\n",
        "X_train, X_test, y_train, y_test = train_test_split(X, y, test_size=0.3, random_state = 42)\r\n",
        "\r\n",
        "scores = []\r\n",
        "for i in range(1,15):\r\n",
        "\r\n",
        "  knn = KNeighborsClassifier(i)\r\n",
        "  knn.fit(X_train, y_train)\r\n",
        "  answers = knn.predict(X_test)\r\n",
        "\r\n",
        "  scores.append(knn.score(X_test, y_test))\r\n",
        "\r\n",
        "print(scores)\r\n",
        "\r\n",
        "\r\n",
        "max_score = max(scores)\r\n",
        "scores_ind = [i for i, v in enumerate(scores) if v == max_score]\r\n",
        "scores_ind\r\n",
        "\r\n",
        "\r\n",
        "\r\n",
        "knn = KNeighborsClassifier(3)\r\n",
        "\r\n",
        "knn.fit(X_train, y_train)\r\n",
        "\r\n",
        "y_pred = knn.predict(X_test)\r\n",
        "\r\n",
        "confusion_matrix(y_test, y_pred)\r\n",
        "\r\n",
        "\r\n",
        "\r\n",
        "\r\n",
        "print(\"Accuracy\" , accuracy_score(y_test, y_pred))\r\n",
        "print(\"Recall\" ,recall_score(y_test, y_pred))\r\n",
        "print(\"Precision\" , precision_score(y_test, y_pred)) "
      ],
      "execution_count": 15,
      "outputs": [
        {
          "output_type": "stream",
          "text": [
            "[0.9411764705882353, 0.9058823529411765, 0.9294117647058824, 0.9176470588235294, 0.9176470588235294, 0.9058823529411765, 0.9176470588235294, 0.9176470588235294, 0.9176470588235294, 0.9176470588235294, 0.9294117647058824, 0.9176470588235294, 0.9294117647058824, 0.9176470588235294]\n",
            "Accuracy 0.9294117647058824\n",
            "Recall 0.9074074074074074\n",
            "Precision 0.98\n"
          ],
          "name": "stdout"
        }
      ]
    },
    {
      "cell_type": "code",
      "metadata": {
        "colab": {
          "base_uri": "https://localhost:8080/"
        },
        "id": "EAUU1pvlMYeG",
        "outputId": "83373a3a-9130-4958-f2c7-49bfbba222b4"
      },
      "source": [
        "# Дерево решений для немасштабированных данных\r\n",
        "X_train,X_test,y_train,y_test = train_test_split(X, y, test_size=1/3, random_state=42)\r\n",
        "\r\n",
        "tree = DecisionTreeClassifier()\r\n",
        "\r\n",
        "\r\n",
        "tree.fit(X_train, y_train)\r\n",
        "y_pred_tree = tree.predict(X_test)\r\n",
        "\r\n",
        "\r\n",
        "print(\"Accuracy\" , accuracy_score(y_test, y_pred_tree))\r\n",
        "print(\"Recall\" ,recall_score(y_test, y_pred_tree))\r\n",
        "print(\"Precision\" , precision_score(y_test, y_pred_tree)) "
      ],
      "execution_count": 16,
      "outputs": [
        {
          "output_type": "stream",
          "text": [
            "Accuracy 0.9574468085106383\n",
            "Recall 0.95\n",
            "Precision 0.9827586206896551\n"
          ],
          "name": "stdout"
        }
      ]
    },
    {
      "cell_type": "code",
      "metadata": {
        "colab": {
          "base_uri": "https://localhost:8080/"
        },
        "id": "lX-SquAQMlEr",
        "outputId": "769b8250-5386-4624-f226-32b84ffa348a"
      },
      "source": [
        "# Метод опорных векторов для немасштабированных данных\r\n",
        "X_train,X_test,y_train,y_test = train_test_split(X, y, test_size=1/3, random_state=42)\r\n",
        "\r\n",
        "svm = SVC()\r\n",
        "\r\n",
        "svm.fit(X_train, y_train)\r\n",
        "y_pred_svm = svm.predict(X_test)\r\n",
        "\r\n",
        "print(\"Accuracy:\", accuracy_score(y_test,y_pred_svm))\r\n",
        "print(\"Recall:\", recall_score(y_test,y_pred_svm))\r\n",
        "print(\"Precision:\", precision_score(y_test,y_pred_svm))"
      ],
      "execution_count": 17,
      "outputs": [
        {
          "output_type": "stream",
          "text": [
            "Accuracy: 0.9468085106382979\n",
            "Recall: 0.9333333333333333\n",
            "Precision: 0.9824561403508771\n"
          ],
          "name": "stdout"
        }
      ]
    },
    {
      "cell_type": "code",
      "metadata": {
        "colab": {
          "base_uri": "https://localhost:8080/"
        },
        "id": "2vfDBkZ1O_fM",
        "outputId": "4d893ebd-efba-4944-b298-7a27b070a5bb"
      },
      "source": [
        "# логистическая регрессия с помощью кросс-валидации (для немасштабированных данных)\r\n",
        "\r\n",
        "X_train, X_test, y_train, y_test = train_test_split(X ,y, test_size=0.3, random_state = 42)\r\n",
        "model = LogisticRegression()\r\n",
        "model.fit(X_train, y_train)\r\n",
        "y_pred = model.predict(X_test)\r\n",
        "\r\n",
        "print(\"Accuracy\" , accuracy_score(y_test, y_pred))\r\n",
        "print(\"Recall\" ,recall_score(y_test, y_pred))\r\n",
        "print(\"Precision\" , precision_score(y_test, y_pred)) \r\n",
        "confusion_matrix(y_test, y_pred)\r\n",
        "\r\n",
        "\r\n",
        "print('_______________________________________________________')\r\n",
        "\r\n",
        "\r\n",
        "\r\n",
        "kf = KFold(n_splits = 5)\r\n",
        "\r\n",
        "model = LogisticRegression()\r\n",
        "\r\n",
        "cvs = cross_val_score(estimator = model, X = X, y = y, cv = kf, scoring = 'accuracy')\r\n",
        "\r\n",
        "print(cvs)\r\n",
        "print(cvs.mean())"
      ],
      "execution_count": 18,
      "outputs": [
        {
          "output_type": "stream",
          "text": [
            "Accuracy 0.9411764705882353\n",
            "Recall 0.9259259259259259\n",
            "Precision 0.9803921568627451\n",
            "_______________________________________________________\n",
            "[0.94736842 0.96428571 0.96428571 0.98214286 0.89285714]\n",
            "0.9501879699248121\n"
          ],
          "name": "stdout"
        }
      ]
    },
    {
      "cell_type": "code",
      "metadata": {
        "colab": {
          "base_uri": "https://localhost:8080/"
        },
        "id": "xi-Q3DsKPLDt",
        "outputId": "eb49af28-88b7-41c3-92a7-9b8419f184f7"
      },
      "source": [
        "#дерево решений с помощью кросс-валидации для немасштабированных данных\r\n",
        "\r\n",
        "X_train,X_test,y_train,y_test = train_test_split(X, y, test_size=1/3, random_state=42)\r\n",
        "\r\n",
        "tree = DecisionTreeClassifier()\r\n",
        "\r\n",
        "\r\n",
        "tree.fit(X_train, y_train)\r\n",
        "y_pred_tree = tree.predict(X_test)\r\n",
        "\r\n",
        "\r\n",
        "print(\"Accuracy\" , accuracy_score(y_test, y_pred_tree))\r\n",
        "print(\"Recall\" ,recall_score(y_test, y_pred_tree))\r\n",
        "print(\"Precision\" , precision_score(y_test, y_pred_tree)) \r\n",
        "\r\n",
        "\r\n",
        "kf = KFold(n_splits = 5)\r\n",
        "\r\n",
        "tree = DecisionTreeClassifier()\r\n",
        "\r\n",
        "cvs = cross_val_score(estimator = tree, X = X, y = y, cv = kf, scoring = 'accuracy')\r\n",
        "\r\n",
        "print(cvs)\r\n",
        "print(cvs.mean())"
      ],
      "execution_count": 19,
      "outputs": [
        {
          "output_type": "stream",
          "text": [
            "Accuracy 0.9574468085106383\n",
            "Recall 0.95\n",
            "Precision 0.9827586206896551\n",
            "[0.94736842 0.94642857 0.96428571 1.         0.875     ]\n",
            "0.9466165413533835\n"
          ],
          "name": "stdout"
        }
      ]
    },
    {
      "cell_type": "code",
      "metadata": {
        "colab": {
          "base_uri": "https://localhost:8080/"
        },
        "id": "wAlLXhaIPXJe",
        "outputId": "0fe857a1-a695-4a61-8373-acf29b9ea12a"
      },
      "source": [
        "# метод ближайших соседей с помощью кросс-валидации для немасштабированных данных\r\n",
        "\r\n",
        "X_train, X_test, y_train, y_test = train_test_split(X, y, test_size=0.3, random_state = 42)\r\n",
        "\r\n",
        "scores = []\r\n",
        "for i in range(1,15):\r\n",
        "\r\n",
        "  knn = KNeighborsClassifier(i)\r\n",
        "  knn.fit(X_train, y_train)\r\n",
        "  answers = knn.predict(X_test)\r\n",
        "\r\n",
        "  scores.append(knn.score(X_test, y_test))\r\n",
        "\r\n",
        "print(scores)\r\n",
        "\r\n",
        "\r\n",
        "max_score = max(scores)\r\n",
        "scores_ind = [i for i, v in enumerate(scores) if v == max_score]\r\n",
        "scores_ind\r\n",
        "\r\n",
        "\r\n",
        "\r\n",
        "\r\n",
        "knn = KNeighborsClassifier(7)\r\n",
        "\r\n",
        "knn.fit(X_train, y_train)\r\n",
        "\r\n",
        "y_pred = knn.predict(X_test)\r\n",
        "\r\n",
        "confusion_matrix(y_test, y_pred)\r\n",
        "\r\n",
        "\r\n",
        "\r\n",
        "\r\n",
        "print(\"Accuracy\" , accuracy_score(y_test, y_pred))\r\n",
        "print(\"Recall\" ,recall_score(y_test, y_pred))\r\n",
        "print(\"Precision\" , precision_score(y_test, y_pred)) \r\n",
        "\r\n",
        "\r\n",
        "\r\n",
        "kf = KFold(n_splits = 5)\r\n",
        "\r\n",
        "knn = KNeighborsClassifier(i)\r\n",
        "\r\n",
        "cvs = cross_val_score(estimator = knn, X = X, y = y, cv = kf, scoring = 'accuracy')\r\n",
        "\r\n",
        "print(cvs)\r\n",
        "print(cvs.mean())"
      ],
      "execution_count": 20,
      "outputs": [
        {
          "output_type": "stream",
          "text": [
            "[0.9411764705882353, 0.9058823529411765, 0.9294117647058824, 0.9176470588235294, 0.9176470588235294, 0.9058823529411765, 0.9176470588235294, 0.9176470588235294, 0.9176470588235294, 0.9176470588235294, 0.9294117647058824, 0.9176470588235294, 0.9294117647058824, 0.9176470588235294]\n",
            "Accuracy 0.9176470588235294\n",
            "Recall 0.8888888888888888\n",
            "Precision 0.9795918367346939\n",
            "[0.89473684 0.83928571 0.96428571 1.         0.85714286]\n",
            "0.9110902255639097\n"
          ],
          "name": "stdout"
        }
      ]
    },
    {
      "cell_type": "code",
      "metadata": {
        "colab": {
          "base_uri": "https://localhost:8080/"
        },
        "id": "s6sOq4vyPz6M",
        "outputId": "4018242a-81be-4d74-f6d5-edec4a3ff058"
      },
      "source": [
        "# метод опорных векторов с помощью кросс-валидации для немасштабированных данных\r\n",
        "X_train,X_test,y_train,y_test = train_test_split(X, y, test_size=1/3, random_state=42)\r\n",
        "\r\n",
        "svm = SVC()\r\n",
        "\r\n",
        "svm.fit(X_train, y_train)\r\n",
        "y_pred_svm = svm.predict(X_test)\r\n",
        "\r\n",
        "print(\"Accuracy:\", accuracy_score(y_test,y_pred_svm))\r\n",
        "print(\"Recall:\", recall_score(y_test,y_pred_svm))\r\n",
        "print(\"Precision:\", precision_score(y_test,y_pred_svm))\r\n",
        "\r\n",
        "\r\n",
        "\r\n",
        "kf = KFold(n_splits = 5)\r\n",
        "\r\n",
        "svm = SVC()\r\n",
        "\r\n",
        "cvs = cross_val_score(estimator = svm, X = X, y = y, cv = kf, scoring = 'accuracy')\r\n",
        "\r\n",
        "print(cvs)\r\n",
        "print(cvs.mean())\r\n"
      ],
      "execution_count": 21,
      "outputs": [
        {
          "output_type": "stream",
          "text": [
            "Accuracy: 0.9468085106382979\n",
            "Recall: 0.9333333333333333\n",
            "Precision: 0.9824561403508771\n",
            "[0.94736842 0.96428571 0.96428571 0.98214286 0.91071429]\n",
            "0.9537593984962406\n"
          ],
          "name": "stdout"
        }
      ]
    },
    {
      "cell_type": "code",
      "metadata": {
        "colab": {
          "base_uri": "https://localhost:8080/"
        },
        "id": "r1DIgmZLD_DI",
        "outputId": "b92c36e2-cfec-4745-9d99-80837f8ab431"
      },
      "source": [
        "scaler = MinMaxScaler()\r\n",
        "X_norm = scaler.fit_transform(X)\r\n",
        "X_norm\r\n",
        "# Нормализируем данные"
      ],
      "execution_count": 22,
      "outputs": [
        {
          "output_type": "execute_result",
          "data": {
            "text/plain": [
              "array([[0., 1., 0., ..., 1., 1., 0.],\n",
              "       [0., 1., 1., ..., 1., 1., 1.],\n",
              "       [0., 1., 0., ..., 1., 1., 0.],\n",
              "       ...,\n",
              "       [0., 0., 0., ..., 1., 1., 0.],\n",
              "       [0., 0., 1., ..., 1., 1., 0.],\n",
              "       [0., 0., 1., ..., 0., 0., 0.]])"
            ]
          },
          "metadata": {
            "tags": []
          },
          "execution_count": 22
        }
      ]
    },
    {
      "cell_type": "code",
      "metadata": {
        "colab": {
          "base_uri": "https://localhost:8080/"
        },
        "id": "rhYx3tKtETtp",
        "outputId": "9ca86bd2-c010-4af7-8bfe-449fef8ff022"
      },
      "source": [
        "#дерево решений для нормализованных данных \r\n",
        "\r\n",
        "X_train,X_test,y_train,y_test = train_test_split(X_norm, y, test_size=1/3, random_state=42)\r\n",
        "\r\n",
        "tree = DecisionTreeClassifier()\r\n",
        "\r\n",
        "\r\n",
        "tree.fit(X_train, y_train)\r\n",
        "y_pred_tree = tree.predict(X_test)\r\n",
        "\r\n",
        "\r\n",
        "print(\"Accuracy\" , accuracy_score(y_test, y_pred_tree))\r\n",
        "print(\"Recall\" ,recall_score(y_test, y_pred_tree))\r\n",
        "print(\"Precision\" , precision_score(y_test, y_pred_tree)) "
      ],
      "execution_count": 23,
      "outputs": [
        {
          "output_type": "stream",
          "text": [
            "Accuracy 0.9574468085106383\n",
            "Recall 0.95\n",
            "Precision 0.9827586206896551\n"
          ],
          "name": "stdout"
        }
      ]
    },
    {
      "cell_type": "code",
      "metadata": {
        "colab": {
          "base_uri": "https://localhost:8080/"
        },
        "id": "KRIHnllyU3Zd",
        "outputId": "1243cb06-8427-4feb-c319-0908633ee2db"
      },
      "source": [
        "#дерево решений с помощью кросс-валидации(норм. данные)\r\n",
        "\r\n",
        "X_train,X_test,y_train,y_test = train_test_split(X_norm, y, test_size=1/3, random_state=42)\r\n",
        "\r\n",
        "tree = DecisionTreeClassifier()\r\n",
        "\r\n",
        "\r\n",
        "tree.fit(X_train, y_train)\r\n",
        "y_pred_tree = tree.predict(X_test)\r\n",
        "\r\n",
        "\r\n",
        "print(\"Accuracy\" , accuracy_score(y_test, y_pred_tree))\r\n",
        "print(\"Recall\" ,recall_score(y_test, y_pred_tree))\r\n",
        "print(\"Precision\" , precision_score(y_test, y_pred_tree)) \r\n",
        "\r\n",
        "\r\n",
        "kf = KFold(n_splits = 5)\r\n",
        "\r\n",
        "tree = DecisionTreeClassifier()\r\n",
        "\r\n",
        "cvs = cross_val_score(estimator = tree, X = X_norm, y = y, cv = kf, scoring = 'accuracy')\r\n",
        "\r\n",
        "print(cvs)\r\n",
        "print(cvs.mean())"
      ],
      "execution_count": 24,
      "outputs": [
        {
          "output_type": "stream",
          "text": [
            "Accuracy 0.9574468085106383\n",
            "Recall 0.95\n",
            "Precision 0.9827586206896551\n",
            "[0.96491228 0.96428571 0.96428571 0.98214286 0.89285714]\n",
            "0.9536967418546366\n"
          ],
          "name": "stdout"
        }
      ]
    },
    {
      "cell_type": "code",
      "metadata": {
        "colab": {
          "base_uri": "https://localhost:8080/"
        },
        "id": "_gjv4FqREGWr",
        "outputId": "0da644db-8034-468b-c5af-401bbebd1458"
      },
      "source": [
        "scaler = StandardScaler()\r\n",
        "X_st = scaler.fit_transform(X)\r\n",
        "X_st\r\n",
        "# Cтандартизируем данные"
      ],
      "execution_count": 25,
      "outputs": [
        {
          "output_type": "execute_result",
          "data": {
            "text/plain": [
              "array([[-0.88871194,  1.07774694, -1.1667667 , ...,  0.94797081,\n",
              "         0.79011231, -0.81407733],\n",
              "       [-0.88871194,  1.07774694,  0.85706937, ...,  0.94797081,\n",
              "         0.79011231,  1.22838454],\n",
              "       [-0.88871194,  1.07774694, -1.1667667 , ...,  0.94797081,\n",
              "         0.79011231, -0.81407733],\n",
              "       ...,\n",
              "       [-0.88871194, -0.9278616 , -1.1667667 , ...,  0.94797081,\n",
              "         0.79011231, -0.81407733],\n",
              "       [-0.88871194, -0.9278616 ,  0.85706937, ...,  0.94797081,\n",
              "         0.79011231, -0.81407733],\n",
              "       [-0.88871194, -0.9278616 ,  0.85706937, ..., -1.05488481,\n",
              "        -1.26564286, -0.81407733]])"
            ]
          },
          "metadata": {
            "tags": []
          },
          "execution_count": 25
        }
      ]
    },
    {
      "cell_type": "code",
      "metadata": {
        "colab": {
          "base_uri": "https://localhost:8080/"
        },
        "id": "KSIWl5pwEL2N",
        "outputId": "bb7a880e-5d03-49fa-a8e4-eff36334342f"
      },
      "source": [
        "#дерево решений для стандартизированных данных \r\n",
        "\r\n",
        "X_train,X_test,y_train,y_test = train_test_split(X_st, y, test_size=1/3, random_state=42)\r\n",
        "\r\n",
        "tree = DecisionTreeClassifier()\r\n",
        "\r\n",
        "\r\n",
        "tree.fit(X_train, y_train)\r\n",
        "y_pred_tree = tree.predict(X_test)\r\n",
        "\r\n",
        "\r\n",
        "print(\"Accuracy\" , accuracy_score(y_test, y_pred_tree))\r\n",
        "print(\"Recall\" ,recall_score(y_test, y_pred_tree))\r\n",
        "print(\"Precision\" , precision_score(y_test, y_pred_tree)) "
      ],
      "execution_count": 26,
      "outputs": [
        {
          "output_type": "stream",
          "text": [
            "Accuracy 0.9574468085106383\n",
            "Recall 0.95\n",
            "Precision 0.9827586206896551\n"
          ],
          "name": "stdout"
        }
      ]
    },
    {
      "cell_type": "code",
      "metadata": {
        "colab": {
          "base_uri": "https://localhost:8080/"
        },
        "id": "_hkl2dCGVCDF",
        "outputId": "59d5d2fa-ea57-4f76-9171-a057b5431e15"
      },
      "source": [
        "#дерево решений с помощью кросс-валидации(ст. данные)\r\n",
        "\r\n",
        "X_train,X_test,y_train,y_test = train_test_split(X_st, y, test_size=1/3, random_state=42)\r\n",
        "\r\n",
        "tree = DecisionTreeClassifier()\r\n",
        "\r\n",
        "\r\n",
        "tree.fit(X_train, y_train)\r\n",
        "y_pred_tree = tree.predict(X_test)\r\n",
        "\r\n",
        "\r\n",
        "print(\"Accuracy\" , accuracy_score(y_test, y_pred_tree))\r\n",
        "print(\"Recall\" ,recall_score(y_test, y_pred_tree))\r\n",
        "print(\"Precision\" , precision_score(y_test, y_pred_tree)) \r\n",
        "\r\n",
        "\r\n",
        "kf = KFold(n_splits = 5)\r\n",
        "\r\n",
        "tree = DecisionTreeClassifier()\r\n",
        "\r\n",
        "cvs = cross_val_score(estimator = tree, X = X_st, y = y, cv = kf, scoring = 'accuracy')\r\n",
        "\r\n",
        "print(cvs)\r\n",
        "print(cvs.mean())"
      ],
      "execution_count": 27,
      "outputs": [
        {
          "output_type": "stream",
          "text": [
            "Accuracy 0.9574468085106383\n",
            "Recall 0.95\n",
            "Precision 0.9827586206896551\n",
            "[0.96491228 0.96428571 0.96428571 1.         0.91071429]\n",
            "0.9608395989974937\n"
          ],
          "name": "stdout"
        }
      ]
    },
    {
      "cell_type": "code",
      "metadata": {
        "colab": {
          "base_uri": "https://localhost:8080/"
        },
        "id": "Qa4KXtKnEb1Y",
        "outputId": "4a3f7c8d-5c4e-41bf-f96c-befdf7c6aacd"
      },
      "source": [
        "#логистическая регрессия для нормализованных данных\r\n",
        "\r\n",
        "X_train, X_test, y_train, y_test = train_test_split(X_norm,y, test_size=0.3, random_state = 42)\r\n",
        "model = LogisticRegression()\r\n",
        "model.fit(X_train, y_train)\r\n",
        "y_pred = model.predict(X_test)\r\n",
        "\r\n",
        "print(\"Accuracy\" , accuracy_score(y_test, y_pred))\r\n",
        "print(\"Recall\" ,recall_score(y_test, y_pred))\r\n",
        "print(\"Precision\" , precision_score(y_test, y_pred)) "
      ],
      "execution_count": 28,
      "outputs": [
        {
          "output_type": "stream",
          "text": [
            "Accuracy 0.9411764705882353\n",
            "Recall 0.9259259259259259\n",
            "Precision 0.9803921568627451\n"
          ],
          "name": "stdout"
        }
      ]
    },
    {
      "cell_type": "code",
      "metadata": {
        "colab": {
          "base_uri": "https://localhost:8080/"
        },
        "id": "uk23PH5LGyOF",
        "outputId": "c1a57e1d-0be2-40d5-f32e-92e25fe59dcd"
      },
      "source": [
        "#логистическая регрессия для стандартизированных данных\r\n",
        "X_train, X_test, y_train, y_test = train_test_split(X_st,y, test_size=0.3, random_state = 42)\r\n",
        "model = LogisticRegression()\r\n",
        "model.fit(X_train, y_train)\r\n",
        "y_pred = model.predict(X_test)\r\n",
        "\r\n",
        "print(\"Accuracy\" , accuracy_score(y_test, y_pred))\r\n",
        "print(\"Recall\" ,recall_score(y_test, y_pred))\r\n",
        "print(\"Precision\" , precision_score(y_test, y_pred)) "
      ],
      "execution_count": 29,
      "outputs": [
        {
          "output_type": "stream",
          "text": [
            "Accuracy 0.9647058823529412\n",
            "Recall 0.9629629629629629\n",
            "Precision 0.9811320754716981\n"
          ],
          "name": "stdout"
        }
      ]
    },
    {
      "cell_type": "code",
      "metadata": {
        "colab": {
          "base_uri": "https://localhost:8080/"
        },
        "id": "7XgIqFqjHB4n",
        "outputId": "2bf134d2-7799-4b41-e5d5-00f030a13e88"
      },
      "source": [
        "# метод ближайших соседей (для стандартизированных  данных)\r\n",
        "X_train, X_test, y_train, y_test = train_test_split(X_st, y, test_size=0.3, random_state = 42)\r\n",
        "\r\n",
        "scores = []\r\n",
        "for i in range(1,15):\r\n",
        "\r\n",
        "  knn = KNeighborsClassifier(i)\r\n",
        "  knn.fit(X_train, y_train)\r\n",
        "  answers = knn.predict(X_test)\r\n",
        "\r\n",
        "  scores.append(knn.score(X_test, y_test))\r\n",
        "\r\n",
        "print(scores)\r\n",
        "\r\n",
        "\r\n",
        "max_score = max(scores)\r\n",
        "scores_ind = [i for i, v in enumerate(scores) if v == max_score]\r\n",
        "scores_ind\r\n",
        "\r\n",
        "\r\n",
        "\r\n",
        "knn = KNeighborsClassifier(3)\r\n",
        "\r\n",
        "knn.fit(X_train, y_train)\r\n",
        "\r\n",
        "y_pred = knn.predict(X_test)\r\n",
        "\r\n",
        "confusion_matrix(y_test, y_pred)\r\n",
        "\r\n",
        "\r\n",
        "\r\n",
        "\r\n",
        "print(\"Accuracy\" , accuracy_score(y_test, y_pred))\r\n",
        "print(\"Recall\" ,recall_score(y_test, y_pred))\r\n",
        "print(\"Precision\" , precision_score(y_test, y_pred)) \r\n"
      ],
      "execution_count": 30,
      "outputs": [
        {
          "output_type": "stream",
          "text": [
            "[0.9294117647058824, 0.9294117647058824, 0.9411764705882353, 0.9176470588235294, 0.9411764705882353, 0.9294117647058824, 0.9294117647058824, 0.9176470588235294, 0.9294117647058824, 0.9294117647058824, 0.9411764705882353, 0.9294117647058824, 0.9294117647058824, 0.9294117647058824]\n",
            "Accuracy 0.9411764705882353\n",
            "Recall 0.9259259259259259\n",
            "Precision 0.9803921568627451\n"
          ],
          "name": "stdout"
        }
      ]
    },
    {
      "cell_type": "code",
      "metadata": {
        "colab": {
          "base_uri": "https://localhost:8080/"
        },
        "id": "BNdwSAjREjUh",
        "outputId": "628f2384-0c92-44b7-80f4-66337dc2b49e"
      },
      "source": [
        "# метод ближайших соседей (для нормализованных данных)\r\n",
        "\r\n",
        "X_train, X_test, y_train, y_test = train_test_split(X_norm, y, test_size=0.3, random_state = 42)\r\n",
        "\r\n",
        "scores = []\r\n",
        "for i in range(1,15):\r\n",
        "\r\n",
        "  knn = KNeighborsClassifier(i)\r\n",
        "  knn.fit(X_train, y_train)\r\n",
        "  answers = knn.predict(X_test)\r\n",
        "\r\n",
        "  scores.append(knn.score(X_test, y_test))\r\n",
        "\r\n",
        "print(scores)\r\n",
        "\r\n",
        "\r\n",
        "max_score = max(scores)\r\n",
        "scores_ind = [i for i, v in enumerate(scores) if v == max_score]\r\n",
        "scores_ind\r\n",
        "\r\n",
        "\r\n",
        "knn = KNeighborsClassifier(1)\r\n",
        "\r\n",
        "knn.fit(X_train, y_train)\r\n",
        "\r\n",
        "y_pred = knn.predict(X_test)\r\n",
        "\r\n",
        "confusion_matrix(y_test, y_pred)\r\n",
        "\r\n",
        "\r\n",
        "\r\n",
        "\r\n",
        "print(\"Accuracy\" , accuracy_score(y_test, y_pred))\r\n",
        "print(\"Recall\" ,recall_score(y_test, y_pred))\r\n",
        "print(\"Precision\" , precision_score(y_test, y_pred))\r\n",
        "\r\n",
        " "
      ],
      "execution_count": 31,
      "outputs": [
        {
          "output_type": "stream",
          "text": [
            "[0.9411764705882353, 0.9058823529411765, 0.9294117647058824, 0.9176470588235294, 0.9176470588235294, 0.9058823529411765, 0.9176470588235294, 0.9176470588235294, 0.9176470588235294, 0.9176470588235294, 0.9294117647058824, 0.9176470588235294, 0.9294117647058824, 0.9176470588235294]\n",
            "Accuracy 0.9411764705882353\n",
            "Recall 0.9259259259259259\n",
            "Precision 0.9803921568627451\n"
          ],
          "name": "stdout"
        }
      ]
    },
    {
      "cell_type": "code",
      "metadata": {
        "colab": {
          "base_uri": "https://localhost:8080/"
        },
        "id": "n7n4zVjYFx7u",
        "outputId": "84f09c06-60d8-411b-a996-257576453e03"
      },
      "source": [
        "# логистическая регрессия с помощью кросс-валидации (для нормализованных данных)\r\n",
        "\r\n",
        "X_train, X_test, y_train, y_test = train_test_split(X_norm,y, test_size=0.3, random_state = 42)\r\n",
        "model = LogisticRegression()\r\n",
        "model.fit(X_train, y_train)\r\n",
        "y_pred = model.predict(X_test)\r\n",
        "\r\n",
        "print(\"Accuracy\" , accuracy_score(y_test, y_pred))\r\n",
        "print(\"Recall\" ,recall_score(y_test, y_pred))\r\n",
        "print(\"Precision\" , precision_score(y_test, y_pred)) \r\n",
        "confusion_matrix(y_test, y_pred)\r\n",
        "\r\n",
        "\r\n",
        "print('_______________________________________________________')\r\n",
        "\r\n",
        "\r\n",
        "\r\n",
        "kf = KFold(n_splits = 5)\r\n",
        "\r\n",
        "model = LogisticRegression()\r\n",
        "\r\n",
        "cvs = cross_val_score(estimator = model, X = X_norm, y = y, cv = kf, scoring = 'accuracy')\r\n",
        "\r\n",
        "print(cvs)\r\n",
        "print(cvs.mean())"
      ],
      "execution_count": 32,
      "outputs": [
        {
          "output_type": "stream",
          "text": [
            "Accuracy 0.9411764705882353\n",
            "Recall 0.9259259259259259\n",
            "Precision 0.9803921568627451\n",
            "_______________________________________________________\n",
            "[0.94736842 0.96428571 0.96428571 0.98214286 0.89285714]\n",
            "0.9501879699248121\n"
          ],
          "name": "stdout"
        }
      ]
    },
    {
      "cell_type": "code",
      "metadata": {
        "colab": {
          "base_uri": "https://localhost:8080/"
        },
        "id": "v0Pv5d2cHZOM",
        "outputId": "52febb0c-7c93-42f5-fbf7-5b8068a741a5"
      },
      "source": [
        "# логистическая регрессия с помощью кросс-валидации (для стандартизированных данных)\r\n",
        "\r\n",
        "X_train, X_test, y_train, y_test = train_test_split(X_st,y, test_size=0.3, random_state = 42)\r\n",
        "model = LogisticRegression()\r\n",
        "model.fit(X_train, y_train)\r\n",
        "y_pred = model.predict(X_test)\r\n",
        "\r\n",
        "print(\"Accuracy\" , accuracy_score(y_test, y_pred))\r\n",
        "print(\"Recall\" ,recall_score(y_test, y_pred))\r\n",
        "print(\"Precision\" , precision_score(y_test, y_pred)) \r\n",
        "confusion_matrix(y_test, y_pred)\r\n",
        "\r\n",
        "\r\n",
        "print('_______________________________________________________')\r\n",
        "\r\n",
        "\r\n",
        "\r\n",
        "kf = KFold(n_splits = 5)\r\n",
        "\r\n",
        "model = LogisticRegression()\r\n",
        "\r\n",
        "cvs = cross_val_score(estimator = model, X = X_st, y = y, cv = kf, scoring = 'accuracy')\r\n",
        "\r\n",
        "print(cvs)\r\n",
        "print(cvs.mean())"
      ],
      "execution_count": 33,
      "outputs": [
        {
          "output_type": "stream",
          "text": [
            "Accuracy 0.9647058823529412\n",
            "Recall 0.9629629629629629\n",
            "Precision 0.9811320754716981\n",
            "_______________________________________________________\n",
            "[0.96491228 0.96428571 0.96428571 0.98214286 0.92857143]\n",
            "0.9608395989974937\n"
          ],
          "name": "stdout"
        }
      ]
    },
    {
      "cell_type": "code",
      "metadata": {
        "colab": {
          "base_uri": "https://localhost:8080/"
        },
        "id": "Orpz9_YVGLLx",
        "outputId": "5b8187fe-8d4b-4141-b60a-ab2d40f573a5"
      },
      "source": [
        "# метод ближайших соседей с помощью кросс-валидации (для нормализованных данных)\r\n",
        "\r\n",
        "X_train, X_test, y_train, y_test = train_test_split(X_norm, y, test_size=0.3, random_state = 42)\r\n",
        "\r\n",
        "scores = []\r\n",
        "for i in range(1,15):\r\n",
        "\r\n",
        "  knn = KNeighborsClassifier(i)\r\n",
        "  knn.fit(X_train, y_train)\r\n",
        "  answers = knn.predict(X_test)\r\n",
        "\r\n",
        "  scores.append(knn.score(X_test, y_test))\r\n",
        "\r\n",
        "print(scores)\r\n",
        "\r\n",
        "\r\n",
        "max_score = max(scores)\r\n",
        "scores_ind = [i for i, v in enumerate(scores) if v == max_score]\r\n",
        "scores_ind\r\n",
        "\r\n",
        "\r\n",
        "\r\n",
        "\r\n",
        "knn = KNeighborsClassifier(7)\r\n",
        "\r\n",
        "knn.fit(X_train, y_train)\r\n",
        "\r\n",
        "y_pred = knn.predict(X_test)\r\n",
        "\r\n",
        "confusion_matrix(y_test, y_pred)\r\n",
        "\r\n",
        "\r\n",
        "\r\n",
        "\r\n",
        "print(\"Accuracy\" , accuracy_score(y_test, y_pred))\r\n",
        "print(\"Recall\" ,recall_score(y_test, y_pred))\r\n",
        "print(\"Precision\" , precision_score(y_test, y_pred)) \r\n",
        "\r\n",
        "\r\n",
        "\r\n",
        "kf = KFold(n_splits = 5)\r\n",
        "\r\n",
        "knn = KNeighborsClassifier(i)\r\n",
        "\r\n",
        "cvs = cross_val_score(estimator = knn, X = X_norm, y = y, cv = kf, scoring = 'accuracy')\r\n",
        "\r\n",
        "print(cvs)\r\n",
        "print(cvs.mean())"
      ],
      "execution_count": 34,
      "outputs": [
        {
          "output_type": "stream",
          "text": [
            "[0.9411764705882353, 0.9058823529411765, 0.9294117647058824, 0.9176470588235294, 0.9176470588235294, 0.9058823529411765, 0.9176470588235294, 0.9176470588235294, 0.9176470588235294, 0.9176470588235294, 0.9294117647058824, 0.9176470588235294, 0.9294117647058824, 0.9176470588235294]\n",
            "Accuracy 0.9176470588235294\n",
            "Recall 0.8888888888888888\n",
            "Precision 0.9795918367346939\n",
            "[0.89473684 0.83928571 0.96428571 1.         0.85714286]\n",
            "0.9110902255639097\n"
          ],
          "name": "stdout"
        }
      ]
    },
    {
      "cell_type": "code",
      "metadata": {
        "colab": {
          "base_uri": "https://localhost:8080/"
        },
        "id": "ztG_AZxqHhhE",
        "outputId": "1c1ad9cd-ac3a-4cd5-9a2b-760833b9bc08"
      },
      "source": [
        "# метод ближайших соседей с помощью кросс-валидации (для стандартизированных данных)\r\n",
        "\r\n",
        "X_train, X_test, y_train, y_test = train_test_split(X_st, y, test_size=0.3, random_state = 42)\r\n",
        "\r\n",
        "scores = []\r\n",
        "for i in range(1,15):\r\n",
        "\r\n",
        "  knn = KNeighborsClassifier(i)\r\n",
        "  knn.fit(X_train, y_train)\r\n",
        "  answers = knn.predict(X_test)\r\n",
        "\r\n",
        "  scores.append(knn.score(X_test, y_test))\r\n",
        "\r\n",
        "print(scores)\r\n",
        "\r\n",
        "\r\n",
        "max_score = max(scores)\r\n",
        "scores_ind = [i for i, v in enumerate(scores) if v == max_score]\r\n",
        "scores_ind\r\n",
        "\r\n",
        "\r\n",
        "\r\n",
        "\r\n",
        "knn = KNeighborsClassifier(7)\r\n",
        "\r\n",
        "knn.fit(X_train, y_train)\r\n",
        "\r\n",
        "y_pred = knn.predict(X_test)\r\n",
        "\r\n",
        "confusion_matrix(y_test, y_pred)\r\n",
        "\r\n",
        "\r\n",
        "\r\n",
        "\r\n",
        "print(\"Accuracy\" , accuracy_score(y_test, y_pred))\r\n",
        "print(\"Recall\" ,recall_score(y_test, y_pred))\r\n",
        "print(\"Precision\" , precision_score(y_test, y_pred)) \r\n",
        "\r\n",
        "\r\n",
        "\r\n",
        "kf = KFold(n_splits = 5)\r\n",
        "\r\n",
        "knn = KNeighborsClassifier(i)\r\n",
        "\r\n",
        "cvs = cross_val_score(estimator = knn, X = X_st, y = y, cv = kf, scoring = 'accuracy')\r\n",
        "\r\n",
        "print(cvs)\r\n",
        "print(cvs.mean())"
      ],
      "execution_count": 35,
      "outputs": [
        {
          "output_type": "stream",
          "text": [
            "[0.9294117647058824, 0.9294117647058824, 0.9411764705882353, 0.9176470588235294, 0.9411764705882353, 0.9294117647058824, 0.9294117647058824, 0.9176470588235294, 0.9294117647058824, 0.9294117647058824, 0.9411764705882353, 0.9294117647058824, 0.9294117647058824, 0.9294117647058824]\n",
            "Accuracy 0.9294117647058824\n",
            "Recall 0.9074074074074074\n",
            "Precision 0.98\n",
            "[0.9122807  0.83928571 0.96428571 1.         0.875     ]\n",
            "0.9181704260651629\n"
          ],
          "name": "stdout"
        }
      ]
    },
    {
      "cell_type": "code",
      "metadata": {
        "id": "gdtZLyiPH5QA",
        "colab": {
          "base_uri": "https://localhost:8080/"
        },
        "outputId": "2f864a9b-e4cf-476b-f252-a84406b7e440"
      },
      "source": [
        "#метод опорных векторов для нормализованных данных\r\n",
        "\r\n",
        "X_train,X_test,y_train,y_test = train_test_split(X_norm, y, test_size=1/3, random_state=42)\r\n",
        "\r\n",
        "svm = SVC()\r\n",
        "\r\n",
        "svm.fit(X_train, y_train)\r\n",
        "y_pred_svm = svm.predict(X_test)\r\n",
        "\r\n",
        "print(\"Accuracy:\", accuracy_score(y_test,y_pred_svm))\r\n",
        "print(\"Recall:\", recall_score(y_test,y_pred_svm))\r\n",
        "print(\"Precision:\", precision_score(y_test,y_pred_svm))"
      ],
      "execution_count": 36,
      "outputs": [
        {
          "output_type": "stream",
          "text": [
            "Accuracy: 0.9468085106382979\n",
            "Recall: 0.9333333333333333\n",
            "Precision: 0.9824561403508771\n"
          ],
          "name": "stdout"
        }
      ]
    },
    {
      "cell_type": "code",
      "metadata": {
        "colab": {
          "base_uri": "https://localhost:8080/"
        },
        "id": "JX_E75Z5NYeM",
        "outputId": "2e16a35e-0f40-4905-d1ef-9ca5ba3fbb96"
      },
      "source": [
        "#метод опорных векторов для стандартизированных данных\r\n",
        "\r\n",
        "X_train,X_test,y_train,y_test = train_test_split(X_st, y, test_size=1/3, random_state=42)\r\n",
        "\r\n",
        "svm = SVC()\r\n",
        "\r\n",
        "svm.fit(X_train, y_train)\r\n",
        "y_pred_svm = svm.predict(X_test)\r\n",
        "\r\n",
        "print(\"Accuracy:\", accuracy_score(y_test,y_pred_svm))\r\n",
        "print(\"Recall:\", recall_score(y_test,y_pred_svm))\r\n",
        "print(\"Precision:\", precision_score(y_test,y_pred_svm))"
      ],
      "execution_count": 37,
      "outputs": [
        {
          "output_type": "stream",
          "text": [
            "Accuracy: 0.9468085106382979\n",
            "Recall: 0.9333333333333333\n",
            "Precision: 0.9824561403508771\n"
          ],
          "name": "stdout"
        }
      ]
    },
    {
      "cell_type": "code",
      "metadata": {
        "colab": {
          "base_uri": "https://localhost:8080/"
        },
        "id": "vEQpEUC8UMd4",
        "outputId": "cc758fe7-eee5-42fe-b479-5d6a6038176d"
      },
      "source": [
        "#метод опорных векторов для нормализованных данных с кроссвалидацией \r\n",
        "\r\n",
        "X_train,X_test,y_train,y_test = train_test_split(X_norm, y, test_size=1/3, random_state=42)\r\n",
        "\r\n",
        "svm = SVC()\r\n",
        "\r\n",
        "svm.fit(X_train, y_train)\r\n",
        "y_pred_svm = svm.predict(X_test)\r\n",
        "\r\n",
        "print(\"Accuracy:\", accuracy_score(y_test,y_pred_svm))\r\n",
        "print(\"Recall:\", recall_score(y_test,y_pred_svm))\r\n",
        "print(\"Precision:\", precision_score(y_test,y_pred_svm))\r\n",
        "\r\n",
        "\r\n",
        "\r\n",
        "kf = KFold(n_splits = 5)\r\n",
        "\r\n",
        "\r\n",
        "svm = SVC()\r\n",
        "\r\n",
        "cvs = cross_val_score(estimator = svm, X = X_norm, y = y, cv = kf, scoring = 'accuracy')\r\n",
        "\r\n",
        "print(cvs)\r\n",
        "print(cvs.mean())\r\n"
      ],
      "execution_count": 38,
      "outputs": [
        {
          "output_type": "stream",
          "text": [
            "Accuracy: 0.9468085106382979\n",
            "Recall: 0.9333333333333333\n",
            "Precision: 0.9824561403508771\n",
            "[0.94736842 0.96428571 0.96428571 0.98214286 0.91071429]\n",
            "0.9537593984962406\n"
          ],
          "name": "stdout"
        }
      ]
    },
    {
      "cell_type": "code",
      "metadata": {
        "colab": {
          "base_uri": "https://localhost:8080/"
        },
        "id": "ENa_bqshUcqT",
        "outputId": "e5baf928-248d-4975-9a91-49523ff3f2a1"
      },
      "source": [
        "#метод опорных векторов для стандартизированных данных с кроссвалидацией \r\n",
        "\r\n",
        "X_train,X_test,y_train,y_test = train_test_split(X_st, y, test_size=1/3, random_state=42)\r\n",
        "\r\n",
        "svm = SVC()\r\n",
        "\r\n",
        "svm.fit(X_train, y_train)\r\n",
        "y_pred_svm = svm.predict(X_test)\r\n",
        "\r\n",
        "print(\"Accuracy:\", accuracy_score(y_test,y_pred_svm))\r\n",
        "print(\"Recall:\", recall_score(y_test,y_pred_svm))\r\n",
        "print(\"Precision:\", precision_score(y_test,y_pred_svm))\r\n",
        "\r\n",
        "\r\n",
        "\r\n",
        "kf = KFold(n_splits = 5)\r\n",
        "\r\n",
        "svm = SVC()\r\n",
        "\r\n",
        "cvs = cross_val_score(estimator = svm, X = X_st, y = y, cv = kf, scoring = 'accuracy')\r\n",
        "\r\n",
        "print(cvs)\r\n",
        "print(cvs.mean())"
      ],
      "execution_count": 39,
      "outputs": [
        {
          "output_type": "stream",
          "text": [
            "Accuracy: 0.9468085106382979\n",
            "Recall: 0.9333333333333333\n",
            "Precision: 0.9824561403508771\n",
            "[0.94736842 0.94642857 0.96428571 0.98214286 0.91071429]\n",
            "0.9501879699248121\n"
          ],
          "name": "stdout"
        }
      ]
    },
    {
      "cell_type": "code",
      "metadata": {
        "id": "jXL80dLCUqtK"
      },
      "source": [
        "# На основе полученных данных мы можем сделать вывод, что самой лучшей моделью является логистическая регрессия на стандартизированных данных"
      ],
      "execution_count": 40,
      "outputs": []
    }
  ]
}