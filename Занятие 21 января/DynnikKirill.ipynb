{
  "nbformat": 4,
  "nbformat_minor": 0,
  "metadata": {
    "colab": {
      "name": "DynnikKirill.ipynb",
      "provenance": []
    },
    "kernelspec": {
      "name": "python3",
      "display_name": "Python 3"
    }
  },
  "cells": [
    {
      "cell_type": "code",
      "metadata": {
        "id": "pniImiYVFD4r"
      },
      "source": [
        "import pandas as pd"
      ],
      "execution_count": null,
      "outputs": []
    },
    {
      "cell_type": "code",
      "metadata": {
        "colab": {
          "resources": {
            "http://localhost:8080/nbextensions/google.colab/files.js": {
              "data": "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",
              "ok": true,
              "headers": [
                [
                  "content-type",
                  "application/javascript"
                ]
              ],
              "status": 200,
              "status_text": ""
            }
          },
          "base_uri": "https://localhost:8080/",
          "height": 72
        },
        "id": "QiwqhQlXEtNB",
        "outputId": "82ebfe85-d74f-46bc-92cc-06df9520969d"
      },
      "source": [
        "from google.colab import files\r\n",
        "uploaded = files.upload()"
      ],
      "execution_count": null,
      "outputs": [
        {
          "output_type": "display_data",
          "data": {
            "text/html": [
              "\n",
              "     <input type=\"file\" id=\"files-f9af986c-5020-42c2-9626-243dee99da62\" name=\"files[]\" multiple disabled\n",
              "        style=\"border:none\" />\n",
              "     <output id=\"result-f9af986c-5020-42c2-9626-243dee99da62\">\n",
              "      Upload widget is only available when the cell has been executed in the\n",
              "      current browser session. Please rerun this cell to enable.\n",
              "      </output>\n",
              "      <script src=\"/nbextensions/google.colab/files.js\"></script> "
            ],
            "text/plain": [
              "<IPython.core.display.HTML object>"
            ]
          },
          "metadata": {
            "tags": []
          }
        },
        {
          "output_type": "stream",
          "text": [
            "Saving country_vaccinations.csv to country_vaccinations.csv\n"
          ],
          "name": "stdout"
        }
      ]
    },
    {
      "cell_type": "code",
      "metadata": {
        "colab": {
          "base_uri": "https://localhost:8080/",
          "height": 694
        },
        "id": "t9xptEP2E5fF",
        "outputId": "e209c8c3-8601-4746-d1ee-033334c208a8"
      },
      "source": [
        "df = pd.read_csv('country_vaccinations.csv')\r\n",
        "df"
      ],
      "execution_count": null,
      "outputs": [
        {
          "output_type": "execute_result",
          "data": {
            "text/html": [
              "<div>\n",
              "<style scoped>\n",
              "    .dataframe tbody tr th:only-of-type {\n",
              "        vertical-align: middle;\n",
              "    }\n",
              "\n",
              "    .dataframe tbody tr th {\n",
              "        vertical-align: top;\n",
              "    }\n",
              "\n",
              "    .dataframe thead th {\n",
              "        text-align: right;\n",
              "    }\n",
              "</style>\n",
              "<table border=\"1\" class=\"dataframe\">\n",
              "  <thead>\n",
              "    <tr style=\"text-align: right;\">\n",
              "      <th></th>\n",
              "      <th>country</th>\n",
              "      <th>iso_code</th>\n",
              "      <th>date</th>\n",
              "      <th>total_vaccinations</th>\n",
              "      <th>people_vaccinated</th>\n",
              "      <th>people_fully_vaccinated</th>\n",
              "      <th>daily_vaccinations_raw</th>\n",
              "      <th>daily_vaccinations</th>\n",
              "      <th>total_vaccinations_per_hundred</th>\n",
              "      <th>people_vaccinated_per_hundred</th>\n",
              "      <th>people_fully_vaccinated_per_hundred</th>\n",
              "      <th>daily_vaccinations_per_million</th>\n",
              "      <th>vaccines</th>\n",
              "      <th>source_name</th>\n",
              "      <th>source_website</th>\n",
              "    </tr>\n",
              "  </thead>\n",
              "  <tbody>\n",
              "    <tr>\n",
              "      <th>0</th>\n",
              "      <td>Argentina</td>\n",
              "      <td>ARG</td>\n",
              "      <td>2020-12-29</td>\n",
              "      <td>700.0</td>\n",
              "      <td>NaN</td>\n",
              "      <td>NaN</td>\n",
              "      <td>NaN</td>\n",
              "      <td>NaN</td>\n",
              "      <td>0.00</td>\n",
              "      <td>NaN</td>\n",
              "      <td>NaN</td>\n",
              "      <td>NaN</td>\n",
              "      <td>Sputnik V</td>\n",
              "      <td>Ministry of Health</td>\n",
              "      <td>http://datos.salud.gob.ar/dataset/vacunas-cont...</td>\n",
              "    </tr>\n",
              "    <tr>\n",
              "      <th>1</th>\n",
              "      <td>Argentina</td>\n",
              "      <td>ARG</td>\n",
              "      <td>2020-12-30</td>\n",
              "      <td>NaN</td>\n",
              "      <td>NaN</td>\n",
              "      <td>NaN</td>\n",
              "      <td>NaN</td>\n",
              "      <td>15656.0</td>\n",
              "      <td>NaN</td>\n",
              "      <td>NaN</td>\n",
              "      <td>NaN</td>\n",
              "      <td>346.0</td>\n",
              "      <td>Sputnik V</td>\n",
              "      <td>Ministry of Health</td>\n",
              "      <td>http://datos.salud.gob.ar/dataset/vacunas-cont...</td>\n",
              "    </tr>\n",
              "    <tr>\n",
              "      <th>2</th>\n",
              "      <td>Argentina</td>\n",
              "      <td>ARG</td>\n",
              "      <td>2020-12-31</td>\n",
              "      <td>32013.0</td>\n",
              "      <td>NaN</td>\n",
              "      <td>NaN</td>\n",
              "      <td>NaN</td>\n",
              "      <td>15656.0</td>\n",
              "      <td>0.07</td>\n",
              "      <td>NaN</td>\n",
              "      <td>NaN</td>\n",
              "      <td>346.0</td>\n",
              "      <td>Sputnik V</td>\n",
              "      <td>Ministry of Health</td>\n",
              "      <td>http://datos.salud.gob.ar/dataset/vacunas-cont...</td>\n",
              "    </tr>\n",
              "    <tr>\n",
              "      <th>3</th>\n",
              "      <td>Argentina</td>\n",
              "      <td>ARG</td>\n",
              "      <td>2021-01-01</td>\n",
              "      <td>NaN</td>\n",
              "      <td>NaN</td>\n",
              "      <td>NaN</td>\n",
              "      <td>NaN</td>\n",
              "      <td>11070.0</td>\n",
              "      <td>NaN</td>\n",
              "      <td>NaN</td>\n",
              "      <td>NaN</td>\n",
              "      <td>245.0</td>\n",
              "      <td>Sputnik V</td>\n",
              "      <td>Ministry of Health</td>\n",
              "      <td>http://datos.salud.gob.ar/dataset/vacunas-cont...</td>\n",
              "    </tr>\n",
              "    <tr>\n",
              "      <th>4</th>\n",
              "      <td>Argentina</td>\n",
              "      <td>ARG</td>\n",
              "      <td>2021-01-02</td>\n",
              "      <td>NaN</td>\n",
              "      <td>NaN</td>\n",
              "      <td>NaN</td>\n",
              "      <td>NaN</td>\n",
              "      <td>8776.0</td>\n",
              "      <td>NaN</td>\n",
              "      <td>NaN</td>\n",
              "      <td>NaN</td>\n",
              "      <td>194.0</td>\n",
              "      <td>Sputnik V</td>\n",
              "      <td>Ministry of Health</td>\n",
              "      <td>http://datos.salud.gob.ar/dataset/vacunas-cont...</td>\n",
              "    </tr>\n",
              "    <tr>\n",
              "      <th>...</th>\n",
              "      <td>...</td>\n",
              "      <td>...</td>\n",
              "      <td>...</td>\n",
              "      <td>...</td>\n",
              "      <td>...</td>\n",
              "      <td>...</td>\n",
              "      <td>...</td>\n",
              "      <td>...</td>\n",
              "      <td>...</td>\n",
              "      <td>...</td>\n",
              "      <td>...</td>\n",
              "      <td>...</td>\n",
              "      <td>...</td>\n",
              "      <td>...</td>\n",
              "      <td>...</td>\n",
              "    </tr>\n",
              "    <tr>\n",
              "      <th>1187</th>\n",
              "      <td>Wales</td>\n",
              "      <td>NaN</td>\n",
              "      <td>2021-01-15</td>\n",
              "      <td>NaN</td>\n",
              "      <td>NaN</td>\n",
              "      <td>NaN</td>\n",
              "      <td>NaN</td>\n",
              "      <td>8468.0</td>\n",
              "      <td>NaN</td>\n",
              "      <td>NaN</td>\n",
              "      <td>NaN</td>\n",
              "      <td>2686.0</td>\n",
              "      <td>Oxford/AstraZeneca, Pfizer/BioNTech</td>\n",
              "      <td>Government of the United Kingdom</td>\n",
              "      <td>https://coronavirus.data.gov.uk/details/health...</td>\n",
              "    </tr>\n",
              "    <tr>\n",
              "      <th>1188</th>\n",
              "      <td>Wales</td>\n",
              "      <td>NaN</td>\n",
              "      <td>2021-01-16</td>\n",
              "      <td>NaN</td>\n",
              "      <td>NaN</td>\n",
              "      <td>NaN</td>\n",
              "      <td>NaN</td>\n",
              "      <td>8935.0</td>\n",
              "      <td>NaN</td>\n",
              "      <td>NaN</td>\n",
              "      <td>NaN</td>\n",
              "      <td>2834.0</td>\n",
              "      <td>Oxford/AstraZeneca, Pfizer/BioNTech</td>\n",
              "      <td>Government of the United Kingdom</td>\n",
              "      <td>https://coronavirus.data.gov.uk/details/health...</td>\n",
              "    </tr>\n",
              "    <tr>\n",
              "      <th>1189</th>\n",
              "      <td>Wales</td>\n",
              "      <td>NaN</td>\n",
              "      <td>2021-01-17</td>\n",
              "      <td>151938.0</td>\n",
              "      <td>151737.0</td>\n",
              "      <td>201.0</td>\n",
              "      <td>NaN</td>\n",
              "      <td>9403.0</td>\n",
              "      <td>4.82</td>\n",
              "      <td>4.81</td>\n",
              "      <td>0.01</td>\n",
              "      <td>2982.0</td>\n",
              "      <td>Oxford/AstraZeneca, Pfizer/BioNTech</td>\n",
              "      <td>Government of the United Kingdom</td>\n",
              "      <td>https://coronavirus.data.gov.uk/details/health...</td>\n",
              "    </tr>\n",
              "    <tr>\n",
              "      <th>1190</th>\n",
              "      <td>Wales</td>\n",
              "      <td>NaN</td>\n",
              "      <td>2021-01-18</td>\n",
              "      <td>162197.0</td>\n",
              "      <td>161932.0</td>\n",
              "      <td>265.0</td>\n",
              "      <td>10259.0</td>\n",
              "      <td>10123.0</td>\n",
              "      <td>5.14</td>\n",
              "      <td>5.14</td>\n",
              "      <td>0.01</td>\n",
              "      <td>3211.0</td>\n",
              "      <td>Oxford/AstraZeneca, Pfizer/BioNTech</td>\n",
              "      <td>Government of the United Kingdom</td>\n",
              "      <td>https://coronavirus.data.gov.uk/details/health...</td>\n",
              "    </tr>\n",
              "    <tr>\n",
              "      <th>1191</th>\n",
              "      <td>Wales</td>\n",
              "      <td>NaN</td>\n",
              "      <td>2021-01-19</td>\n",
              "      <td>176186.0</td>\n",
              "      <td>175816.0</td>\n",
              "      <td>370.0</td>\n",
              "      <td>13989.0</td>\n",
              "      <td>10672.0</td>\n",
              "      <td>5.59</td>\n",
              "      <td>5.58</td>\n",
              "      <td>0.01</td>\n",
              "      <td>3385.0</td>\n",
              "      <td>Oxford/AstraZeneca, Pfizer/BioNTech</td>\n",
              "      <td>Government of the United Kingdom</td>\n",
              "      <td>https://coronavirus.data.gov.uk/details/health...</td>\n",
              "    </tr>\n",
              "  </tbody>\n",
              "</table>\n",
              "<p>1192 rows × 15 columns</p>\n",
              "</div>"
            ],
            "text/plain": [
              "        country  ...                                     source_website\n",
              "0     Argentina  ...  http://datos.salud.gob.ar/dataset/vacunas-cont...\n",
              "1     Argentina  ...  http://datos.salud.gob.ar/dataset/vacunas-cont...\n",
              "2     Argentina  ...  http://datos.salud.gob.ar/dataset/vacunas-cont...\n",
              "3     Argentina  ...  http://datos.salud.gob.ar/dataset/vacunas-cont...\n",
              "4     Argentina  ...  http://datos.salud.gob.ar/dataset/vacunas-cont...\n",
              "...         ...  ...                                                ...\n",
              "1187      Wales  ...  https://coronavirus.data.gov.uk/details/health...\n",
              "1188      Wales  ...  https://coronavirus.data.gov.uk/details/health...\n",
              "1189      Wales  ...  https://coronavirus.data.gov.uk/details/health...\n",
              "1190      Wales  ...  https://coronavirus.data.gov.uk/details/health...\n",
              "1191      Wales  ...  https://coronavirus.data.gov.uk/details/health...\n",
              "\n",
              "[1192 rows x 15 columns]"
            ]
          },
          "metadata": {
            "tags": []
          },
          "execution_count": 6
        }
      ]
    },
    {
      "cell_type": "code",
      "metadata": {
        "colab": {
          "base_uri": "https://localhost:8080/"
        },
        "id": "JAgNrWJNFjM0",
        "outputId": "68284eaa-d49c-455c-a6ac-3b6f7bb5faca"
      },
      "source": [
        "df.info()"
      ],
      "execution_count": null,
      "outputs": [
        {
          "output_type": "stream",
          "text": [
            "<class 'pandas.core.frame.DataFrame'>\n",
            "RangeIndex: 1192 entries, 0 to 1191\n",
            "Data columns (total 15 columns):\n",
            " #   Column                               Non-Null Count  Dtype  \n",
            "---  ------                               --------------  -----  \n",
            " 0   country                              1192 non-null   object \n",
            " 1   iso_code                             1047 non-null   object \n",
            " 2   date                                 1192 non-null   object \n",
            " 3   total_vaccinations                   750 non-null    float64\n",
            " 4   people_vaccinated                    705 non-null    float64\n",
            " 5   people_fully_vaccinated              140 non-null    float64\n",
            " 6   daily_vaccinations_raw               581 non-null    float64\n",
            " 7   daily_vaccinations                   1136 non-null   float64\n",
            " 8   total_vaccinations_per_hundred       750 non-null    float64\n",
            " 9   people_vaccinated_per_hundred        705 non-null    float64\n",
            " 10  people_fully_vaccinated_per_hundred  140 non-null    float64\n",
            " 11  daily_vaccinations_per_million       1136 non-null   float64\n",
            " 12  vaccines                             1192 non-null   object \n",
            " 13  source_name                          1192 non-null   object \n",
            " 14  source_website                       1192 non-null   object \n",
            "dtypes: float64(9), object(6)\n",
            "memory usage: 139.8+ KB\n"
          ],
          "name": "stdout"
        }
      ]
    },
    {
      "cell_type": "code",
      "metadata": {
        "colab": {
          "base_uri": "https://localhost:8080/"
        },
        "id": "fNSjk9dlFKwR",
        "outputId": "eb64f4e2-caa4-40b4-fb54-ae205a4ca63e"
      },
      "source": [
        "df.isna().sum()"
      ],
      "execution_count": null,
      "outputs": [
        {
          "output_type": "execute_result",
          "data": {
            "text/plain": [
              "country                                   0\n",
              "iso_code                                145\n",
              "date                                      0\n",
              "total_vaccinations                      442\n",
              "people_vaccinated                       487\n",
              "people_fully_vaccinated                1052\n",
              "daily_vaccinations_raw                  611\n",
              "daily_vaccinations                       56\n",
              "total_vaccinations_per_hundred          442\n",
              "people_vaccinated_per_hundred           487\n",
              "people_fully_vaccinated_per_hundred    1052\n",
              "daily_vaccinations_per_million           56\n",
              "vaccines                                  0\n",
              "source_name                               0\n",
              "source_website                            0\n",
              "dtype: int64"
            ]
          },
          "metadata": {
            "tags": []
          },
          "execution_count": 8
        }
      ]
    },
    {
      "cell_type": "code",
      "metadata": {
        "id": "qGQ40bnxHfbi"
      },
      "source": [
        "df = df.drop(['people_fully_vaccinated'], axis=1)\r\n",
        "df = df.drop(['daily_vaccinations_raw'], axis=1)\r\n",
        "df = df.drop(['people_fully_vaccinated_per_hundred'], axis=1)"
      ],
      "execution_count": null,
      "outputs": []
    },
    {
      "cell_type": "code",
      "metadata": {
        "id": "_8oK1pvvH8rm"
      },
      "source": [
        "mean_value = df['total_vaccinations'].mean()\r\n",
        "df['total_vaccinations'] = df['total_vaccinations'].fillna(mean_value)\r\n",
        "\r\n",
        "mean_value = df['people_vaccinated'].mean()\r\n",
        "df['people_vaccinated'] = df['people_vaccinated'].fillna(mean_value)\r\n",
        "\r\n",
        "mean_value = df['daily_vaccinations'].mean()\r\n",
        "df['daily_vaccinations'] = df['daily_vaccinations'].fillna(mean_value)\r\n",
        "\r\n",
        "mean_value = df['total_vaccinations_per_hundred'].mean()\r\n",
        "df['total_vaccinations_per_hundred'] = df['total_vaccinations_per_hundred'].fillna(mean_value)\r\n",
        "\r\n",
        "mean_value = df['daily_vaccinations_per_million'].mean()\r\n",
        "df['daily_vaccinations_per_million'] = df['daily_vaccinations_per_million'].fillna(mean_value)"
      ],
      "execution_count": null,
      "outputs": []
    },
    {
      "cell_type": "code",
      "metadata": {
        "colab": {
          "base_uri": "https://localhost:8080/"
        },
        "id": "ZVo-RgVcImsY",
        "outputId": "8b0fd06f-41ac-4fc9-fd47-014116b98280"
      },
      "source": [
        "df.isna().sum()"
      ],
      "execution_count": null,
      "outputs": [
        {
          "output_type": "execute_result",
          "data": {
            "text/plain": [
              "country                             0\n",
              "iso_code                          145\n",
              "date                                0\n",
              "total_vaccinations                  0\n",
              "people_vaccinated                   0\n",
              "daily_vaccinations                  0\n",
              "total_vaccinations_per_hundred      0\n",
              "people_vaccinated_per_hundred     487\n",
              "daily_vaccinations_per_million      0\n",
              "vaccines                            0\n",
              "source_name                         0\n",
              "source_website                      0\n",
              "dtype: int64"
            ]
          },
          "metadata": {
            "tags": []
          },
          "execution_count": 13
        }
      ]
    },
    {
      "cell_type": "code",
      "metadata": {
        "id": "9c0-c11fIsmT"
      },
      "source": [
        "df = df.drop(df.loc[df['iso_code'].isna()].index, axis=0)\r\n",
        "df = df.drop(df.loc[df['people_vaccinated_per_hundred'].isna()].index, axis=0)"
      ],
      "execution_count": null,
      "outputs": []
    },
    {
      "cell_type": "code",
      "metadata": {
        "colab": {
          "base_uri": "https://localhost:8080/"
        },
        "id": "Pk9rokiQKzhS",
        "outputId": "3d6e4735-c61d-413d-faff-656f8553480b"
      },
      "source": [
        "df.isna().sum()"
      ],
      "execution_count": null,
      "outputs": [
        {
          "output_type": "execute_result",
          "data": {
            "text/plain": [
              "country                           0\n",
              "iso_code                          0\n",
              "date                              0\n",
              "total_vaccinations                0\n",
              "people_vaccinated                 0\n",
              "daily_vaccinations                0\n",
              "total_vaccinations_per_hundred    0\n",
              "people_vaccinated_per_hundred     0\n",
              "daily_vaccinations_per_million    0\n",
              "vaccines                          0\n",
              "source_name                       0\n",
              "source_website                    0\n",
              "dtype: int64"
            ]
          },
          "metadata": {
            "tags": []
          },
          "execution_count": 33
        }
      ]
    },
    {
      "cell_type": "code",
      "metadata": {
        "colab": {
          "base_uri": "https://localhost:8080/"
        },
        "id": "rZxMflsBNzBG",
        "outputId": "c42e6534-85d9-4acb-ba11-b45ccf27d32d"
      },
      "source": [
        "df['vaccines'].value_counts()"
      ],
      "execution_count": null,
      "outputs": [
        {
          "output_type": "execute_result",
          "data": {
            "text/plain": [
              "Pfizer/BioNTech                        425\n",
              "Moderna, Pfizer/BioNTech               145\n",
              "Pfizer/BioNTech, Sinopharm              39\n",
              "Sinovac                                 13\n",
              "Oxford/AstraZeneca, Pfizer/BioNTech     13\n",
              "CNBG, Sinovac                            5\n",
              "Sputnik V                                5\n",
              "Covaxin, Covishield                      5\n",
              "Sinopharm                                4\n",
              "Name: vaccines, dtype: int64"
            ]
          },
          "metadata": {
            "tags": []
          },
          "execution_count": 34
        }
      ]
    },
    {
      "cell_type": "code",
      "metadata": {
        "colab": {
          "base_uri": "https://localhost:8080/"
        },
        "id": "iSMejOM3OrfV",
        "outputId": "d73f753d-42a2-40bd-a7f1-4409b1cdc949"
      },
      "source": [
        "df['source_name'].value_counts() #33"
      ],
      "execution_count": null,
      "outputs": [
        {
          "output_type": "execute_result",
          "data": {
            "text/plain": [
              "Ministry of Health                                             224\n",
              "COVID-19 Canada Open Data Working Group                         37\n",
              "Government of Israel                                            33\n",
              "National Health Service                                         26\n",
              "Extraordinary commissioner for the Covid-19 emergency           25\n",
              "Statens Serum Institut                                          24\n",
              "Government of Romania                                           24\n",
              "Norwegian Institute of Public Health                            24\n",
              "Robert Koch Institut                                            24\n",
              "National Health Board                                           23\n",
              "Secretary of Health                                             21\n",
              "Sciensano                                                       20\n",
              "National Institute of Public Health, via Sledilnik              17\n",
              "Department of Statistics and Health Information                 14\n",
              "Government of the United Kingdom                                13\n",
              "THL via Helsingin Sanomat                                       13\n",
              "National Institute for Public Health and the Environment        11\n",
              "National Emergency Crisis and Disaster Management Authority     11\n",
              "Government of Luxembourg                                         8\n",
              "COVID-19 Vaccine Information Platform                            8\n",
              "Government of Gibraltar                                          8\n",
              "Heath Service Executive                                          6\n",
              "National Health Commission                                       6\n",
              "Regional governments via Coronavirus Brasil                      5\n",
              "Extended Programme for Immunisation                              4\n",
              "Russian Direct Investment Fund                                   4\n",
              "Saudi Health Council                                             4\n",
              "Public Health Agency of Sweden                                   4\n",
              "Centers for Disease Control and Prevention                       3\n",
              "Federal Office of Public Health                                  3\n",
              "Government of Serbia                                             3\n",
              "Government of Hungary                                            2\n",
              "Directorate of Health                                            2\n",
              "Name: source_name, dtype: int64"
            ]
          },
          "metadata": {
            "tags": []
          },
          "execution_count": 35
        }
      ]
    },
    {
      "cell_type": "code",
      "metadata": {
        "colab": {
          "base_uri": "https://localhost:8080/"
        },
        "id": "RGDlmulvPpmL",
        "outputId": "ebd8985d-cd3b-4e32-b577-45bbcfad7aa5"
      },
      "source": [
        "df['country'].value_counts()"
      ],
      "execution_count": null,
      "outputs": [
        {
          "output_type": "execute_result",
          "data": {
            "text/plain": [
              "Canada                  37\n",
              "Israel                  33\n",
              "Bahrain                 28\n",
              "Italy                   25\n",
              "Germany                 24\n",
              "Romania                 24\n",
              "Norway                  24\n",
              "Denmark                 24\n",
              "Estonia                 23\n",
              "Greece                  23\n",
              "Poland                  22\n",
              "Mexico                  21\n",
              "Lithuania               21\n",
              "Oman                    21\n",
              "Belgium                 20\n",
              "Latvia                  19\n",
              "Slovenia                17\n",
              "Bulgaria                17\n",
              "France                  16\n",
              "Slovakia                15\n",
              "Chile                   14\n",
              "Austria                 14\n",
              "Finland                 13\n",
              "United Kingdom          13\n",
              "Spain                   12\n",
              "Netherlands             11\n",
              "United Arab Emirates    11\n",
              "Croatia                 11\n",
              "Gibraltar                8\n",
              "Turkey                   8\n",
              "Luxembourg               8\n",
              "Portugal                 7\n",
              "Malta                    7\n",
              "Ireland                  6\n",
              "Czechia                  5\n",
              "India                    5\n",
              "Brazil                   5\n",
              "China                    5\n",
              "Saudi Arabia             4\n",
              "Russia                   4\n",
              "Sweden                   4\n",
              "Seychelles               4\n",
              "Switzerland              3\n",
              "United States            3\n",
              "Cyprus                   3\n",
              "Serbia                   3\n",
              "Singapore                2\n",
              "Hungary                  2\n",
              "Iceland                  2\n",
              "Kuwait                   1\n",
              "Costa Rica               1\n",
              "Argentina                1\n",
              "Name: country, dtype: int64"
            ]
          },
          "metadata": {
            "tags": []
          },
          "execution_count": 37
        }
      ]
    },
    {
      "cell_type": "code",
      "metadata": {
        "colab": {
          "base_uri": "https://localhost:8080/"
        },
        "id": "CBZp7YzVN75P",
        "outputId": "0444d941-973a-4f89-d058-bb72e675cb75"
      },
      "source": [
        "print(df.loc[df['total_vaccinations']==df['total_vaccinations'].max(), 'date'])"
      ],
      "execution_count": null,
      "outputs": [
        {
          "output_type": "stream",
          "text": [
            "1153    2021-01-19\n",
            "Name: date, dtype: object\n"
          ],
          "name": "stdout"
        }
      ]
    },
    {
      "cell_type": "code",
      "metadata": {
        "colab": {
          "base_uri": "https://localhost:8080/"
        },
        "id": "Lkq2eWrRWpZY",
        "outputId": "727a9891-362c-4bf7-c6ef-cca427ad8c54"
      },
      "source": [
        "a = df.groupby('country')\r\n",
        "a['total_vaccinations'].max()"
      ],
      "execution_count": null,
      "outputs": [
        {
          "output_type": "execute_result",
          "data": {
            "text/plain": [
              "country\n",
              "Argentina                 247933.0\n",
              "Austria                   150703.0\n",
              "Bahrain                   143596.0\n",
              "Belgium                   126328.0\n",
              "Brazil                     28543.0\n",
              "Bulgaria                   22226.0\n",
              "Canada                    651139.0\n",
              "Chile                      50924.0\n",
              "China                   15000000.0\n",
              "Costa Rica                 24859.0\n",
              "Croatia                    54304.0\n",
              "Cyprus                     10226.0\n",
              "Czechia                   108239.0\n",
              "Denmark                   182032.0\n",
              "Estonia                    20478.0\n",
              "Finland                    62061.0\n",
              "France                    585664.0\n",
              "Germany                  1297430.0\n",
              "Gibraltar                   7017.0\n",
              "Greece                    107335.0\n",
              "Hungary                   133257.0\n",
              "Iceland                     6205.0\n",
              "India                     674835.0\n",
              "Ireland                    94000.0\n",
              "Israel                   2936691.0\n",
              "Italy                    1237328.0\n",
              "Kuwait                      2500.0\n",
              "Latvia                     17633.0\n",
              "Lithuania                  60447.0\n",
              "Luxembourg                  5294.0\n",
              "Malta                      14276.0\n",
              "Mexico                    498122.0\n",
              "Netherlands               100000.0\n",
              "Norway                     55662.0\n",
              "Oman                       28049.0\n",
              "Poland                    541229.0\n",
              "Portugal                  106000.0\n",
              "Romania                   308384.0\n",
              "Russia                   1000000.0\n",
              "Saudi Arabia              295530.0\n",
              "Serbia                     18136.0\n",
              "Seychelles                  7000.0\n",
              "Singapore                   6200.0\n",
              "Slovakia                   72060.0\n",
              "Slovenia                   43869.0\n",
              "Spain                    1025937.0\n",
              "Sweden                    146775.0\n",
              "Switzerland               110000.0\n",
              "Turkey                   1052493.0\n",
              "United Arab Emirates     2161150.0\n",
              "United Kingdom           5070365.0\n",
              "United States           15707588.0\n",
              "Name: total_vaccinations, dtype: float64"
            ]
          },
          "metadata": {
            "tags": []
          },
          "execution_count": 69
        }
      ]
    }
  ]
}