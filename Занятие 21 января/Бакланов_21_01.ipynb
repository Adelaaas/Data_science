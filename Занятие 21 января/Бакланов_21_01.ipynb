{
  "nbformat": 4,
  "nbformat_minor": 0,
  "metadata": {
    "colab": {
      "name": "Занятие_21_01.ipynb",
      "provenance": [],
      "collapsed_sections": []
    },
    "kernelspec": {
      "name": "python3",
      "display_name": "Python 3"
    }
  },
  "cells": [
    {
      "cell_type": "code",
      "metadata": {
        "id": "1pJV37sXDLxj"
      },
      "source": [
        "import pandas as pd"
      ],
      "execution_count": 56,
      "outputs": []
    },
    {
      "cell_type": "code",
      "metadata": {
        "colab": {
          "resources": {
            "http://localhost:8080/nbextensions/google.colab/files.js": {
              "data": "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",
              "ok": true,
              "headers": [
                [
                  "content-type",
                  "application/javascript"
                ]
              ],
              "status": 200,
              "status_text": ""
            }
          },
          "base_uri": "https://localhost:8080/",
          "height": 74
        },
        "id": "nZV2M6L7COt2",
        "outputId": "07916d04-af51-4310-8eef-4483f15fd343"
      },
      "source": [
        "from google.colab import files #загрузка датасета\r\n",
        "uploaded = files.upload()"
      ],
      "execution_count": 57,
      "outputs": [
        {
          "output_type": "display_data",
          "data": {
            "text/html": [
              "\n",
              "     <input type=\"file\" id=\"files-6bc44b3a-15bf-4083-8eaa-17e47b5b0d20\" name=\"files[]\" multiple disabled\n",
              "        style=\"border:none\" />\n",
              "     <output id=\"result-6bc44b3a-15bf-4083-8eaa-17e47b5b0d20\">\n",
              "      Upload widget is only available when the cell has been executed in the\n",
              "      current browser session. Please rerun this cell to enable.\n",
              "      </output>\n",
              "      <script src=\"/nbextensions/google.colab/files.js\"></script> "
            ],
            "text/plain": [
              "<IPython.core.display.HTML object>"
            ]
          },
          "metadata": {
            "tags": []
          }
        },
        {
          "output_type": "stream",
          "text": [
            "Saving country_vaccinations.csv to country_vaccinations (2).csv\n"
          ],
          "name": "stdout"
        }
      ]
    },
    {
      "cell_type": "code",
      "metadata": {
        "colab": {
          "base_uri": "https://localhost:8080/",
          "height": 674
        },
        "id": "V4tEekUJDkwA",
        "outputId": "ab1ad98c-bd2f-4ad1-f95b-6946cc52e92c"
      },
      "source": [
        "vacc = pd.read_csv(\"country_vaccinations.csv\")\r\n",
        "vacc"
      ],
      "execution_count": 58,
      "outputs": [
        {
          "output_type": "execute_result",
          "data": {
            "text/html": [
              "<div>\n",
              "<style scoped>\n",
              "    .dataframe tbody tr th:only-of-type {\n",
              "        vertical-align: middle;\n",
              "    }\n",
              "\n",
              "    .dataframe tbody tr th {\n",
              "        vertical-align: top;\n",
              "    }\n",
              "\n",
              "    .dataframe thead th {\n",
              "        text-align: right;\n",
              "    }\n",
              "</style>\n",
              "<table border=\"1\" class=\"dataframe\">\n",
              "  <thead>\n",
              "    <tr style=\"text-align: right;\">\n",
              "      <th></th>\n",
              "      <th>country</th>\n",
              "      <th>iso_code</th>\n",
              "      <th>date</th>\n",
              "      <th>total_vaccinations</th>\n",
              "      <th>people_vaccinated</th>\n",
              "      <th>people_fully_vaccinated</th>\n",
              "      <th>daily_vaccinations_raw</th>\n",
              "      <th>daily_vaccinations</th>\n",
              "      <th>total_vaccinations_per_hundred</th>\n",
              "      <th>people_vaccinated_per_hundred</th>\n",
              "      <th>people_fully_vaccinated_per_hundred</th>\n",
              "      <th>daily_vaccinations_per_million</th>\n",
              "      <th>vaccines</th>\n",
              "      <th>source_name</th>\n",
              "      <th>source_website</th>\n",
              "    </tr>\n",
              "  </thead>\n",
              "  <tbody>\n",
              "    <tr>\n",
              "      <th>0</th>\n",
              "      <td>Argentina</td>\n",
              "      <td>ARG</td>\n",
              "      <td>2020-12-29</td>\n",
              "      <td>700.0</td>\n",
              "      <td>NaN</td>\n",
              "      <td>NaN</td>\n",
              "      <td>NaN</td>\n",
              "      <td>NaN</td>\n",
              "      <td>0.00</td>\n",
              "      <td>NaN</td>\n",
              "      <td>NaN</td>\n",
              "      <td>NaN</td>\n",
              "      <td>Sputnik V</td>\n",
              "      <td>Ministry of Health</td>\n",
              "      <td>http://datos.salud.gob.ar/dataset/vacunas-cont...</td>\n",
              "    </tr>\n",
              "    <tr>\n",
              "      <th>1</th>\n",
              "      <td>Argentina</td>\n",
              "      <td>ARG</td>\n",
              "      <td>2020-12-30</td>\n",
              "      <td>NaN</td>\n",
              "      <td>NaN</td>\n",
              "      <td>NaN</td>\n",
              "      <td>NaN</td>\n",
              "      <td>15656.0</td>\n",
              "      <td>NaN</td>\n",
              "      <td>NaN</td>\n",
              "      <td>NaN</td>\n",
              "      <td>346.0</td>\n",
              "      <td>Sputnik V</td>\n",
              "      <td>Ministry of Health</td>\n",
              "      <td>http://datos.salud.gob.ar/dataset/vacunas-cont...</td>\n",
              "    </tr>\n",
              "    <tr>\n",
              "      <th>2</th>\n",
              "      <td>Argentina</td>\n",
              "      <td>ARG</td>\n",
              "      <td>2020-12-31</td>\n",
              "      <td>32013.0</td>\n",
              "      <td>NaN</td>\n",
              "      <td>NaN</td>\n",
              "      <td>NaN</td>\n",
              "      <td>15656.0</td>\n",
              "      <td>0.07</td>\n",
              "      <td>NaN</td>\n",
              "      <td>NaN</td>\n",
              "      <td>346.0</td>\n",
              "      <td>Sputnik V</td>\n",
              "      <td>Ministry of Health</td>\n",
              "      <td>http://datos.salud.gob.ar/dataset/vacunas-cont...</td>\n",
              "    </tr>\n",
              "    <tr>\n",
              "      <th>3</th>\n",
              "      <td>Argentina</td>\n",
              "      <td>ARG</td>\n",
              "      <td>2021-01-01</td>\n",
              "      <td>NaN</td>\n",
              "      <td>NaN</td>\n",
              "      <td>NaN</td>\n",
              "      <td>NaN</td>\n",
              "      <td>11070.0</td>\n",
              "      <td>NaN</td>\n",
              "      <td>NaN</td>\n",
              "      <td>NaN</td>\n",
              "      <td>245.0</td>\n",
              "      <td>Sputnik V</td>\n",
              "      <td>Ministry of Health</td>\n",
              "      <td>http://datos.salud.gob.ar/dataset/vacunas-cont...</td>\n",
              "    </tr>\n",
              "    <tr>\n",
              "      <th>4</th>\n",
              "      <td>Argentina</td>\n",
              "      <td>ARG</td>\n",
              "      <td>2021-01-02</td>\n",
              "      <td>NaN</td>\n",
              "      <td>NaN</td>\n",
              "      <td>NaN</td>\n",
              "      <td>NaN</td>\n",
              "      <td>8776.0</td>\n",
              "      <td>NaN</td>\n",
              "      <td>NaN</td>\n",
              "      <td>NaN</td>\n",
              "      <td>194.0</td>\n",
              "      <td>Sputnik V</td>\n",
              "      <td>Ministry of Health</td>\n",
              "      <td>http://datos.salud.gob.ar/dataset/vacunas-cont...</td>\n",
              "    </tr>\n",
              "    <tr>\n",
              "      <th>...</th>\n",
              "      <td>...</td>\n",
              "      <td>...</td>\n",
              "      <td>...</td>\n",
              "      <td>...</td>\n",
              "      <td>...</td>\n",
              "      <td>...</td>\n",
              "      <td>...</td>\n",
              "      <td>...</td>\n",
              "      <td>...</td>\n",
              "      <td>...</td>\n",
              "      <td>...</td>\n",
              "      <td>...</td>\n",
              "      <td>...</td>\n",
              "      <td>...</td>\n",
              "      <td>...</td>\n",
              "    </tr>\n",
              "    <tr>\n",
              "      <th>1187</th>\n",
              "      <td>Wales</td>\n",
              "      <td>NaN</td>\n",
              "      <td>2021-01-15</td>\n",
              "      <td>NaN</td>\n",
              "      <td>NaN</td>\n",
              "      <td>NaN</td>\n",
              "      <td>NaN</td>\n",
              "      <td>8468.0</td>\n",
              "      <td>NaN</td>\n",
              "      <td>NaN</td>\n",
              "      <td>NaN</td>\n",
              "      <td>2686.0</td>\n",
              "      <td>Oxford/AstraZeneca, Pfizer/BioNTech</td>\n",
              "      <td>Government of the United Kingdom</td>\n",
              "      <td>https://coronavirus.data.gov.uk/details/health...</td>\n",
              "    </tr>\n",
              "    <tr>\n",
              "      <th>1188</th>\n",
              "      <td>Wales</td>\n",
              "      <td>NaN</td>\n",
              "      <td>2021-01-16</td>\n",
              "      <td>NaN</td>\n",
              "      <td>NaN</td>\n",
              "      <td>NaN</td>\n",
              "      <td>NaN</td>\n",
              "      <td>8935.0</td>\n",
              "      <td>NaN</td>\n",
              "      <td>NaN</td>\n",
              "      <td>NaN</td>\n",
              "      <td>2834.0</td>\n",
              "      <td>Oxford/AstraZeneca, Pfizer/BioNTech</td>\n",
              "      <td>Government of the United Kingdom</td>\n",
              "      <td>https://coronavirus.data.gov.uk/details/health...</td>\n",
              "    </tr>\n",
              "    <tr>\n",
              "      <th>1189</th>\n",
              "      <td>Wales</td>\n",
              "      <td>NaN</td>\n",
              "      <td>2021-01-17</td>\n",
              "      <td>151938.0</td>\n",
              "      <td>151737.0</td>\n",
              "      <td>201.0</td>\n",
              "      <td>NaN</td>\n",
              "      <td>9403.0</td>\n",
              "      <td>4.82</td>\n",
              "      <td>4.81</td>\n",
              "      <td>0.01</td>\n",
              "      <td>2982.0</td>\n",
              "      <td>Oxford/AstraZeneca, Pfizer/BioNTech</td>\n",
              "      <td>Government of the United Kingdom</td>\n",
              "      <td>https://coronavirus.data.gov.uk/details/health...</td>\n",
              "    </tr>\n",
              "    <tr>\n",
              "      <th>1190</th>\n",
              "      <td>Wales</td>\n",
              "      <td>NaN</td>\n",
              "      <td>2021-01-18</td>\n",
              "      <td>162197.0</td>\n",
              "      <td>161932.0</td>\n",
              "      <td>265.0</td>\n",
              "      <td>10259.0</td>\n",
              "      <td>10123.0</td>\n",
              "      <td>5.14</td>\n",
              "      <td>5.14</td>\n",
              "      <td>0.01</td>\n",
              "      <td>3211.0</td>\n",
              "      <td>Oxford/AstraZeneca, Pfizer/BioNTech</td>\n",
              "      <td>Government of the United Kingdom</td>\n",
              "      <td>https://coronavirus.data.gov.uk/details/health...</td>\n",
              "    </tr>\n",
              "    <tr>\n",
              "      <th>1191</th>\n",
              "      <td>Wales</td>\n",
              "      <td>NaN</td>\n",
              "      <td>2021-01-19</td>\n",
              "      <td>176186.0</td>\n",
              "      <td>175816.0</td>\n",
              "      <td>370.0</td>\n",
              "      <td>13989.0</td>\n",
              "      <td>10672.0</td>\n",
              "      <td>5.59</td>\n",
              "      <td>5.58</td>\n",
              "      <td>0.01</td>\n",
              "      <td>3385.0</td>\n",
              "      <td>Oxford/AstraZeneca, Pfizer/BioNTech</td>\n",
              "      <td>Government of the United Kingdom</td>\n",
              "      <td>https://coronavirus.data.gov.uk/details/health...</td>\n",
              "    </tr>\n",
              "  </tbody>\n",
              "</table>\n",
              "<p>1192 rows × 15 columns</p>\n",
              "</div>"
            ],
            "text/plain": [
              "        country  ...                                     source_website\n",
              "0     Argentina  ...  http://datos.salud.gob.ar/dataset/vacunas-cont...\n",
              "1     Argentina  ...  http://datos.salud.gob.ar/dataset/vacunas-cont...\n",
              "2     Argentina  ...  http://datos.salud.gob.ar/dataset/vacunas-cont...\n",
              "3     Argentina  ...  http://datos.salud.gob.ar/dataset/vacunas-cont...\n",
              "4     Argentina  ...  http://datos.salud.gob.ar/dataset/vacunas-cont...\n",
              "...         ...  ...                                                ...\n",
              "1187      Wales  ...  https://coronavirus.data.gov.uk/details/health...\n",
              "1188      Wales  ...  https://coronavirus.data.gov.uk/details/health...\n",
              "1189      Wales  ...  https://coronavirus.data.gov.uk/details/health...\n",
              "1190      Wales  ...  https://coronavirus.data.gov.uk/details/health...\n",
              "1191      Wales  ...  https://coronavirus.data.gov.uk/details/health...\n",
              "\n",
              "[1192 rows x 15 columns]"
            ]
          },
          "metadata": {
            "tags": []
          },
          "execution_count": 58
        }
      ]
    },
    {
      "cell_type": "code",
      "metadata": {
        "colab": {
          "base_uri": "https://localhost:8080/"
        },
        "id": "8fsNruZgFrgM",
        "outputId": "33d37ac9-5154-4c34-99bc-4c1fead827ac"
      },
      "source": [
        "print(vacc.shape)\r\n",
        "print('______________________')\r\n",
        "print(vacc.isna().sum()) \r\n",
        "print('______________________')\r\n",
        "print(vacc.dtypes)\r\n",
        "print('______________________')\r\n",
        "print(vacc.columns)\r\n",
        "\r\n"
      ],
      "execution_count": 59,
      "outputs": [
        {
          "output_type": "stream",
          "text": [
            "(1192, 15)\n",
            "______________________\n",
            "country                                   0\n",
            "iso_code                                145\n",
            "date                                      0\n",
            "total_vaccinations                      442\n",
            "people_vaccinated                       487\n",
            "people_fully_vaccinated                1052\n",
            "daily_vaccinations_raw                  611\n",
            "daily_vaccinations                       56\n",
            "total_vaccinations_per_hundred          442\n",
            "people_vaccinated_per_hundred           487\n",
            "people_fully_vaccinated_per_hundred    1052\n",
            "daily_vaccinations_per_million           56\n",
            "vaccines                                  0\n",
            "source_name                               0\n",
            "source_website                            0\n",
            "dtype: int64\n",
            "______________________\n",
            "country                                 object\n",
            "iso_code                                object\n",
            "date                                    object\n",
            "total_vaccinations                     float64\n",
            "people_vaccinated                      float64\n",
            "people_fully_vaccinated                float64\n",
            "daily_vaccinations_raw                 float64\n",
            "daily_vaccinations                     float64\n",
            "total_vaccinations_per_hundred         float64\n",
            "people_vaccinated_per_hundred          float64\n",
            "people_fully_vaccinated_per_hundred    float64\n",
            "daily_vaccinations_per_million         float64\n",
            "vaccines                                object\n",
            "source_name                             object\n",
            "source_website                          object\n",
            "dtype: object\n",
            "______________________\n",
            "Index(['country', 'iso_code', 'date', 'total_vaccinations',\n",
            "       'people_vaccinated', 'people_fully_vaccinated',\n",
            "       'daily_vaccinations_raw', 'daily_vaccinations',\n",
            "       'total_vaccinations_per_hundred', 'people_vaccinated_per_hundred',\n",
            "       'people_fully_vaccinated_per_hundred', 'daily_vaccinations_per_million',\n",
            "       'vaccines', 'source_name', 'source_website'],\n",
            "      dtype='object')\n"
          ],
          "name": "stdout"
        }
      ]
    },
    {
      "cell_type": "code",
      "metadata": {
        "id": "uP4METveF451",
        "colab": {
          "base_uri": "https://localhost:8080/"
        },
        "outputId": "1af0a7e8-9b17-48fc-ab32-6edcd127bc75"
      },
      "source": [
        "#категориальные признаки   : country,iso_code,date,vaccines,source_name,source_website \r\n",
        "#вывод по типу\r\n",
        "\r\n",
        "for i in range(len(vacc.dtypes)):\r\n",
        "  if (vacc.dtypes[i] == 'object'):\r\n",
        "    print(vacc.columns[i])"
      ],
      "execution_count": 60,
      "outputs": [
        {
          "output_type": "stream",
          "text": [
            "country\n",
            "iso_code\n",
            "date\n",
            "vaccines\n",
            "source_name\n",
            "source_website\n"
          ],
          "name": "stdout"
        }
      ]
    },
    {
      "cell_type": "code",
      "metadata": {
        "colab": {
          "base_uri": "https://localhost:8080/"
        },
        "id": "wBbSqom0JdEd",
        "outputId": "a0d5ec7d-cc85-45e7-905b-8a402403a785"
      },
      "source": [
        "#удаление столбцов с большей половиной пустых значений\r\n",
        "stolbc = ['country', 'iso_code', 'date', 'total_vaccinations',\r\n",
        "       'people_vaccinated', 'people_fully_vaccinated',\r\n",
        "       'daily_vaccinations_raw', 'daily_vaccinations',\r\n",
        "       'total_vaccinations_per_hundred', 'people_vaccinated_per_hundred',\r\n",
        "       'people_fully_vaccinated_per_hundred', 'daily_vaccinations_per_million',\r\n",
        "       'vaccines', 'source_name', 'source_website']\r\n",
        "\r\n",
        "for i in stolbc:\r\n",
        "  if (vacc[i].isna().sum() > 1192/2):  \r\n",
        "    vacc = vacc.drop([i], axis = 1)\r\n",
        "  \r\n",
        "#print(vacc.shape)\r\n",
        "print(vacc)"
      ],
      "execution_count": 61,
      "outputs": [
        {
          "output_type": "stream",
          "text": [
            "        country  ...                                     source_website\n",
            "0     Argentina  ...  http://datos.salud.gob.ar/dataset/vacunas-cont...\n",
            "1     Argentina  ...  http://datos.salud.gob.ar/dataset/vacunas-cont...\n",
            "2     Argentina  ...  http://datos.salud.gob.ar/dataset/vacunas-cont...\n",
            "3     Argentina  ...  http://datos.salud.gob.ar/dataset/vacunas-cont...\n",
            "4     Argentina  ...  http://datos.salud.gob.ar/dataset/vacunas-cont...\n",
            "...         ...  ...                                                ...\n",
            "1187      Wales  ...  https://coronavirus.data.gov.uk/details/health...\n",
            "1188      Wales  ...  https://coronavirus.data.gov.uk/details/health...\n",
            "1189      Wales  ...  https://coronavirus.data.gov.uk/details/health...\n",
            "1190      Wales  ...  https://coronavirus.data.gov.uk/details/health...\n",
            "1191      Wales  ...  https://coronavirus.data.gov.uk/details/health...\n",
            "\n",
            "[1192 rows x 12 columns]\n"
          ],
          "name": "stdout"
        }
      ]
    },
    {
      "cell_type": "code",
      "metadata": {
        "id": "DVf8EleRXOsh"
      },
      "source": [
        "vacc"
      ],
      "execution_count": null,
      "outputs": []
    },
    {
      "cell_type": "code",
      "metadata": {
        "colab": {
          "base_uri": "https://localhost:8080/"
        },
        "id": "BT1U5bcPPPHT",
        "outputId": "1495d3ce-3d01-4c38-decb-8da18357a027"
      },
      "source": [
        "#средние значения у числовых признаков\r\n",
        "vacc[vacc['total_vaccinations'].isna()] = vacc['total_vaccinations'].mean()\r\n",
        "vacc[vacc['people_vaccinated'].isna()] = vacc['people_vaccinated'].mean()\r\n",
        "vacc[vacc['daily_vaccinations'].isna()] = vacc['daily_vaccinations'].mean()\r\n",
        "vacc[vacc['total_vaccinations_per_hundred'].isna()] = vacc['total_vaccinations_per_hundred'].mean()\r\n",
        "vacc[vacc['people_vaccinated_per_hundred'].isna()] = vacc['people_vaccinated_per_hundred'].mean()\r\n",
        "vacc[vacc['daily_vaccinations_per_million'].isna()] = vacc['daily_vaccinations_per_million'].mean()\r\n",
        " \r\n",
        "#удаление строк с пустыми значениями\r\n",
        "vacc = vacc.drop(vacc.loc[vacc['iso_code'].isna()].index, axis=0)\r\n",
        "\r\n",
        "print(vacc.isna().sum())"
      ],
      "execution_count": 63,
      "outputs": [
        {
          "output_type": "stream",
          "text": [
            "country                           0\n",
            "iso_code                          0\n",
            "date                              0\n",
            "total_vaccinations                0\n",
            "people_vaccinated                 0\n",
            "daily_vaccinations                0\n",
            "total_vaccinations_per_hundred    0\n",
            "people_vaccinated_per_hundred     0\n",
            "daily_vaccinations_per_million    0\n",
            "vaccines                          0\n",
            "source_name                       0\n",
            "source_website                    0\n",
            "dtype: int64\n"
          ],
          "name": "stdout"
        }
      ]
    },
    {
      "cell_type": "code",
      "metadata": {
        "colab": {
          "base_uri": "https://localhost:8080/"
        },
        "id": "jg7Xs-tIVK8u",
        "outputId": "e02cbdae-2191-4120-aa05-701a1be0bf97"
      },
      "source": [
        "#вакцины\r\n",
        "print(vacc['vaccines'].value_counts())\r\n",
        "\r\n",
        "print('___________')\r\n",
        "print('')\r\n",
        "#источники вакцинирования\r\n",
        "print(vacc['source_name'].unique())\r\n"
      ],
      "execution_count": 71,
      "outputs": [
        {
          "output_type": "stream",
          "text": [
            "499477.50933333335                     442\n",
            "Pfizer/BioNTech                        394\n",
            "Moderna, Pfizer/BioNTech               137\n",
            "229173.41894023668                      51\n",
            "437020.9085661107                       45\n",
            "Pfizer/BioNTech, Sinopharm              38\n",
            "Oxford/AstraZeneca, Pfizer/BioNTech     12\n",
            "Sinovac                                 11\n",
            "Covaxin, Covishield                      4\n",
            "Sputnik V                                4\n",
            "CNBG, Sinovac                            4\n",
            "Sinopharm                                3\n",
            "Name: vaccines, dtype: int64\n",
            "___________\n",
            "\n",
            "[437020.9085661107 499477.50933333335 'Ministry of Health'\n",
            " 229173.41894023668 'Sciensano'\n",
            " 'Regional governments via Coronavirus Brasil'\n",
            " 'COVID-19 Canada Open Data Working Group'\n",
            " 'Department of Statistics and Health Information'\n",
            " 'National Health Commission' 'Statens Serum Institut'\n",
            " 'National Health Board' 'THL via Helsingin Sanomat'\n",
            " 'Robert Koch Institut' 'Government of Gibraltar' 'Government of Hungary'\n",
            " 'Directorate of Health' 'Heath Service Executive' 'Government of Israel'\n",
            " 'Extraordinary commissioner for the Covid-19 emergency'\n",
            " 'National Health Service' 'Government of Luxembourg'\n",
            " 'Secretary of Health'\n",
            " 'National Institute for Public Health and the Environment'\n",
            " 'Norwegian Institute of Public Health' 'Government of Romania'\n",
            " 'Russian Direct Investment Fund' 'Saudi Health Council'\n",
            " 'Government of Serbia' 'Extended Programme for Immunisation'\n",
            " 'National Institute of Public Health, via Sledilnik'\n",
            " 'Public Health Agency of Sweden' 'Federal Office of Public Health'\n",
            " 'COVID-19 Vaccine Information Platform'\n",
            " 'National Emergency Crisis and Disaster Management Authority'\n",
            " 'Government of the United Kingdom'\n",
            " 'Centers for Disease Control and Prevention']\n"
          ],
          "name": "stdout"
        }
      ]
    }
  ]
}