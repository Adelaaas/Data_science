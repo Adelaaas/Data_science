{
  "nbformat": 4,
  "nbformat_minor": 0,
  "metadata": {
    "colab": {
      "name": "Дынник.ipynb",
      "provenance": [],
      "collapsed_sections": [
        "-nM3ENHkkqjp",
        "HJsyc6oXkyJr",
        "BT_onV9lk0iE",
        "XLUdJxapk2lC",
        "9gnmp6pUk4p9",
        "8crbzmNvk69Y",
        "X-BgRUc_k830",
        "cQJbA9idk_F_",
        "m5KeLU4klBRS",
        "-A1e-3h4lDdF",
        "aPoBDhVhlGiX",
        "mUOlbTojlIrw",
        "iJfsKAgQlKxD",
        "1ryYwcBNlMjp"
      ]
    },
    "kernelspec": {
      "name": "python3",
      "display_name": "Python 3"
    }
  },
  "cells": [
    {
      "cell_type": "code",
      "metadata": {
        "id": "7FpZ1FGPa-Yt"
      },
      "source": [
        "import pandas as pd\n",
        "import numpy as np\n",
        "from sklearn.preprocessing import LabelEncoder\n",
        "from sklearn import preprocessing \n",
        "import pandas as pd\n",
        "import numpy as np\n",
        "from sklearn.linear_model import LogisticRegression\n",
        "from sklearn.model_selection import train_test_split\n",
        "from sklearn.preprocessing import StandardScaler\n",
        "from sklearn.model_selection import cross_val_score\n",
        "from sklearn.model_selection import KFold\n",
        "from sklearn.metrics import accuracy_score\n",
        "from sklearn.metrics import recall_score\n",
        "from sklearn.metrics import precision_score\n",
        "from sklearn.tree import DecisionTreeClassifier\n",
        "from sklearn.preprocessing import MinMaxScaler\n",
        "from sklearn.metrics import confusion_matrix\n",
        "from sklearn.neighbors import KNeighborsClassifier\n",
        "from sklearn.svm import SVC"
      ],
      "execution_count": null,
      "outputs": []
    },
    {
      "cell_type": "code",
      "metadata": {
        "colab": {
          "resources": {
            "http://localhost:8080/nbextensions/google.colab/files.js": {
              "data": "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",
              "ok": true,
              "headers": [
                [
                  "content-type",
                  "application/javascript"
                ]
              ],
              "status": 200,
              "status_text": ""
            }
          },
          "base_uri": "https://localhost:8080/",
          "height": 72
        },
        "id": "E75AnIkLbOuq",
        "outputId": "3ab4438f-73d6-4a98-e223-aab0561df0e1"
      },
      "source": [
        "from google.colab import files\n",
        "uploaded = files.upload()"
      ],
      "execution_count": null,
      "outputs": [
        {
          "output_type": "display_data",
          "data": {
            "text/html": [
              "\n",
              "     <input type=\"file\" id=\"files-ef50f194-7603-4d9e-8898-d246cdaa2760\" name=\"files[]\" multiple disabled\n",
              "        style=\"border:none\" />\n",
              "     <output id=\"result-ef50f194-7603-4d9e-8898-d246cdaa2760\">\n",
              "      Upload widget is only available when the cell has been executed in the\n",
              "      current browser session. Please rerun this cell to enable.\n",
              "      </output>\n",
              "      <script src=\"/nbextensions/google.colab/files.js\"></script> "
            ],
            "text/plain": [
              "<IPython.core.display.HTML object>"
            ]
          },
          "metadata": {
            "tags": []
          }
        },
        {
          "output_type": "stream",
          "text": [
            "Saving Train.csv to Train.csv\n"
          ],
          "name": "stdout"
        }
      ]
    },
    {
      "cell_type": "code",
      "metadata": {
        "colab": {
          "base_uri": "https://localhost:8080/",
          "height": 419
        },
        "id": "7z2x0IvCbPup",
        "outputId": "2656a6cf-8a3c-4cfd-8d4f-bd70b31ad1bb"
      },
      "source": [
        "df = pd.read_csv('Train.csv')\n",
        "df"
      ],
      "execution_count": null,
      "outputs": [
        {
          "output_type": "execute_result",
          "data": {
            "text/html": [
              "<div>\n",
              "<style scoped>\n",
              "    .dataframe tbody tr th:only-of-type {\n",
              "        vertical-align: middle;\n",
              "    }\n",
              "\n",
              "    .dataframe tbody tr th {\n",
              "        vertical-align: top;\n",
              "    }\n",
              "\n",
              "    .dataframe thead th {\n",
              "        text-align: right;\n",
              "    }\n",
              "</style>\n",
              "<table border=\"1\" class=\"dataframe\">\n",
              "  <thead>\n",
              "    <tr style=\"text-align: right;\">\n",
              "      <th></th>\n",
              "      <th>ID</th>\n",
              "      <th>Gender</th>\n",
              "      <th>Ever_Married</th>\n",
              "      <th>Age</th>\n",
              "      <th>Graduated</th>\n",
              "      <th>Profession</th>\n",
              "      <th>Work_Experience</th>\n",
              "      <th>Spending_Score</th>\n",
              "      <th>Family_Size</th>\n",
              "      <th>Var_1</th>\n",
              "      <th>Segmentation</th>\n",
              "    </tr>\n",
              "  </thead>\n",
              "  <tbody>\n",
              "    <tr>\n",
              "      <th>0</th>\n",
              "      <td>462809</td>\n",
              "      <td>Male</td>\n",
              "      <td>No</td>\n",
              "      <td>22</td>\n",
              "      <td>No</td>\n",
              "      <td>Healthcare</td>\n",
              "      <td>1.0</td>\n",
              "      <td>Low</td>\n",
              "      <td>4.0</td>\n",
              "      <td>Cat_4</td>\n",
              "      <td>D</td>\n",
              "    </tr>\n",
              "    <tr>\n",
              "      <th>1</th>\n",
              "      <td>462643</td>\n",
              "      <td>Female</td>\n",
              "      <td>Yes</td>\n",
              "      <td>38</td>\n",
              "      <td>Yes</td>\n",
              "      <td>Engineer</td>\n",
              "      <td>NaN</td>\n",
              "      <td>Average</td>\n",
              "      <td>3.0</td>\n",
              "      <td>Cat_4</td>\n",
              "      <td>A</td>\n",
              "    </tr>\n",
              "    <tr>\n",
              "      <th>2</th>\n",
              "      <td>466315</td>\n",
              "      <td>Female</td>\n",
              "      <td>Yes</td>\n",
              "      <td>67</td>\n",
              "      <td>Yes</td>\n",
              "      <td>Engineer</td>\n",
              "      <td>1.0</td>\n",
              "      <td>Low</td>\n",
              "      <td>1.0</td>\n",
              "      <td>Cat_6</td>\n",
              "      <td>B</td>\n",
              "    </tr>\n",
              "    <tr>\n",
              "      <th>3</th>\n",
              "      <td>461735</td>\n",
              "      <td>Male</td>\n",
              "      <td>Yes</td>\n",
              "      <td>67</td>\n",
              "      <td>Yes</td>\n",
              "      <td>Lawyer</td>\n",
              "      <td>0.0</td>\n",
              "      <td>High</td>\n",
              "      <td>2.0</td>\n",
              "      <td>Cat_6</td>\n",
              "      <td>B</td>\n",
              "    </tr>\n",
              "    <tr>\n",
              "      <th>4</th>\n",
              "      <td>462669</td>\n",
              "      <td>Female</td>\n",
              "      <td>Yes</td>\n",
              "      <td>40</td>\n",
              "      <td>Yes</td>\n",
              "      <td>Entertainment</td>\n",
              "      <td>NaN</td>\n",
              "      <td>High</td>\n",
              "      <td>6.0</td>\n",
              "      <td>Cat_6</td>\n",
              "      <td>A</td>\n",
              "    </tr>\n",
              "    <tr>\n",
              "      <th>...</th>\n",
              "      <td>...</td>\n",
              "      <td>...</td>\n",
              "      <td>...</td>\n",
              "      <td>...</td>\n",
              "      <td>...</td>\n",
              "      <td>...</td>\n",
              "      <td>...</td>\n",
              "      <td>...</td>\n",
              "      <td>...</td>\n",
              "      <td>...</td>\n",
              "      <td>...</td>\n",
              "    </tr>\n",
              "    <tr>\n",
              "      <th>8063</th>\n",
              "      <td>464018</td>\n",
              "      <td>Male</td>\n",
              "      <td>No</td>\n",
              "      <td>22</td>\n",
              "      <td>No</td>\n",
              "      <td>NaN</td>\n",
              "      <td>0.0</td>\n",
              "      <td>Low</td>\n",
              "      <td>7.0</td>\n",
              "      <td>Cat_1</td>\n",
              "      <td>D</td>\n",
              "    </tr>\n",
              "    <tr>\n",
              "      <th>8064</th>\n",
              "      <td>464685</td>\n",
              "      <td>Male</td>\n",
              "      <td>No</td>\n",
              "      <td>35</td>\n",
              "      <td>No</td>\n",
              "      <td>Executive</td>\n",
              "      <td>3.0</td>\n",
              "      <td>Low</td>\n",
              "      <td>4.0</td>\n",
              "      <td>Cat_4</td>\n",
              "      <td>D</td>\n",
              "    </tr>\n",
              "    <tr>\n",
              "      <th>8065</th>\n",
              "      <td>465406</td>\n",
              "      <td>Female</td>\n",
              "      <td>No</td>\n",
              "      <td>33</td>\n",
              "      <td>Yes</td>\n",
              "      <td>Healthcare</td>\n",
              "      <td>1.0</td>\n",
              "      <td>Low</td>\n",
              "      <td>1.0</td>\n",
              "      <td>Cat_6</td>\n",
              "      <td>D</td>\n",
              "    </tr>\n",
              "    <tr>\n",
              "      <th>8066</th>\n",
              "      <td>467299</td>\n",
              "      <td>Female</td>\n",
              "      <td>No</td>\n",
              "      <td>27</td>\n",
              "      <td>Yes</td>\n",
              "      <td>Healthcare</td>\n",
              "      <td>1.0</td>\n",
              "      <td>Low</td>\n",
              "      <td>4.0</td>\n",
              "      <td>Cat_6</td>\n",
              "      <td>B</td>\n",
              "    </tr>\n",
              "    <tr>\n",
              "      <th>8067</th>\n",
              "      <td>461879</td>\n",
              "      <td>Male</td>\n",
              "      <td>Yes</td>\n",
              "      <td>37</td>\n",
              "      <td>Yes</td>\n",
              "      <td>Executive</td>\n",
              "      <td>0.0</td>\n",
              "      <td>Average</td>\n",
              "      <td>3.0</td>\n",
              "      <td>Cat_4</td>\n",
              "      <td>B</td>\n",
              "    </tr>\n",
              "  </tbody>\n",
              "</table>\n",
              "<p>8068 rows × 11 columns</p>\n",
              "</div>"
            ],
            "text/plain": [
              "          ID  Gender Ever_Married  ...  Family_Size  Var_1 Segmentation\n",
              "0     462809    Male           No  ...          4.0  Cat_4            D\n",
              "1     462643  Female          Yes  ...          3.0  Cat_4            A\n",
              "2     466315  Female          Yes  ...          1.0  Cat_6            B\n",
              "3     461735    Male          Yes  ...          2.0  Cat_6            B\n",
              "4     462669  Female          Yes  ...          6.0  Cat_6            A\n",
              "...      ...     ...          ...  ...          ...    ...          ...\n",
              "8063  464018    Male           No  ...          7.0  Cat_1            D\n",
              "8064  464685    Male           No  ...          4.0  Cat_4            D\n",
              "8065  465406  Female           No  ...          1.0  Cat_6            D\n",
              "8066  467299  Female           No  ...          4.0  Cat_6            B\n",
              "8067  461879    Male          Yes  ...          3.0  Cat_4            B\n",
              "\n",
              "[8068 rows x 11 columns]"
            ]
          },
          "metadata": {
            "tags": []
          },
          "execution_count": 4
        }
      ]
    },
    {
      "cell_type": "code",
      "metadata": {
        "colab": {
          "base_uri": "https://localhost:8080/"
        },
        "id": "iu8v_yxYboaD",
        "outputId": "996b353b-264a-4493-a106-d84a83ed2aa8"
      },
      "source": [
        "df.isna().sum()"
      ],
      "execution_count": null,
      "outputs": [
        {
          "output_type": "execute_result",
          "data": {
            "text/plain": [
              "ID                   0\n",
              "Gender               0\n",
              "Ever_Married       140\n",
              "Age                  0\n",
              "Graduated           78\n",
              "Profession         124\n",
              "Work_Experience    829\n",
              "Spending_Score       0\n",
              "Family_Size        335\n",
              "Var_1               76\n",
              "Segmentation         0\n",
              "dtype: int64"
            ]
          },
          "metadata": {
            "tags": []
          },
          "execution_count": 5
        }
      ]
    },
    {
      "cell_type": "markdown",
      "metadata": {
        "id": "7k87SPT2gyuG"
      },
      "source": [
        "Размер семьи может зависить от фактора брака. Если люди в браке, то семья больше так как в браке будут дети."
      ]
    },
    {
      "cell_type": "code",
      "metadata": {
        "colab": {
          "base_uri": "https://localhost:8080/"
        },
        "id": "NQtDcDmJcQaS",
        "outputId": "22fe0479-ef6e-4667-f282-268aa36a5c8d"
      },
      "source": [
        "mean_ever_married_true = df.groupby('Ever_Married').mean()['Family_Size'].round().loc['Yes']\n",
        "mean_ever_married_false = df.groupby('Ever_Married').mean()['Family_Size'].round().loc['No']\n",
        "print (mean_ever_married_true, mean_ever_married_false)"
      ],
      "execution_count": null,
      "outputs": [
        {
          "output_type": "stream",
          "text": [
            "3.0 3.0\n"
          ],
          "name": "stdout"
        }
      ]
    },
    {
      "cell_type": "markdown",
      "metadata": {
        "id": "rOLHF4WlhOmV"
      },
      "source": [
        "Видим, что значения одинаковые, следовательно нет смысла групировать по фактору брака. Тогда запишим вместо пустых значений просто среднее значение (3.0)."
      ]
    },
    {
      "cell_type": "code",
      "metadata": {
        "id": "T1Kf9aBpiCAV"
      },
      "source": [
        "df['Family_Size'] = df['Family_Size'].fillna(3.0)"
      ],
      "execution_count": null,
      "outputs": []
    },
    {
      "cell_type": "markdown",
      "metadata": {
        "id": "9kbVEk-NliC5"
      },
      "source": [
        "Посмотрим сколько каких значений в столбце Segmentation"
      ]
    },
    {
      "cell_type": "code",
      "metadata": {
        "colab": {
          "base_uri": "https://localhost:8080/"
        },
        "id": "YZrTYx7jlY-8",
        "outputId": "52054922-6838-4a17-d0cf-64fb5d9513c5"
      },
      "source": [
        "df['Segmentation'].value_counts()"
      ],
      "execution_count": null,
      "outputs": [
        {
          "output_type": "execute_result",
          "data": {
            "text/plain": [
              "D    2268\n",
              "A    1972\n",
              "C    1970\n",
              "B    1858\n",
              "Name: Segmentation, dtype: int64"
            ]
          },
          "metadata": {
            "tags": []
          },
          "execution_count": 8
        }
      ]
    },
    {
      "cell_type": "markdown",
      "metadata": {
        "id": "khuvzVIppeFD"
      },
      "source": [
        "Заменим категориальные признаки в столбце Segmentation"
      ]
    },
    {
      "cell_type": "code",
      "metadata": {
        "id": "90r4xQKcm7Pp"
      },
      "source": [
        "label_encoder = preprocessing.LabelEncoder() \n",
        "label_encoder.fit(df['Segmentation'])\n",
        "df['Segmentation'] = label_encoder.transform(df['Segmentation']) "
      ],
      "execution_count": null,
      "outputs": []
    },
    {
      "cell_type": "code",
      "metadata": {
        "colab": {
          "base_uri": "https://localhost:8080/",
          "height": 419
        },
        "id": "fsKKXXYpoGVF",
        "outputId": "e4aff043-5ada-4342-bec0-c28007bd7eab"
      },
      "source": [
        "df"
      ],
      "execution_count": null,
      "outputs": [
        {
          "output_type": "execute_result",
          "data": {
            "text/html": [
              "<div>\n",
              "<style scoped>\n",
              "    .dataframe tbody tr th:only-of-type {\n",
              "        vertical-align: middle;\n",
              "    }\n",
              "\n",
              "    .dataframe tbody tr th {\n",
              "        vertical-align: top;\n",
              "    }\n",
              "\n",
              "    .dataframe thead th {\n",
              "        text-align: right;\n",
              "    }\n",
              "</style>\n",
              "<table border=\"1\" class=\"dataframe\">\n",
              "  <thead>\n",
              "    <tr style=\"text-align: right;\">\n",
              "      <th></th>\n",
              "      <th>ID</th>\n",
              "      <th>Gender</th>\n",
              "      <th>Ever_Married</th>\n",
              "      <th>Age</th>\n",
              "      <th>Graduated</th>\n",
              "      <th>Profession</th>\n",
              "      <th>Work_Experience</th>\n",
              "      <th>Spending_Score</th>\n",
              "      <th>Family_Size</th>\n",
              "      <th>Var_1</th>\n",
              "      <th>Segmentation</th>\n",
              "    </tr>\n",
              "  </thead>\n",
              "  <tbody>\n",
              "    <tr>\n",
              "      <th>0</th>\n",
              "      <td>462809</td>\n",
              "      <td>Male</td>\n",
              "      <td>No</td>\n",
              "      <td>22</td>\n",
              "      <td>No</td>\n",
              "      <td>Healthcare</td>\n",
              "      <td>1.0</td>\n",
              "      <td>Low</td>\n",
              "      <td>4.0</td>\n",
              "      <td>Cat_4</td>\n",
              "      <td>3</td>\n",
              "    </tr>\n",
              "    <tr>\n",
              "      <th>1</th>\n",
              "      <td>462643</td>\n",
              "      <td>Female</td>\n",
              "      <td>Yes</td>\n",
              "      <td>38</td>\n",
              "      <td>Yes</td>\n",
              "      <td>Engineer</td>\n",
              "      <td>NaN</td>\n",
              "      <td>Average</td>\n",
              "      <td>3.0</td>\n",
              "      <td>Cat_4</td>\n",
              "      <td>0</td>\n",
              "    </tr>\n",
              "    <tr>\n",
              "      <th>2</th>\n",
              "      <td>466315</td>\n",
              "      <td>Female</td>\n",
              "      <td>Yes</td>\n",
              "      <td>67</td>\n",
              "      <td>Yes</td>\n",
              "      <td>Engineer</td>\n",
              "      <td>1.0</td>\n",
              "      <td>Low</td>\n",
              "      <td>1.0</td>\n",
              "      <td>Cat_6</td>\n",
              "      <td>1</td>\n",
              "    </tr>\n",
              "    <tr>\n",
              "      <th>3</th>\n",
              "      <td>461735</td>\n",
              "      <td>Male</td>\n",
              "      <td>Yes</td>\n",
              "      <td>67</td>\n",
              "      <td>Yes</td>\n",
              "      <td>Lawyer</td>\n",
              "      <td>0.0</td>\n",
              "      <td>High</td>\n",
              "      <td>2.0</td>\n",
              "      <td>Cat_6</td>\n",
              "      <td>1</td>\n",
              "    </tr>\n",
              "    <tr>\n",
              "      <th>4</th>\n",
              "      <td>462669</td>\n",
              "      <td>Female</td>\n",
              "      <td>Yes</td>\n",
              "      <td>40</td>\n",
              "      <td>Yes</td>\n",
              "      <td>Entertainment</td>\n",
              "      <td>NaN</td>\n",
              "      <td>High</td>\n",
              "      <td>6.0</td>\n",
              "      <td>Cat_6</td>\n",
              "      <td>0</td>\n",
              "    </tr>\n",
              "    <tr>\n",
              "      <th>...</th>\n",
              "      <td>...</td>\n",
              "      <td>...</td>\n",
              "      <td>...</td>\n",
              "      <td>...</td>\n",
              "      <td>...</td>\n",
              "      <td>...</td>\n",
              "      <td>...</td>\n",
              "      <td>...</td>\n",
              "      <td>...</td>\n",
              "      <td>...</td>\n",
              "      <td>...</td>\n",
              "    </tr>\n",
              "    <tr>\n",
              "      <th>8063</th>\n",
              "      <td>464018</td>\n",
              "      <td>Male</td>\n",
              "      <td>No</td>\n",
              "      <td>22</td>\n",
              "      <td>No</td>\n",
              "      <td>NaN</td>\n",
              "      <td>0.0</td>\n",
              "      <td>Low</td>\n",
              "      <td>7.0</td>\n",
              "      <td>Cat_1</td>\n",
              "      <td>3</td>\n",
              "    </tr>\n",
              "    <tr>\n",
              "      <th>8064</th>\n",
              "      <td>464685</td>\n",
              "      <td>Male</td>\n",
              "      <td>No</td>\n",
              "      <td>35</td>\n",
              "      <td>No</td>\n",
              "      <td>Executive</td>\n",
              "      <td>3.0</td>\n",
              "      <td>Low</td>\n",
              "      <td>4.0</td>\n",
              "      <td>Cat_4</td>\n",
              "      <td>3</td>\n",
              "    </tr>\n",
              "    <tr>\n",
              "      <th>8065</th>\n",
              "      <td>465406</td>\n",
              "      <td>Female</td>\n",
              "      <td>No</td>\n",
              "      <td>33</td>\n",
              "      <td>Yes</td>\n",
              "      <td>Healthcare</td>\n",
              "      <td>1.0</td>\n",
              "      <td>Low</td>\n",
              "      <td>1.0</td>\n",
              "      <td>Cat_6</td>\n",
              "      <td>3</td>\n",
              "    </tr>\n",
              "    <tr>\n",
              "      <th>8066</th>\n",
              "      <td>467299</td>\n",
              "      <td>Female</td>\n",
              "      <td>No</td>\n",
              "      <td>27</td>\n",
              "      <td>Yes</td>\n",
              "      <td>Healthcare</td>\n",
              "      <td>1.0</td>\n",
              "      <td>Low</td>\n",
              "      <td>4.0</td>\n",
              "      <td>Cat_6</td>\n",
              "      <td>1</td>\n",
              "    </tr>\n",
              "    <tr>\n",
              "      <th>8067</th>\n",
              "      <td>461879</td>\n",
              "      <td>Male</td>\n",
              "      <td>Yes</td>\n",
              "      <td>37</td>\n",
              "      <td>Yes</td>\n",
              "      <td>Executive</td>\n",
              "      <td>0.0</td>\n",
              "      <td>Average</td>\n",
              "      <td>3.0</td>\n",
              "      <td>Cat_4</td>\n",
              "      <td>1</td>\n",
              "    </tr>\n",
              "  </tbody>\n",
              "</table>\n",
              "<p>8068 rows × 11 columns</p>\n",
              "</div>"
            ],
            "text/plain": [
              "          ID  Gender Ever_Married  ...  Family_Size  Var_1 Segmentation\n",
              "0     462809    Male           No  ...          4.0  Cat_4            3\n",
              "1     462643  Female          Yes  ...          3.0  Cat_4            0\n",
              "2     466315  Female          Yes  ...          1.0  Cat_6            1\n",
              "3     461735    Male          Yes  ...          2.0  Cat_6            1\n",
              "4     462669  Female          Yes  ...          6.0  Cat_6            0\n",
              "...      ...     ...          ...  ...          ...    ...          ...\n",
              "8063  464018    Male           No  ...          7.0  Cat_1            3\n",
              "8064  464685    Male           No  ...          4.0  Cat_4            3\n",
              "8065  465406  Female           No  ...          1.0  Cat_6            3\n",
              "8066  467299  Female           No  ...          4.0  Cat_6            1\n",
              "8067  461879    Male          Yes  ...          3.0  Cat_4            1\n",
              "\n",
              "[8068 rows x 11 columns]"
            ]
          },
          "metadata": {
            "tags": []
          },
          "execution_count": 10
        }
      ]
    },
    {
      "cell_type": "code",
      "metadata": {
        "id": "j56c053Jwhrm"
      },
      "source": [
        "label_encoder = preprocessing.LabelEncoder() \n",
        "label_encoder.fit(df['Segmentation'])\n",
        "df['Segmentation'] = label_encoder.transform(df['Segmentation']) "
      ],
      "execution_count": null,
      "outputs": []
    },
    {
      "cell_type": "markdown",
      "metadata": {
        "id": "AiL-5aaSDR6j"
      },
      "source": [
        "Заменим ещё в нескольких столбцах категориальные признаки"
      ]
    },
    {
      "cell_type": "code",
      "metadata": {
        "colab": {
          "base_uri": "https://localhost:8080/"
        },
        "id": "GfZqkz_VpvvS",
        "outputId": "f2d32ded-b562-4fd8-8f0f-10e2692300d9"
      },
      "source": [
        "df['Spending_Score'].value_counts()"
      ],
      "execution_count": null,
      "outputs": [
        {
          "output_type": "execute_result",
          "data": {
            "text/plain": [
              "Low        4878\n",
              "Average    1974\n",
              "High       1216\n",
              "Name: Spending_Score, dtype: int64"
            ]
          },
          "metadata": {
            "tags": []
          },
          "execution_count": 12
        }
      ]
    },
    {
      "cell_type": "code",
      "metadata": {
        "colab": {
          "base_uri": "https://localhost:8080/",
          "height": 419
        },
        "id": "llYaD4BuDiN0",
        "outputId": "af4c38a3-73c0-4df3-cbc1-42426a244df6"
      },
      "source": [
        "label_encoder = preprocessing.LabelEncoder() \n",
        "label_encoder.fit(df['Spending_Score'])\n",
        "df['Spending_Score'] = label_encoder.transform(df['Spending_Score']) \n",
        "df"
      ],
      "execution_count": null,
      "outputs": [
        {
          "output_type": "execute_result",
          "data": {
            "text/html": [
              "<div>\n",
              "<style scoped>\n",
              "    .dataframe tbody tr th:only-of-type {\n",
              "        vertical-align: middle;\n",
              "    }\n",
              "\n",
              "    .dataframe tbody tr th {\n",
              "        vertical-align: top;\n",
              "    }\n",
              "\n",
              "    .dataframe thead th {\n",
              "        text-align: right;\n",
              "    }\n",
              "</style>\n",
              "<table border=\"1\" class=\"dataframe\">\n",
              "  <thead>\n",
              "    <tr style=\"text-align: right;\">\n",
              "      <th></th>\n",
              "      <th>ID</th>\n",
              "      <th>Gender</th>\n",
              "      <th>Ever_Married</th>\n",
              "      <th>Age</th>\n",
              "      <th>Graduated</th>\n",
              "      <th>Profession</th>\n",
              "      <th>Work_Experience</th>\n",
              "      <th>Spending_Score</th>\n",
              "      <th>Family_Size</th>\n",
              "      <th>Var_1</th>\n",
              "      <th>Segmentation</th>\n",
              "    </tr>\n",
              "  </thead>\n",
              "  <tbody>\n",
              "    <tr>\n",
              "      <th>0</th>\n",
              "      <td>462809</td>\n",
              "      <td>Male</td>\n",
              "      <td>No</td>\n",
              "      <td>22</td>\n",
              "      <td>No</td>\n",
              "      <td>Healthcare</td>\n",
              "      <td>1.0</td>\n",
              "      <td>2</td>\n",
              "      <td>4.0</td>\n",
              "      <td>Cat_4</td>\n",
              "      <td>3</td>\n",
              "    </tr>\n",
              "    <tr>\n",
              "      <th>1</th>\n",
              "      <td>462643</td>\n",
              "      <td>Female</td>\n",
              "      <td>Yes</td>\n",
              "      <td>38</td>\n",
              "      <td>Yes</td>\n",
              "      <td>Engineer</td>\n",
              "      <td>NaN</td>\n",
              "      <td>0</td>\n",
              "      <td>3.0</td>\n",
              "      <td>Cat_4</td>\n",
              "      <td>0</td>\n",
              "    </tr>\n",
              "    <tr>\n",
              "      <th>2</th>\n",
              "      <td>466315</td>\n",
              "      <td>Female</td>\n",
              "      <td>Yes</td>\n",
              "      <td>67</td>\n",
              "      <td>Yes</td>\n",
              "      <td>Engineer</td>\n",
              "      <td>1.0</td>\n",
              "      <td>2</td>\n",
              "      <td>1.0</td>\n",
              "      <td>Cat_6</td>\n",
              "      <td>1</td>\n",
              "    </tr>\n",
              "    <tr>\n",
              "      <th>3</th>\n",
              "      <td>461735</td>\n",
              "      <td>Male</td>\n",
              "      <td>Yes</td>\n",
              "      <td>67</td>\n",
              "      <td>Yes</td>\n",
              "      <td>Lawyer</td>\n",
              "      <td>0.0</td>\n",
              "      <td>1</td>\n",
              "      <td>2.0</td>\n",
              "      <td>Cat_6</td>\n",
              "      <td>1</td>\n",
              "    </tr>\n",
              "    <tr>\n",
              "      <th>4</th>\n",
              "      <td>462669</td>\n",
              "      <td>Female</td>\n",
              "      <td>Yes</td>\n",
              "      <td>40</td>\n",
              "      <td>Yes</td>\n",
              "      <td>Entertainment</td>\n",
              "      <td>NaN</td>\n",
              "      <td>1</td>\n",
              "      <td>6.0</td>\n",
              "      <td>Cat_6</td>\n",
              "      <td>0</td>\n",
              "    </tr>\n",
              "    <tr>\n",
              "      <th>...</th>\n",
              "      <td>...</td>\n",
              "      <td>...</td>\n",
              "      <td>...</td>\n",
              "      <td>...</td>\n",
              "      <td>...</td>\n",
              "      <td>...</td>\n",
              "      <td>...</td>\n",
              "      <td>...</td>\n",
              "      <td>...</td>\n",
              "      <td>...</td>\n",
              "      <td>...</td>\n",
              "    </tr>\n",
              "    <tr>\n",
              "      <th>8063</th>\n",
              "      <td>464018</td>\n",
              "      <td>Male</td>\n",
              "      <td>No</td>\n",
              "      <td>22</td>\n",
              "      <td>No</td>\n",
              "      <td>NaN</td>\n",
              "      <td>0.0</td>\n",
              "      <td>2</td>\n",
              "      <td>7.0</td>\n",
              "      <td>Cat_1</td>\n",
              "      <td>3</td>\n",
              "    </tr>\n",
              "    <tr>\n",
              "      <th>8064</th>\n",
              "      <td>464685</td>\n",
              "      <td>Male</td>\n",
              "      <td>No</td>\n",
              "      <td>35</td>\n",
              "      <td>No</td>\n",
              "      <td>Executive</td>\n",
              "      <td>3.0</td>\n",
              "      <td>2</td>\n",
              "      <td>4.0</td>\n",
              "      <td>Cat_4</td>\n",
              "      <td>3</td>\n",
              "    </tr>\n",
              "    <tr>\n",
              "      <th>8065</th>\n",
              "      <td>465406</td>\n",
              "      <td>Female</td>\n",
              "      <td>No</td>\n",
              "      <td>33</td>\n",
              "      <td>Yes</td>\n",
              "      <td>Healthcare</td>\n",
              "      <td>1.0</td>\n",
              "      <td>2</td>\n",
              "      <td>1.0</td>\n",
              "      <td>Cat_6</td>\n",
              "      <td>3</td>\n",
              "    </tr>\n",
              "    <tr>\n",
              "      <th>8066</th>\n",
              "      <td>467299</td>\n",
              "      <td>Female</td>\n",
              "      <td>No</td>\n",
              "      <td>27</td>\n",
              "      <td>Yes</td>\n",
              "      <td>Healthcare</td>\n",
              "      <td>1.0</td>\n",
              "      <td>2</td>\n",
              "      <td>4.0</td>\n",
              "      <td>Cat_6</td>\n",
              "      <td>1</td>\n",
              "    </tr>\n",
              "    <tr>\n",
              "      <th>8067</th>\n",
              "      <td>461879</td>\n",
              "      <td>Male</td>\n",
              "      <td>Yes</td>\n",
              "      <td>37</td>\n",
              "      <td>Yes</td>\n",
              "      <td>Executive</td>\n",
              "      <td>0.0</td>\n",
              "      <td>0</td>\n",
              "      <td>3.0</td>\n",
              "      <td>Cat_4</td>\n",
              "      <td>1</td>\n",
              "    </tr>\n",
              "  </tbody>\n",
              "</table>\n",
              "<p>8068 rows × 11 columns</p>\n",
              "</div>"
            ],
            "text/plain": [
              "          ID  Gender Ever_Married  ...  Family_Size  Var_1 Segmentation\n",
              "0     462809    Male           No  ...          4.0  Cat_4            3\n",
              "1     462643  Female          Yes  ...          3.0  Cat_4            0\n",
              "2     466315  Female          Yes  ...          1.0  Cat_6            1\n",
              "3     461735    Male          Yes  ...          2.0  Cat_6            1\n",
              "4     462669  Female          Yes  ...          6.0  Cat_6            0\n",
              "...      ...     ...          ...  ...          ...    ...          ...\n",
              "8063  464018    Male           No  ...          7.0  Cat_1            3\n",
              "8064  464685    Male           No  ...          4.0  Cat_4            3\n",
              "8065  465406  Female           No  ...          1.0  Cat_6            3\n",
              "8066  467299  Female           No  ...          4.0  Cat_6            1\n",
              "8067  461879    Male          Yes  ...          3.0  Cat_4            1\n",
              "\n",
              "[8068 rows x 11 columns]"
            ]
          },
          "metadata": {
            "tags": []
          },
          "execution_count": 13
        }
      ]
    },
    {
      "cell_type": "markdown",
      "metadata": {
        "id": "4FoVaSbvOM3E"
      },
      "source": [
        "Строки с пустыми значениями в столбцах Graduated и Var_1 можно просто удалить так как там малое количество таких строк"
      ]
    },
    {
      "cell_type": "code",
      "metadata": {
        "id": "XQ5boBg_OiHJ"
      },
      "source": [
        "df = df.drop(df.loc[df['Graduated'].isna()].index, axis=0)\n",
        "df = df.drop(df.loc[df['Var_1'].isna()].index, axis=0)"
      ],
      "execution_count": null,
      "outputs": []
    },
    {
      "cell_type": "code",
      "metadata": {
        "id": "c8BVIdvPPhrj"
      },
      "source": [
        "label_encoder = preprocessing.LabelEncoder() \n",
        "label_encoder.fit(df['Graduated'])\n",
        "df['Graduated'] = label_encoder.transform(df['Graduated']) "
      ],
      "execution_count": null,
      "outputs": []
    },
    {
      "cell_type": "code",
      "metadata": {
        "id": "P2kVB6w-m1bq"
      },
      "source": [
        "label_encoder = preprocessing.LabelEncoder() \n",
        "label_encoder.fit(df['Gender'])\n",
        "df['Gender'] = label_encoder.transform(df['Gender']) "
      ],
      "execution_count": null,
      "outputs": []
    },
    {
      "cell_type": "code",
      "metadata": {
        "id": "F-5PFiglnXYp"
      },
      "source": [
        "label_encoder = preprocessing.LabelEncoder() \n",
        "label_encoder.fit(df['Var_1'])\n",
        "df['Var_1'] = label_encoder.transform(df['Var_1'])"
      ],
      "execution_count": null,
      "outputs": []
    },
    {
      "cell_type": "code",
      "metadata": {
        "colab": {
          "base_uri": "https://localhost:8080/",
          "height": 419
        },
        "id": "k-YlDS3gmkD1",
        "outputId": "36627cfe-1468-423d-9f28-ec7539160e2a"
      },
      "source": [
        "df"
      ],
      "execution_count": null,
      "outputs": [
        {
          "output_type": "execute_result",
          "data": {
            "text/html": [
              "<div>\n",
              "<style scoped>\n",
              "    .dataframe tbody tr th:only-of-type {\n",
              "        vertical-align: middle;\n",
              "    }\n",
              "\n",
              "    .dataframe tbody tr th {\n",
              "        vertical-align: top;\n",
              "    }\n",
              "\n",
              "    .dataframe thead th {\n",
              "        text-align: right;\n",
              "    }\n",
              "</style>\n",
              "<table border=\"1\" class=\"dataframe\">\n",
              "  <thead>\n",
              "    <tr style=\"text-align: right;\">\n",
              "      <th></th>\n",
              "      <th>ID</th>\n",
              "      <th>Gender</th>\n",
              "      <th>Ever_Married</th>\n",
              "      <th>Age</th>\n",
              "      <th>Graduated</th>\n",
              "      <th>Profession</th>\n",
              "      <th>Work_Experience</th>\n",
              "      <th>Spending_Score</th>\n",
              "      <th>Family_Size</th>\n",
              "      <th>Var_1</th>\n",
              "      <th>Segmentation</th>\n",
              "    </tr>\n",
              "  </thead>\n",
              "  <tbody>\n",
              "    <tr>\n",
              "      <th>0</th>\n",
              "      <td>462809</td>\n",
              "      <td>1</td>\n",
              "      <td>No</td>\n",
              "      <td>22</td>\n",
              "      <td>0</td>\n",
              "      <td>Healthcare</td>\n",
              "      <td>1.0</td>\n",
              "      <td>2</td>\n",
              "      <td>4.0</td>\n",
              "      <td>3</td>\n",
              "      <td>3</td>\n",
              "    </tr>\n",
              "    <tr>\n",
              "      <th>1</th>\n",
              "      <td>462643</td>\n",
              "      <td>0</td>\n",
              "      <td>Yes</td>\n",
              "      <td>38</td>\n",
              "      <td>1</td>\n",
              "      <td>Engineer</td>\n",
              "      <td>NaN</td>\n",
              "      <td>0</td>\n",
              "      <td>3.0</td>\n",
              "      <td>3</td>\n",
              "      <td>0</td>\n",
              "    </tr>\n",
              "    <tr>\n",
              "      <th>2</th>\n",
              "      <td>466315</td>\n",
              "      <td>0</td>\n",
              "      <td>Yes</td>\n",
              "      <td>67</td>\n",
              "      <td>1</td>\n",
              "      <td>Engineer</td>\n",
              "      <td>1.0</td>\n",
              "      <td>2</td>\n",
              "      <td>1.0</td>\n",
              "      <td>5</td>\n",
              "      <td>1</td>\n",
              "    </tr>\n",
              "    <tr>\n",
              "      <th>3</th>\n",
              "      <td>461735</td>\n",
              "      <td>1</td>\n",
              "      <td>Yes</td>\n",
              "      <td>67</td>\n",
              "      <td>1</td>\n",
              "      <td>Lawyer</td>\n",
              "      <td>0.0</td>\n",
              "      <td>1</td>\n",
              "      <td>2.0</td>\n",
              "      <td>5</td>\n",
              "      <td>1</td>\n",
              "    </tr>\n",
              "    <tr>\n",
              "      <th>4</th>\n",
              "      <td>462669</td>\n",
              "      <td>0</td>\n",
              "      <td>Yes</td>\n",
              "      <td>40</td>\n",
              "      <td>1</td>\n",
              "      <td>Entertainment</td>\n",
              "      <td>NaN</td>\n",
              "      <td>1</td>\n",
              "      <td>6.0</td>\n",
              "      <td>5</td>\n",
              "      <td>0</td>\n",
              "    </tr>\n",
              "    <tr>\n",
              "      <th>...</th>\n",
              "      <td>...</td>\n",
              "      <td>...</td>\n",
              "      <td>...</td>\n",
              "      <td>...</td>\n",
              "      <td>...</td>\n",
              "      <td>...</td>\n",
              "      <td>...</td>\n",
              "      <td>...</td>\n",
              "      <td>...</td>\n",
              "      <td>...</td>\n",
              "      <td>...</td>\n",
              "    </tr>\n",
              "    <tr>\n",
              "      <th>8063</th>\n",
              "      <td>464018</td>\n",
              "      <td>1</td>\n",
              "      <td>No</td>\n",
              "      <td>22</td>\n",
              "      <td>0</td>\n",
              "      <td>NaN</td>\n",
              "      <td>0.0</td>\n",
              "      <td>2</td>\n",
              "      <td>7.0</td>\n",
              "      <td>0</td>\n",
              "      <td>3</td>\n",
              "    </tr>\n",
              "    <tr>\n",
              "      <th>8064</th>\n",
              "      <td>464685</td>\n",
              "      <td>1</td>\n",
              "      <td>No</td>\n",
              "      <td>35</td>\n",
              "      <td>0</td>\n",
              "      <td>Executive</td>\n",
              "      <td>3.0</td>\n",
              "      <td>2</td>\n",
              "      <td>4.0</td>\n",
              "      <td>3</td>\n",
              "      <td>3</td>\n",
              "    </tr>\n",
              "    <tr>\n",
              "      <th>8065</th>\n",
              "      <td>465406</td>\n",
              "      <td>0</td>\n",
              "      <td>No</td>\n",
              "      <td>33</td>\n",
              "      <td>1</td>\n",
              "      <td>Healthcare</td>\n",
              "      <td>1.0</td>\n",
              "      <td>2</td>\n",
              "      <td>1.0</td>\n",
              "      <td>5</td>\n",
              "      <td>3</td>\n",
              "    </tr>\n",
              "    <tr>\n",
              "      <th>8066</th>\n",
              "      <td>467299</td>\n",
              "      <td>0</td>\n",
              "      <td>No</td>\n",
              "      <td>27</td>\n",
              "      <td>1</td>\n",
              "      <td>Healthcare</td>\n",
              "      <td>1.0</td>\n",
              "      <td>2</td>\n",
              "      <td>4.0</td>\n",
              "      <td>5</td>\n",
              "      <td>1</td>\n",
              "    </tr>\n",
              "    <tr>\n",
              "      <th>8067</th>\n",
              "      <td>461879</td>\n",
              "      <td>1</td>\n",
              "      <td>Yes</td>\n",
              "      <td>37</td>\n",
              "      <td>1</td>\n",
              "      <td>Executive</td>\n",
              "      <td>0.0</td>\n",
              "      <td>0</td>\n",
              "      <td>3.0</td>\n",
              "      <td>3</td>\n",
              "      <td>1</td>\n",
              "    </tr>\n",
              "  </tbody>\n",
              "</table>\n",
              "<p>7914 rows × 11 columns</p>\n",
              "</div>"
            ],
            "text/plain": [
              "          ID  Gender Ever_Married  ...  Family_Size  Var_1 Segmentation\n",
              "0     462809       1           No  ...          4.0      3            3\n",
              "1     462643       0          Yes  ...          3.0      3            0\n",
              "2     466315       0          Yes  ...          1.0      5            1\n",
              "3     461735       1          Yes  ...          2.0      5            1\n",
              "4     462669       0          Yes  ...          6.0      5            0\n",
              "...      ...     ...          ...  ...          ...    ...          ...\n",
              "8063  464018       1           No  ...          7.0      0            3\n",
              "8064  464685       1           No  ...          4.0      3            3\n",
              "8065  465406       0           No  ...          1.0      5            3\n",
              "8066  467299       0           No  ...          4.0      5            1\n",
              "8067  461879       1          Yes  ...          3.0      3            1\n",
              "\n",
              "[7914 rows x 11 columns]"
            ]
          },
          "metadata": {
            "tags": []
          },
          "execution_count": 18
        }
      ]
    },
    {
      "cell_type": "markdown",
      "metadata": {
        "id": "87PoVie9oyVm"
      },
      "source": [
        "Пустые значения в столбце   заполним просто среднем значением по столбцу  (предварительно проверяли зависимости от других столбцов. Они оказались очень слабыми)"
      ]
    },
    {
      "cell_type": "code",
      "metadata": {
        "id": "3ZWLUvakn_Rh"
      },
      "source": [
        "mean_value = df['Work_Experience'].mean()\n",
        "df['Work_Experience'] = df['Work_Experience'].fillna(mean_value)"
      ],
      "execution_count": null,
      "outputs": []
    },
    {
      "cell_type": "markdown",
      "metadata": {
        "id": "gkI9U3_YOFZt"
      },
      "source": [
        "Также пустыми остались пустые значения в строках Ever_Married (135 путых значений) и Profession (114 путых значений). При этом датасете имеем 8067 строк, тогда если мы удалим строки с пустыми значениями, мы потеряем информацию примерно 0,01% людях. Такой информацией можно пренебречь (маленький процент). Удалим в этих столбцах пустые значения."
      ]
    },
    {
      "cell_type": "code",
      "metadata": {
        "id": "CKIl3xZ2PU7j"
      },
      "source": [
        "df = df.drop(df.loc[df['Ever_Married'].isna()].index, axis=0)\n",
        "df = df.drop(df.loc[df['Profession'].isna()].index, axis=0)"
      ],
      "execution_count": null,
      "outputs": []
    },
    {
      "cell_type": "markdown",
      "metadata": {
        "id": "hNP4IsZuPq0Z"
      },
      "source": [
        "Заново проверим данные на пустые значения"
      ]
    },
    {
      "cell_type": "code",
      "metadata": {
        "colab": {
          "base_uri": "https://localhost:8080/"
        },
        "id": "2M8crwrCFtVA",
        "outputId": "0272c95c-6771-4583-cf21-d4bdd0b67867"
      },
      "source": [
        "df.isna().sum()"
      ],
      "execution_count": null,
      "outputs": [
        {
          "output_type": "execute_result",
          "data": {
            "text/plain": [
              "ID                 0\n",
              "Gender             0\n",
              "Ever_Married       0\n",
              "Age                0\n",
              "Graduated          0\n",
              "Profession         0\n",
              "Work_Experience    0\n",
              "Spending_Score     0\n",
              "Family_Size        0\n",
              "Var_1              0\n",
              "Segmentation       0\n",
              "dtype: int64"
            ]
          },
          "metadata": {
            "tags": []
          },
          "execution_count": 21
        }
      ]
    },
    {
      "cell_type": "code",
      "metadata": {
        "colab": {
          "base_uri": "https://localhost:8080/",
          "height": 419
        },
        "id": "FUu1FBpsQMIC",
        "outputId": "95ddf747-ba45-4ef9-eb95-49a09bbd9d19"
      },
      "source": [
        "df"
      ],
      "execution_count": null,
      "outputs": [
        {
          "output_type": "execute_result",
          "data": {
            "text/html": [
              "<div>\n",
              "<style scoped>\n",
              "    .dataframe tbody tr th:only-of-type {\n",
              "        vertical-align: middle;\n",
              "    }\n",
              "\n",
              "    .dataframe tbody tr th {\n",
              "        vertical-align: top;\n",
              "    }\n",
              "\n",
              "    .dataframe thead th {\n",
              "        text-align: right;\n",
              "    }\n",
              "</style>\n",
              "<table border=\"1\" class=\"dataframe\">\n",
              "  <thead>\n",
              "    <tr style=\"text-align: right;\">\n",
              "      <th></th>\n",
              "      <th>ID</th>\n",
              "      <th>Gender</th>\n",
              "      <th>Ever_Married</th>\n",
              "      <th>Age</th>\n",
              "      <th>Graduated</th>\n",
              "      <th>Profession</th>\n",
              "      <th>Work_Experience</th>\n",
              "      <th>Spending_Score</th>\n",
              "      <th>Family_Size</th>\n",
              "      <th>Var_1</th>\n",
              "      <th>Segmentation</th>\n",
              "    </tr>\n",
              "  </thead>\n",
              "  <tbody>\n",
              "    <tr>\n",
              "      <th>0</th>\n",
              "      <td>462809</td>\n",
              "      <td>1</td>\n",
              "      <td>No</td>\n",
              "      <td>22</td>\n",
              "      <td>0</td>\n",
              "      <td>Healthcare</td>\n",
              "      <td>1.000000</td>\n",
              "      <td>2</td>\n",
              "      <td>4.0</td>\n",
              "      <td>3</td>\n",
              "      <td>3</td>\n",
              "    </tr>\n",
              "    <tr>\n",
              "      <th>1</th>\n",
              "      <td>462643</td>\n",
              "      <td>0</td>\n",
              "      <td>Yes</td>\n",
              "      <td>38</td>\n",
              "      <td>1</td>\n",
              "      <td>Engineer</td>\n",
              "      <td>2.636504</td>\n",
              "      <td>0</td>\n",
              "      <td>3.0</td>\n",
              "      <td>3</td>\n",
              "      <td>0</td>\n",
              "    </tr>\n",
              "    <tr>\n",
              "      <th>2</th>\n",
              "      <td>466315</td>\n",
              "      <td>0</td>\n",
              "      <td>Yes</td>\n",
              "      <td>67</td>\n",
              "      <td>1</td>\n",
              "      <td>Engineer</td>\n",
              "      <td>1.000000</td>\n",
              "      <td>2</td>\n",
              "      <td>1.0</td>\n",
              "      <td>5</td>\n",
              "      <td>1</td>\n",
              "    </tr>\n",
              "    <tr>\n",
              "      <th>3</th>\n",
              "      <td>461735</td>\n",
              "      <td>1</td>\n",
              "      <td>Yes</td>\n",
              "      <td>67</td>\n",
              "      <td>1</td>\n",
              "      <td>Lawyer</td>\n",
              "      <td>0.000000</td>\n",
              "      <td>1</td>\n",
              "      <td>2.0</td>\n",
              "      <td>5</td>\n",
              "      <td>1</td>\n",
              "    </tr>\n",
              "    <tr>\n",
              "      <th>4</th>\n",
              "      <td>462669</td>\n",
              "      <td>0</td>\n",
              "      <td>Yes</td>\n",
              "      <td>40</td>\n",
              "      <td>1</td>\n",
              "      <td>Entertainment</td>\n",
              "      <td>2.636504</td>\n",
              "      <td>1</td>\n",
              "      <td>6.0</td>\n",
              "      <td>5</td>\n",
              "      <td>0</td>\n",
              "    </tr>\n",
              "    <tr>\n",
              "      <th>...</th>\n",
              "      <td>...</td>\n",
              "      <td>...</td>\n",
              "      <td>...</td>\n",
              "      <td>...</td>\n",
              "      <td>...</td>\n",
              "      <td>...</td>\n",
              "      <td>...</td>\n",
              "      <td>...</td>\n",
              "      <td>...</td>\n",
              "      <td>...</td>\n",
              "      <td>...</td>\n",
              "    </tr>\n",
              "    <tr>\n",
              "      <th>8062</th>\n",
              "      <td>463002</td>\n",
              "      <td>1</td>\n",
              "      <td>Yes</td>\n",
              "      <td>41</td>\n",
              "      <td>1</td>\n",
              "      <td>Artist</td>\n",
              "      <td>0.000000</td>\n",
              "      <td>1</td>\n",
              "      <td>5.0</td>\n",
              "      <td>5</td>\n",
              "      <td>1</td>\n",
              "    </tr>\n",
              "    <tr>\n",
              "      <th>8064</th>\n",
              "      <td>464685</td>\n",
              "      <td>1</td>\n",
              "      <td>No</td>\n",
              "      <td>35</td>\n",
              "      <td>0</td>\n",
              "      <td>Executive</td>\n",
              "      <td>3.000000</td>\n",
              "      <td>2</td>\n",
              "      <td>4.0</td>\n",
              "      <td>3</td>\n",
              "      <td>3</td>\n",
              "    </tr>\n",
              "    <tr>\n",
              "      <th>8065</th>\n",
              "      <td>465406</td>\n",
              "      <td>0</td>\n",
              "      <td>No</td>\n",
              "      <td>33</td>\n",
              "      <td>1</td>\n",
              "      <td>Healthcare</td>\n",
              "      <td>1.000000</td>\n",
              "      <td>2</td>\n",
              "      <td>1.0</td>\n",
              "      <td>5</td>\n",
              "      <td>3</td>\n",
              "    </tr>\n",
              "    <tr>\n",
              "      <th>8066</th>\n",
              "      <td>467299</td>\n",
              "      <td>0</td>\n",
              "      <td>No</td>\n",
              "      <td>27</td>\n",
              "      <td>1</td>\n",
              "      <td>Healthcare</td>\n",
              "      <td>1.000000</td>\n",
              "      <td>2</td>\n",
              "      <td>4.0</td>\n",
              "      <td>5</td>\n",
              "      <td>1</td>\n",
              "    </tr>\n",
              "    <tr>\n",
              "      <th>8067</th>\n",
              "      <td>461879</td>\n",
              "      <td>1</td>\n",
              "      <td>Yes</td>\n",
              "      <td>37</td>\n",
              "      <td>1</td>\n",
              "      <td>Executive</td>\n",
              "      <td>0.000000</td>\n",
              "      <td>0</td>\n",
              "      <td>3.0</td>\n",
              "      <td>3</td>\n",
              "      <td>1</td>\n",
              "    </tr>\n",
              "  </tbody>\n",
              "</table>\n",
              "<p>7669 rows × 11 columns</p>\n",
              "</div>"
            ],
            "text/plain": [
              "          ID  Gender Ever_Married  ...  Family_Size  Var_1 Segmentation\n",
              "0     462809       1           No  ...          4.0      3            3\n",
              "1     462643       0          Yes  ...          3.0      3            0\n",
              "2     466315       0          Yes  ...          1.0      5            1\n",
              "3     461735       1          Yes  ...          2.0      5            1\n",
              "4     462669       0          Yes  ...          6.0      5            0\n",
              "...      ...     ...          ...  ...          ...    ...          ...\n",
              "8062  463002       1          Yes  ...          5.0      5            1\n",
              "8064  464685       1           No  ...          4.0      3            3\n",
              "8065  465406       0           No  ...          1.0      5            3\n",
              "8066  467299       0           No  ...          4.0      5            1\n",
              "8067  461879       1          Yes  ...          3.0      3            1\n",
              "\n",
              "[7669 rows x 11 columns]"
            ]
          },
          "metadata": {
            "tags": []
          },
          "execution_count": 22
        }
      ]
    },
    {
      "cell_type": "markdown",
      "metadata": {
        "id": "A-utmLWHPvk7"
      },
      "source": [
        "Отлично! Мы полностью избавились от пустых значений. Преобразуем оставшиеся столбцы с категориальными признаками."
      ]
    },
    {
      "cell_type": "code",
      "metadata": {
        "id": "CocbZUXQQKdr"
      },
      "source": [
        "label_encoder = preprocessing.LabelEncoder() \n",
        "label_encoder.fit(df['Ever_Married'])\n",
        "df['Ever_Married'] = label_encoder.transform(df['Ever_Married']) "
      ],
      "execution_count": null,
      "outputs": []
    },
    {
      "cell_type": "code",
      "metadata": {
        "id": "KGA7dFNSQUJU"
      },
      "source": [
        "label_encoder = preprocessing.LabelEncoder() \n",
        "label_encoder.fit(df['Profession'])\n",
        "df['Profession'] = label_encoder.transform(df['Profession']) "
      ],
      "execution_count": null,
      "outputs": []
    },
    {
      "cell_type": "markdown",
      "metadata": {
        "id": "f58oQPlBRQvN"
      },
      "source": [
        "Выведем информацию о получившемся датасете"
      ]
    },
    {
      "cell_type": "code",
      "metadata": {
        "colab": {
          "base_uri": "https://localhost:8080/"
        },
        "id": "kLcb_AxeQh9J",
        "outputId": "e9920cbc-9887-47f1-c4fe-90002c96b87e"
      },
      "source": [
        "df.info()"
      ],
      "execution_count": null,
      "outputs": [
        {
          "output_type": "stream",
          "text": [
            "<class 'pandas.core.frame.DataFrame'>\n",
            "Int64Index: 7669 entries, 0 to 8067\n",
            "Data columns (total 11 columns):\n",
            " #   Column           Non-Null Count  Dtype  \n",
            "---  ------           --------------  -----  \n",
            " 0   ID               7669 non-null   int64  \n",
            " 1   Gender           7669 non-null   int64  \n",
            " 2   Ever_Married     7669 non-null   int64  \n",
            " 3   Age              7669 non-null   int64  \n",
            " 4   Graduated        7669 non-null   int64  \n",
            " 5   Profession       7669 non-null   int64  \n",
            " 6   Work_Experience  7669 non-null   float64\n",
            " 7   Spending_Score   7669 non-null   int64  \n",
            " 8   Family_Size      7669 non-null   float64\n",
            " 9   Var_1            7669 non-null   int64  \n",
            " 10  Segmentation     7669 non-null   int64  \n",
            "dtypes: float64(2), int64(9)\n",
            "memory usage: 719.0 KB\n"
          ],
          "name": "stdout"
        }
      ]
    },
    {
      "cell_type": "markdown",
      "metadata": {
        "id": "Kts03eIcRWEy"
      },
      "source": [
        "Отлично! В данном датасете полностью отсутствуют как нулевые значения, так и категориальные признаки."
      ]
    },
    {
      "cell_type": "markdown",
      "metadata": {
        "id": "-_7EEyPHSZxF"
      },
      "source": [
        "Продолжим подготовку данных. Теперь можно, например, провести масштабирование признаков. В данном датасете масштабирования требует только колонка Age (Остальные значения в столюцах имеют деапазон примерно 0-10)."
      ]
    },
    {
      "cell_type": "code",
      "metadata": {
        "colab": {
          "base_uri": "https://localhost:8080/",
          "height": 419
        },
        "id": "H077_NgmRn4Z",
        "outputId": "a0ae9ca1-5334-4c3d-a89a-e703e7434ec2"
      },
      "source": [
        "df"
      ],
      "execution_count": null,
      "outputs": [
        {
          "output_type": "execute_result",
          "data": {
            "text/html": [
              "<div>\n",
              "<style scoped>\n",
              "    .dataframe tbody tr th:only-of-type {\n",
              "        vertical-align: middle;\n",
              "    }\n",
              "\n",
              "    .dataframe tbody tr th {\n",
              "        vertical-align: top;\n",
              "    }\n",
              "\n",
              "    .dataframe thead th {\n",
              "        text-align: right;\n",
              "    }\n",
              "</style>\n",
              "<table border=\"1\" class=\"dataframe\">\n",
              "  <thead>\n",
              "    <tr style=\"text-align: right;\">\n",
              "      <th></th>\n",
              "      <th>ID</th>\n",
              "      <th>Gender</th>\n",
              "      <th>Ever_Married</th>\n",
              "      <th>Age</th>\n",
              "      <th>Graduated</th>\n",
              "      <th>Profession</th>\n",
              "      <th>Work_Experience</th>\n",
              "      <th>Spending_Score</th>\n",
              "      <th>Family_Size</th>\n",
              "      <th>Var_1</th>\n",
              "      <th>Segmentation</th>\n",
              "    </tr>\n",
              "  </thead>\n",
              "  <tbody>\n",
              "    <tr>\n",
              "      <th>0</th>\n",
              "      <td>462809</td>\n",
              "      <td>1</td>\n",
              "      <td>0</td>\n",
              "      <td>22</td>\n",
              "      <td>0</td>\n",
              "      <td>5</td>\n",
              "      <td>1.000000</td>\n",
              "      <td>2</td>\n",
              "      <td>4.0</td>\n",
              "      <td>3</td>\n",
              "      <td>3</td>\n",
              "    </tr>\n",
              "    <tr>\n",
              "      <th>1</th>\n",
              "      <td>462643</td>\n",
              "      <td>0</td>\n",
              "      <td>1</td>\n",
              "      <td>38</td>\n",
              "      <td>1</td>\n",
              "      <td>2</td>\n",
              "      <td>2.636504</td>\n",
              "      <td>0</td>\n",
              "      <td>3.0</td>\n",
              "      <td>3</td>\n",
              "      <td>0</td>\n",
              "    </tr>\n",
              "    <tr>\n",
              "      <th>2</th>\n",
              "      <td>466315</td>\n",
              "      <td>0</td>\n",
              "      <td>1</td>\n",
              "      <td>67</td>\n",
              "      <td>1</td>\n",
              "      <td>2</td>\n",
              "      <td>1.000000</td>\n",
              "      <td>2</td>\n",
              "      <td>1.0</td>\n",
              "      <td>5</td>\n",
              "      <td>1</td>\n",
              "    </tr>\n",
              "    <tr>\n",
              "      <th>3</th>\n",
              "      <td>461735</td>\n",
              "      <td>1</td>\n",
              "      <td>1</td>\n",
              "      <td>67</td>\n",
              "      <td>1</td>\n",
              "      <td>7</td>\n",
              "      <td>0.000000</td>\n",
              "      <td>1</td>\n",
              "      <td>2.0</td>\n",
              "      <td>5</td>\n",
              "      <td>1</td>\n",
              "    </tr>\n",
              "    <tr>\n",
              "      <th>4</th>\n",
              "      <td>462669</td>\n",
              "      <td>0</td>\n",
              "      <td>1</td>\n",
              "      <td>40</td>\n",
              "      <td>1</td>\n",
              "      <td>3</td>\n",
              "      <td>2.636504</td>\n",
              "      <td>1</td>\n",
              "      <td>6.0</td>\n",
              "      <td>5</td>\n",
              "      <td>0</td>\n",
              "    </tr>\n",
              "    <tr>\n",
              "      <th>...</th>\n",
              "      <td>...</td>\n",
              "      <td>...</td>\n",
              "      <td>...</td>\n",
              "      <td>...</td>\n",
              "      <td>...</td>\n",
              "      <td>...</td>\n",
              "      <td>...</td>\n",
              "      <td>...</td>\n",
              "      <td>...</td>\n",
              "      <td>...</td>\n",
              "      <td>...</td>\n",
              "    </tr>\n",
              "    <tr>\n",
              "      <th>8062</th>\n",
              "      <td>463002</td>\n",
              "      <td>1</td>\n",
              "      <td>1</td>\n",
              "      <td>41</td>\n",
              "      <td>1</td>\n",
              "      <td>0</td>\n",
              "      <td>0.000000</td>\n",
              "      <td>1</td>\n",
              "      <td>5.0</td>\n",
              "      <td>5</td>\n",
              "      <td>1</td>\n",
              "    </tr>\n",
              "    <tr>\n",
              "      <th>8064</th>\n",
              "      <td>464685</td>\n",
              "      <td>1</td>\n",
              "      <td>0</td>\n",
              "      <td>35</td>\n",
              "      <td>0</td>\n",
              "      <td>4</td>\n",
              "      <td>3.000000</td>\n",
              "      <td>2</td>\n",
              "      <td>4.0</td>\n",
              "      <td>3</td>\n",
              "      <td>3</td>\n",
              "    </tr>\n",
              "    <tr>\n",
              "      <th>8065</th>\n",
              "      <td>465406</td>\n",
              "      <td>0</td>\n",
              "      <td>0</td>\n",
              "      <td>33</td>\n",
              "      <td>1</td>\n",
              "      <td>5</td>\n",
              "      <td>1.000000</td>\n",
              "      <td>2</td>\n",
              "      <td>1.0</td>\n",
              "      <td>5</td>\n",
              "      <td>3</td>\n",
              "    </tr>\n",
              "    <tr>\n",
              "      <th>8066</th>\n",
              "      <td>467299</td>\n",
              "      <td>0</td>\n",
              "      <td>0</td>\n",
              "      <td>27</td>\n",
              "      <td>1</td>\n",
              "      <td>5</td>\n",
              "      <td>1.000000</td>\n",
              "      <td>2</td>\n",
              "      <td>4.0</td>\n",
              "      <td>5</td>\n",
              "      <td>1</td>\n",
              "    </tr>\n",
              "    <tr>\n",
              "      <th>8067</th>\n",
              "      <td>461879</td>\n",
              "      <td>1</td>\n",
              "      <td>1</td>\n",
              "      <td>37</td>\n",
              "      <td>1</td>\n",
              "      <td>4</td>\n",
              "      <td>0.000000</td>\n",
              "      <td>0</td>\n",
              "      <td>3.0</td>\n",
              "      <td>3</td>\n",
              "      <td>1</td>\n",
              "    </tr>\n",
              "  </tbody>\n",
              "</table>\n",
              "<p>7669 rows × 11 columns</p>\n",
              "</div>"
            ],
            "text/plain": [
              "          ID  Gender  Ever_Married  ...  Family_Size  Var_1  Segmentation\n",
              "0     462809       1             0  ...          4.0      3             3\n",
              "1     462643       0             1  ...          3.0      3             0\n",
              "2     466315       0             1  ...          1.0      5             1\n",
              "3     461735       1             1  ...          2.0      5             1\n",
              "4     462669       0             1  ...          6.0      5             0\n",
              "...      ...     ...           ...  ...          ...    ...           ...\n",
              "8062  463002       1             1  ...          5.0      5             1\n",
              "8064  464685       1             0  ...          4.0      3             3\n",
              "8065  465406       0             0  ...          1.0      5             3\n",
              "8066  467299       0             0  ...          4.0      5             1\n",
              "8067  461879       1             1  ...          3.0      3             1\n",
              "\n",
              "[7669 rows x 11 columns]"
            ]
          },
          "metadata": {
            "tags": []
          },
          "execution_count": 26
        }
      ]
    },
    {
      "cell_type": "code",
      "metadata": {
        "id": "BB_0zSfFg4Ci"
      },
      "source": [
        "X =  df.drop(['Ever_Married'], axis = 1)\n",
        "y = df['Ever_Married']"
      ],
      "execution_count": null,
      "outputs": []
    },
    {
      "cell_type": "code",
      "metadata": {
        "colab": {
          "base_uri": "https://localhost:8080/"
        },
        "id": "SfOzMoRIhFfJ",
        "outputId": "9bda1bdb-ffff-4a2f-d79e-338cb8877a0a"
      },
      "source": [
        "from sklearn.preprocessing import MinMaxScaler\n",
        "\n",
        "scaler = MinMaxScaler()\n",
        "X_norm = scaler.fit_transform(X)\n",
        "X_norm"
      ],
      "execution_count": null,
      "outputs": [
        {
          "output_type": "execute_result",
          "data": {
            "text/plain": [
              "array([[0.42560053, 1.        , 0.05633803, ..., 0.375     , 0.5       ,\n",
              "        1.        ],\n",
              "       [0.40713968, 0.        , 0.28169014, ..., 0.25      , 0.5       ,\n",
              "        0.        ],\n",
              "       [0.81550267, 0.        , 0.69014085, ..., 0.        , 0.83333333,\n",
              "        0.33333333],\n",
              "       ...,\n",
              "       [0.71441281, 0.        , 0.21126761, ..., 0.        , 0.83333333,\n",
              "        1.        ],\n",
              "       [0.92493327, 0.        , 0.12676056, ..., 0.375     , 0.83333333,\n",
              "        0.33333333],\n",
              "       [0.32217527, 1.        , 0.26760563, ..., 0.25      , 0.5       ,\n",
              "        0.33333333]])"
            ]
          },
          "metadata": {
            "tags": []
          },
          "execution_count": 44
        }
      ]
    },
    {
      "cell_type": "markdown",
      "metadata": {
        "id": "-nM3ENHkkqjp"
      },
      "source": [
        "#дерево решений для нормализованных данных "
      ]
    },
    {
      "cell_type": "code",
      "metadata": {
        "colab": {
          "base_uri": "https://localhost:8080/"
        },
        "id": "v7xOJkp7gt9s",
        "outputId": "1c7c8629-c2d4-4908-abb5-ccf0af3c0d06"
      },
      "source": [
        "X_train,X_test,y_train,y_test = train_test_split(X_norm, y, test_size=1/3, random_state=42)\n",
        "\n",
        "tree = DecisionTreeClassifier()\n",
        "\n",
        "\n",
        "tree.fit(X_train, y_train)\n",
        "y_pred_tree = tree.predict(X_test)\n",
        "\n",
        "\n",
        "print(\"Accuracy\" , accuracy_score(y_test, y_pred_tree))\n",
        "print(\"Recall\" ,recall_score(y_test, y_pred_tree))\n",
        "print(\"Precision\" , precision_score(y_test, y_pred_tree)) "
      ],
      "execution_count": null,
      "outputs": [
        {
          "output_type": "stream",
          "text": [
            "Accuracy 0.8517794290183809\n",
            "Recall 0.871523178807947\n",
            "Precision 0.8767488341105929\n"
          ],
          "name": "stdout"
        }
      ]
    },
    {
      "cell_type": "markdown",
      "metadata": {
        "id": "HJsyc6oXkyJr"
      },
      "source": [
        "#дерево решений с помощью кросс-валидации(норм. данные)"
      ]
    },
    {
      "cell_type": "code",
      "metadata": {
        "colab": {
          "base_uri": "https://localhost:8080/"
        },
        "id": "RcBf2rhBi2bG",
        "outputId": "9e663b2e-4f3c-4b1d-c6b8-53eaf9089b8b"
      },
      "source": [
        "X_train,X_test,y_train,y_test = train_test_split(X_norm, y, test_size=1/3, random_state=42)\n",
        "\n",
        "tree = DecisionTreeClassifier()\n",
        "\n",
        "\n",
        "tree.fit(X_train, y_train)\n",
        "y_pred_tree = tree.predict(X_test)\n",
        "\n",
        "\n",
        "cvs = cross_val_score(estimator = model, X = X_norm, y = y, cv = kf, scoring = 'accuracy')\n",
        "\n",
        "print(cvs)\n",
        "print(cvs.mean())"
      ],
      "execution_count": null,
      "outputs": [
        {
          "output_type": "stream",
          "text": [
            "Accuracy 0.8517794290183809\n",
            "Recall 0.8721854304635761\n",
            "Precision 0.8762475049900199\n"
          ],
          "name": "stdout"
        }
      ]
    },
    {
      "cell_type": "markdown",
      "metadata": {
        "id": "BT_onV9lk0iE"
      },
      "source": [
        "#дерево решений для стандартизированных данных "
      ]
    },
    {
      "cell_type": "code",
      "metadata": {
        "colab": {
          "base_uri": "https://localhost:8080/"
        },
        "id": "FpaBp_R0iiZA",
        "outputId": "c3cdb8df-88c5-4e35-81c2-d8d3084944c1"
      },
      "source": [
        "scaler = StandardScaler()\n",
        "X_st = scaler.fit_transform(X)\n",
        "X_st"
      ],
      "execution_count": null,
      "outputs": [
        {
          "output_type": "execute_result",
          "data": {
            "text/plain": [
              "array([[-0.25661788,  0.90476042, -1.28884403, ...,  0.76518376,\n",
              "        -0.817195  ,  1.27008395],\n",
              "       [-0.32069403, -1.10526497, -0.33008515, ...,  0.0979644 ,\n",
              "        -0.817195  , -1.37313826],\n",
              "       [ 1.09670132, -1.10526497,  1.40766531, ..., -1.23647431,\n",
              "         0.59414797, -0.49206419],\n",
              "       ...,\n",
              "       [ 0.74582649, -1.10526497, -0.6296973 , ..., -1.23647431,\n",
              "         0.59414797,  1.27008395],\n",
              "       [ 1.47652622, -1.10526497, -0.98923188, ...,  0.76518376,\n",
              "         0.59414797, -0.49206419],\n",
              "       [-0.61559872,  0.90476042, -0.39000758, ...,  0.0979644 ,\n",
              "        -0.817195  , -0.49206419]])"
            ]
          },
          "metadata": {
            "tags": []
          },
          "execution_count": 47
        }
      ]
    },
    {
      "cell_type": "code",
      "metadata": {
        "colab": {
          "base_uri": "https://localhost:8080/"
        },
        "id": "qIe0Os7Bi7-t",
        "outputId": "22f23237-4d6d-4416-ac1b-04f264fc4e80"
      },
      "source": [
        "X_train,X_test,y_train,y_test = train_test_split(X_st, y, test_size=1/3, random_state=42)\n",
        "\n",
        "tree = DecisionTreeClassifier()\n",
        "\n",
        "\n",
        "tree.fit(X_train, y_train)\n",
        "y_pred_tree = tree.predict(X_test)\n",
        "\n",
        "\n",
        "print(\"Accuracy\" , accuracy_score(y_test, y_pred_tree))\n",
        "print(\"Recall\" ,recall_score(y_test, y_pred_tree))\n",
        "print(\"Precision\" , precision_score(y_test, y_pred_tree)) "
      ],
      "execution_count": null,
      "outputs": [
        {
          "output_type": "stream",
          "text": [
            "Accuracy 0.8572545952287838\n",
            "Recall 0.8741721854304636\n",
            "Precision 0.882943143812709\n"
          ],
          "name": "stdout"
        }
      ]
    },
    {
      "cell_type": "markdown",
      "metadata": {
        "id": "XLUdJxapk2lC"
      },
      "source": [
        "#дерево решений с помощью кросс-валидации(ст. данные)"
      ]
    },
    {
      "cell_type": "code",
      "metadata": {
        "colab": {
          "base_uri": "https://localhost:8080/"
        },
        "id": "r0Xml_HrjA3R",
        "outputId": "68054e1d-3d59-4af6-f43a-80037eddc878"
      },
      "source": [
        "X_train,X_test,y_train,y_test = train_test_split(X_st, y, test_size=1/3, random_state=42)\n",
        "\n",
        "tree = DecisionTreeClassifier()\n",
        "\n",
        "\n",
        "tree.fit(X_train, y_train)\n",
        "y_pred_tree = tree.predict(X_test)\n",
        "\n",
        "cvs = cross_val_score(estimator = model, X = X_norm, y = y, cv = kf, scoring = 'accuracy')\n",
        "\n",
        "print(cvs)\n",
        "print(cvs.mean())"
      ],
      "execution_count": null,
      "outputs": [
        {
          "output_type": "stream",
          "text": [
            "Accuracy 0.8533437622213531\n",
            "Recall 0.8748344370860928\n",
            "Precision 0.8765759787657598\n"
          ],
          "name": "stdout"
        }
      ]
    },
    {
      "cell_type": "markdown",
      "metadata": {
        "id": "9gnmp6pUk4p9"
      },
      "source": [
        "#логистическая регрессия для нормализованных данных"
      ]
    },
    {
      "cell_type": "code",
      "metadata": {
        "colab": {
          "base_uri": "https://localhost:8080/"
        },
        "id": "68AJJyUTjEMB",
        "outputId": "0da7946c-40f3-4396-b108-83963a40688d"
      },
      "source": [
        "X_train, X_test, y_train, y_test = train_test_split(X_norm,y, test_size=0.3, random_state = 42)\n",
        "model = LogisticRegression()\n",
        "model.fit(X_train, y_train)\n",
        "y_pred = model.predict(X_test)\n",
        "\n",
        "print(\"Accuracy\" , accuracy_score(y_test, y_pred))\n",
        "print(\"Recall\" ,recall_score(y_test, y_pred))\n",
        "print(\"Precision\" , precision_score(y_test, y_pred)) "
      ],
      "execution_count": null,
      "outputs": [
        {
          "output_type": "stream",
          "text": [
            "Accuracy 0.8900478053020426\n",
            "Recall 0.8585043988269795\n",
            "Precision 0.9512591389114541\n"
          ],
          "name": "stdout"
        }
      ]
    },
    {
      "cell_type": "markdown",
      "metadata": {
        "id": "8crbzmNvk69Y"
      },
      "source": [
        "#логистическая регрессия для стандартизированных данных"
      ]
    },
    {
      "cell_type": "code",
      "metadata": {
        "colab": {
          "base_uri": "https://localhost:8080/"
        },
        "id": "XjpOxhDPjHAE",
        "outputId": "448c2fed-1851-4dde-d23a-58ed9c3da0de"
      },
      "source": [
        "X_train, X_test, y_train, y_test = train_test_split(X_st,y, test_size=0.3, random_state = 42)\n",
        "model = LogisticRegression()\n",
        "model.fit(X_train, y_train)\n",
        "y_pred = model.predict(X_test)\n",
        "\n",
        "print(\"Accuracy\" , accuracy_score(y_test, y_pred))\n",
        "print(\"Recall\" ,recall_score(y_test, y_pred))\n",
        "print(\"Precision\" , precision_score(y_test, y_pred)) "
      ],
      "execution_count": null,
      "outputs": [
        {
          "output_type": "stream",
          "text": [
            "Accuracy 0.8904823989569752\n",
            "Recall 0.8599706744868035\n",
            "Precision 0.9505672609400324\n"
          ],
          "name": "stdout"
        }
      ]
    },
    {
      "cell_type": "markdown",
      "metadata": {
        "id": "X-BgRUc_k830"
      },
      "source": [
        "# метод ближайших соседей (для стандартизированных  данных)"
      ]
    },
    {
      "cell_type": "code",
      "metadata": {
        "colab": {
          "base_uri": "https://localhost:8080/"
        },
        "id": "IoarqkzOjLkU",
        "outputId": "cc14caf8-52bb-4bf1-cfe4-ade0c341934c"
      },
      "source": [
        "X_train, X_test, y_train, y_test = train_test_split(X_st, y, test_size=0.3, random_state = 42)\n",
        "\n",
        "scores = []\n",
        "for i in range(1,15):\n",
        "\n",
        "  knn = KNeighborsClassifier(i)\n",
        "  knn.fit(X_train, y_train)\n",
        "  answers = knn.predict(X_test)\n",
        "\n",
        "  scores.append(knn.score(X_test, y_test))\n",
        "\n",
        "print(scores)\n",
        "\n",
        "\n",
        "max_score = max(scores)\n",
        "scores_ind = [i for i, v in enumerate(scores) if v == max_score]\n",
        "scores_ind\n",
        "\n",
        "\n",
        "knn = KNeighborsClassifier(3)\n",
        "\n",
        "knn.fit(X_train, y_train)\n",
        "\n",
        "y_pred = knn.predict(X_test)\n",
        "\n",
        "confusion_matrix(y_test, y_pred)\n",
        "\n",
        "print(\"Accuracy\" , accuracy_score(y_test, y_pred))\n",
        "print(\"Recall\" ,recall_score(y_test, y_pred))\n",
        "print(\"Precision\" , precision_score(y_test, y_pred)) \n"
      ],
      "execution_count": null,
      "outputs": [
        {
          "output_type": "stream",
          "text": [
            "[0.8383311603650587, 0.8426770969143851, 0.8600608431116906, 0.8504997827031725, 0.8639721860060843, 0.85832246849196, 0.8670143415906127, 0.8626684050412864, 0.8622338113863538, 0.8565840938722294, 0.8600608431116906, 0.8609300304215558, 0.8622338113863538, 0.8622338113863538]\n",
            "Accuracy 0.8600608431116906\n",
            "Recall 0.8475073313782991\n",
            "Precision 0.9102362204724409\n"
          ],
          "name": "stdout"
        }
      ]
    },
    {
      "cell_type": "markdown",
      "metadata": {
        "id": "cQJbA9idk_F_"
      },
      "source": [
        "# метод ближайших соседей (для нормализованных данных)"
      ]
    },
    {
      "cell_type": "code",
      "metadata": {
        "colab": {
          "base_uri": "https://localhost:8080/"
        },
        "id": "L-CSrxqnjSYy",
        "outputId": "bf41d06f-4039-457e-ed59-e4b3253778a4"
      },
      "source": [
        "\n",
        "\n",
        "X_train, X_test, y_train, y_test = train_test_split(X_norm, y, test_size=0.3, random_state = 42)\n",
        "\n",
        "scores = []\n",
        "for i in range(1,15):\n",
        "\n",
        "  knn = KNeighborsClassifier(i)\n",
        "  knn.fit(X_train, y_train)\n",
        "  answers = knn.predict(X_test)\n",
        "\n",
        "  scores.append(knn.score(X_test, y_test))\n",
        "\n",
        "print(scores)\n",
        "\n",
        "\n",
        "max_score = max(scores)\n",
        "scores_ind = [i for i, v in enumerate(scores) if v == max_score]\n",
        "scores_ind\n",
        "\n",
        "\n",
        "knn = KNeighborsClassifier(1)\n",
        "\n",
        "knn.fit(X_train, y_train)\n",
        "\n",
        "y_pred = knn.predict(X_test)\n",
        "\n",
        "confusion_matrix(y_test, y_pred)\n",
        "\n",
        "\n",
        "\n",
        "\n",
        "print(\"Accuracy\" , accuracy_score(y_test, y_pred))\n",
        "print(\"Recall\" ,recall_score(y_test, y_pred))\n",
        "print(\"Precision\" , precision_score(y_test, y_pred))"
      ],
      "execution_count": null,
      "outputs": [
        {
          "output_type": "stream",
          "text": [
            "[0.8478922207735767, 0.853541938287701, 0.8609300304215558, 0.8604954367666232, 0.8596262494567579, 0.8613646240764885, 0.8652759669708823, 0.8617992177314211, 0.864406779661017, 0.8617992177314211, 0.8596262494567579, 0.8617992177314211, 0.8657105606258149, 0.8661451542807475]\n",
            "Accuracy 0.8478922207735767\n",
            "Recall 0.8504398826979472\n",
            "Precision 0.888208269525268\n"
          ],
          "name": "stdout"
        }
      ]
    },
    {
      "cell_type": "markdown",
      "metadata": {
        "id": "m5KeLU4klBRS"
      },
      "source": [
        "# логистическая регрессия с помощью кросс-валидации (для нормализованных данных)"
      ]
    },
    {
      "cell_type": "code",
      "metadata": {
        "colab": {
          "base_uri": "https://localhost:8080/"
        },
        "id": "DOdQQGE1jZkr",
        "outputId": "c151f565-c6c9-4235-f245-af34aab70077"
      },
      "source": [
        "\n",
        "\n",
        "X_train, X_test, y_train, y_test = train_test_split(X_norm,y, test_size=0.3, random_state = 42)\n",
        "model = LogisticRegression()\n",
        "model.fit(X_train, y_train)\n",
        "y_pred = model.predict(X_test)\n",
        "\n",
        "cvs = cross_val_score(estimator = model, X = X_norm, y = y, cv = kf, scoring = 'accuracy')\n",
        "\n",
        "print(cvs)\n",
        "print(cvs.mean())"
      ],
      "execution_count": null,
      "outputs": [
        {
          "output_type": "stream",
          "text": [
            "Accuracy 0.8900478053020426\n",
            "Recall 0.8585043988269795\n",
            "Precision 0.9512591389114541\n"
          ],
          "name": "stdout"
        }
      ]
    },
    {
      "cell_type": "markdown",
      "metadata": {
        "id": "-A1e-3h4lDdF"
      },
      "source": [
        "# логистическая регрессия с помощью кросс-валидации (для стандартизированных данных)"
      ]
    },
    {
      "cell_type": "code",
      "metadata": {
        "colab": {
          "base_uri": "https://localhost:8080/"
        },
        "id": "dEsgbmUejfkk",
        "outputId": "60be6f38-a297-4e00-8e57-af94a8efdeb6"
      },
      "source": [
        "X_train, X_test, y_train, y_test = train_test_split(X_st,y, test_size=0.3, random_state = 42)\n",
        "model = LogisticRegression()\n",
        "model.fit(X_train, y_train)\n",
        "y_pred = model.predict(X_test)\n",
        "\n",
        "cvs = cross_val_score(estimator = model, X = X_norm, y = y, cv = kf, scoring = 'accuracy')\n",
        "\n",
        "print(cvs)\n",
        "print(cvs.mean())"
      ],
      "execution_count": null,
      "outputs": [
        {
          "output_type": "stream",
          "text": [
            "Accuracy 0.8904823989569752\n",
            "Recall 0.8599706744868035\n",
            "Precision 0.9505672609400324\n"
          ],
          "name": "stdout"
        }
      ]
    },
    {
      "cell_type": "markdown",
      "metadata": {
        "id": "aPoBDhVhlGiX"
      },
      "source": [
        "# метод ближайших соседей с помощью кросс-валидации (для нормализованных данных)"
      ]
    },
    {
      "cell_type": "code",
      "metadata": {
        "colab": {
          "base_uri": "https://localhost:8080/"
        },
        "id": "-on4E35kjhAU",
        "outputId": "2702f7e1-9997-4a09-b004-8767cc117e89"
      },
      "source": [
        "X_train, X_test, y_train, y_test = train_test_split(X_norm, y, test_size=0.3, random_state = 42)\n",
        "\n",
        "scores = []\n",
        "for i in range(1,15):\n",
        "\n",
        "  knn = KNeighborsClassifier(i)\n",
        "  knn.fit(X_train, y_train)\n",
        "  answers = knn.predict(X_test)\n",
        "\n",
        "  scores.append(knn.score(X_test, y_test))\n",
        "\n",
        "print(scores)\n",
        "\n",
        "\n",
        "max_score = max(scores)\n",
        "scores_ind = [i for i, v in enumerate(scores) if v == max_score]\n",
        "scores_ind\n",
        "\n",
        "\n",
        "\n",
        "\n",
        "knn = KNeighborsClassifier(7)\n",
        "\n",
        "knn.fit(X_train, y_train)\n",
        "\n",
        "y_pred = knn.predict(X_test)\n",
        "\n",
        "confusion_matrix(y_test, y_pred)\n",
        "\n",
        "print(\"Accuracy\" , accuracy_score(y_test, y_pred))\n",
        "print(\"Recall\" ,recall_score(y_test, y_pred))\n",
        "print(\"Precision\" , precision_score(y_test, y_pred)) \n",
        "\n",
        "\n",
        "cvs = cross_val_score(estimator = model, X = X_norm, y = y, cv = kf, scoring = 'accuracy')\n",
        "\n",
        "print(cvs)\n",
        "print(cvs.mean())"
      ],
      "execution_count": null,
      "outputs": [
        {
          "output_type": "stream",
          "text": [
            "[0.8478922207735767, 0.853541938287701, 0.8609300304215558, 0.8604954367666232, 0.8596262494567579, 0.8613646240764885, 0.8652759669708823, 0.8617992177314211, 0.864406779661017, 0.8617992177314211, 0.8596262494567579, 0.8617992177314211, 0.8657105606258149, 0.8661451542807475]\n",
            "Accuracy 0.8652759669708823\n",
            "Recall 0.8409090909090909\n",
            "Precision 0.925\n",
            "[0.8559322  0.8559322  0.87092568 0.86049544 0.87345075]\n",
            "0.8633472556388739\n"
          ],
          "name": "stdout"
        }
      ]
    },
    {
      "cell_type": "markdown",
      "metadata": {
        "id": "mUOlbTojlIrw"
      },
      "source": [
        "# метод ближайших соседей с помощью кросс-валидации (для стандартизированных данных)"
      ]
    },
    {
      "cell_type": "code",
      "metadata": {
        "colab": {
          "base_uri": "https://localhost:8080/"
        },
        "id": "B74Y6_3CjoUV",
        "outputId": "c02446cb-13da-4946-e7d5-3f763c897788"
      },
      "source": [
        "X_train, X_test, y_train, y_test = train_test_split(X_st, y, test_size=0.3, random_state = 42)\n",
        "\n",
        "scores = []\n",
        "for i in range(1,15):\n",
        "\n",
        "  knn = KNeighborsClassifier(i)\n",
        "  knn.fit(X_train, y_train)\n",
        "  answers = knn.predict(X_test)\n",
        "\n",
        "  scores.append(knn.score(X_test, y_test))\n",
        "\n",
        "print(scores)\n",
        "\n",
        "\n",
        "max_score = max(scores)\n",
        "scores_ind = [i for i, v in enumerate(scores) if v == max_score]\n",
        "scores_ind\n",
        "\n",
        "\n",
        "\n",
        "\n",
        "knn = KNeighborsClassifier(7)\n",
        "\n",
        "knn.fit(X_train, y_train)\n",
        "\n",
        "y_pred = knn.predict(X_test)\n",
        "\n",
        "confusion_matrix(y_test, y_pred)\n",
        "\n",
        "\n",
        "\n",
        "\n",
        "print(\"Accuracy\" , accuracy_score(y_test, y_pred))\n",
        "print(\"Recall\" ,recall_score(y_test, y_pred))\n",
        "print(\"Precision\" , precision_score(y_test, y_pred)) \n",
        "\n",
        "cvs = cross_val_score(estimator = model, X = X_norm, y = y, cv = kf, scoring = 'accuracy')\n",
        "\n",
        "print(cvs)\n",
        "print(cvs.mean())"
      ],
      "execution_count": null,
      "outputs": [
        {
          "output_type": "stream",
          "text": [
            "[0.8383311603650587, 0.8426770969143851, 0.8600608431116906, 0.8504997827031725, 0.8639721860060843, 0.85832246849196, 0.8670143415906127, 0.8626684050412864, 0.8622338113863538, 0.8565840938722294, 0.8600608431116906, 0.8609300304215558, 0.8622338113863538, 0.8622338113863538]\n",
            "Accuracy 0.8670143415906127\n",
            "Recall 0.844574780058651\n",
            "Precision 0.9245585874799358\n",
            "[0.85397653 0.86701434 0.87157757 0.85853977 0.86823222]\n",
            "0.8638680876433373\n"
          ],
          "name": "stdout"
        }
      ]
    },
    {
      "cell_type": "markdown",
      "metadata": {
        "id": "iJfsKAgQlKxD"
      },
      "source": [
        "#метод опорных векторов для нормализованных данных"
      ]
    },
    {
      "cell_type": "code",
      "metadata": {
        "colab": {
          "base_uri": "https://localhost:8080/"
        },
        "id": "DgG1V98eju3E",
        "outputId": "c0bf40cf-15f0-49bc-9969-97bad0263dd1"
      },
      "source": [
        "X_train,X_test,y_train,y_test = train_test_split(X_norm, y, test_size=1/3, random_state=42)\n",
        "\n",
        "svm = SVC()\n",
        "\n",
        "svm.fit(X_train, y_train)\n",
        "y_pred_svm = svm.predict(X_test)\n",
        "\n",
        "print(\"Accuracy:\", accuracy_score(y_test,y_pred_svm))\n",
        "print(\"Recall:\", recall_score(y_test,y_pred_svm))\n",
        "print(\"Precision:\", precision_score(y_test,y_pred_svm))"
      ],
      "execution_count": null,
      "outputs": [
        {
          "output_type": "stream",
          "text": [
            "Accuracy: 0.8936253421978881\n",
            "Recall: 0.8536423841059603\n",
            "Precision: 0.9619402985074627\n"
          ],
          "name": "stdout"
        }
      ]
    },
    {
      "cell_type": "markdown",
      "metadata": {
        "id": "1ryYwcBNlMjp"
      },
      "source": [
        "#метод опорных векторов для стандартизированных данных"
      ]
    },
    {
      "cell_type": "code",
      "metadata": {
        "colab": {
          "base_uri": "https://localhost:8080/"
        },
        "id": "sjp3cAHmjza1",
        "outputId": "77086ec8-ba34-462d-8e08-23ff1c5d3f7d"
      },
      "source": [
        "\n",
        "\n",
        "X_train,X_test,y_train,y_test = train_test_split(X_st, y, test_size=1/3, random_state=42)\n",
        "\n",
        "svm = SVC()\n",
        "\n",
        "svm.fit(X_train, y_train)\n",
        "y_pred_svm = svm.predict(X_test)\n",
        "\n",
        "print(\"Accuracy:\", accuracy_score(y_test,y_pred_svm))\n",
        "print(\"Recall:\", recall_score(y_test,y_pred_svm))\n",
        "print(\"Precision:\", precision_score(y_test,y_pred_svm))"
      ],
      "execution_count": null,
      "outputs": [
        {
          "output_type": "stream",
          "text": [
            "Accuracy: 0.8932342588971451\n",
            "Recall: 0.8529801324503311\n",
            "Precision: 0.9619118745332338\n"
          ],
          "name": "stdout"
        }
      ]
    },
    {
      "cell_type": "code",
      "metadata": {
        "id": "IAsiqynqyQqW"
      },
      "source": [
        ""
      ],
      "execution_count": null,
      "outputs": []
    },
    {
      "cell_type": "markdown",
      "metadata": {
        "id": "pd8GMCLiZgVu"
      },
      "source": [
        "#Вывод"
      ]
    },
    {
      "cell_type": "markdown",
      "metadata": {
        "id": "2xQHReQ-Zmwn"
      },
      "source": [
        "С помощью данных представленных в датафрейме мы смогли довольно эффективно (с точностью 80-90%)определять в браке человек или нет, следовательно в данном наборе данных существуют довольно сильные, хоть на первый взгляд и не заметные, связи."
      ]
    }
  ]
}