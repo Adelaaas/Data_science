{
  "nbformat": 4,
  "nbformat_minor": 0,
  "metadata": {
    "colab": {
      "name": "ДЗ_на_04_03_21_(_логистическая_регрессия,_метод_ближайших_соседей_,_дерево_решений,_метод_опорных_векторов).ipynb",
      "provenance": [],
      "collapsed_sections": [],
      "toc_visible": true
    },
    "kernelspec": {
      "name": "python3",
      "display_name": "Python 3"
    }
  },
  "cells": [
    {
      "cell_type": "code",
      "metadata": {
        "id": "CzMmZs8o3axE"
      },
      "source": [
        "import pandas as pd\r\n",
        "\r\n",
        "from sklearn.preprocessing import LabelEncoder\r\n",
        "from sklearn.preprocessing import StandardScaler\r\n",
        "from sklearn.preprocessing import MinMaxScaler\r\n",
        "\r\n",
        "from sklearn.tree import DecisionTreeClassifier\r\n",
        "from sklearn.svm import SVC\r\n",
        "from sklearn.linear_model import LogisticRegression\r\n",
        "from sklearn.neighbors import  KNeighborsClassifier\r\n",
        "from sklearn.model_selection import KFold, cross_val_score\r\n",
        "\r\n",
        "from sklearn.metrics import accuracy_score, recall_score, precision_score, confusion_matrix\r\n",
        "from sklearn.model_selection import train_test_split"
      ],
      "execution_count": 1,
      "outputs": []
    },
    {
      "cell_type": "code",
      "metadata": {
        "colab": {
          "resources": {
            "http://localhost:8080/nbextensions/google.colab/files.js": {
              "data": "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",
              "ok": true,
              "headers": [
                [
                  "content-type",
                  "application/javascript"
                ]
              ],
              "status": 200,
              "status_text": ""
            }
          },
          "base_uri": "https://localhost:8080/",
          "height": 73
        },
        "id": "Eb18ysN63OqA",
        "outputId": "3489a6a4-0d5d-4417-90e0-11b64403d4f6"
      },
      "source": [
        "from google.colab import files\r\n",
        "uploaded = files.upload()"
      ],
      "execution_count": 2,
      "outputs": [
        {
          "output_type": "display_data",
          "data": {
            "text/html": [
              "\n",
              "     <input type=\"file\" id=\"files-b9343c66-5916-4838-bdc0-4bec97ba5c9e\" name=\"files[]\" multiple disabled\n",
              "        style=\"border:none\" />\n",
              "     <output id=\"result-b9343c66-5916-4838-bdc0-4bec97ba5c9e\">\n",
              "      Upload widget is only available when the cell has been executed in the\n",
              "      current browser session. Please rerun this cell to enable.\n",
              "      </output>\n",
              "      <script src=\"/nbextensions/google.colab/files.js\"></script> "
            ],
            "text/plain": [
              "<IPython.core.display.HTML object>"
            ]
          },
          "metadata": {
            "tags": []
          }
        },
        {
          "output_type": "stream",
          "text": [
            "Saving credit-g_csv.csv to credit-g_csv.csv\n"
          ],
          "name": "stdout"
        }
      ]
    },
    {
      "cell_type": "code",
      "metadata": {
        "colab": {
          "base_uri": "https://localhost:8080/",
          "height": 556
        },
        "id": "7xQf54S15qrv",
        "outputId": "77d0f4f2-c5cc-4745-d392-fec17d0b5bc1"
      },
      "source": [
        "df = pd.read_csv(\"credit-g_csv.csv\")\r\n",
        "df"
      ],
      "execution_count": 3,
      "outputs": [
        {
          "output_type": "execute_result",
          "data": {
            "text/html": [
              "<div>\n",
              "<style scoped>\n",
              "    .dataframe tbody tr th:only-of-type {\n",
              "        vertical-align: middle;\n",
              "    }\n",
              "\n",
              "    .dataframe tbody tr th {\n",
              "        vertical-align: top;\n",
              "    }\n",
              "\n",
              "    .dataframe thead th {\n",
              "        text-align: right;\n",
              "    }\n",
              "</style>\n",
              "<table border=\"1\" class=\"dataframe\">\n",
              "  <thead>\n",
              "    <tr style=\"text-align: right;\">\n",
              "      <th></th>\n",
              "      <th>checking_status</th>\n",
              "      <th>duration</th>\n",
              "      <th>credit_history</th>\n",
              "      <th>purpose</th>\n",
              "      <th>credit_amount</th>\n",
              "      <th>savings_status</th>\n",
              "      <th>employment</th>\n",
              "      <th>installment_commitment</th>\n",
              "      <th>personal_status</th>\n",
              "      <th>other_parties</th>\n",
              "      <th>residence_since</th>\n",
              "      <th>property_magnitude</th>\n",
              "      <th>age</th>\n",
              "      <th>other_payment_plans</th>\n",
              "      <th>housing</th>\n",
              "      <th>existing_credits</th>\n",
              "      <th>job</th>\n",
              "      <th>num_dependents</th>\n",
              "      <th>own_telephone</th>\n",
              "      <th>foreign_worker</th>\n",
              "      <th>class</th>\n",
              "    </tr>\n",
              "  </thead>\n",
              "  <tbody>\n",
              "    <tr>\n",
              "      <th>0</th>\n",
              "      <td>&lt;0</td>\n",
              "      <td>6</td>\n",
              "      <td>critical/other existing credit</td>\n",
              "      <td>radio/tv</td>\n",
              "      <td>1169</td>\n",
              "      <td>no known savings</td>\n",
              "      <td>&gt;=7</td>\n",
              "      <td>4</td>\n",
              "      <td>male single</td>\n",
              "      <td>none</td>\n",
              "      <td>4</td>\n",
              "      <td>real estate</td>\n",
              "      <td>67</td>\n",
              "      <td>none</td>\n",
              "      <td>own</td>\n",
              "      <td>2</td>\n",
              "      <td>skilled</td>\n",
              "      <td>1</td>\n",
              "      <td>yes</td>\n",
              "      <td>yes</td>\n",
              "      <td>good</td>\n",
              "    </tr>\n",
              "    <tr>\n",
              "      <th>1</th>\n",
              "      <td>0&lt;=X&lt;200</td>\n",
              "      <td>48</td>\n",
              "      <td>existing paid</td>\n",
              "      <td>radio/tv</td>\n",
              "      <td>5951</td>\n",
              "      <td>&lt;100</td>\n",
              "      <td>1&lt;=X&lt;4</td>\n",
              "      <td>2</td>\n",
              "      <td>female div/dep/mar</td>\n",
              "      <td>none</td>\n",
              "      <td>2</td>\n",
              "      <td>real estate</td>\n",
              "      <td>22</td>\n",
              "      <td>none</td>\n",
              "      <td>own</td>\n",
              "      <td>1</td>\n",
              "      <td>skilled</td>\n",
              "      <td>1</td>\n",
              "      <td>none</td>\n",
              "      <td>yes</td>\n",
              "      <td>bad</td>\n",
              "    </tr>\n",
              "    <tr>\n",
              "      <th>2</th>\n",
              "      <td>no checking</td>\n",
              "      <td>12</td>\n",
              "      <td>critical/other existing credit</td>\n",
              "      <td>education</td>\n",
              "      <td>2096</td>\n",
              "      <td>&lt;100</td>\n",
              "      <td>4&lt;=X&lt;7</td>\n",
              "      <td>2</td>\n",
              "      <td>male single</td>\n",
              "      <td>none</td>\n",
              "      <td>3</td>\n",
              "      <td>real estate</td>\n",
              "      <td>49</td>\n",
              "      <td>none</td>\n",
              "      <td>own</td>\n",
              "      <td>1</td>\n",
              "      <td>unskilled resident</td>\n",
              "      <td>2</td>\n",
              "      <td>none</td>\n",
              "      <td>yes</td>\n",
              "      <td>good</td>\n",
              "    </tr>\n",
              "    <tr>\n",
              "      <th>3</th>\n",
              "      <td>&lt;0</td>\n",
              "      <td>42</td>\n",
              "      <td>existing paid</td>\n",
              "      <td>furniture/equipment</td>\n",
              "      <td>7882</td>\n",
              "      <td>&lt;100</td>\n",
              "      <td>4&lt;=X&lt;7</td>\n",
              "      <td>2</td>\n",
              "      <td>male single</td>\n",
              "      <td>guarantor</td>\n",
              "      <td>4</td>\n",
              "      <td>life insurance</td>\n",
              "      <td>45</td>\n",
              "      <td>none</td>\n",
              "      <td>for free</td>\n",
              "      <td>1</td>\n",
              "      <td>skilled</td>\n",
              "      <td>2</td>\n",
              "      <td>none</td>\n",
              "      <td>yes</td>\n",
              "      <td>good</td>\n",
              "    </tr>\n",
              "    <tr>\n",
              "      <th>4</th>\n",
              "      <td>&lt;0</td>\n",
              "      <td>24</td>\n",
              "      <td>delayed previously</td>\n",
              "      <td>new car</td>\n",
              "      <td>4870</td>\n",
              "      <td>&lt;100</td>\n",
              "      <td>1&lt;=X&lt;4</td>\n",
              "      <td>3</td>\n",
              "      <td>male single</td>\n",
              "      <td>none</td>\n",
              "      <td>4</td>\n",
              "      <td>no known property</td>\n",
              "      <td>53</td>\n",
              "      <td>none</td>\n",
              "      <td>for free</td>\n",
              "      <td>2</td>\n",
              "      <td>skilled</td>\n",
              "      <td>2</td>\n",
              "      <td>none</td>\n",
              "      <td>yes</td>\n",
              "      <td>bad</td>\n",
              "    </tr>\n",
              "    <tr>\n",
              "      <th>...</th>\n",
              "      <td>...</td>\n",
              "      <td>...</td>\n",
              "      <td>...</td>\n",
              "      <td>...</td>\n",
              "      <td>...</td>\n",
              "      <td>...</td>\n",
              "      <td>...</td>\n",
              "      <td>...</td>\n",
              "      <td>...</td>\n",
              "      <td>...</td>\n",
              "      <td>...</td>\n",
              "      <td>...</td>\n",
              "      <td>...</td>\n",
              "      <td>...</td>\n",
              "      <td>...</td>\n",
              "      <td>...</td>\n",
              "      <td>...</td>\n",
              "      <td>...</td>\n",
              "      <td>...</td>\n",
              "      <td>...</td>\n",
              "      <td>...</td>\n",
              "    </tr>\n",
              "    <tr>\n",
              "      <th>995</th>\n",
              "      <td>no checking</td>\n",
              "      <td>12</td>\n",
              "      <td>existing paid</td>\n",
              "      <td>furniture/equipment</td>\n",
              "      <td>1736</td>\n",
              "      <td>&lt;100</td>\n",
              "      <td>4&lt;=X&lt;7</td>\n",
              "      <td>3</td>\n",
              "      <td>female div/dep/mar</td>\n",
              "      <td>none</td>\n",
              "      <td>4</td>\n",
              "      <td>real estate</td>\n",
              "      <td>31</td>\n",
              "      <td>none</td>\n",
              "      <td>own</td>\n",
              "      <td>1</td>\n",
              "      <td>unskilled resident</td>\n",
              "      <td>1</td>\n",
              "      <td>none</td>\n",
              "      <td>yes</td>\n",
              "      <td>good</td>\n",
              "    </tr>\n",
              "    <tr>\n",
              "      <th>996</th>\n",
              "      <td>&lt;0</td>\n",
              "      <td>30</td>\n",
              "      <td>existing paid</td>\n",
              "      <td>used car</td>\n",
              "      <td>3857</td>\n",
              "      <td>&lt;100</td>\n",
              "      <td>1&lt;=X&lt;4</td>\n",
              "      <td>4</td>\n",
              "      <td>male div/sep</td>\n",
              "      <td>none</td>\n",
              "      <td>4</td>\n",
              "      <td>life insurance</td>\n",
              "      <td>40</td>\n",
              "      <td>none</td>\n",
              "      <td>own</td>\n",
              "      <td>1</td>\n",
              "      <td>high qualif/self emp/mgmt</td>\n",
              "      <td>1</td>\n",
              "      <td>yes</td>\n",
              "      <td>yes</td>\n",
              "      <td>good</td>\n",
              "    </tr>\n",
              "    <tr>\n",
              "      <th>997</th>\n",
              "      <td>no checking</td>\n",
              "      <td>12</td>\n",
              "      <td>existing paid</td>\n",
              "      <td>radio/tv</td>\n",
              "      <td>804</td>\n",
              "      <td>&lt;100</td>\n",
              "      <td>&gt;=7</td>\n",
              "      <td>4</td>\n",
              "      <td>male single</td>\n",
              "      <td>none</td>\n",
              "      <td>4</td>\n",
              "      <td>car</td>\n",
              "      <td>38</td>\n",
              "      <td>none</td>\n",
              "      <td>own</td>\n",
              "      <td>1</td>\n",
              "      <td>skilled</td>\n",
              "      <td>1</td>\n",
              "      <td>none</td>\n",
              "      <td>yes</td>\n",
              "      <td>good</td>\n",
              "    </tr>\n",
              "    <tr>\n",
              "      <th>998</th>\n",
              "      <td>&lt;0</td>\n",
              "      <td>45</td>\n",
              "      <td>existing paid</td>\n",
              "      <td>radio/tv</td>\n",
              "      <td>1845</td>\n",
              "      <td>&lt;100</td>\n",
              "      <td>1&lt;=X&lt;4</td>\n",
              "      <td>4</td>\n",
              "      <td>male single</td>\n",
              "      <td>none</td>\n",
              "      <td>4</td>\n",
              "      <td>no known property</td>\n",
              "      <td>23</td>\n",
              "      <td>none</td>\n",
              "      <td>for free</td>\n",
              "      <td>1</td>\n",
              "      <td>skilled</td>\n",
              "      <td>1</td>\n",
              "      <td>yes</td>\n",
              "      <td>yes</td>\n",
              "      <td>bad</td>\n",
              "    </tr>\n",
              "    <tr>\n",
              "      <th>999</th>\n",
              "      <td>0&lt;=X&lt;200</td>\n",
              "      <td>45</td>\n",
              "      <td>critical/other existing credit</td>\n",
              "      <td>used car</td>\n",
              "      <td>4576</td>\n",
              "      <td>100&lt;=X&lt;500</td>\n",
              "      <td>unemployed</td>\n",
              "      <td>3</td>\n",
              "      <td>male single</td>\n",
              "      <td>none</td>\n",
              "      <td>4</td>\n",
              "      <td>car</td>\n",
              "      <td>27</td>\n",
              "      <td>none</td>\n",
              "      <td>own</td>\n",
              "      <td>1</td>\n",
              "      <td>skilled</td>\n",
              "      <td>1</td>\n",
              "      <td>none</td>\n",
              "      <td>yes</td>\n",
              "      <td>good</td>\n",
              "    </tr>\n",
              "  </tbody>\n",
              "</table>\n",
              "<p>1000 rows × 21 columns</p>\n",
              "</div>"
            ],
            "text/plain": [
              "    checking_status  duration  ... foreign_worker class\n",
              "0                <0         6  ...            yes  good\n",
              "1          0<=X<200        48  ...            yes   bad\n",
              "2       no checking        12  ...            yes  good\n",
              "3                <0        42  ...            yes  good\n",
              "4                <0        24  ...            yes   bad\n",
              "..              ...       ...  ...            ...   ...\n",
              "995     no checking        12  ...            yes  good\n",
              "996              <0        30  ...            yes  good\n",
              "997     no checking        12  ...            yes  good\n",
              "998              <0        45  ...            yes   bad\n",
              "999        0<=X<200        45  ...            yes  good\n",
              "\n",
              "[1000 rows x 21 columns]"
            ]
          },
          "metadata": {
            "tags": []
          },
          "execution_count": 3
        }
      ]
    },
    {
      "cell_type": "markdown",
      "metadata": {
        "id": "p8vtg1kGIv5f"
      },
      "source": [
        "# Исследование данных"
      ]
    },
    {
      "cell_type": "code",
      "metadata": {
        "colab": {
          "base_uri": "https://localhost:8080/"
        },
        "id": "3ogFXdeB_3YF",
        "outputId": "60d1aa1c-d83a-4a87-95dd-736078fdacbb"
      },
      "source": [
        "# размерность датафрейма (первое число - кол-во строк, второе - колонок)\n",
        "print(df.shape, \"\\n________________________________\\n\")\n",
        "\n",
        "# информация о столбцах датафрейма (номер столбца, название колонки, количество непустых ячеек в столбце, тип данных в ячейках)\n",
        "print(df.info(), \"\\n________________________________\\n\")\n",
        "\n",
        "# с помощью метода isna() и sum() посчитали сколько пропусков в ячейках колонок (isna() \"ищет\" эти ячейки, sum() считает их суммарное количество)\n",
        "print(df.isna().sum())"
      ],
      "execution_count": 4,
      "outputs": [
        {
          "output_type": "stream",
          "text": [
            "(1000, 21) \n",
            "________________________________\n",
            "\n",
            "<class 'pandas.core.frame.DataFrame'>\n",
            "RangeIndex: 1000 entries, 0 to 999\n",
            "Data columns (total 21 columns):\n",
            " #   Column                  Non-Null Count  Dtype \n",
            "---  ------                  --------------  ----- \n",
            " 0   checking_status         1000 non-null   object\n",
            " 1   duration                1000 non-null   int64 \n",
            " 2   credit_history          1000 non-null   object\n",
            " 3   purpose                 1000 non-null   object\n",
            " 4   credit_amount           1000 non-null   int64 \n",
            " 5   savings_status          1000 non-null   object\n",
            " 6   employment              1000 non-null   object\n",
            " 7   installment_commitment  1000 non-null   int64 \n",
            " 8   personal_status         1000 non-null   object\n",
            " 9   other_parties           1000 non-null   object\n",
            " 10  residence_since         1000 non-null   int64 \n",
            " 11  property_magnitude      1000 non-null   object\n",
            " 12  age                     1000 non-null   int64 \n",
            " 13  other_payment_plans     1000 non-null   object\n",
            " 14  housing                 1000 non-null   object\n",
            " 15  existing_credits        1000 non-null   int64 \n",
            " 16  job                     1000 non-null   object\n",
            " 17  num_dependents          1000 non-null   int64 \n",
            " 18  own_telephone           1000 non-null   object\n",
            " 19  foreign_worker          1000 non-null   object\n",
            " 20  class                   1000 non-null   object\n",
            "dtypes: int64(7), object(14)\n",
            "memory usage: 164.2+ KB\n",
            "None \n",
            "________________________________\n",
            "\n",
            "checking_status           0\n",
            "duration                  0\n",
            "credit_history            0\n",
            "purpose                   0\n",
            "credit_amount             0\n",
            "savings_status            0\n",
            "employment                0\n",
            "installment_commitment    0\n",
            "personal_status           0\n",
            "other_parties             0\n",
            "residence_since           0\n",
            "property_magnitude        0\n",
            "age                       0\n",
            "other_payment_plans       0\n",
            "housing                   0\n",
            "existing_credits          0\n",
            "job                       0\n",
            "num_dependents            0\n",
            "own_telephone             0\n",
            "foreign_worker            0\n",
            "class                     0\n",
            "dtype: int64\n"
          ],
          "name": "stdout"
        }
      ]
    },
    {
      "cell_type": "code",
      "metadata": {
        "id": "_7vXnC4LTJP8"
      },
      "source": [
        "# колонки checking_status, duration, purpose, personal_status, own_telephone, credit_amount, age не несут смысловой нагрузки, поэтому их можно удалить с помощью метода drop()\r\n",
        "df = df.drop(['checking_status', 'duration', 'purpose', 'personal_status', 'own_telephone', 'credit_amount', 'age'], axis = 1)"
      ],
      "execution_count": 5,
      "outputs": []
    },
    {
      "cell_type": "code",
      "metadata": {
        "colab": {
          "base_uri": "https://localhost:8080/",
          "height": 539
        },
        "id": "E4Yd5KA44F4O",
        "outputId": "550c9052-c1e3-4cb0-be56-a0a748a4be59"
      },
      "source": [
        "df"
      ],
      "execution_count": 6,
      "outputs": [
        {
          "output_type": "execute_result",
          "data": {
            "text/html": [
              "<div>\n",
              "<style scoped>\n",
              "    .dataframe tbody tr th:only-of-type {\n",
              "        vertical-align: middle;\n",
              "    }\n",
              "\n",
              "    .dataframe tbody tr th {\n",
              "        vertical-align: top;\n",
              "    }\n",
              "\n",
              "    .dataframe thead th {\n",
              "        text-align: right;\n",
              "    }\n",
              "</style>\n",
              "<table border=\"1\" class=\"dataframe\">\n",
              "  <thead>\n",
              "    <tr style=\"text-align: right;\">\n",
              "      <th></th>\n",
              "      <th>credit_history</th>\n",
              "      <th>savings_status</th>\n",
              "      <th>employment</th>\n",
              "      <th>installment_commitment</th>\n",
              "      <th>other_parties</th>\n",
              "      <th>residence_since</th>\n",
              "      <th>property_magnitude</th>\n",
              "      <th>other_payment_plans</th>\n",
              "      <th>housing</th>\n",
              "      <th>existing_credits</th>\n",
              "      <th>job</th>\n",
              "      <th>num_dependents</th>\n",
              "      <th>foreign_worker</th>\n",
              "      <th>class</th>\n",
              "    </tr>\n",
              "  </thead>\n",
              "  <tbody>\n",
              "    <tr>\n",
              "      <th>0</th>\n",
              "      <td>critical/other existing credit</td>\n",
              "      <td>no known savings</td>\n",
              "      <td>&gt;=7</td>\n",
              "      <td>4</td>\n",
              "      <td>none</td>\n",
              "      <td>4</td>\n",
              "      <td>real estate</td>\n",
              "      <td>none</td>\n",
              "      <td>own</td>\n",
              "      <td>2</td>\n",
              "      <td>skilled</td>\n",
              "      <td>1</td>\n",
              "      <td>yes</td>\n",
              "      <td>good</td>\n",
              "    </tr>\n",
              "    <tr>\n",
              "      <th>1</th>\n",
              "      <td>existing paid</td>\n",
              "      <td>&lt;100</td>\n",
              "      <td>1&lt;=X&lt;4</td>\n",
              "      <td>2</td>\n",
              "      <td>none</td>\n",
              "      <td>2</td>\n",
              "      <td>real estate</td>\n",
              "      <td>none</td>\n",
              "      <td>own</td>\n",
              "      <td>1</td>\n",
              "      <td>skilled</td>\n",
              "      <td>1</td>\n",
              "      <td>yes</td>\n",
              "      <td>bad</td>\n",
              "    </tr>\n",
              "    <tr>\n",
              "      <th>2</th>\n",
              "      <td>critical/other existing credit</td>\n",
              "      <td>&lt;100</td>\n",
              "      <td>4&lt;=X&lt;7</td>\n",
              "      <td>2</td>\n",
              "      <td>none</td>\n",
              "      <td>3</td>\n",
              "      <td>real estate</td>\n",
              "      <td>none</td>\n",
              "      <td>own</td>\n",
              "      <td>1</td>\n",
              "      <td>unskilled resident</td>\n",
              "      <td>2</td>\n",
              "      <td>yes</td>\n",
              "      <td>good</td>\n",
              "    </tr>\n",
              "    <tr>\n",
              "      <th>3</th>\n",
              "      <td>existing paid</td>\n",
              "      <td>&lt;100</td>\n",
              "      <td>4&lt;=X&lt;7</td>\n",
              "      <td>2</td>\n",
              "      <td>guarantor</td>\n",
              "      <td>4</td>\n",
              "      <td>life insurance</td>\n",
              "      <td>none</td>\n",
              "      <td>for free</td>\n",
              "      <td>1</td>\n",
              "      <td>skilled</td>\n",
              "      <td>2</td>\n",
              "      <td>yes</td>\n",
              "      <td>good</td>\n",
              "    </tr>\n",
              "    <tr>\n",
              "      <th>4</th>\n",
              "      <td>delayed previously</td>\n",
              "      <td>&lt;100</td>\n",
              "      <td>1&lt;=X&lt;4</td>\n",
              "      <td>3</td>\n",
              "      <td>none</td>\n",
              "      <td>4</td>\n",
              "      <td>no known property</td>\n",
              "      <td>none</td>\n",
              "      <td>for free</td>\n",
              "      <td>2</td>\n",
              "      <td>skilled</td>\n",
              "      <td>2</td>\n",
              "      <td>yes</td>\n",
              "      <td>bad</td>\n",
              "    </tr>\n",
              "    <tr>\n",
              "      <th>...</th>\n",
              "      <td>...</td>\n",
              "      <td>...</td>\n",
              "      <td>...</td>\n",
              "      <td>...</td>\n",
              "      <td>...</td>\n",
              "      <td>...</td>\n",
              "      <td>...</td>\n",
              "      <td>...</td>\n",
              "      <td>...</td>\n",
              "      <td>...</td>\n",
              "      <td>...</td>\n",
              "      <td>...</td>\n",
              "      <td>...</td>\n",
              "      <td>...</td>\n",
              "    </tr>\n",
              "    <tr>\n",
              "      <th>995</th>\n",
              "      <td>existing paid</td>\n",
              "      <td>&lt;100</td>\n",
              "      <td>4&lt;=X&lt;7</td>\n",
              "      <td>3</td>\n",
              "      <td>none</td>\n",
              "      <td>4</td>\n",
              "      <td>real estate</td>\n",
              "      <td>none</td>\n",
              "      <td>own</td>\n",
              "      <td>1</td>\n",
              "      <td>unskilled resident</td>\n",
              "      <td>1</td>\n",
              "      <td>yes</td>\n",
              "      <td>good</td>\n",
              "    </tr>\n",
              "    <tr>\n",
              "      <th>996</th>\n",
              "      <td>existing paid</td>\n",
              "      <td>&lt;100</td>\n",
              "      <td>1&lt;=X&lt;4</td>\n",
              "      <td>4</td>\n",
              "      <td>none</td>\n",
              "      <td>4</td>\n",
              "      <td>life insurance</td>\n",
              "      <td>none</td>\n",
              "      <td>own</td>\n",
              "      <td>1</td>\n",
              "      <td>high qualif/self emp/mgmt</td>\n",
              "      <td>1</td>\n",
              "      <td>yes</td>\n",
              "      <td>good</td>\n",
              "    </tr>\n",
              "    <tr>\n",
              "      <th>997</th>\n",
              "      <td>existing paid</td>\n",
              "      <td>&lt;100</td>\n",
              "      <td>&gt;=7</td>\n",
              "      <td>4</td>\n",
              "      <td>none</td>\n",
              "      <td>4</td>\n",
              "      <td>car</td>\n",
              "      <td>none</td>\n",
              "      <td>own</td>\n",
              "      <td>1</td>\n",
              "      <td>skilled</td>\n",
              "      <td>1</td>\n",
              "      <td>yes</td>\n",
              "      <td>good</td>\n",
              "    </tr>\n",
              "    <tr>\n",
              "      <th>998</th>\n",
              "      <td>existing paid</td>\n",
              "      <td>&lt;100</td>\n",
              "      <td>1&lt;=X&lt;4</td>\n",
              "      <td>4</td>\n",
              "      <td>none</td>\n",
              "      <td>4</td>\n",
              "      <td>no known property</td>\n",
              "      <td>none</td>\n",
              "      <td>for free</td>\n",
              "      <td>1</td>\n",
              "      <td>skilled</td>\n",
              "      <td>1</td>\n",
              "      <td>yes</td>\n",
              "      <td>bad</td>\n",
              "    </tr>\n",
              "    <tr>\n",
              "      <th>999</th>\n",
              "      <td>critical/other existing credit</td>\n",
              "      <td>100&lt;=X&lt;500</td>\n",
              "      <td>unemployed</td>\n",
              "      <td>3</td>\n",
              "      <td>none</td>\n",
              "      <td>4</td>\n",
              "      <td>car</td>\n",
              "      <td>none</td>\n",
              "      <td>own</td>\n",
              "      <td>1</td>\n",
              "      <td>skilled</td>\n",
              "      <td>1</td>\n",
              "      <td>yes</td>\n",
              "      <td>good</td>\n",
              "    </tr>\n",
              "  </tbody>\n",
              "</table>\n",
              "<p>1000 rows × 14 columns</p>\n",
              "</div>"
            ],
            "text/plain": [
              "                     credit_history    savings_status  ... foreign_worker  class\n",
              "0    critical/other existing credit  no known savings  ...            yes   good\n",
              "1                     existing paid              <100  ...            yes    bad\n",
              "2    critical/other existing credit              <100  ...            yes   good\n",
              "3                     existing paid              <100  ...            yes   good\n",
              "4                delayed previously              <100  ...            yes    bad\n",
              "..                              ...               ...  ...            ...    ...\n",
              "995                   existing paid              <100  ...            yes   good\n",
              "996                   existing paid              <100  ...            yes   good\n",
              "997                   existing paid              <100  ...            yes   good\n",
              "998                   existing paid              <100  ...            yes    bad\n",
              "999  critical/other existing credit        100<=X<500  ...            yes   good\n",
              "\n",
              "[1000 rows x 14 columns]"
            ]
          },
          "metadata": {
            "tags": []
          },
          "execution_count": 6
        }
      ]
    },
    {
      "cell_type": "code",
      "metadata": {
        "colab": {
          "base_uri": "https://localhost:8080/"
        },
        "id": "VzMK3yWGOc3W",
        "outputId": "536da91c-0a19-4b90-d5f0-e6caa0a45481"
      },
      "source": [
        "df.info()"
      ],
      "execution_count": 7,
      "outputs": [
        {
          "output_type": "stream",
          "text": [
            "<class 'pandas.core.frame.DataFrame'>\n",
            "RangeIndex: 1000 entries, 0 to 999\n",
            "Data columns (total 14 columns):\n",
            " #   Column                  Non-Null Count  Dtype \n",
            "---  ------                  --------------  ----- \n",
            " 0   credit_history          1000 non-null   object\n",
            " 1   savings_status          1000 non-null   object\n",
            " 2   employment              1000 non-null   object\n",
            " 3   installment_commitment  1000 non-null   int64 \n",
            " 4   other_parties           1000 non-null   object\n",
            " 5   residence_since         1000 non-null   int64 \n",
            " 6   property_magnitude      1000 non-null   object\n",
            " 7   other_payment_plans     1000 non-null   object\n",
            " 8   housing                 1000 non-null   object\n",
            " 9   existing_credits        1000 non-null   int64 \n",
            " 10  job                     1000 non-null   object\n",
            " 11  num_dependents          1000 non-null   int64 \n",
            " 12  foreign_worker          1000 non-null   object\n",
            " 13  class                   1000 non-null   object\n",
            "dtypes: int64(4), object(10)\n",
            "memory usage: 109.5+ KB\n"
          ],
          "name": "stdout"
        }
      ]
    },
    {
      "cell_type": "markdown",
      "metadata": {
        "id": "5po8OZHr4eOH"
      },
      "source": [
        "Значений nan в датасете нет, поэтому можно сразу переходить к работе с категориальными признаками"
      ]
    },
    {
      "cell_type": "markdown",
      "metadata": {
        "id": "oMByz6XQIv5h"
      },
      "source": [
        "# Преобразование категориальных признаков"
      ]
    },
    {
      "cell_type": "code",
      "metadata": {
        "id": "5huoWrLXO5MK"
      },
      "source": [
        "# категориальные признаки находящиеся в колонках credit_history, savings_status, employment, other_parties, \n",
        "# property_magnitude, other_payment_plans, housing, job, foreign_worker преобразуем с помощью метода get_dammies()\n",
        "\n",
        "df = pd.get_dummies(df, columns=['credit_history', 'savings_status','employment', 'other_parties', 'property_magnitude', 'other_payment_plans', 'housing', 'job', 'foreign_worker'])\n",
        "\n",
        "# так как колонка class - это ответы, которые нужно представить в виде одной колонки, их преобразуем с помощью метода LabelEncoder \n",
        "x = LabelEncoder()\n",
        "label = x.fit_transform(df['class'])\n",
        "df['class'] = label\n",
        "df"
      ],
      "execution_count": null,
      "outputs": []
    },
    {
      "cell_type": "code",
      "metadata": {
        "id": "jtOQW9o1SfqG"
      },
      "source": [
        "# создаём вектор признаков и вектор ответов\r\n",
        "X = df.drop(['class'], axis=1)\r\n",
        "y = df['class']"
      ],
      "execution_count": 10,
      "outputs": []
    },
    {
      "cell_type": "code",
      "metadata": {
        "id": "zfsn4j68TRnz"
      },
      "source": [
        "# для дальнейшей работы стандартизиуем и нормализуем данные с помощью функций StandardScaler и MinMaxScaler соответственно\r\n",
        "\r\n",
        "# стандартизация\r\n",
        "standart = StandardScaler()\r\n",
        "X_st = standart.fit_transform(X)\r\n",
        "\r\n",
        "# нормализация\r\n",
        "norm = MinMaxScaler()\r\n",
        "X_norm = norm.fit_transform(X)"
      ],
      "execution_count": 12,
      "outputs": []
    },
    {
      "cell_type": "markdown",
      "metadata": {
        "id": "QdEynpbKa6y6"
      },
      "source": [
        "# Дерево решений"
      ]
    },
    {
      "cell_type": "markdown",
      "metadata": {
        "id": "B131uOkgIv5i"
      },
      "source": [
        "## Обычные данные"
      ]
    },
    {
      "cell_type": "code",
      "metadata": {
        "colab": {
          "base_uri": "https://localhost:8080/"
        },
        "id": "9hHl6du7Y7lm",
        "outputId": "9324db44-a85a-4328-c0c3-fc0bcdf5924d"
      },
      "source": [
        "# делим данными на тестовые и тренировочные с помощью метода train_test_split\n",
        "X_train, X_test, y_train, y_test = train_test_split(X, y, test_size=1/3, random_state=42)\n",
        "\n",
        "# создаем модель\n",
        "tree = DecisionTreeClassifier(random_state=1)\n",
        "\n",
        "# обучаем модель\n",
        "tree.fit(X_train, y_train)\n",
        "\n",
        "# тестируем модель\n",
        "y_predict_tree = tree.predict(X_test)\n",
        "\n",
        "# оценивать модель будем с помощью оценок accuracy, recall, precision\n",
        "\n",
        "tree_accuracy = accuracy_score(y_test,y_predict_tree)\n",
        "tree_recall =  recall_score(y_test,y_predict_tree)\n",
        "tree_precision =  precision_score(y_test,y_predict_tree)\n",
        "\n",
        "print(\"Tree accuracy:\", tree_accuracy)\n",
        "print(\"Tree recall:\", tree_recall)\n",
        "print(\"Tree precision:\", tree_precision)\n",
        "\n",
        "# оценки модели вышли средними (не очень хорошими, но и не плохими)\n",
        "\n",
        "# матрица ошибок модели (метод confusion_matrix)\n",
        "\n",
        "print('\\nConfusion matrix:\\n', confusion_matrix(y_test, y_predict_tree))"
      ],
      "execution_count": 14,
      "outputs": [
        {
          "output_type": "stream",
          "text": [
            "DecisionTreeClassifier accuracy: 0.6287425149700598\n",
            "DecisionTreeClassifier recall: 0.6982758620689655\n",
            "DecisionTreeClassifier precision: 0.75\n",
            "\n",
            "Confusion matrix:\n",
            " [[ 48  54]\n",
            " [ 70 162]]\n"
          ],
          "name": "stdout"
        }
      ]
    },
    {
      "cell_type": "markdown",
      "metadata": {
        "id": "zaPtTprHIv5j"
      },
      "source": [
        "## Нормализованные данные"
      ]
    },
    {
      "cell_type": "code",
      "metadata": {
        "colab": {
          "base_uri": "https://localhost:8080/"
        },
        "id": "KQRDwoxOffpf",
        "outputId": "441e527c-4c4d-4036-c2a2-8d0423eb6bbb"
      },
      "source": [
        "# делим данными на тестовые иы тренировочные\n",
        "X_train, X_test, y_train, y_test = train_test_split(X_norm, y, test_size=1/3, random_state=42)\n",
        "\n",
        "# создаем модель\n",
        "tree = DecisionTreeClassifier(random_state=1)\n",
        "\n",
        "# обучаем модель\n",
        "tree.fit(X_train, y_train)\n",
        "\n",
        "# тестируем модель\n",
        "y_predict_tree_norm = tree.predict(X_test)\n",
        "\n",
        "# оценка\n",
        "\n",
        "tree_accuracy_norm = accuracy_score(y_test, y_predict_tree_norm)\n",
        "tree_recall_norm =  recall_score(y_test, y_predict_tree_norm)\n",
        "tree_precision_norm =  precision_score(y_test, y_predict_tree_norm)\n",
        "\n",
        "print(\"Tree accuracy norm:\", tree_accuracy_norm)\n",
        "print(\"Tree recall norm:\", tree_recall_norm)\n",
        "print(\"Tree precision norm:\", tree_precision_norm)\n",
        "\n",
        "# оценки модели на нормализованных данных также вышли средними\n",
        "\n",
        "# матрица ошибок модели\n",
        "\n",
        "print('\\nConfusion matrix norm:\\n', confusion_matrix(y_test, y_predict_tree_norm))"
      ],
      "execution_count": null,
      "outputs": [
        {
          "output_type": "stream",
          "text": [
            "DecisionTreeClassifier accuracy norm: 0.6197604790419161\n",
            "DecisionTreeClassifier recall norm: 0.6982758620689655\n",
            "DecisionTreeClassifier precision norm: 0.7397260273972602\n",
            "\n",
            "Confusion matrix norm:\n",
            " [[ 45  57]\n",
            " [ 70 162]]\n"
          ],
          "name": "stdout"
        }
      ]
    },
    {
      "cell_type": "markdown",
      "metadata": {
        "id": "dANl_VjaIv5j"
      },
      "source": [
        "## Стандартизованные данные"
      ]
    },
    {
      "cell_type": "code",
      "metadata": {
        "colab": {
          "base_uri": "https://localhost:8080/"
        },
        "id": "MazcTIoZgtVx",
        "outputId": "0e87a8a4-b934-4b99-cc67-97a0e9fffbb9"
      },
      "source": [
        "# делим данными на тестовые и тренировочные\n",
        "X_train, X_test, y_train, y_test = train_test_split(X_st, y, test_size=1/3, random_state=42)\n",
        "\n",
        "# создаем модель\n",
        "tree = DecisionTreeClassifier(random_state=1)\n",
        "\n",
        "# обучаем модель\n",
        "tree.fit(X_train, y_train)\n",
        "\n",
        "# тестируем модель\n",
        "y_predict_tree_st = tree.predict(X_test)\n",
        "\n",
        "# оценка\n",
        "tree_accuracy_st = accuracy_score(y_test, y_predict_tree_st)\n",
        "tree_recall_st =  recall_score(y_test, y_predict_tree_st)\n",
        "tree_precision_st =  precision_score(y_test, y_predict_tree_st)\n",
        "\n",
        "print(\"Tree accuracy st:\", tree_accuracy_st)\n",
        "print(\"Tree recall st:\", tree_recall_st)\n",
        "print(\"Tree precision st:\", tree_precision_st)\n",
        "\n",
        "# оценки модели на стандартизированных данных также вышли средними\n",
        "\n",
        "# матрица ошибок\n",
        "\n",
        "print('\\nConfusion matrix st:\\n', confusion_matrix(y_test,y_predict_tree_st))"
      ],
      "execution_count": null,
      "outputs": [
        {
          "output_type": "stream",
          "text": [
            "DecisionTreeClassifier accuracy norm: 0.6287425149700598\n",
            "DecisionTreeClassifier recall norm: 0.6982758620689655\n",
            "DecisionTreeClassifier precision norm: 0.75\n",
            "\n",
            "Confusion matrix st:\n",
            " [[ 48  54]\n",
            " [ 70 162]]\n"
          ],
          "name": "stdout"
        }
      ]
    },
    {
      "cell_type": "markdown",
      "metadata": {
        "id": "XvSzthSIdktc"
      },
      "source": [
        "## Кроссвалидация"
      ]
    },
    {
      "cell_type": "code",
      "metadata": {
        "colab": {
          "base_uri": "https://localhost:8080/"
        },
        "id": "Npl7yIwDd8Aj",
        "outputId": "61d4d350-20f9-4c3d-a2e5-40f73b9ee7d6"
      },
      "source": [
        "kf = KFold()\r\n",
        "\r\n",
        "# создаем модель\r\n",
        "tree = DecisionTreeClassifier(random_state=1)\r\n",
        "\r\n",
        "# оценка\r\n",
        "tree_crs_accuracy = cross_val_score(estimator=tree, X=X, y=y, cv=kf, scoring='accuracy').mean()\r\n",
        "tree_crs_recall = cross_val_score(estimator=tree, X=X, y=y, cv=kf, scoring='recall').mean()\r\n",
        "tree_crs_precision = cross_val_score(estimator=tree, X=X, y=y, cv=kf, scoring='precision').mean()\r\n",
        "\r\n",
        "# оценки модели с кроссвалидацией данных также вышли средними\r\n",
        "print('Tree cross_val_score accuracy: ', tree_crs_accuracy)\r\n",
        "print('Tree cross_val_score recall: ', tree_crs_recall)\r\n",
        "print('Tree cross_val_score precision: ', tree_crs_precision)"
      ],
      "execution_count": null,
      "outputs": [
        {
          "output_type": "stream",
          "text": [
            "DecisionTreeClassifier cross_val_score accuracy:  0.615\n",
            "DecisionTreeClassifier cross_val_score recall:  0.7074126351388916\n",
            "DecisionTreeClassifier cross_val_score precision:  0.7347245893478509\n"
          ],
          "name": "stdout"
        }
      ]
    },
    {
      "cell_type": "markdown",
      "metadata": {
        "id": "YxhTcpB_kjtZ"
      },
      "source": [
        "# Метод опорных векторов"
      ]
    },
    {
      "cell_type": "markdown",
      "metadata": {
        "id": "Iz6sdp1WIv5k"
      },
      "source": [
        "## Обычные данные"
      ]
    },
    {
      "cell_type": "code",
      "metadata": {
        "colab": {
          "base_uri": "https://localhost:8080/"
        },
        "id": "FobVKVTokscc",
        "outputId": "673d39f4-5b5c-47d3-8258-03c96713837e"
      },
      "source": [
        "# делим данными на тестовые и тренировочные с помощью метода train_test_split\n",
        "X_train, X_test, y_train, y_test = train_test_split(X, y, test_size=1/3, random_state=42)\n",
        "\n",
        "# создаем модель\n",
        "svm = SVC(kernel='linear', random_state=1)\n",
        "\n",
        "# обучаем модель\n",
        "svm.fit(X_train, y_train)\n",
        "\n",
        "# тестируем модель\n",
        "y_predict_svm = svm.predict(X_test)\n",
        "\n",
        "# оценка\n",
        "\n",
        "svm_accuracy = accuracy_score(y_test,y_predict_svm)\n",
        "svm_recall =  recall_score(y_test,y_predict_svm)\n",
        "svm_precision =  precision_score(y_test,y_predict_svm)\n",
        "\n",
        "print(\"SVM accuracy:\", svm_accuracy)\n",
        "print(\"SVM recall:\", svm_recall)\n",
        "print(\"SVM precision:\", svm_precision)\n",
        "\n",
        "# модель показала хорошие результаты  \n",
        "\n",
        "# матрица ошибок модели\n",
        "\n",
        "print('\\nConfusion matrix:\\n', confusion_matrix(y_test, y_predict_svm))"
      ],
      "execution_count": null,
      "outputs": [
        {
          "output_type": "stream",
          "text": [
            "SVM accuracy: 0.7245508982035929\n",
            "SVM recall: 0.9612068965517241\n",
            "SVM precision: 0.7287581699346405\n",
            "\n",
            "Confusion matrix:\n",
            " [[ 19  83]\n",
            " [  9 223]]\n"
          ],
          "name": "stdout"
        }
      ]
    },
    {
      "cell_type": "markdown",
      "metadata": {
        "id": "ztfs4rlaIv5l"
      },
      "source": [
        "## Нормализованные данные"
      ]
    },
    {
      "cell_type": "code",
      "metadata": {
        "colab": {
          "base_uri": "https://localhost:8080/"
        },
        "id": "-08ri28tnvbB",
        "outputId": "9abed6b5-8e09-4b00-df7b-f001a8aaf7e3"
      },
      "source": [
        "# делим данными на тестовые и тренировочные\n",
        "X_train, X_test, y_train, y_test = train_test_split(X_norm, y, test_size=1/3, random_state=42)\n",
        "\n",
        "# создаем модель\n",
        "svm = SVC(kernel='linear', random_state=1)\n",
        "\n",
        "# обучаем модель\n",
        "svm.fit(X_train, y_train)\n",
        "\n",
        "# тестируем модель\n",
        "y_predict_svm_norm = svm.predict(X_test)\n",
        "\n",
        "# оценка\n",
        "svm_accuracy_norm = accuracy_score(y_test,y_predict_svm_norm)\n",
        "svm_recall_norm =  recall_score(y_test,y_predict_svm_norm)\n",
        "svm_precision_norm =  precision_score(y_test,y_predict_svm_norm)\n",
        "\n",
        "print(\"SVM accuracy norm:\", svm_accuracy_norm)\n",
        "print(\"SVM recall norm:\", svm_recall_norm)\n",
        "print(\"SVM precision norm:\", svm_precision_norm)\n",
        "\n",
        "# модель показала абсолютно такие же рузельтаты, как и модель, построенная на обычных данных\n",
        "\n",
        "# матрица ошибок модели\n",
        "\n",
        "print('\\nConfusion matrix:\\n', confusion_matrix(y_test, y_predict_svm_norm))"
      ],
      "execution_count": null,
      "outputs": [
        {
          "output_type": "stream",
          "text": [
            "SVM accuracy norm: 0.7245508982035929\n",
            "SVM recall norm: 0.9612068965517241\n",
            "SVM precision norm: 0.7287581699346405\n",
            "\n",
            "Confusion matrix:\n",
            " [[ 19  83]\n",
            " [  9 223]]\n"
          ],
          "name": "stdout"
        }
      ]
    },
    {
      "cell_type": "markdown",
      "metadata": {
        "id": "jCsPZIm3Iv5l"
      },
      "source": [
        "## Стандартизованные данные"
      ]
    },
    {
      "cell_type": "code",
      "metadata": {
        "colab": {
          "base_uri": "https://localhost:8080/"
        },
        "id": "XV_XgOFsoiyg",
        "outputId": "eed47d08-033b-470a-e16d-408bb07a597c"
      },
      "source": [
        "# делим данными на тестовые и тренировочные\n",
        "X_train, X_test, y_train, y_test = train_test_split(X_st, y, test_size=1/3, random_state=42)\n",
        "\n",
        "# создаем модель\n",
        "svm = SVC(kernel='linear', random_state=1)\n",
        "\n",
        "# обучаем модель\n",
        "svm.fit(X_train, y_train)\n",
        "\n",
        "# тестируем модель\n",
        "y_predict_svm_st = svm.predict(X_test)\n",
        "\n",
        "# оценка\n",
        "svm_accuracy_st = accuracy_score(y_test,y_predict_svm_st)\n",
        "svm_recall_st =  recall_score(y_test,y_predict_svm_st)\n",
        "svm_precision_st =  precision_score(y_test,y_predict_svm_st)\n",
        "\n",
        "print(\"SVM accuracy st:\", svm_accuracy_st)\n",
        "print(\"SVM recall st:\", svm_recall_st)\n",
        "print(\"SVM precision st:\", svm_precision_st)\n",
        "\n",
        "# модель показала абсолютно такие же рузельтаты, как и модель, построенная на обычных и нормализованных данных\n",
        "\n",
        "# матрица ошибок модели\n",
        "\n",
        "print('\\nConfusion matrix:\\n', confusion_matrix(y_test, y_predict_svm_st))"
      ],
      "execution_count": null,
      "outputs": [
        {
          "output_type": "stream",
          "text": [
            "SVM accuracy st: 0.7245508982035929\n",
            "SVM recall st: 0.9612068965517241\n",
            "SVM precision st: 0.7287581699346405\n",
            "\n",
            "Confusion matrix:\n",
            " [[ 19  83]\n",
            " [  9 223]]\n"
          ],
          "name": "stdout"
        }
      ]
    },
    {
      "cell_type": "markdown",
      "metadata": {
        "id": "DypsdQ_2dsbC"
      },
      "source": [
        "## Кроссвалидация"
      ]
    },
    {
      "cell_type": "code",
      "metadata": {
        "colab": {
          "base_uri": "https://localhost:8080/"
        },
        "id": "FPldhkVWpU36",
        "outputId": "6a079ce0-653e-456e-cca2-5864eacbf223"
      },
      "source": [
        "kf = KFold()\n",
        "\n",
        "# создаем модель\n",
        "svm = SVC(kernel='linear', random_state=1)\n",
        "\n",
        "# оценка\n",
        "svm_crs_accuracy = cross_val_score(estimator=svm, X=X, y=y, cv=kf, scoring='accuracy').mean()\n",
        "svm_crs_recall = cross_val_score(estimator=svm, X=X, y=y, cv=kf, scoring='recall').mean()\n",
        "svm_crs_precision = cross_val_score(estimator=svm, X=X, y=y, cv=kf, scoring='precision').mean()\n",
        "\n",
        "# оценки модели с кроссвалидацией данных также вышли средними\n",
        "print('SVM cross_val_score accuracy: ', svm_crs_accuracy)\n",
        "print('SVM cross_val_score recall: ', svm_crs_recall)\n",
        "print('SVM cross_val_score precision: ', svm_crs_precision)"
      ],
      "execution_count": null,
      "outputs": [
        {
          "output_type": "stream",
          "text": [
            "SVM cross_val_score accuracy:  0.717\n",
            "SVM cross_val_score recall:  0.9487915402653291\n",
            "SVM cross_val_score precision:  0.7287114941991099\n"
          ],
          "name": "stdout"
        }
      ]
    },
    {
      "cell_type": "markdown",
      "metadata": {
        "id": "jlZGuj26Iv5m"
      },
      "source": [
        "# Логистическая регрессия"
      ]
    },
    {
      "cell_type": "markdown",
      "metadata": {
        "id": "OUW1kcoaJ7HF"
      },
      "source": [
        "## Обычные данные"
      ]
    },
    {
      "cell_type": "code",
      "metadata": {
        "id": "evAXp-MsIv5n",
        "colab": {
          "base_uri": "https://localhost:8080/"
        },
        "outputId": "e02ef9a0-ca7c-4bfb-d2bb-ea82bd69f4e4"
      },
      "source": [
        "# делим данными на тестовые и тренировочные с помощью метода train_test_split\r\n",
        "X_train, X_test, y_train, y_test = train_test_split(X, y, test_size=1/3, random_state=42)\r\n",
        "\r\n",
        "# создаем модель\r\n",
        "linear = LogisticRegression()\r\n",
        "\r\n",
        "# обучаем модель\r\n",
        "linear.fit(X_train, y_train)\r\n",
        "\r\n",
        "# тестируем модель\r\n",
        "y_predicted_linear = linear.predict(X_test)\r\n",
        "\r\n",
        "# оценка\r\n",
        "linear_accuracy = accuracy_score(y_test,y_predicted_linear)\r\n",
        "linear_recall =  recall_score(y_test,y_predicted_linear)\r\n",
        "linear_precision =  precision_score(y_test,y_predicted_linear)\r\n",
        "\r\n",
        "print(\"Logistic regression accuracy:\", linear_accuracy)\r\n",
        "print(\"Logistic regression recall:\", linear_recall)\r\n",
        "print(\"Logistic regression precision:\", linear_precision)\r\n",
        "\r\n",
        "# модель показала хорошие результаты\r\n",
        "\r\n",
        "# матрица ошибок модели\r\n",
        "print('\\nConfusion matrix:\\n', confusion_matrix(y_test, y_predicted_linear))"
      ],
      "execution_count": null,
      "outputs": [
        {
          "output_type": "stream",
          "text": [
            "LogisticRegression accuracy: 0.7544910179640718\n",
            "LogisticRegression recall: 0.9482758620689655\n",
            "LogisticRegression precision: 0.7586206896551724\n",
            "\n",
            "Confusion matrix:\n",
            " [[ 32  70]\n",
            " [ 12 220]]\n"
          ],
          "name": "stdout"
        }
      ]
    },
    {
      "cell_type": "markdown",
      "metadata": {
        "id": "YGXLstkQKG0J"
      },
      "source": [
        "## Нормализованные данные"
      ]
    },
    {
      "cell_type": "code",
      "metadata": {
        "id": "smFDC37PKIVK",
        "colab": {
          "base_uri": "https://localhost:8080/"
        },
        "outputId": "bb5d70b0-9d03-4fb1-c1c6-750991dc0c24"
      },
      "source": [
        "# делим данными на тестовые и тренировочные\r\n",
        "X_train, X_test, y_train, y_test = train_test_split(X_norm, y, test_size=1/3, random_state=42)\r\n",
        "\r\n",
        "# создаем модель\r\n",
        "linear = LogisticRegression()\r\n",
        "\r\n",
        "# обучаем модель\r\n",
        "linear.fit(X_train, y_train)\r\n",
        "\r\n",
        "# тестируем модель\r\n",
        "y_predicted_linear_norm = linear.predict(X_test)\r\n",
        "\r\n",
        "# оценка\r\n",
        "linear_accuracy_norm = accuracy_score(y_test,y_predicted_linear_norm)\r\n",
        "linear_recall_norm =  recall_score(y_test,y_predicted_linear_norm)\r\n",
        "linear_precision_norm =  precision_score(y_test,y_predicted_linear_norm)\r\n",
        "\r\n",
        "print(\"Logistic regression accuracy:\", linear_accuracy_norm)\r\n",
        "print(\"Logistic regression recall:\", linear_recall_norm)\r\n",
        "print(\"Logistic regression precision:\", linear_precision_norm)\r\n",
        "\r\n",
        "# модель показала абсолютно такие же результаты, как и модель, построенная на обычных данных\r\n",
        "\r\n",
        "# матрица ошибок модели\r\n",
        "print('\\nConfusion matrix:\\n', confusion_matrix(y_test, y_predicted_linear_norm))"
      ],
      "execution_count": null,
      "outputs": [
        {
          "output_type": "stream",
          "text": [
            "LogisticRegression accuracy: 0.7544910179640718\n",
            "LogisticRegression recall: 0.9568965517241379\n",
            "LogisticRegression precision: 0.7551020408163265\n",
            "\n",
            "Confusion matrix:\n",
            " [[ 30  72]\n",
            " [ 10 222]]\n"
          ],
          "name": "stdout"
        }
      ]
    },
    {
      "cell_type": "markdown",
      "metadata": {
        "id": "F8L1NIbXJ_q1"
      },
      "source": [
        "## Стандартизованные данные"
      ]
    },
    {
      "cell_type": "code",
      "metadata": {
        "id": "V_vJC857KIzL",
        "colab": {
          "base_uri": "https://localhost:8080/"
        },
        "outputId": "f4760e1f-61a6-467e-a8d7-3a9b4ea90ec9"
      },
      "source": [
        "# делим данными на тестовые и тренировочные\r\n",
        "X_train, X_test, y_train, y_test = train_test_split(X_st, y, test_size=1/3, random_state=42)\r\n",
        "\r\n",
        "# создаем модель\r\n",
        "linear = LogisticRegression()\r\n",
        "\r\n",
        "# обучаем модель\r\n",
        "linear.fit(X_train, y_train)\r\n",
        "\r\n",
        "# тестируем модель\r\n",
        "y_predicted_linear_st = linear.predict(X_test)\r\n",
        "\r\n",
        "# оценка\r\n",
        "linear_accuracy_st = accuracy_score(y_test,y_predicted_linear_st)\r\n",
        "linear_recall_st =  recall_score(y_test,y_predicted_linear_st)\r\n",
        "linear_precision_st =  precision_score(y_test,y_predicted_linear_st)\r\n",
        "\r\n",
        "# модель показала абсолютно такие же результаты, как и модель, построенная на обычных и нормализованных данных\r\n",
        "print(\"Logistic regression accuracy:\", linear_accuracy_st)\r\n",
        "print(\"Logistic regression recall:\", linear_recall_st)\r\n",
        "print(\"Logistic regression precision:\", linear_precision_st)\r\n",
        "\r\n",
        "# матрица ошибок модели\r\n",
        "print('\\nConfusion matrix:\\n', confusion_matrix(y_test, y_predicted_linear_st))"
      ],
      "execution_count": null,
      "outputs": [
        {
          "output_type": "stream",
          "text": [
            "LogisticRegression accuracy: 0.7574850299401198\n",
            "LogisticRegression recall: 0.9439655172413793\n",
            "LogisticRegression precision: 0.7630662020905923\n",
            "\n",
            "Confusion matrix:\n",
            " [[ 34  68]\n",
            " [ 13 219]]\n"
          ],
          "name": "stdout"
        }
      ]
    },
    {
      "cell_type": "markdown",
      "metadata": {
        "id": "VxJqlCj6dukK"
      },
      "source": [
        "## Кроссвалидация"
      ]
    },
    {
      "cell_type": "code",
      "metadata": {
        "id": "6a_1rN0dK3C7",
        "colab": {
          "base_uri": "https://localhost:8080/"
        },
        "outputId": "8bbfdadf-45ea-4b88-b3d3-f8bb06e87949"
      },
      "source": [
        "kf = KFold()\r\n",
        "\r\n",
        "# создаем модель\r\n",
        "linear = LogisticRegression()\r\n",
        "\r\n",
        "# оценка\r\n",
        "linear_crs_accuracy_cvs = cross_val_score(estimator=linear, X=X, y=y, cv=kf, scoring='accuracy').mean()\r\n",
        "linear_crs_recall_cvs = cross_val_score(estimator=linear, X=X, y=y, cv=kf, scoring='recall').mean()\r\n",
        "linear_crs_precision_cvs = cross_val_score(estimator=linear, X=X, y=y, cv=kf, scoring='precision').mean()\r\n",
        "\r\n",
        "# результат кроссвалидации вышел хуже, чем в остальных случаях логистической регрессии\r\n",
        "print('Logistic regression cross_val_score accuracy: ', linear_crs_accuracy)\r\n",
        "print('Logistic regression cross_val_score recall: ', linear_crs_recall)\r\n",
        "print('Logistic regression cross_val_score precision: ', linear_crs_precision)"
      ],
      "execution_count": null,
      "outputs": [
        {
          "output_type": "stream",
          "text": [
            "LogisticRegression cross_val_score accuracy:  0.72\n",
            "LogisticRegression cross_val_score recall:  0.9143188652469545\n",
            "LogisticRegression cross_val_score precision:  0.744321395205939\n"
          ],
          "name": "stdout"
        }
      ]
    },
    {
      "cell_type": "markdown",
      "metadata": {
        "id": "AEu2XVWnK4Ez"
      },
      "source": [
        "# KNN"
      ]
    },
    {
      "cell_type": "markdown",
      "metadata": {
        "id": "nawsNrBzK4Ez"
      },
      "source": [
        "## Обычные данные"
      ]
    },
    {
      "cell_type": "code",
      "metadata": {
        "id": "b7h7NuAyK4Ez",
        "colab": {
          "base_uri": "https://localhost:8080/"
        },
        "outputId": "e78d7e86-9245-4795-e990-debbf15a53d0"
      },
      "source": [
        "# делим данными на тестовые и тренировочные с помощью метода train_test_split\r\n",
        "X_train, X_test, y_train, y_test = train_test_split(X, y, test_size=1/3, random_state=42)\r\n",
        "\r\n",
        "# создаем модель, подбираем количество ближайших соседей методом Тыка\r\n",
        "knn = KNeighborsClassifier(n_neighbors = 20) \r\n",
        "\r\n",
        "# обучаем модель\r\n",
        "knn.fit(X_train, y_train)\r\n",
        "\r\n",
        "# тестируем модель\r\n",
        "y_predicted_knn = knn.predict(X_test)\r\n",
        "\r\n",
        "# оценка\r\n",
        "knn_accuracy = accuracy_score(y_test,y_predicted_knn)\r\n",
        "knn_recall =  recall_score(y_test,y_predicted_knn)\r\n",
        "knn_precision =  precision_score(y_test,y_predicted_knn)\r\n",
        "\r\n",
        "print(\"KNN accuracy:\", knn_accuracy)\r\n",
        "print(\"KNN recall:\", knn_recall)\r\n",
        "print(\"KNN precision:\", knn_precision)\r\n",
        "\r\n",
        "# модель показала хороший результат\r\n",
        "\r\n",
        "# матрица ошибок модели\r\n",
        "print('\\nConfusion matrix:\\n', confusion_matrix(y_test, y_predicted_knn))"
      ],
      "execution_count": null,
      "outputs": [
        {
          "output_type": "stream",
          "text": [
            "KNeighborsClassifier accuracy: 0.7305389221556886\n",
            "KNeighborsClassifier recall: 0.9741379310344828\n",
            "KNeighborsClassifier precision: 0.7290322580645161\n",
            "\n",
            "Confusion matrix:\n",
            " [[ 18  84]\n",
            " [  6 226]]\n"
          ],
          "name": "stdout"
        }
      ]
    },
    {
      "cell_type": "markdown",
      "metadata": {
        "id": "ywz1QB90K4E0"
      },
      "source": [
        "## Нормализованные данные"
      ]
    },
    {
      "cell_type": "code",
      "metadata": {
        "id": "p1D9l7KvK4E0",
        "colab": {
          "base_uri": "https://localhost:8080/"
        },
        "outputId": "235fedbf-6e7c-433d-fcc7-c4c95a32098b"
      },
      "source": [
        "# делим данными на тестовые и тренировочные с помощью метода train_test_split\r\n",
        "X_train, X_test, y_train, y_test = train_test_split(X_norm, y, test_size=1/3, random_state=42)\r\n",
        "\r\n",
        "# создаем модель\r\n",
        "knn = KNeighborsClassifier(n_neighbors = 20)\r\n",
        "\r\n",
        "# обучаем модель\r\n",
        "knn.fit(X_train, y_train)\r\n",
        "\r\n",
        "# тестируем модель\r\n",
        "y_predicted_knn_norm = knn.predict(X_test)\r\n",
        "\r\n",
        "# оценка\r\n",
        "knn_accuracy_norm = accuracy_score(y_test,y_predicted_knn_norm)\r\n",
        "knn_recall_norm =  recall_score(y_test,y_predicted_knn_norm)\r\n",
        "knn_precision_norm =  precision_score(y_test,y_predicted_knn_norm)\r\n",
        "\r\n",
        "# результат на нормализованных данных оказался немного хуже чем на обычных данных \r\n",
        "print(\"KNN accuracy:\", knn_accuracy_norm)\r\n",
        "print(\"KNN recall:\", knn_recall_norm)\r\n",
        "print(\"KNN precision:\", knn_precision_norm)\r\n",
        "\r\n",
        "# матрица ошибок модели\r\n",
        "print('\\nConfusion matrix:\\n', confusion_matrix(y_test, y_predicted_knn_norm))"
      ],
      "execution_count": null,
      "outputs": [
        {
          "output_type": "stream",
          "text": [
            "KNeighborsClassifier accuracy: 0.718562874251497\n",
            "KNeighborsClassifier recall: 0.9525862068965517\n",
            "KNeighborsClassifier precision: 0.7269736842105263\n",
            "\n",
            "Confusion matrix:\n",
            " [[ 19  83]\n",
            " [ 11 221]]\n"
          ],
          "name": "stdout"
        }
      ]
    },
    {
      "cell_type": "markdown",
      "metadata": {
        "id": "PXKzQ_UXK4E0"
      },
      "source": [
        "## Стандартизованные данные"
      ]
    },
    {
      "cell_type": "code",
      "metadata": {
        "id": "N57KPmdNK4E0",
        "colab": {
          "base_uri": "https://localhost:8080/"
        },
        "outputId": "3ad636fa-ccb8-41e2-cb2f-e99dea1a8517"
      },
      "source": [
        "# делим данными на тестовые и тренировочные с помощью метода train_test_split\r\n",
        "X_train, X_test, y_train, y_test = train_test_split(X_st, y, test_size=1/3, random_state=42)\r\n",
        "\r\n",
        "# создаем модель\r\n",
        "knn = KNeighborsClassifier(n_neighbors = 20)\r\n",
        "\r\n",
        "# обучаем модель\r\n",
        "knn.fit(X_train, y_train)\r\n",
        "\r\n",
        "# тестируем модель\r\n",
        "y_predicted_knn_st = knn.predict(X_test)\r\n",
        "\r\n",
        "# оценка\r\n",
        "knn_accuracy_st = accuracy_score(y_test,y_predicted_knn_st)\r\n",
        "knn_recall_st =  recall_score(y_test,y_predicted_knn_st)\r\n",
        "knn_precision_st =  precision_score(y_test,y_predicted_knn_st)\r\n",
        "\r\n",
        "# результат на стандартизированных данных такой же как и на обычных\r\n",
        "print(\"KNN accuracy:\", knn_accuracy_st)\r\n",
        "print(\"KNN recall:\", knn_recall_st)\r\n",
        "print(\"KNN precision:\", knn_precision_st)\r\n",
        "\r\n",
        "# матрица ошибок модели\r\n",
        "print('\\nConfusion matrix:\\n', confusion_matrix(y_test, y_predicted_knn_st))"
      ],
      "execution_count": null,
      "outputs": [
        {
          "output_type": "stream",
          "text": [
            "KNeighborsClassifier accuracy: 0.7395209580838323\n",
            "KNeighborsClassifier recall: 0.9568965517241379\n",
            "KNeighborsClassifier precision: 0.7424749163879598\n",
            "\n",
            "Confusion matrix:\n",
            " [[ 25  77]\n",
            " [ 10 222]]\n"
          ],
          "name": "stdout"
        }
      ]
    },
    {
      "cell_type": "markdown",
      "metadata": {
        "id": "MiOrsPCPdwOn"
      },
      "source": [
        "## Кроссвалидация"
      ]
    },
    {
      "cell_type": "code",
      "metadata": {
        "colab": {
          "base_uri": "https://localhost:8080/"
        },
        "id": "E1eTLFpOfaHm",
        "outputId": "57bc1558-ca56-4eaa-ca9d-c66f6fdfb4ba"
      },
      "source": [
        "kf = KFold()\r\n",
        "\r\n",
        "# создаем модель\r\n",
        "kneighbours = KNeighborsClassifier(n_neighbors = 20)\r\n",
        "\r\n",
        "# оценка\r\n",
        "kneighbours_crs_accuracy = cross_val_score(estimator=knn, X=X, y=y, cv=kf, scoring='accuracy').mean()\r\n",
        "kneighbours_crs_recall = cross_val_score(estimator=knn, X=X, y=y, cv=kf, scoring='recall').mean()\r\n",
        "kneighbours_crs_precision = cross_val_score(estimator=knn, X=X, y=y, cv=kf, scoring='precision').mean()\r\n",
        "\r\n",
        "# оценки модели с кроссвалидацией данных также вышли хорошими\r\n",
        "print('KNN cross_val_score accuracy: ', kneighbours_crs_accuracy)\r\n",
        "print('KNN cross_val_score recall: ', kneighbours_crs_recall)\r\n",
        "print('KNN cross_val_score precision: ', kneighbours_crs_precision)"
      ],
      "execution_count": null,
      "outputs": [
        {
          "output_type": "stream",
          "text": [
            "KNeighborsClassifier cross_val_score accuracy:  0.72\n",
            "KNeighborsClassifier cross_val_score recall:  0.9585819404064159\n",
            "KNeighborsClassifier cross_val_score precision:  0.7281147204824892\n"
          ],
          "name": "stdout"
        }
      ]
    }
  ]
}